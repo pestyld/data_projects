{
 "cells": [
  {
   "cell_type": "markdown",
   "id": "269b923f-39c6-4182-b11e-5c25b456899d",
   "metadata": {},
   "source": [
    "# Alta Ski Resort Visualization\n",
    "I used the example from the pandas Cookbook"
   ]
  },
  {
   "cell_type": "code",
   "execution_count": 19,
   "id": "6f7aa78f-fb47-4607-ac72-5bb7ec66d07a",
   "metadata": {},
   "outputs": [],
   "source": [
    "import pandas as pd\n",
    "import numpy as np\n",
    "from datetime import date\n",
    "import matplotlib.pyplot as plt\n",
    "\n",
    "pd.set_option('display.max_columns', 500)"
   ]
  },
  {
   "cell_type": "code",
   "execution_count": 2,
   "id": "26952d6b-f88e-4d0f-9af5-92bb16540f46",
   "metadata": {},
   "outputs": [
    {
     "data": {
      "text/html": [
       "<div>\n",
       "<style scoped>\n",
       "    .dataframe tbody tr th:only-of-type {\n",
       "        vertical-align: middle;\n",
       "    }\n",
       "\n",
       "    .dataframe tbody tr th {\n",
       "        vertical-align: top;\n",
       "    }\n",
       "\n",
       "    .dataframe thead th {\n",
       "        text-align: right;\n",
       "    }\n",
       "</style>\n",
       "<table border=\"1\" class=\"dataframe\">\n",
       "  <thead>\n",
       "    <tr style=\"text-align: right;\">\n",
       "      <th></th>\n",
       "      <th>STATION</th>\n",
       "      <th>NAME</th>\n",
       "      <th>LATITUDE</th>\n",
       "      <th>LONGITUDE</th>\n",
       "      <th>ELEVATION</th>\n",
       "      <th>DATE</th>\n",
       "      <th>DAPR</th>\n",
       "      <th>DASF</th>\n",
       "      <th>MDPR</th>\n",
       "      <th>MDSF</th>\n",
       "      <th>PRCP</th>\n",
       "      <th>SNOW</th>\n",
       "      <th>SNWD</th>\n",
       "      <th>TMAX</th>\n",
       "      <th>TMIN</th>\n",
       "      <th>TOBS</th>\n",
       "      <th>WT01</th>\n",
       "      <th>WT03</th>\n",
       "      <th>WT04</th>\n",
       "      <th>WT05</th>\n",
       "      <th>WT06</th>\n",
       "      <th>WT11</th>\n",
       "    </tr>\n",
       "  </thead>\n",
       "  <tbody>\n",
       "    <tr>\n",
       "      <th>0</th>\n",
       "      <td>USC00420072</td>\n",
       "      <td>ALTA, UT US</td>\n",
       "      <td>40.5905</td>\n",
       "      <td>-111.6369</td>\n",
       "      <td>2660.9</td>\n",
       "      <td>1980-01-01</td>\n",
       "      <td>NaN</td>\n",
       "      <td>NaN</td>\n",
       "      <td>NaN</td>\n",
       "      <td>NaN</td>\n",
       "      <td>0.10</td>\n",
       "      <td>2.0</td>\n",
       "      <td>29.0</td>\n",
       "      <td>38.0</td>\n",
       "      <td>25.0</td>\n",
       "      <td>25.0</td>\n",
       "      <td>NaN</td>\n",
       "      <td>NaN</td>\n",
       "      <td>NaN</td>\n",
       "      <td>NaN</td>\n",
       "      <td>NaN</td>\n",
       "      <td>NaN</td>\n",
       "    </tr>\n",
       "    <tr>\n",
       "      <th>1</th>\n",
       "      <td>USC00420072</td>\n",
       "      <td>ALTA, UT US</td>\n",
       "      <td>40.5905</td>\n",
       "      <td>-111.6369</td>\n",
       "      <td>2660.9</td>\n",
       "      <td>1980-01-02</td>\n",
       "      <td>NaN</td>\n",
       "      <td>NaN</td>\n",
       "      <td>NaN</td>\n",
       "      <td>NaN</td>\n",
       "      <td>0.43</td>\n",
       "      <td>3.0</td>\n",
       "      <td>34.0</td>\n",
       "      <td>27.0</td>\n",
       "      <td>18.0</td>\n",
       "      <td>18.0</td>\n",
       "      <td>NaN</td>\n",
       "      <td>NaN</td>\n",
       "      <td>NaN</td>\n",
       "      <td>NaN</td>\n",
       "      <td>NaN</td>\n",
       "      <td>NaN</td>\n",
       "    </tr>\n",
       "    <tr>\n",
       "      <th>2</th>\n",
       "      <td>USC00420072</td>\n",
       "      <td>ALTA, UT US</td>\n",
       "      <td>40.5905</td>\n",
       "      <td>-111.6369</td>\n",
       "      <td>2660.9</td>\n",
       "      <td>1980-01-03</td>\n",
       "      <td>NaN</td>\n",
       "      <td>NaN</td>\n",
       "      <td>NaN</td>\n",
       "      <td>NaN</td>\n",
       "      <td>0.09</td>\n",
       "      <td>1.0</td>\n",
       "      <td>30.0</td>\n",
       "      <td>27.0</td>\n",
       "      <td>12.0</td>\n",
       "      <td>18.0</td>\n",
       "      <td>NaN</td>\n",
       "      <td>NaN</td>\n",
       "      <td>NaN</td>\n",
       "      <td>NaN</td>\n",
       "      <td>NaN</td>\n",
       "      <td>NaN</td>\n",
       "    </tr>\n",
       "    <tr>\n",
       "      <th>3</th>\n",
       "      <td>USC00420072</td>\n",
       "      <td>ALTA, UT US</td>\n",
       "      <td>40.5905</td>\n",
       "      <td>-111.6369</td>\n",
       "      <td>2660.9</td>\n",
       "      <td>1980-01-04</td>\n",
       "      <td>NaN</td>\n",
       "      <td>NaN</td>\n",
       "      <td>NaN</td>\n",
       "      <td>NaN</td>\n",
       "      <td>0.00</td>\n",
       "      <td>0.0</td>\n",
       "      <td>30.0</td>\n",
       "      <td>31.0</td>\n",
       "      <td>18.0</td>\n",
       "      <td>27.0</td>\n",
       "      <td>NaN</td>\n",
       "      <td>NaN</td>\n",
       "      <td>NaN</td>\n",
       "      <td>NaN</td>\n",
       "      <td>NaN</td>\n",
       "      <td>NaN</td>\n",
       "    </tr>\n",
       "    <tr>\n",
       "      <th>4</th>\n",
       "      <td>USC00420072</td>\n",
       "      <td>ALTA, UT US</td>\n",
       "      <td>40.5905</td>\n",
       "      <td>-111.6369</td>\n",
       "      <td>2660.9</td>\n",
       "      <td>1980-01-05</td>\n",
       "      <td>NaN</td>\n",
       "      <td>NaN</td>\n",
       "      <td>NaN</td>\n",
       "      <td>NaN</td>\n",
       "      <td>0.00</td>\n",
       "      <td>0.0</td>\n",
       "      <td>30.0</td>\n",
       "      <td>34.0</td>\n",
       "      <td>26.0</td>\n",
       "      <td>34.0</td>\n",
       "      <td>NaN</td>\n",
       "      <td>NaN</td>\n",
       "      <td>NaN</td>\n",
       "      <td>NaN</td>\n",
       "      <td>NaN</td>\n",
       "      <td>NaN</td>\n",
       "    </tr>\n",
       "  </tbody>\n",
       "</table>\n",
       "</div>"
      ],
      "text/plain": [
       "       STATION         NAME  LATITUDE  LONGITUDE  ELEVATION        DATE  DAPR  \\\n",
       "0  USC00420072  ALTA, UT US   40.5905  -111.6369     2660.9  1980-01-01   NaN   \n",
       "1  USC00420072  ALTA, UT US   40.5905  -111.6369     2660.9  1980-01-02   NaN   \n",
       "2  USC00420072  ALTA, UT US   40.5905  -111.6369     2660.9  1980-01-03   NaN   \n",
       "3  USC00420072  ALTA, UT US   40.5905  -111.6369     2660.9  1980-01-04   NaN   \n",
       "4  USC00420072  ALTA, UT US   40.5905  -111.6369     2660.9  1980-01-05   NaN   \n",
       "\n",
       "   DASF  MDPR  MDSF  PRCP  SNOW  SNWD  TMAX  TMIN  TOBS  WT01  WT03  WT04  \\\n",
       "0   NaN   NaN   NaN  0.10   2.0  29.0  38.0  25.0  25.0   NaN   NaN   NaN   \n",
       "1   NaN   NaN   NaN  0.43   3.0  34.0  27.0  18.0  18.0   NaN   NaN   NaN   \n",
       "2   NaN   NaN   NaN  0.09   1.0  30.0  27.0  12.0  18.0   NaN   NaN   NaN   \n",
       "3   NaN   NaN   NaN  0.00   0.0  30.0  31.0  18.0  27.0   NaN   NaN   NaN   \n",
       "4   NaN   NaN   NaN  0.00   0.0  30.0  34.0  26.0  34.0   NaN   NaN   NaN   \n",
       "\n",
       "   WT05  WT06  WT11  \n",
       "0   NaN   NaN   NaN  \n",
       "1   NaN   NaN   NaN  \n",
       "2   NaN   NaN   NaN  \n",
       "3   NaN   NaN   NaN  \n",
       "4   NaN   NaN   NaN  "
      ]
     },
     "execution_count": 2,
     "metadata": {},
     "output_type": "execute_result"
    }
   ],
   "source": [
    "df = pd.read_csv('alta-noaa-1980-2019.csv')\n",
    "df.head()"
   ]
  },
  {
   "cell_type": "markdown",
   "id": "1af07659-818b-4a74-b5ac-ece22314fb51",
   "metadata": {},
   "source": [
    "## 2018 - 2019 Report"
   ]
  },
  {
   "cell_type": "markdown",
   "id": "4babe4a6-42de-4ccb-b9a4-926ecf4196ff",
   "metadata": {},
   "source": [
    "### Create DataFrame"
   ]
  },
  {
   "cell_type": "code",
   "execution_count": 16,
   "id": "5860c4bb-fcda-44e8-a75e-2af4f666b464",
   "metadata": {},
   "outputs": [
    {
     "data": {
      "text/plain": [
       "dtype('float64')"
      ]
     },
     "metadata": {},
     "output_type": "display_data"
    },
    {
     "data": {
      "text/plain": [
       "DATE\n",
       "2018-09-01    0.0\n",
       "2018-09-02    0.0\n",
       "2018-09-03    0.0\n",
       "2018-09-04    0.0\n",
       "2018-09-05    0.0\n",
       "2018-09-06    0.0\n",
       "2018-09-07    0.0\n",
       "2018-09-08    0.0\n",
       "2018-09-09    0.0\n",
       "2018-09-10    0.0\n",
       "Name: SNWD, dtype: float64"
      ]
     },
     "metadata": {},
     "output_type": "display_data"
    },
    {
     "data": {
      "text/plain": [
       "DATE\n",
       "2019-08-22    0.0\n",
       "2019-08-23    0.0\n",
       "2019-08-24    0.0\n",
       "2019-08-25    0.0\n",
       "2019-08-26    0.0\n",
       "2019-08-27    0.0\n",
       "2019-08-28    0.0\n",
       "2019-08-29    0.0\n",
       "2019-08-30    0.0\n",
       "2019-08-31    0.0\n",
       "Name: SNWD, dtype: float64"
      ]
     },
     "metadata": {},
     "output_type": "display_data"
    },
    {
     "data": {
      "text/plain": [
       "'Total Missing:0'"
      ]
     },
     "metadata": {},
     "output_type": "display_data"
    }
   ],
   "source": [
    "alta = (df\n",
    "        .assign(DATE = pd.to_datetime(df.DATE))     ## Create the date column\n",
    "        .fillna(method=\"backfill\")                  ## Replaces missing values using backfill\n",
    "        .set_index('DATE')                          ## Make the date column the index\n",
    "        .loc['2018-09':'2019-08','SNWD']            ## Specify 2018-2019 ski season\n",
    ")\n",
    "\n",
    "display(alta.dtypes)\n",
    "\n",
    "display(alta.head(10), \n",
    "        alta.tail(10))\n",
    "\n",
    "display(f'Total Missing:{alta.isnull().sum()}')"
   ]
  },
  {
   "cell_type": "markdown",
   "id": "a4c7dc69-2bed-4cf5-bbd0-f90cee4d96c3",
   "metadata": {},
   "source": [
    "### Default Visualization"
   ]
  },
  {
   "cell_type": "code",
   "execution_count": 17,
   "id": "efe02e4e-dafb-4a04-846b-5986a6086d94",
   "metadata": {},
   "outputs": [
    {
     "data": {
      "text/plain": [
       "<matplotlib.collections.PolyCollection at 0x2861270c970>"
      ]
     },
     "execution_count": 17,
     "metadata": {},
     "output_type": "execute_result"
    },
    {
     "data": {
      "image/png": "[encoded data removed]",
      "text/plain": [
       "<Figure size 864x288 with 1 Axes>"
      ]
     },
     "metadata": {
      "needs_background": "light"
     },
     "output_type": "display_data"
    }
   ],
   "source": [
    "fig, ax = plt.subplots(figsize=(12,4))\n",
    "ax.fill_between(alta.index, alta)"
   ]
  },
  {
   "cell_type": "markdown",
   "id": "c073141a-9179-48b9-94f0-2d1310660a73",
   "metadata": {},
   "source": [
    "### Final Visualization"
   ]
  },
  {
   "cell_type": "code",
   "execution_count": 42,
   "id": "5c5d02bf-51c0-45a7-aad3-34b514991b45",
   "metadata": {},
   "outputs": [
    {
     "data": {
      "text/plain": [
       "Text(0, 0.5, 'Snow Depth (in)')"
      ]
     },
     "execution_count": 42,
     "metadata": {},
     "output_type": "execute_result"
    },
    {
     "data": {
      "image/png": "[encoded data removed]",
      "text/plain": [
       "<Figure size 1008x432 with 1 Axes>"
      ]
     },
     "metadata": {},
     "output_type": "display_data"
    }
   ],
   "source": [
    "## COLORS\n",
    "blue = '#99ddee'\n",
    "white = '#ffffff'\n",
    "\n",
    "## CREATE PLOT\n",
    "fig, ax = plt.subplots(figsize=(14,6), linewidth=5, facecolor=blue)\n",
    "ax.fill_between(alta.index, alta, color = white)\n",
    "\n",
    "## FONT SIZE\n",
    "plt.rcParams['axes.labelsize'] = 20\n",
    "\n",
    "tickLabelSize = 14\n",
    "plt.rcParams['xtick.labelsize'] = tickLabelSize\n",
    "plt.rcParams['ytick.labelsize'] = tickLabelSize\n",
    "\n",
    "\n",
    "## SET APPEARANCE OPTIONS\n",
    "\n",
    "# background color\n",
    "ax.set_facecolor(blue)\n",
    "\n",
    "# remove graph borders\n",
    "for spine in ['top', 'right', 'bottom', 'left']:\n",
    "    ax.spines[spine].set_visible(False)\n",
    "\n",
    "# title\n",
    "ax.set_title('Snowfall by Day for Alta Resort in 2018-2019\\n', \n",
    "             color = white, \n",
    "             fontweight = 'bold', \n",
    "             fontsize = 24, \n",
    "             loc = 'left')\n",
    "\n",
    "# footnote\n",
    "fig.text(.1,0,'Created by Peter following the recipe in the Pandas Cookbook', fontdict={'fontsize':11,'color':white})\n",
    "\n",
    "# set x and y value colors\n",
    "ax.tick_params(axis='x', colors = white)\n",
    "ax.tick_params(axis='y', colors = white)\n",
    "\n",
    "# add a Y label\n",
    "ax.set_ylabel('Snow Depth (in)', color = white)"
   ]
  },
  {
   "cell_type": "code",
   "execution_count": null,
   "id": "38728e2b-3303-4376-81f0-219ac0292f7b",
   "metadata": {},
   "outputs": [],
   "source": []
  }
 ],
 "metadata": {
  "kernelspec": {
   "display_name": "Python 3",
   "language": "python",
   "name": "python3"
  },
  "language_info": {
   "codemirror_mode": {
    "name": "ipython",
    "version": 3
   },
   "file_extension": ".py",
   "mimetype": "text/x-python",
   "name": "python",
   "nbconvert_exporter": "python",
   "pygments_lexer": "ipython3",
   "version": "3.8.8"
  }
 },
 "nbformat": 4,
 "nbformat_minor": 5
}
