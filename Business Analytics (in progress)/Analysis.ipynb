{
 "cells": [
  {
   "cell_type": "markdown",
   "metadata": {},
   "source": [
    "# Analyzing Furniture Data"
   ]
  },
  {
   "cell_type": "code",
   "execution_count": null,
   "metadata": {},
   "outputs": [],
   "source": []
  },
  {
   "cell_type": "markdown",
   "metadata": {},
   "source": [
    "### 1.A Data Dictionary"
   ]
  },
  {
   "cell_type": "markdown",
   "metadata": {},
   "source": [
    "| Variable                  | Data Type                              | Source       | Mnemonic     |\n",
    "|---------------------------|----------------------------------------|--------------|--------------|\n",
    "| Order Number              | Nominal Integer                        | Order Sys    | Onum         |\n",
    "| Customer ID               | Nominal                                | Customer Sys | CID          | \n",
    "| Transaction Date          | MM/DD/YYYY                             | Order Sys    | Tdate        | \n",
    "| Product Line ID           | Five rooms of house                    | Product Sys  | Pline        |\n",
    "| Product Class ID          | Item in line                           | Product Sys  | Pclass       |\n",
    "| Units Sold                | Number of units per order              | Order Sys    | Usales       |\n",
    "| Product Returned?         | Yes/No                                 | Order Sys    | Return       |\n",
    "| Amount Returned           | Number of units                        | Order Sys    | returnAmount |\n",
    "| Material Cost/Unit        | \\$US cost of material                  | Product Sys  | Mcost        |\n",
    "| List Price                | \\$US list                              | Price Sys    | Lprice       |\n",
    "| Dealer Discount           | \\% discount to dealer (decimal)        | Sales Sys    | Ddisc        |\n",
    "| Competitive Discount      | \\% discount for competition (decimal)  | Sales Sys    | Cdisc        |\n",
    "| Order Size Discount       | \\% discount for size (decimal)         | Sales Sys    | Odisc        |\n",
    "| Customer Pickup Allowance | \\% discount for pickup (decimal)       | Sales Sys    | Pdisc        |"
   ]
  },
  {
   "cell_type": "markdown",
   "metadata": {},
   "source": [
    "### Default Formats and Functions"
   ]
  },
  {
   "cell_type": "code",
   "execution_count": 59,
   "metadata": {},
   "outputs": [],
   "source": [
    "def import_view(df):\n",
    "    \"\"\"\n",
    "    Display the first 5 rows and data types of a DataFrame in nice output. Used to confirm import was successful as as expected.\n",
    "    \n",
    "    Args:\n",
    "        df: DataFrame handle.\n",
    "    \"\"\"\n",
    "    display(df.head().style.set_caption('First 5 Rows').\n",
    "                            set_table_styles(tbl_styles))\n",
    "    display(df.dtypes.to_frame().rename(columns={0: \"dataType\"}).\n",
    "                                 style.set_caption('DataFrame Data Types').\n",
    "                                       set_table_styles(tbl_styles))\n",
    "\n",
    "    \n",
    "def df_size( df ):\n",
    "    \"\"\"\n",
    "    Display DataFrame size as nice output: rows and columns.\n",
    "    \n",
    "    Args:\n",
    "        df: DataFrame handle.\n",
    "    \"\"\"\n",
    "    data = { 'Count': [ df.shape[ 0 ], df.shape[ 1 ] ] }\n",
    "    idx = [ 'Number of Rows', 'Number of Columns' ]\n",
    "    display(pd.DataFrame( data, index = idx ).\\\n",
    "               style.set_caption( 'DataFrame Dimensions' ).\\\n",
    "               set_table_styles( tbl_styles ) )\n",
    "\n",
    "\n",
    "\n",
    "##\n",
    "## DataFrame styles\n",
    "##\n",
    "tbl_styles = [ {\n",
    "    'selector': 'caption',\n",
    "    'props': [\n",
    "        ('color', 'darkblue'),\n",
    "        ('font-size', '18px')\n",
    "    ] } ]"
   ]
  },
  {
   "cell_type": "markdown",
   "metadata": {},
   "source": [
    "### Import Packages"
   ]
  },
  {
   "cell_type": "code",
   "execution_count": 63,
   "metadata": {},
   "outputs": [],
   "source": [
    "##\n",
    "## ===> Data Management <===\n",
    "##\n",
    "import numpy as np\n",
    "import pandas as pd\n",
    "##\n",
    "## ===> Visualization <===\n",
    "##\n",
    "import seaborn as sns\n",
    "import matplotlib.pyplot as plt\n",
    "##\n",
    "## Set the seaborn grid style.  The dot between the seaborn alias,\n",
    "## \"sns\", and the set() function connects or \"chains\" the alias and the method.\n",
    "##\n",
    "## sns.set()\n",
    "##\n",
    "## ===> Speciality <===\n",
    "##\n",
    "## import sidetable\n",
    "##\n",
    "## Set an option for the number of Pandas columns to display.  Eight in this case.\n",
    "## \n",
    "pd.set_option( 'display.max_columns', 20 )\n",
    "##\n",
    "## ===> Modeling <===\n",
    "##\n",
    "## Import train_test_split package from sklearn\n",
    "##\n",
    "from sklearn.model_selection import train_test_split\n",
    "##\n",
    "## For modeling, notice the new import command for\n",
    "## the formula API and the summary option\n",
    "##\n",
    "import statsmodels.api as sm\n",
    "import statsmodels.formula.api as smf \n",
    "##\n",
    "## Import the r2_score function from the sklearn metrics package\n",
    "##\n",
    "from sklearn.metrics import r2_score\n",
    "##\n",
    "## Import confusion functions for classification\n",
    "##\n",
    "from sklearn.metrics import confusion_matrix, classification_report\n",
    "##\n",
    "## Import decision tree classifier functions\n",
    "##\n",
    "from sklearn.tree import DecisionTreeClassifier\n",
    "from sklearn.metrics import accuracy_score\n",
    "from sklearn import tree\n",
    "from sklearn import preprocessing\n",
    "from sklearn.tree import export_graphviz\n",
    "##\n",
    "from sklearn.preprocessing import LabelEncoder\n",
    "##\n",
    "## Some packages are needed for decision trees:\n",
    "## Some additional packages are needed to plot a decision tree:\n",
    "## - graphviz\n",
    "## - pydotplus\n",
    "## Both packages may have to be installed before they can be used.  \n",
    "## Use the operating system to do this.\n",
    "##\n",
    "import os\n",
    "##!{sys.executable} -m pip install graphviz\n",
    "##!{sys.executable} -m pip install pydotplus\n",
    "##\n",
    "## Tell Python where the graphviz package is load; then load it.\n",
    "##\n",
    "##os.environ[\"PATH\"] += os.pathsep + 'C:/Program Files (x86)/Graphviz2.38/bin/'\n",
    "##\n",
    "## Import misc tree packages\n",
    "##\n",
    "## from io import StringIO\n",
    "## from IPython.display import Image  \n",
    "## import pydotplus\n",
    "## import graphviz"
   ]
  },
  {
   "cell_type": "markdown",
   "metadata": {},
   "source": [
    "### 1. Import Data"
   ]
  },
  {
   "cell_type": "markdown",
   "metadata": {},
   "source": [
    "#### Set Data Path"
   ]
  },
  {
   "cell_type": "code",
   "execution_count": 19,
   "metadata": {},
   "outputs": [],
   "source": [
    "##\n",
    "## Set data path\n",
    "##\n",
    "path = os.getcwd()+'\\\\Data\\\\'"
   ]
  },
  {
   "cell_type": "markdown",
   "metadata": {},
   "source": [
    "#### 1A. Import orders.csv"
   ]
  },
  {
   "cell_type": "code",
   "execution_count": 64,
   "metadata": {},
   "outputs": [
    {
     "data": {
      "text/html": [
       "<style  type=\"text/css\" >\n",
       "    #T_7c4bb094_49e3_11eb_a19d_40ec99d1f8c0 caption {\n",
       "          color: darkblue;\n",
       "          font-size: 18px;\n",
       "    }</style><table id=\"T_7c4bb094_49e3_11eb_a19d_40ec99d1f8c0\" ><caption>First 5 Rows</caption><thead>    <tr>        <th class=\"blank level0\" ></th>        <th class=\"col_heading level0 col0\" >Onum</th>        <th class=\"col_heading level0 col1\" >CID</th>        <th class=\"col_heading level0 col2\" >Tdate</th>        <th class=\"col_heading level0 col3\" >Pline</th>        <th class=\"col_heading level0 col4\" >Pclass</th>        <th class=\"col_heading level0 col5\" >Usales</th>        <th class=\"col_heading level0 col6\" >Return</th>        <th class=\"col_heading level0 col7\" >returnAmount</th>        <th class=\"col_heading level0 col8\" >Mcost</th>        <th class=\"col_heading level0 col9\" >Lprice</th>        <th class=\"col_heading level0 col10\" >Ddisc</th>        <th class=\"col_heading level0 col11\" >Cdisc</th>        <th class=\"col_heading level0 col12\" >Odisc</th>        <th class=\"col_heading level0 col13\" >Pdisc</th>    </tr></thead><tbody>\n",
       "                <tr>\n",
       "                        <th id=\"T_7c4bb094_49e3_11eb_a19d_40ec99d1f8c0level0_row0\" class=\"row_heading level0 row0\" >0</th>\n",
       "                        <td id=\"T_7c4bb094_49e3_11eb_a19d_40ec99d1f8c0row0_col0\" class=\"data row0 col0\" >585</td>\n",
       "                        <td id=\"T_7c4bb094_49e3_11eb_a19d_40ec99d1f8c0row0_col1\" class=\"data row0 col1\" >1015</td>\n",
       "                        <td id=\"T_7c4bb094_49e3_11eb_a19d_40ec99d1f8c0row0_col2\" class=\"data row0 col2\" >1/25/2004</td>\n",
       "                        <td id=\"T_7c4bb094_49e3_11eb_a19d_40ec99d1f8c0row0_col3\" class=\"data row0 col3\" >Living Room</td>\n",
       "                        <td id=\"T_7c4bb094_49e3_11eb_a19d_40ec99d1f8c0row0_col4\" class=\"data row0 col4\" >Window Treatment: Blinds</td>\n",
       "                        <td id=\"T_7c4bb094_49e3_11eb_a19d_40ec99d1f8c0row0_col5\" class=\"data row0 col5\" >36</td>\n",
       "                        <td id=\"T_7c4bb094_49e3_11eb_a19d_40ec99d1f8c0row0_col6\" class=\"data row0 col6\" >No</td>\n",
       "                        <td id=\"T_7c4bb094_49e3_11eb_a19d_40ec99d1f8c0row0_col7\" class=\"data row0 col7\" >0</td>\n",
       "                        <td id=\"T_7c4bb094_49e3_11eb_a19d_40ec99d1f8c0row0_col8\" class=\"data row0 col8\" >0.950000</td>\n",
       "                        <td id=\"T_7c4bb094_49e3_11eb_a19d_40ec99d1f8c0row0_col9\" class=\"data row0 col9\" >5.400000</td>\n",
       "                        <td id=\"T_7c4bb094_49e3_11eb_a19d_40ec99d1f8c0row0_col10\" class=\"data row0 col10\" >nan</td>\n",
       "                        <td id=\"T_7c4bb094_49e3_11eb_a19d_40ec99d1f8c0row0_col11\" class=\"data row0 col11\" >nan</td>\n",
       "                        <td id=\"T_7c4bb094_49e3_11eb_a19d_40ec99d1f8c0row0_col12\" class=\"data row0 col12\" >0.043000</td>\n",
       "                        <td id=\"T_7c4bb094_49e3_11eb_a19d_40ec99d1f8c0row0_col13\" class=\"data row0 col13\" >0.042000</td>\n",
       "            </tr>\n",
       "            <tr>\n",
       "                        <th id=\"T_7c4bb094_49e3_11eb_a19d_40ec99d1f8c0level0_row1\" class=\"row_heading level0 row1\" >1</th>\n",
       "                        <td id=\"T_7c4bb094_49e3_11eb_a19d_40ec99d1f8c0row1_col0\" class=\"data row1 col0\" >586</td>\n",
       "                        <td id=\"T_7c4bb094_49e3_11eb_a19d_40ec99d1f8c0row1_col1\" class=\"data row1 col1\" >1015</td>\n",
       "                        <td id=\"T_7c4bb094_49e3_11eb_a19d_40ec99d1f8c0row1_col2\" class=\"data row1 col2\" >1/25/2004</td>\n",
       "                        <td id=\"T_7c4bb094_49e3_11eb_a19d_40ec99d1f8c0row1_col3\" class=\"data row1 col3\" >Living Room</td>\n",
       "                        <td id=\"T_7c4bb094_49e3_11eb_a19d_40ec99d1f8c0row1_col4\" class=\"data row1 col4\" >Window Treatment: Blinds</td>\n",
       "                        <td id=\"T_7c4bb094_49e3_11eb_a19d_40ec99d1f8c0row1_col5\" class=\"data row1 col5\" >57</td>\n",
       "                        <td id=\"T_7c4bb094_49e3_11eb_a19d_40ec99d1f8c0row1_col6\" class=\"data row1 col6\" >No</td>\n",
       "                        <td id=\"T_7c4bb094_49e3_11eb_a19d_40ec99d1f8c0row1_col7\" class=\"data row1 col7\" >0</td>\n",
       "                        <td id=\"T_7c4bb094_49e3_11eb_a19d_40ec99d1f8c0row1_col8\" class=\"data row1 col8\" >0.950000</td>\n",
       "                        <td id=\"T_7c4bb094_49e3_11eb_a19d_40ec99d1f8c0row1_col9\" class=\"data row1 col9\" >5.400000</td>\n",
       "                        <td id=\"T_7c4bb094_49e3_11eb_a19d_40ec99d1f8c0row1_col10\" class=\"data row1 col10\" >0.157000</td>\n",
       "                        <td id=\"T_7c4bb094_49e3_11eb_a19d_40ec99d1f8c0row1_col11\" class=\"data row1 col11\" >0.075000</td>\n",
       "                        <td id=\"T_7c4bb094_49e3_11eb_a19d_40ec99d1f8c0row1_col12\" class=\"data row1 col12\" >0.041000</td>\n",
       "                        <td id=\"T_7c4bb094_49e3_11eb_a19d_40ec99d1f8c0row1_col13\" class=\"data row1 col13\" >0.031000</td>\n",
       "            </tr>\n",
       "            <tr>\n",
       "                        <th id=\"T_7c4bb094_49e3_11eb_a19d_40ec99d1f8c0level0_row2\" class=\"row_heading level0 row2\" >2</th>\n",
       "                        <td id=\"T_7c4bb094_49e3_11eb_a19d_40ec99d1f8c0row2_col0\" class=\"data row2 col0\" >587</td>\n",
       "                        <td id=\"T_7c4bb094_49e3_11eb_a19d_40ec99d1f8c0row2_col1\" class=\"data row2 col1\" >1015</td>\n",
       "                        <td id=\"T_7c4bb094_49e3_11eb_a19d_40ec99d1f8c0row2_col2\" class=\"data row2 col2\" >1/25/2004</td>\n",
       "                        <td id=\"T_7c4bb094_49e3_11eb_a19d_40ec99d1f8c0row2_col3\" class=\"data row2 col3\" >Living Room</td>\n",
       "                        <td id=\"T_7c4bb094_49e3_11eb_a19d_40ec99d1f8c0row2_col4\" class=\"data row2 col4\" >Window Treatment: Blinds</td>\n",
       "                        <td id=\"T_7c4bb094_49e3_11eb_a19d_40ec99d1f8c0row2_col5\" class=\"data row2 col5\" >27</td>\n",
       "                        <td id=\"T_7c4bb094_49e3_11eb_a19d_40ec99d1f8c0row2_col6\" class=\"data row2 col6\" >No</td>\n",
       "                        <td id=\"T_7c4bb094_49e3_11eb_a19d_40ec99d1f8c0row2_col7\" class=\"data row2 col7\" >0</td>\n",
       "                        <td id=\"T_7c4bb094_49e3_11eb_a19d_40ec99d1f8c0row2_col8\" class=\"data row2 col8\" >0.950000</td>\n",
       "                        <td id=\"T_7c4bb094_49e3_11eb_a19d_40ec99d1f8c0row2_col9\" class=\"data row2 col9\" >5.400000</td>\n",
       "                        <td id=\"T_7c4bb094_49e3_11eb_a19d_40ec99d1f8c0row2_col10\" class=\"data row2 col10\" >nan</td>\n",
       "                        <td id=\"T_7c4bb094_49e3_11eb_a19d_40ec99d1f8c0row2_col11\" class=\"data row2 col11\" >0.048000</td>\n",
       "                        <td id=\"T_7c4bb094_49e3_11eb_a19d_40ec99d1f8c0row2_col12\" class=\"data row2 col12\" >0.053000</td>\n",
       "                        <td id=\"T_7c4bb094_49e3_11eb_a19d_40ec99d1f8c0row2_col13\" class=\"data row2 col13\" >0.021000</td>\n",
       "            </tr>\n",
       "            <tr>\n",
       "                        <th id=\"T_7c4bb094_49e3_11eb_a19d_40ec99d1f8c0level0_row3\" class=\"row_heading level0 row3\" >3</th>\n",
       "                        <td id=\"T_7c4bb094_49e3_11eb_a19d_40ec99d1f8c0row3_col0\" class=\"data row3 col0\" >588</td>\n",
       "                        <td id=\"T_7c4bb094_49e3_11eb_a19d_40ec99d1f8c0row3_col1\" class=\"data row3 col1\" >1015</td>\n",
       "                        <td id=\"T_7c4bb094_49e3_11eb_a19d_40ec99d1f8c0row3_col2\" class=\"data row3 col2\" >1/25/2004</td>\n",
       "                        <td id=\"T_7c4bb094_49e3_11eb_a19d_40ec99d1f8c0row3_col3\" class=\"data row3 col3\" >Living Room</td>\n",
       "                        <td id=\"T_7c4bb094_49e3_11eb_a19d_40ec99d1f8c0row3_col4\" class=\"data row3 col4\" >Window Treatment: Blinds</td>\n",
       "                        <td id=\"T_7c4bb094_49e3_11eb_a19d_40ec99d1f8c0row3_col5\" class=\"data row3 col5\" >21</td>\n",
       "                        <td id=\"T_7c4bb094_49e3_11eb_a19d_40ec99d1f8c0row3_col6\" class=\"data row3 col6\" >No</td>\n",
       "                        <td id=\"T_7c4bb094_49e3_11eb_a19d_40ec99d1f8c0row3_col7\" class=\"data row3 col7\" >0</td>\n",
       "                        <td id=\"T_7c4bb094_49e3_11eb_a19d_40ec99d1f8c0row3_col8\" class=\"data row3 col8\" >0.950000</td>\n",
       "                        <td id=\"T_7c4bb094_49e3_11eb_a19d_40ec99d1f8c0row3_col9\" class=\"data row3 col9\" >5.400000</td>\n",
       "                        <td id=\"T_7c4bb094_49e3_11eb_a19d_40ec99d1f8c0row3_col10\" class=\"data row3 col10\" >nan</td>\n",
       "                        <td id=\"T_7c4bb094_49e3_11eb_a19d_40ec99d1f8c0row3_col11\" class=\"data row3 col11\" >0.072000</td>\n",
       "                        <td id=\"T_7c4bb094_49e3_11eb_a19d_40ec99d1f8c0row3_col12\" class=\"data row3 col12\" >nan</td>\n",
       "                        <td id=\"T_7c4bb094_49e3_11eb_a19d_40ec99d1f8c0row3_col13\" class=\"data row3 col13\" >0.033000</td>\n",
       "            </tr>\n",
       "            <tr>\n",
       "                        <th id=\"T_7c4bb094_49e3_11eb_a19d_40ec99d1f8c0level0_row4\" class=\"row_heading level0 row4\" >4</th>\n",
       "                        <td id=\"T_7c4bb094_49e3_11eb_a19d_40ec99d1f8c0row4_col0\" class=\"data row4 col0\" >589</td>\n",
       "                        <td id=\"T_7c4bb094_49e3_11eb_a19d_40ec99d1f8c0row4_col1\" class=\"data row4 col1\" >1015</td>\n",
       "                        <td id=\"T_7c4bb094_49e3_11eb_a19d_40ec99d1f8c0row4_col2\" class=\"data row4 col2\" >1/25/2004</td>\n",
       "                        <td id=\"T_7c4bb094_49e3_11eb_a19d_40ec99d1f8c0row4_col3\" class=\"data row4 col3\" >Living Room</td>\n",
       "                        <td id=\"T_7c4bb094_49e3_11eb_a19d_40ec99d1f8c0row4_col4\" class=\"data row4 col4\" >Window Treatment: Blinds</td>\n",
       "                        <td id=\"T_7c4bb094_49e3_11eb_a19d_40ec99d1f8c0row4_col5\" class=\"data row4 col5\" >56</td>\n",
       "                        <td id=\"T_7c4bb094_49e3_11eb_a19d_40ec99d1f8c0row4_col6\" class=\"data row4 col6\" >No</td>\n",
       "                        <td id=\"T_7c4bb094_49e3_11eb_a19d_40ec99d1f8c0row4_col7\" class=\"data row4 col7\" >0</td>\n",
       "                        <td id=\"T_7c4bb094_49e3_11eb_a19d_40ec99d1f8c0row4_col8\" class=\"data row4 col8\" >0.950000</td>\n",
       "                        <td id=\"T_7c4bb094_49e3_11eb_a19d_40ec99d1f8c0row4_col9\" class=\"data row4 col9\" >5.400000</td>\n",
       "                        <td id=\"T_7c4bb094_49e3_11eb_a19d_40ec99d1f8c0row4_col10\" class=\"data row4 col10\" >0.140000</td>\n",
       "                        <td id=\"T_7c4bb094_49e3_11eb_a19d_40ec99d1f8c0row4_col11\" class=\"data row4 col11\" >0.056000</td>\n",
       "                        <td id=\"T_7c4bb094_49e3_11eb_a19d_40ec99d1f8c0row4_col12\" class=\"data row4 col12\" >0.041000</td>\n",
       "                        <td id=\"T_7c4bb094_49e3_11eb_a19d_40ec99d1f8c0row4_col13\" class=\"data row4 col13\" >0.055000</td>\n",
       "            </tr>\n",
       "    </tbody></table>"
      ],
      "text/plain": [
       "<pandas.io.formats.style.Styler at 0x1f059813c70>"
      ]
     },
     "metadata": {},
     "output_type": "display_data"
    },
    {
     "data": {
      "text/html": [
       "<style  type=\"text/css\" >\n",
       "    #T_7c4c73c1_49e3_11eb_a68a_40ec99d1f8c0 caption {\n",
       "          color: darkblue;\n",
       "          font-size: 18px;\n",
       "    }</style><table id=\"T_7c4c73c1_49e3_11eb_a68a_40ec99d1f8c0\" ><caption>DataFrame Data Types</caption><thead>    <tr>        <th class=\"blank level0\" ></th>        <th class=\"col_heading level0 col0\" >dataType</th>    </tr></thead><tbody>\n",
       "                <tr>\n",
       "                        <th id=\"T_7c4c73c1_49e3_11eb_a68a_40ec99d1f8c0level0_row0\" class=\"row_heading level0 row0\" >Onum</th>\n",
       "                        <td id=\"T_7c4c73c1_49e3_11eb_a68a_40ec99d1f8c0row0_col0\" class=\"data row0 col0\" >int64</td>\n",
       "            </tr>\n",
       "            <tr>\n",
       "                        <th id=\"T_7c4c73c1_49e3_11eb_a68a_40ec99d1f8c0level0_row1\" class=\"row_heading level0 row1\" >CID</th>\n",
       "                        <td id=\"T_7c4c73c1_49e3_11eb_a68a_40ec99d1f8c0row1_col0\" class=\"data row1 col0\" >int64</td>\n",
       "            </tr>\n",
       "            <tr>\n",
       "                        <th id=\"T_7c4c73c1_49e3_11eb_a68a_40ec99d1f8c0level0_row2\" class=\"row_heading level0 row2\" >Tdate</th>\n",
       "                        <td id=\"T_7c4c73c1_49e3_11eb_a68a_40ec99d1f8c0row2_col0\" class=\"data row2 col0\" >object</td>\n",
       "            </tr>\n",
       "            <tr>\n",
       "                        <th id=\"T_7c4c73c1_49e3_11eb_a68a_40ec99d1f8c0level0_row3\" class=\"row_heading level0 row3\" >Pline</th>\n",
       "                        <td id=\"T_7c4c73c1_49e3_11eb_a68a_40ec99d1f8c0row3_col0\" class=\"data row3 col0\" >object</td>\n",
       "            </tr>\n",
       "            <tr>\n",
       "                        <th id=\"T_7c4c73c1_49e3_11eb_a68a_40ec99d1f8c0level0_row4\" class=\"row_heading level0 row4\" >Pclass</th>\n",
       "                        <td id=\"T_7c4c73c1_49e3_11eb_a68a_40ec99d1f8c0row4_col0\" class=\"data row4 col0\" >object</td>\n",
       "            </tr>\n",
       "            <tr>\n",
       "                        <th id=\"T_7c4c73c1_49e3_11eb_a68a_40ec99d1f8c0level0_row5\" class=\"row_heading level0 row5\" >Usales</th>\n",
       "                        <td id=\"T_7c4c73c1_49e3_11eb_a68a_40ec99d1f8c0row5_col0\" class=\"data row5 col0\" >int64</td>\n",
       "            </tr>\n",
       "            <tr>\n",
       "                        <th id=\"T_7c4c73c1_49e3_11eb_a68a_40ec99d1f8c0level0_row6\" class=\"row_heading level0 row6\" >Return</th>\n",
       "                        <td id=\"T_7c4c73c1_49e3_11eb_a68a_40ec99d1f8c0row6_col0\" class=\"data row6 col0\" >object</td>\n",
       "            </tr>\n",
       "            <tr>\n",
       "                        <th id=\"T_7c4c73c1_49e3_11eb_a68a_40ec99d1f8c0level0_row7\" class=\"row_heading level0 row7\" >returnAmount</th>\n",
       "                        <td id=\"T_7c4c73c1_49e3_11eb_a68a_40ec99d1f8c0row7_col0\" class=\"data row7 col0\" >int64</td>\n",
       "            </tr>\n",
       "            <tr>\n",
       "                        <th id=\"T_7c4c73c1_49e3_11eb_a68a_40ec99d1f8c0level0_row8\" class=\"row_heading level0 row8\" >Mcost</th>\n",
       "                        <td id=\"T_7c4c73c1_49e3_11eb_a68a_40ec99d1f8c0row8_col0\" class=\"data row8 col0\" >float64</td>\n",
       "            </tr>\n",
       "            <tr>\n",
       "                        <th id=\"T_7c4c73c1_49e3_11eb_a68a_40ec99d1f8c0level0_row9\" class=\"row_heading level0 row9\" >Lprice</th>\n",
       "                        <td id=\"T_7c4c73c1_49e3_11eb_a68a_40ec99d1f8c0row9_col0\" class=\"data row9 col0\" >float64</td>\n",
       "            </tr>\n",
       "            <tr>\n",
       "                        <th id=\"T_7c4c73c1_49e3_11eb_a68a_40ec99d1f8c0level0_row10\" class=\"row_heading level0 row10\" >Ddisc</th>\n",
       "                        <td id=\"T_7c4c73c1_49e3_11eb_a68a_40ec99d1f8c0row10_col0\" class=\"data row10 col0\" >float64</td>\n",
       "            </tr>\n",
       "            <tr>\n",
       "                        <th id=\"T_7c4c73c1_49e3_11eb_a68a_40ec99d1f8c0level0_row11\" class=\"row_heading level0 row11\" >Cdisc</th>\n",
       "                        <td id=\"T_7c4c73c1_49e3_11eb_a68a_40ec99d1f8c0row11_col0\" class=\"data row11 col0\" >float64</td>\n",
       "            </tr>\n",
       "            <tr>\n",
       "                        <th id=\"T_7c4c73c1_49e3_11eb_a68a_40ec99d1f8c0level0_row12\" class=\"row_heading level0 row12\" >Odisc</th>\n",
       "                        <td id=\"T_7c4c73c1_49e3_11eb_a68a_40ec99d1f8c0row12_col0\" class=\"data row12 col0\" >float64</td>\n",
       "            </tr>\n",
       "            <tr>\n",
       "                        <th id=\"T_7c4c73c1_49e3_11eb_a68a_40ec99d1f8c0level0_row13\" class=\"row_heading level0 row13\" >Pdisc</th>\n",
       "                        <td id=\"T_7c4c73c1_49e3_11eb_a68a_40ec99d1f8c0row13_col0\" class=\"data row13 col0\" >float64</td>\n",
       "            </tr>\n",
       "    </tbody></table>"
      ],
      "text/plain": [
       "<pandas.io.formats.style.Styler at 0x1f0597f00a0>"
      ]
     },
     "metadata": {},
     "output_type": "display_data"
    }
   ],
   "source": [
    "##\n",
    "## Import orders.csv\n",
    "## a. parse Tdate as a date\n",
    "##\n",
    "file = 'orders.csv'\n",
    "##\n",
    "df_orders = pd.read_csv(path + 'orders.csv', parse_dates=True)\n",
    "import_view(df_orders)"
   ]
  },
  {
   "cell_type": "markdown",
   "metadata": {},
   "source": [
    "#### 1B. Import orders.csv"
   ]
  },
  {
   "cell_type": "code",
   "execution_count": null,
   "metadata": {},
   "outputs": [],
   "source": []
  },
  {
   "cell_type": "code",
   "execution_count": null,
   "metadata": {},
   "outputs": [],
   "source": []
  },
  {
   "cell_type": "markdown",
   "metadata": {},
   "source": [
    "#### 1C. Import orders.csv"
   ]
  },
  {
   "cell_type": "code",
   "execution_count": 76,
   "metadata": {},
   "outputs": [],
   "source": [
    "def df_size( df ):\n",
    "    \"\"\"\n",
    "    Display DataFrame size as nice output: rows and columns.\n",
    "    \n",
    "    Args:\n",
    "        df: DataFrame handle.\n",
    "    \"\"\"\n",
    "    data = { 'Count': [ df.shape[ 0 ], df.shape[ 1 ] ] }\n",
    "    indexValues = [ 'Number of Rows', 'Number of Columns' ]\n",
    "    display(pd.DataFrame( data, index = indexValues ).\n",
    "               style.set_caption( 'DataFrame Dimensions' ).  ## Add title\n",
    "               format(\"{:,.0f}\").\n",
    "               set_table_styles( tbl_styles ) )"
   ]
  },
  {
   "cell_type": "code",
   "execution_count": 77,
   "metadata": {},
   "outputs": [
    {
     "data": {
      "text/html": [
       "<style  type=\"text/css\" >\n",
       "    #T_dc350af5_49e4_11eb_afc2_40ec99d1f8c0 caption {\n",
       "          color: darkblue;\n",
       "          font-size: 18px;\n",
       "    }</style><table id=\"T_dc350af5_49e4_11eb_afc2_40ec99d1f8c0\" ><caption>DataFrame Dimensions</caption><thead>    <tr>        <th class=\"blank level0\" ></th>        <th class=\"col_heading level0 col0\" >Count</th>    </tr></thead><tbody>\n",
       "                <tr>\n",
       "                        <th id=\"T_dc350af5_49e4_11eb_afc2_40ec99d1f8c0level0_row0\" class=\"row_heading level0 row0\" >Number of Rows</th>\n",
       "                        <td id=\"T_dc350af5_49e4_11eb_afc2_40ec99d1f8c0row0_col0\" class=\"data row0 col0\" >70,270</td>\n",
       "            </tr>\n",
       "            <tr>\n",
       "                        <th id=\"T_dc350af5_49e4_11eb_afc2_40ec99d1f8c0level0_row1\" class=\"row_heading level0 row1\" >Number of Columns</th>\n",
       "                        <td id=\"T_dc350af5_49e4_11eb_afc2_40ec99d1f8c0row1_col0\" class=\"data row1 col0\" >14</td>\n",
       "            </tr>\n",
       "    </tbody></table>"
      ],
      "text/plain": [
       "<pandas.io.formats.style.Styler at 0x1f0595c93a0>"
      ]
     },
     "metadata": {},
     "output_type": "display_data"
    }
   ],
   "source": [
    "df_size(df_orders)"
   ]
  },
  {
   "cell_type": "code",
   "execution_count": 79,
   "metadata": {},
   "outputs": [],
   "source": [
    "df_orders.style??"
   ]
  },
  {
   "cell_type": "code",
   "execution_count": null,
   "metadata": {},
   "outputs": [],
   "source": []
  }
 ],
 "metadata": {
  "kernelspec": {
   "display_name": "Python 3",
   "language": "python",
   "name": "python3"
  },
  "language_info": {
   "codemirror_mode": {
    "name": "ipython",
    "version": 3
   },
   "file_extension": ".py",
   "mimetype": "text/x-python",
   "name": "python",
   "nbconvert_exporter": "python",
   "pygments_lexer": "ipython3",
   "version": "3.8.5"
  }
 },
 "nbformat": 4,
 "nbformat_minor": 4
}
