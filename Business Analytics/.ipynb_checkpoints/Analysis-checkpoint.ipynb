{
 "cells": [
  {
   "cell_type": "markdown",
   "metadata": {},
   "source": [
    "# Analyzing Furniture Data"
   ]
  },
  {
   "cell_type": "code",
   "execution_count": null,
   "metadata": {},
   "outputs": [],
   "source": []
  },
  {
   "cell_type": "markdown",
   "metadata": {},
   "source": [
    "### 1.A Data Dictionary"
   ]
  },
  {
   "cell_type": "markdown",
   "metadata": {},
   "source": [
    "| Variable                  | Data Type                              | Source       | Mnemonic     |\n",
    "|---------------------------|----------------------------------------|--------------|--------------|\n",
    "| Order Number              | Nominal Integer                        | Order Sys    | Onum         |\n",
    "| Customer ID               | Nominal                                | Customer Sys | CID          | \n",
    "| Transaction Date          | MM/DD/YYYY                             | Order Sys    | Tdate        | \n",
    "| Product Line ID           | Five rooms of house                    | Product Sys  | Pline        |\n",
    "| Product Class ID          | Item in line                           | Product Sys  | Pclass       |\n",
    "| Units Sold                | Number of units per order              | Order Sys    | Usales       |\n",
    "| Product Returned?         | Yes/No                                 | Order Sys    | Return       |\n",
    "| Amount Returned           | Number of units                        | Order Sys    | returnAmount |\n",
    "| Material Cost/Unit        | \\$US cost of material                  | Product Sys  | Mcost        |\n",
    "| List Price                | \\$US list                              | Price Sys    | Lprice       |\n",
    "| Dealer Discount           | \\% discount to dealer (decimal)        | Sales Sys    | Ddisc        |\n",
    "| Competitive Discount      | \\% discount for competition (decimal)  | Sales Sys    | Cdisc        |\n",
    "| Order Size Discount       | \\% discount for size (decimal)         | Sales Sys    | Odisc        |\n",
    "| Customer Pickup Allowance | \\% discount for pickup (decimal)       | Sales Sys    | Pdisc        |"
   ]
  },
  {
   "cell_type": "markdown",
   "metadata": {},
   "source": [
    "### Default Formats and Functions"
   ]
  },
  {
   "cell_type": "code",
   "execution_count": 59,
   "metadata": {},
   "outputs": [],
   "source": [
    "def import_view(df):\n",
    "    \"\"\"\n",
    "    Display the first 5 rows and data types of a DataFrame. Used to confirm import was correct.\n",
    "    \n",
    "    Args:\n",
    "        df: DataFrame handle.\n",
    "    \"\"\"\n",
    "    display(df.head().style.set_caption('First 5 Rows').\n",
    "                            set_table_styles(tbl_styles))\n",
    "    display(df.dtypes.to_frame().rename(columns={0: \"dataType\"}).\n",
    "                                 style.set_caption('DataFrame Data Types').\n",
    "                                       set_table_styles(tbl_styles))\n",
    "\n",
    "    \n",
    "def df_size( df ):\n",
    "    \"\"\"\n",
    "    Display DataFrame size as nice output: rows and columns.\n",
    "    \n",
    "    Args:\n",
    "        df: DataFrame handle.\n",
    "    \"\"\"\n",
    "    data = { 'Count': [ df.shape[ 0 ], df.shape[ 1 ] ] }\n",
    "    idx = [ 'Number of Rows', 'Number of Columns' ]\n",
    "    display(pd.DataFrame( data, index = idx ).\\\n",
    "               style.set_caption( 'DataFrame Dimensions' ).\\\n",
    "               set_table_styles( tbl_styles ) )\n",
    "    \n",
    "    \n",
    "##\n",
    "## DataFrame styles\n",
    "##\n",
    "tbl_styles = [ {\n",
    "    'selector': 'caption',\n",
    "    'props': [\n",
    "        ('color', 'darkblue'),\n",
    "        ('font-size', '18px')\n",
    "    ] } ]"
   ]
  },
  {
   "cell_type": "markdown",
   "metadata": {},
   "source": [
    "### Import Packages"
   ]
  },
  {
   "cell_type": "code",
   "execution_count": 6,
   "metadata": {},
   "outputs": [],
   "source": [
    "##\n",
    "## ===> Data Management <===\n",
    "##\n",
    "import numpy as np\n",
    "import pandas as pd\n",
    "##\n",
    "## ===> Visualization <===\n",
    "##\n",
    "import seaborn as sns\n",
    "import matplotlib.pyplot as plt\n",
    "##\n",
    "## Set the seaborn grid style.  The dot between the seaborn alias,\n",
    "## \"sns\", and the set() function connects or \"chains\" the alias and the method.\n",
    "##\n",
    "## sns.set()\n",
    "##\n",
    "## ===> Speciality <===\n",
    "##\n",
    "## import sidetable\n",
    "##\n",
    "## Set an option for the number of Pandas columns to display.  Eight in this case.\n",
    "## \n",
    "pd.set_option( 'display.max_columns', 8 )\n",
    "##\n",
    "## ===> Modeling <===\n",
    "##\n",
    "## Import train_test_split package from sklearn\n",
    "##\n",
    "from sklearn.model_selection import train_test_split\n",
    "##\n",
    "## For modeling, notice the new import command for\n",
    "## the formula API and the summary option\n",
    "##\n",
    "import statsmodels.api as sm\n",
    "import statsmodels.formula.api as smf \n",
    "##\n",
    "## Import the r2_score function from the sklearn metrics package\n",
    "##\n",
    "from sklearn.metrics import r2_score\n",
    "##\n",
    "## Import confusion functions for classification\n",
    "##\n",
    "from sklearn.metrics import confusion_matrix, classification_report\n",
    "##\n",
    "## Import decision tree classifier functions\n",
    "##\n",
    "from sklearn.tree import DecisionTreeClassifier\n",
    "from sklearn.metrics import accuracy_score\n",
    "from sklearn import tree\n",
    "from sklearn import preprocessing\n",
    "from sklearn.tree import export_graphviz\n",
    "##\n",
    "from sklearn.preprocessing import LabelEncoder\n",
    "##\n",
    "## Some packages are needed for decision trees:\n",
    "## Some additional packages are needed to plot a decision tree:\n",
    "## - graphviz\n",
    "## - pydotplus\n",
    "## Both packages may have to be installed before they can be used.  \n",
    "## Use the operating system to do this.\n",
    "##\n",
    "import os\n",
    "##!{sys.executable} -m pip install graphviz\n",
    "##!{sys.executable} -m pip install pydotplus\n",
    "##\n",
    "## Tell Python where the graphviz package is load; then load it.\n",
    "##\n",
    "##os.environ[\"PATH\"] += os.pathsep + 'C:/Program Files (x86)/Graphviz2.38/bin/'\n",
    "##\n",
    "## Import misc tree packages\n",
    "##\n",
    "## from io import StringIO\n",
    "## from IPython.display import Image  \n",
    "## import pydotplus\n",
    "## import graphviz"
   ]
  },
  {
   "cell_type": "markdown",
   "metadata": {},
   "source": [
    "### 1. Import Data"
   ]
  },
  {
   "cell_type": "code",
   "execution_count": 19,
   "metadata": {},
   "outputs": [],
   "source": [
    "##\n",
    "## Set data path\n",
    "##\n",
    "path = os.getcwd()+'\\\\Data\\\\'"
   ]
  },
  {
   "cell_type": "code",
   "execution_count": 60,
   "metadata": {},
   "outputs": [
    {
     "data": {
      "text/html": [
       "<style  type=\"text/css\" >\n",
       "    #T_b80bb441_49da_11eb_899a_40ec99d1f8c0 caption {\n",
       "          color: darkblue;\n",
       "          font-size: 18px;\n",
       "    }</style><table id=\"T_b80bb441_49da_11eb_899a_40ec99d1f8c0\" ><caption>First 5 Rows</caption><thead>    <tr>        <th class=\"blank level0\" ></th>        <th class=\"col_heading level0 col0\" >CID</th>        <th class=\"col_heading level0 col1\" >State</th>        <th class=\"col_heading level0 col2\" >ZIP</th>        <th class=\"col_heading level0 col3\" >Region</th>    </tr></thead><tbody>\n",
       "                <tr>\n",
       "                        <th id=\"T_b80bb441_49da_11eb_899a_40ec99d1f8c0level0_row0\" class=\"row_heading level0 row0\" >0</th>\n",
       "                        <td id=\"T_b80bb441_49da_11eb_899a_40ec99d1f8c0row0_col0\" class=\"data row0 col0\" >1700</td>\n",
       "                        <td id=\"T_b80bb441_49da_11eb_899a_40ec99d1f8c0row0_col1\" class=\"data row0 col1\" >MT</td>\n",
       "                        <td id=\"T_b80bb441_49da_11eb_899a_40ec99d1f8c0row0_col2\" class=\"data row0 col2\" >59821</td>\n",
       "                        <td id=\"T_b80bb441_49da_11eb_899a_40ec99d1f8c0row0_col3\" class=\"data row0 col3\" >West</td>\n",
       "            </tr>\n",
       "            <tr>\n",
       "                        <th id=\"T_b80bb441_49da_11eb_899a_40ec99d1f8c0level0_row1\" class=\"row_heading level0 row1\" >1</th>\n",
       "                        <td id=\"T_b80bb441_49da_11eb_899a_40ec99d1f8c0row1_col0\" class=\"data row1 col0\" >850</td>\n",
       "                        <td id=\"T_b80bb441_49da_11eb_899a_40ec99d1f8c0row1_col1\" class=\"data row1 col1\" >ND</td>\n",
       "                        <td id=\"T_b80bb441_49da_11eb_899a_40ec99d1f8c0row1_col2\" class=\"data row1 col2\" >58068</td>\n",
       "                        <td id=\"T_b80bb441_49da_11eb_899a_40ec99d1f8c0row1_col3\" class=\"data row1 col3\" >Midwest</td>\n",
       "            </tr>\n",
       "            <tr>\n",
       "                        <th id=\"T_b80bb441_49da_11eb_899a_40ec99d1f8c0level0_row2\" class=\"row_heading level0 row2\" >2</th>\n",
       "                        <td id=\"T_b80bb441_49da_11eb_899a_40ec99d1f8c0row2_col0\" class=\"data row2 col0\" >280</td>\n",
       "                        <td id=\"T_b80bb441_49da_11eb_899a_40ec99d1f8c0row2_col1\" class=\"data row2 col1\" >NY</td>\n",
       "                        <td id=\"T_b80bb441_49da_11eb_899a_40ec99d1f8c0row2_col2\" class=\"data row2 col2\" >10007</td>\n",
       "                        <td id=\"T_b80bb441_49da_11eb_899a_40ec99d1f8c0row2_col3\" class=\"data row2 col3\" >Northeast</td>\n",
       "            </tr>\n",
       "            <tr>\n",
       "                        <th id=\"T_b80bb441_49da_11eb_899a_40ec99d1f8c0level0_row3\" class=\"row_heading level0 row3\" >3</th>\n",
       "                        <td id=\"T_b80bb441_49da_11eb_899a_40ec99d1f8c0row3_col0\" class=\"data row3 col0\" >1574</td>\n",
       "                        <td id=\"T_b80bb441_49da_11eb_899a_40ec99d1f8c0row3_col1\" class=\"data row3 col1\" >WY</td>\n",
       "                        <td id=\"T_b80bb441_49da_11eb_899a_40ec99d1f8c0row3_col2\" class=\"data row3 col2\" >83120</td>\n",
       "                        <td id=\"T_b80bb441_49da_11eb_899a_40ec99d1f8c0row3_col3\" class=\"data row3 col3\" >West</td>\n",
       "            </tr>\n",
       "            <tr>\n",
       "                        <th id=\"T_b80bb441_49da_11eb_899a_40ec99d1f8c0level0_row4\" class=\"row_heading level0 row4\" >4</th>\n",
       "                        <td id=\"T_b80bb441_49da_11eb_899a_40ec99d1f8c0row4_col0\" class=\"data row4 col0\" >110</td>\n",
       "                        <td id=\"T_b80bb441_49da_11eb_899a_40ec99d1f8c0row4_col1\" class=\"data row4 col1\" >CO</td>\n",
       "                        <td id=\"T_b80bb441_49da_11eb_899a_40ec99d1f8c0row4_col2\" class=\"data row4 col2\" >80403</td>\n",
       "                        <td id=\"T_b80bb441_49da_11eb_899a_40ec99d1f8c0row4_col3\" class=\"data row4 col3\" >West</td>\n",
       "            </tr>\n",
       "    </tbody></table>"
      ],
      "text/plain": [
       "<pandas.io.formats.style.Styler at 0x1f0593ab7f0>"
      ]
     },
     "metadata": {},
     "output_type": "display_data"
    },
    {
     "data": {
      "text/html": [
       "<style  type=\"text/css\" >\n",
       "    #T_b80c43c0_49da_11eb_be0c_40ec99d1f8c0 caption {\n",
       "          color: darkblue;\n",
       "          font-size: 18px;\n",
       "    }</style><table id=\"T_b80c43c0_49da_11eb_be0c_40ec99d1f8c0\" ><caption>DataFrame Data Types</caption><thead>    <tr>        <th class=\"blank level0\" ></th>        <th class=\"col_heading level0 col0\" >dataType</th>    </tr></thead><tbody>\n",
       "                <tr>\n",
       "                        <th id=\"T_b80c43c0_49da_11eb_be0c_40ec99d1f8c0level0_row0\" class=\"row_heading level0 row0\" >CID</th>\n",
       "                        <td id=\"T_b80c43c0_49da_11eb_be0c_40ec99d1f8c0row0_col0\" class=\"data row0 col0\" >int64</td>\n",
       "            </tr>\n",
       "            <tr>\n",
       "                        <th id=\"T_b80c43c0_49da_11eb_be0c_40ec99d1f8c0level0_row1\" class=\"row_heading level0 row1\" >State</th>\n",
       "                        <td id=\"T_b80c43c0_49da_11eb_be0c_40ec99d1f8c0row1_col0\" class=\"data row1 col0\" >object</td>\n",
       "            </tr>\n",
       "            <tr>\n",
       "                        <th id=\"T_b80c43c0_49da_11eb_be0c_40ec99d1f8c0level0_row2\" class=\"row_heading level0 row2\" >ZIP</th>\n",
       "                        <td id=\"T_b80c43c0_49da_11eb_be0c_40ec99d1f8c0row2_col0\" class=\"data row2 col0\" >int64</td>\n",
       "            </tr>\n",
       "            <tr>\n",
       "                        <th id=\"T_b80c43c0_49da_11eb_be0c_40ec99d1f8c0level0_row3\" class=\"row_heading level0 row3\" >Region</th>\n",
       "                        <td id=\"T_b80c43c0_49da_11eb_be0c_40ec99d1f8c0row3_col0\" class=\"data row3 col0\" >object</td>\n",
       "            </tr>\n",
       "    </tbody></table>"
      ],
      "text/plain": [
       "<pandas.io.formats.style.Styler at 0x1f05975bd30>"
      ]
     },
     "metadata": {},
     "output_type": "display_data"
    }
   ],
   "source": [
    "##\n",
    "## Import orders.csv\n",
    "## a. parse Tdate as a date\n",
    "##\n",
    "file = 'orders.csv'\n",
    "##\n",
    "df_orders = pd.read_csv(path + 'orders.csv', parse_dates=True)\n",
    "import_view(df)"
   ]
  },
  {
   "cell_type": "code",
   "execution_count": null,
   "metadata": {},
   "outputs": [],
   "source": []
  }
 ],
 "metadata": {
  "kernelspec": {
   "display_name": "Python 3",
   "language": "python",
   "name": "python3"
  },
  "language_info": {
   "codemirror_mode": {
    "name": "ipython",
    "version": 3
   },
   "file_extension": ".py",
   "mimetype": "text/x-python",
   "name": "python",
   "nbconvert_exporter": "python",
   "pygments_lexer": "ipython3",
   "version": "3.8.5"
  }
 },
 "nbformat": 4,
 "nbformat_minor": 4
}
