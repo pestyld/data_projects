{
 "cells": [
  {
   "cell_type": "code",
   "execution_count": 3,
   "id": "94c5c11d-afa5-4c92-8167-dcabf7154a05",
   "metadata": {},
   "outputs": [],
   "source": [
    "import pandas as pd\n",
    "import numpy as np\n",
    "import matplotlib.pyplot as plt"
   ]
  },
  {
   "cell_type": "markdown",
   "id": "b5e43048-e228-4cca-a6f0-36aebf0e3936",
   "metadata": {},
   "source": [
    "## Data"
   ]
  },
  {
   "cell_type": "code",
   "execution_count": 11,
   "id": "53f9ba76-2b0f-47a3-b45b-c1dbd0c0e406",
   "metadata": {},
   "outputs": [
    {
     "data": {
      "text/html": [
       "<div>\n",
       "<style scoped>\n",
       "    .dataframe tbody tr th:only-of-type {\n",
       "        vertical-align: middle;\n",
       "    }\n",
       "\n",
       "    .dataframe tbody tr th {\n",
       "        vertical-align: top;\n",
       "    }\n",
       "\n",
       "    .dataframe thead th {\n",
       "        text-align: right;\n",
       "    }\n",
       "</style>\n",
       "<table border=\"1\" class=\"dataframe\">\n",
       "  <thead>\n",
       "    <tr style=\"text-align: right;\">\n",
       "      <th></th>\n",
       "      <th>Tier</th>\n",
       "      <th>NumAccounts</th>\n",
       "      <th>Revenue</th>\n",
       "    </tr>\n",
       "  </thead>\n",
       "  <tbody>\n",
       "    <tr>\n",
       "      <th>0</th>\n",
       "      <td>A</td>\n",
       "      <td>77</td>\n",
       "      <td>4.7</td>\n",
       "    </tr>\n",
       "    <tr>\n",
       "      <th>1</th>\n",
       "      <td>A+</td>\n",
       "      <td>19</td>\n",
       "      <td>3.9</td>\n",
       "    </tr>\n",
       "    <tr>\n",
       "      <th>2</th>\n",
       "      <td>B</td>\n",
       "      <td>338</td>\n",
       "      <td>6.0</td>\n",
       "    </tr>\n",
       "    <tr>\n",
       "      <th>3</th>\n",
       "      <td>C</td>\n",
       "      <td>425</td>\n",
       "      <td>2.8</td>\n",
       "    </tr>\n",
       "    <tr>\n",
       "      <th>4</th>\n",
       "      <td>D</td>\n",
       "      <td>24</td>\n",
       "      <td>0.4</td>\n",
       "    </tr>\n",
       "    <tr>\n",
       "      <th>5</th>\n",
       "      <td>All other</td>\n",
       "      <td>205</td>\n",
       "      <td>0.9</td>\n",
       "    </tr>\n",
       "  </tbody>\n",
       "</table>\n",
       "</div>"
      ],
      "text/plain": [
       "        Tier  NumAccounts  Revenue\n",
       "0          A           77      4.7\n",
       "1         A+           19      3.9\n",
       "2          B          338      6.0\n",
       "3          C          425      2.8\n",
       "4          D           24      0.4\n",
       "5  All other          205      0.9"
      ]
     },
     "execution_count": 11,
     "metadata": {},
     "output_type": "execute_result"
    }
   ],
   "source": [
    "data = {\n",
    "    'Tier':['A','A+','B','C','D','All other'],\n",
    "    'NumAccounts':[77,19,338, 425, 24, 205],\n",
    "    'Revenue':[4.7, 3.9, 6, 2.8, .4,.9],\n",
    "}\n",
    "df_raw = pd.DataFrame(data)\n",
    "df_raw"
   ]
  },
  {
   "cell_type": "code",
   "execution_count": 32,
   "id": "19cf1916-9dae-4454-8de2-ce35724336d9",
   "metadata": {},
   "outputs": [
    {
     "data": {
      "text/html": [
       "<div>\n",
       "<style scoped>\n",
       "    .dataframe tbody tr th:only-of-type {\n",
       "        vertical-align: middle;\n",
       "    }\n",
       "\n",
       "    .dataframe tbody tr th {\n",
       "        vertical-align: top;\n",
       "    }\n",
       "\n",
       "    .dataframe thead th {\n",
       "        text-align: right;\n",
       "    }\n",
       "</style>\n",
       "<table border=\"1\" class=\"dataframe\">\n",
       "  <thead>\n",
       "    <tr style=\"text-align: right;\">\n",
       "      <th></th>\n",
       "      <th>Tier</th>\n",
       "      <th>NumAccounts</th>\n",
       "      <th>pctAccount</th>\n",
       "      <th>Revenue</th>\n",
       "      <th>pctRevenue</th>\n",
       "    </tr>\n",
       "  </thead>\n",
       "  <tbody>\n",
       "    <tr>\n",
       "      <th>0</th>\n",
       "      <td>A</td>\n",
       "      <td>77</td>\n",
       "      <td>7.0</td>\n",
       "      <td>4.7</td>\n",
       "      <td>25.0</td>\n",
       "    </tr>\n",
       "    <tr>\n",
       "      <th>1</th>\n",
       "      <td>A+</td>\n",
       "      <td>19</td>\n",
       "      <td>2.0</td>\n",
       "      <td>3.9</td>\n",
       "      <td>21.0</td>\n",
       "    </tr>\n",
       "    <tr>\n",
       "      <th>2</th>\n",
       "      <td>B</td>\n",
       "      <td>338</td>\n",
       "      <td>31.0</td>\n",
       "      <td>6.0</td>\n",
       "      <td>32.0</td>\n",
       "    </tr>\n",
       "    <tr>\n",
       "      <th>3</th>\n",
       "      <td>C</td>\n",
       "      <td>425</td>\n",
       "      <td>39.0</td>\n",
       "      <td>2.8</td>\n",
       "      <td>15.0</td>\n",
       "    </tr>\n",
       "    <tr>\n",
       "      <th>4</th>\n",
       "      <td>D</td>\n",
       "      <td>24</td>\n",
       "      <td>2.0</td>\n",
       "      <td>0.4</td>\n",
       "      <td>2.0</td>\n",
       "    </tr>\n",
       "    <tr>\n",
       "      <th>5</th>\n",
       "      <td>All other</td>\n",
       "      <td>205</td>\n",
       "      <td>19.0</td>\n",
       "      <td>0.9</td>\n",
       "      <td>5.0</td>\n",
       "    </tr>\n",
       "  </tbody>\n",
       "</table>\n",
       "</div>"
      ],
      "text/plain": [
       "        Tier  NumAccounts  pctAccount  Revenue  pctRevenue\n",
       "0          A           77         7.0      4.7        25.0\n",
       "1         A+           19         2.0      3.9        21.0\n",
       "2          B          338        31.0      6.0        32.0\n",
       "3          C          425        39.0      2.8        15.0\n",
       "4          D           24         2.0      0.4         2.0\n",
       "5  All other          205        19.0      0.9         5.0"
      ]
     },
     "execution_count": 32,
     "metadata": {},
     "output_type": "execute_result"
    }
   ],
   "source": [
    "totalAccounts = df_raw.NumAccounts.sum()\n",
    "totalRevenue = df_raw.Revenue.sum()\n",
    "\n",
    "(df_raw\n",
    " .assign(\n",
    "     pctAccount = round((df_raw.NumAccounts / totalAccounts)*100),\n",
    "     pctRevenue = round((df_raw.Revenue / totalRevenue)*100)\n",
    "  )\n",
    " .reindex(columns = ['Tier','NumAccounts','pctAccount','Revenue','pctRevenue'])\n",
    " .astype({'Tier':'category'})\n",
    ")"
   ]
  },
  {
   "cell_type": "code",
   "execution_count": 23,
   "id": "07f161ef-36af-4ac8-9dd5-8150d7573e04",
   "metadata": {},
   "outputs": [
    {
     "data": {
      "text/plain": [
       "['A', 'A+', 'B', 'C', 'D', 'All other']\n",
       "Categories (6, object): ['A+' < 'A' < 'B' < 'C' < 'D' < 'All other']"
      ]
     },
     "execution_count": 23,
     "metadata": {},
     "output_type": "execute_result"
    }
   ],
   "source": [
    "pd.Categorical(df_raw.Tier, \n",
    "               ordered=True,\n",
    "               categories=['A+','A','B','C','D','All other'])"
   ]
  },
  {
   "cell_type": "code",
   "execution_count": 28,
   "id": "abe69b15-1bdf-4cd4-9667-74111ab4c66a",
   "metadata": {},
   "outputs": [
    {
     "data": {
      "text/plain": [
       "Tier           category\n",
       "NumAccounts       int64\n",
       "Revenue         float64\n",
       "dtype: object"
      ]
     },
     "execution_count": 28,
     "metadata": {},
     "output_type": "execute_result"
    }
   ],
   "source": []
  },
  {
   "cell_type": "code",
   "execution_count": 29,
   "id": "41c9548b-f93d-4d25-8bc1-be7e8876cd73",
   "metadata": {},
   "outputs": [
    {
     "data": {
      "text/plain": [
       "Tier            object\n",
       "NumAccounts      int64\n",
       "Revenue        float64\n",
       "dtype: object"
      ]
     },
     "execution_count": 29,
     "metadata": {},
     "output_type": "execute_result"
    }
   ],
   "source": [
    "df_raw.dtypes"
   ]
  },
  {
   "cell_type": "code",
   "execution_count": null,
   "id": "4382357b-7ebd-4f4b-828b-c21ea004c041",
   "metadata": {},
   "outputs": [],
   "source": []
  }
 ],
 "metadata": {
  "kernelspec": {
   "display_name": "Python 3",
   "language": "python",
   "name": "python3"
  },
  "language_info": {
   "codemirror_mode": {
    "name": "ipython",
    "version": 3
   },
   "file_extension": ".py",
   "mimetype": "text/x-python",
   "name": "python",
   "nbconvert_exporter": "python",
   "pygments_lexer": "ipython3",
   "version": "3.8.8"
  }
 },
 "nbformat": 4,
 "nbformat_minor": 5
}
