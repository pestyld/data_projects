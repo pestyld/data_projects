{
 "cells": [
  {
   "cell_type": "code",
   "execution_count": 58,
   "id": "94c5c11d-afa5-4c92-8167-dcabf7154a05",
   "metadata": {},
   "outputs": [],
   "source": [
    "import pandas as pd\n",
    "import numpy as np\n",
    "import matplotlib.pyplot as plt"
   ]
  },
  {
   "cell_type": "markdown",
   "id": "b5e43048-e228-4cca-a6f0-36aebf0e3936",
   "metadata": {},
   "source": [
    "## Data"
   ]
  },
  {
   "cell_type": "code",
   "execution_count": 59,
   "id": "53f9ba76-2b0f-47a3-b45b-c1dbd0c0e406",
   "metadata": {},
   "outputs": [
    {
     "data": {
      "text/html": [
       "<div>\n",
       "<style scoped>\n",
       "    .dataframe tbody tr th:only-of-type {\n",
       "        vertical-align: middle;\n",
       "    }\n",
       "\n",
       "    .dataframe tbody tr th {\n",
       "        vertical-align: top;\n",
       "    }\n",
       "\n",
       "    .dataframe thead th {\n",
       "        text-align: right;\n",
       "    }\n",
       "</style>\n",
       "<table border=\"1\" class=\"dataframe\">\n",
       "  <thead>\n",
       "    <tr style=\"text-align: right;\">\n",
       "      <th></th>\n",
       "      <th>Tier</th>\n",
       "      <th>NumAccounts</th>\n",
       "      <th>Revenue</th>\n",
       "    </tr>\n",
       "  </thead>\n",
       "  <tbody>\n",
       "    <tr>\n",
       "      <th>0</th>\n",
       "      <td>A</td>\n",
       "      <td>77</td>\n",
       "      <td>4.7</td>\n",
       "    </tr>\n",
       "    <tr>\n",
       "      <th>1</th>\n",
       "      <td>A+</td>\n",
       "      <td>19</td>\n",
       "      <td>3.9</td>\n",
       "    </tr>\n",
       "    <tr>\n",
       "      <th>2</th>\n",
       "      <td>B</td>\n",
       "      <td>338</td>\n",
       "      <td>6.0</td>\n",
       "    </tr>\n",
       "    <tr>\n",
       "      <th>3</th>\n",
       "      <td>C</td>\n",
       "      <td>425</td>\n",
       "      <td>2.8</td>\n",
       "    </tr>\n",
       "    <tr>\n",
       "      <th>4</th>\n",
       "      <td>D</td>\n",
       "      <td>24</td>\n",
       "      <td>0.4</td>\n",
       "    </tr>\n",
       "    <tr>\n",
       "      <th>5</th>\n",
       "      <td>All other</td>\n",
       "      <td>205</td>\n",
       "      <td>0.9</td>\n",
       "    </tr>\n",
       "  </tbody>\n",
       "</table>\n",
       "</div>"
      ],
      "text/plain": [
       "        Tier  NumAccounts  Revenue\n",
       "0          A           77      4.7\n",
       "1         A+           19      3.9\n",
       "2          B          338      6.0\n",
       "3          C          425      2.8\n",
       "4          D           24      0.4\n",
       "5  All other          205      0.9"
      ]
     },
     "execution_count": 59,
     "metadata": {},
     "output_type": "execute_result"
    }
   ],
   "source": [
    "data = {\n",
    "    'Tier':['A','A+','B','C','D','All other'],\n",
    "    'NumAccounts':[77,19,338, 425, 24, 205],\n",
    "    'Revenue':[4.7, 3.9, 6, 2.8, .4,.9],\n",
    "}\n",
    "df_raw = pd.DataFrame(data)\n",
    "df_raw"
   ]
  },
  {
   "cell_type": "code",
   "execution_count": 60,
   "id": "19cf1916-9dae-4454-8de2-ce35724336d9",
   "metadata": {},
   "outputs": [],
   "source": [
    "totalAccounts = df_raw.NumAccounts.sum()\n",
    "totalRevenue = df_raw.Revenue.sum()\n",
    "\n",
    "df = (df_raw\n",
    "      .assign(\n",
    "          pctAccount = round((df_raw.NumAccounts / totalAccounts)*100),\n",
    "          pctRevenue = round((df_raw.Revenue / totalRevenue)*100)\n",
    "     )\n",
    "      .reindex(columns = ['Tier','NumAccounts','pctAccount','Revenue','pctRevenue'])\n",
    "      .astype({'Tier':'category'})\n",
    ")"
   ]
  },
  {
   "cell_type": "code",
   "execution_count": 61,
   "id": "4382357b-7ebd-4f4b-828b-c21ea004c041",
   "metadata": {},
   "outputs": [
    {
     "data": {
      "text/html": [
       "<div>\n",
       "<style scoped>\n",
       "    .dataframe tbody tr th:only-of-type {\n",
       "        vertical-align: middle;\n",
       "    }\n",
       "\n",
       "    .dataframe tbody tr th {\n",
       "        vertical-align: top;\n",
       "    }\n",
       "\n",
       "    .dataframe thead th {\n",
       "        text-align: right;\n",
       "    }\n",
       "</style>\n",
       "<table border=\"1\" class=\"dataframe\">\n",
       "  <thead>\n",
       "    <tr style=\"text-align: right;\">\n",
       "      <th></th>\n",
       "      <th>Tier</th>\n",
       "      <th>NumAccounts</th>\n",
       "      <th>pctAccount</th>\n",
       "      <th>Revenue</th>\n",
       "      <th>pctRevenue</th>\n",
       "    </tr>\n",
       "  </thead>\n",
       "  <tbody>\n",
       "    <tr>\n",
       "      <th>0</th>\n",
       "      <td>A</td>\n",
       "      <td>77</td>\n",
       "      <td>7.0</td>\n",
       "      <td>4.7</td>\n",
       "      <td>25.0</td>\n",
       "    </tr>\n",
       "    <tr>\n",
       "      <th>1</th>\n",
       "      <td>A+</td>\n",
       "      <td>19</td>\n",
       "      <td>2.0</td>\n",
       "      <td>3.9</td>\n",
       "      <td>21.0</td>\n",
       "    </tr>\n",
       "    <tr>\n",
       "      <th>2</th>\n",
       "      <td>B</td>\n",
       "      <td>338</td>\n",
       "      <td>31.0</td>\n",
       "      <td>6.0</td>\n",
       "      <td>32.0</td>\n",
       "    </tr>\n",
       "    <tr>\n",
       "      <th>3</th>\n",
       "      <td>C</td>\n",
       "      <td>425</td>\n",
       "      <td>39.0</td>\n",
       "      <td>2.8</td>\n",
       "      <td>15.0</td>\n",
       "    </tr>\n",
       "    <tr>\n",
       "      <th>4</th>\n",
       "      <td>D</td>\n",
       "      <td>24</td>\n",
       "      <td>2.0</td>\n",
       "      <td>0.4</td>\n",
       "      <td>2.0</td>\n",
       "    </tr>\n",
       "    <tr>\n",
       "      <th>5</th>\n",
       "      <td>All other</td>\n",
       "      <td>205</td>\n",
       "      <td>19.0</td>\n",
       "      <td>0.9</td>\n",
       "      <td>5.0</td>\n",
       "    </tr>\n",
       "  </tbody>\n",
       "</table>\n",
       "</div>"
      ],
      "text/plain": [
       "        Tier  NumAccounts  pctAccount  Revenue  pctRevenue\n",
       "0          A           77         7.0      4.7        25.0\n",
       "1         A+           19         2.0      3.9        21.0\n",
       "2          B          338        31.0      6.0        32.0\n",
       "3          C          425        39.0      2.8        15.0\n",
       "4          D           24         2.0      0.4         2.0\n",
       "5  All other          205        19.0      0.9         5.0"
      ]
     },
     "execution_count": 61,
     "metadata": {},
     "output_type": "execute_result"
    }
   ],
   "source": [
    "df"
   ]
  },
  {
   "cell_type": "code",
   "execution_count": 62,
   "id": "96af2d46-795d-4e7f-87c4-e7dca60e0243",
   "metadata": {},
   "outputs": [
    {
     "data": {
      "text/html": [
       "<style  type=\"text/css\" >\n",
       "#T_443b7_row0_col1{\n",
       "            width:  10em;\n",
       "             height:  80%;\n",
       "            background:  linear-gradient(90deg,#d65f5f 14.3%, transparent 14.3%);\n",
       "        }#T_443b7_row1_col1{\n",
       "            width:  10em;\n",
       "             height:  80%;\n",
       "        }#T_443b7_row2_col1{\n",
       "            width:  10em;\n",
       "             height:  80%;\n",
       "            background:  linear-gradient(90deg,#d65f5f 78.6%, transparent 78.6%);\n",
       "        }#T_443b7_row3_col1{\n",
       "            width:  10em;\n",
       "             height:  80%;\n",
       "            background:  linear-gradient(90deg,#d65f5f 100.0%, transparent 100.0%);\n",
       "        }#T_443b7_row4_col1{\n",
       "            width:  10em;\n",
       "             height:  80%;\n",
       "            background:  linear-gradient(90deg,#d65f5f 1.2%, transparent 1.2%);\n",
       "        }#T_443b7_row5_col1{\n",
       "            width:  10em;\n",
       "             height:  80%;\n",
       "            background:  linear-gradient(90deg,#d65f5f 45.8%, transparent 45.8%);\n",
       "        }</style><table id=\"T_443b7_\" ><thead>    <tr>        <th class=\"blank level0\" ></th>        <th class=\"col_heading level0 col0\" >Tier</th>        <th class=\"col_heading level0 col1\" >NumAccounts</th>        <th class=\"col_heading level0 col2\" >pctAccount</th>        <th class=\"col_heading level0 col3\" >Revenue</th>        <th class=\"col_heading level0 col4\" >pctRevenue</th>    </tr></thead><tbody>\n",
       "                <tr>\n",
       "                        <th id=\"T_443b7_level0_row0\" class=\"row_heading level0 row0\" >0</th>\n",
       "                        <td id=\"T_443b7_row0_col0\" class=\"data row0 col0\" >A</td>\n",
       "                        <td id=\"T_443b7_row0_col1\" class=\"data row0 col1\" >77</td>\n",
       "                        <td id=\"T_443b7_row0_col2\" class=\"data row0 col2\" >7.000000</td>\n",
       "                        <td id=\"T_443b7_row0_col3\" class=\"data row0 col3\" >4.700000</td>\n",
       "                        <td id=\"T_443b7_row0_col4\" class=\"data row0 col4\" >25.000000</td>\n",
       "            </tr>\n",
       "            <tr>\n",
       "                        <th id=\"T_443b7_level0_row1\" class=\"row_heading level0 row1\" >1</th>\n",
       "                        <td id=\"T_443b7_row1_col0\" class=\"data row1 col0\" >A+</td>\n",
       "                        <td id=\"T_443b7_row1_col1\" class=\"data row1 col1\" >19</td>\n",
       "                        <td id=\"T_443b7_row1_col2\" class=\"data row1 col2\" >2.000000</td>\n",
       "                        <td id=\"T_443b7_row1_col3\" class=\"data row1 col3\" >3.900000</td>\n",
       "                        <td id=\"T_443b7_row1_col4\" class=\"data row1 col4\" >21.000000</td>\n",
       "            </tr>\n",
       "            <tr>\n",
       "                        <th id=\"T_443b7_level0_row2\" class=\"row_heading level0 row2\" >2</th>\n",
       "                        <td id=\"T_443b7_row2_col0\" class=\"data row2 col0\" >B</td>\n",
       "                        <td id=\"T_443b7_row2_col1\" class=\"data row2 col1\" >338</td>\n",
       "                        <td id=\"T_443b7_row2_col2\" class=\"data row2 col2\" >31.000000</td>\n",
       "                        <td id=\"T_443b7_row2_col3\" class=\"data row2 col3\" >6.000000</td>\n",
       "                        <td id=\"T_443b7_row2_col4\" class=\"data row2 col4\" >32.000000</td>\n",
       "            </tr>\n",
       "            <tr>\n",
       "                        <th id=\"T_443b7_level0_row3\" class=\"row_heading level0 row3\" >3</th>\n",
       "                        <td id=\"T_443b7_row3_col0\" class=\"data row3 col0\" >C</td>\n",
       "                        <td id=\"T_443b7_row3_col1\" class=\"data row3 col1\" >425</td>\n",
       "                        <td id=\"T_443b7_row3_col2\" class=\"data row3 col2\" >39.000000</td>\n",
       "                        <td id=\"T_443b7_row3_col3\" class=\"data row3 col3\" >2.800000</td>\n",
       "                        <td id=\"T_443b7_row3_col4\" class=\"data row3 col4\" >15.000000</td>\n",
       "            </tr>\n",
       "            <tr>\n",
       "                        <th id=\"T_443b7_level0_row4\" class=\"row_heading level0 row4\" >4</th>\n",
       "                        <td id=\"T_443b7_row4_col0\" class=\"data row4 col0\" >D</td>\n",
       "                        <td id=\"T_443b7_row4_col1\" class=\"data row4 col1\" >24</td>\n",
       "                        <td id=\"T_443b7_row4_col2\" class=\"data row4 col2\" >2.000000</td>\n",
       "                        <td id=\"T_443b7_row4_col3\" class=\"data row4 col3\" >0.400000</td>\n",
       "                        <td id=\"T_443b7_row4_col4\" class=\"data row4 col4\" >2.000000</td>\n",
       "            </tr>\n",
       "            <tr>\n",
       "                        <th id=\"T_443b7_level0_row5\" class=\"row_heading level0 row5\" >5</th>\n",
       "                        <td id=\"T_443b7_row5_col0\" class=\"data row5 col0\" >All other</td>\n",
       "                        <td id=\"T_443b7_row5_col1\" class=\"data row5 col1\" >205</td>\n",
       "                        <td id=\"T_443b7_row5_col2\" class=\"data row5 col2\" >19.000000</td>\n",
       "                        <td id=\"T_443b7_row5_col3\" class=\"data row5 col3\" >0.900000</td>\n",
       "                        <td id=\"T_443b7_row5_col4\" class=\"data row5 col4\" >5.000000</td>\n",
       "            </tr>\n",
       "    </tbody></table>"
      ],
      "text/plain": [
       "<pandas.io.formats.style.Styler at 0x234e23095b0>"
      ]
     },
     "execution_count": 62,
     "metadata": {},
     "output_type": "execute_result"
    }
   ],
   "source": [
    "df.style.bar(subset=['NumAccounts'])"
   ]
  },
  {
   "cell_type": "code",
   "execution_count": 63,
   "id": "4693043d-cb0c-442c-a6b3-58a5afb9c6db",
   "metadata": {},
   "outputs": [
    {
     "data": {
      "text/plain": [
       "Tier           category\n",
       "NumAccounts       int64\n",
       "pctAccount      float64\n",
       "Revenue         float64\n",
       "pctRevenue      float64\n",
       "dtype: object"
      ]
     },
     "execution_count": 63,
     "metadata": {},
     "output_type": "execute_result"
    }
   ],
   "source": [
    "df.dtypes"
   ]
  },
  {
   "cell_type": "code",
   "execution_count": null,
   "id": "f00abf5c-b3c0-4de1-8c15-afd9de6982fd",
   "metadata": {},
   "outputs": [],
   "source": []
  }
 ],
 "metadata": {
  "kernelspec": {
   "display_name": "Python 3",
   "language": "python",
   "name": "python3"
  },
  "language_info": {
   "codemirror_mode": {
    "name": "ipython",
    "version": 3
   },
   "file_extension": ".py",
   "mimetype": "text/x-python",
   "name": "python",
   "nbconvert_exporter": "python",
   "pygments_lexer": "ipython3",
   "version": "3.8.8"
  }
 },
 "nbformat": 4,
 "nbformat_minor": 5
}
