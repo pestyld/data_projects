{
 "cells": [
  {
   "cell_type": "code",
   "execution_count": 65,
   "id": "9fc1f85f-259d-4c99-b06b-c83b46518660",
   "metadata": {
    "tags": []
   },
   "outputs": [],
   "source": [
    "import numpy as np\n",
    "import pandas as pd\n",
    "import matplotlib.pyplot as plt\n",
    "import seaborn as sns\n",
    "import os\n",
    "\n",
    "pd.set_option('display.max_columns', None)"
   ]
  },
  {
   "cell_type": "code",
   "execution_count": 66,
   "id": "178ed3d9-07c9-4d5d-8de6-0340c2188076",
   "metadata": {
    "tags": []
   },
   "outputs": [],
   "source": [
    "# use index_col = 0 to use the first column as the index.\n",
    "path = r'https://github.com/pestyld/data/raw/main/diamonds.csv'\n",
    "\n",
    "df= pd.read_csv(path, index_col = [0])"
   ]
  },
  {
   "cell_type": "code",
   "execution_count": 90,
   "id": "98d06226-5b42-4a29-8b0c-8bf00a82361e",
   "metadata": {
    "tags": []
   },
   "outputs": [
    {
     "data": {
      "text/plain": [
       "carat       0\n",
       "cut         0\n",
       "color       0\n",
       "clarity     0\n",
       "depth       0\n",
       "table       0\n",
       "price       0\n",
       "x           8\n",
       "y           7\n",
       "z          20\n",
       "dtype: int64"
      ]
     },
     "execution_count": 90,
     "metadata": {},
     "output_type": "execute_result"
    }
   ],
   "source": [
    "df.isin([0]).sum()"
   ]
  },
  {
   "cell_type": "code",
   "execution_count": 104,
   "id": "0b8011c0-4075-4009-9b14-6af7b8c9b5b7",
   "metadata": {
    "tags": []
   },
   "outputs": [],
   "source": [
    "all_0_values = df.query('(x == 0) and (y == 0) and (z == 0)').index.to_list()\n",
    "\n",
    "x = (\n",
    "    df\n",
    "    .query('~(x == 0 and y == 0 and z ==0)')        ## Filter out rows where x = 0, y = 0 and z = 0 (weird when using 3 ands in query method.\n",
    "    .assign(\n",
    "        x = lambda df: df.x.replace(0, df.x.median()),           ## Replace 0 values with the median for each column (x/y/z)\n",
    "        y = lambda df: df.y.replace(0, df.y.median()),\n",
    "        z = lambda df: df.z.replace(0, df.z.median())\n",
    "    )\n",
    ")"
   ]
  },
  {
   "cell_type": "code",
   "execution_count": 105,
   "id": "f06a30e3-aff5-42c7-8ae3-68e9cda9131d",
   "metadata": {
    "tags": []
   },
   "outputs": [
    {
     "data": {
      "text/plain": [
       "(53933, 10)"
      ]
     },
     "execution_count": 105,
     "metadata": {},
     "output_type": "execute_result"
    }
   ],
   "source": [
    "x.shape"
   ]
  },
  {
   "cell_type": "code",
   "execution_count": 106,
   "id": "50d73df9-f772-487c-9276-04ec7092f4de",
   "metadata": {
    "tags": []
   },
   "outputs": [
    {
     "data": {
      "text/plain": [
       "carat      0\n",
       "cut        0\n",
       "color      0\n",
       "clarity    0\n",
       "depth      0\n",
       "table      0\n",
       "price      0\n",
       "x          0\n",
       "y          0\n",
       "z          0\n",
       "dtype: int64"
      ]
     },
     "execution_count": 106,
     "metadata": {},
     "output_type": "execute_result"
    }
   ],
   "source": [
    "x.isin([0]).sum()"
   ]
  },
  {
   "cell_type": "code",
   "execution_count": null,
   "id": "e302d924-9b5b-4d1c-9b93-6f00683d24c3",
   "metadata": {},
   "outputs": [],
   "source": []
  }
 ],
 "metadata": {
  "kernelspec": {
   "display_name": "Python 3 (ipykernel)",
   "language": "python",
   "name": "python3"
  },
  "language_info": {
   "codemirror_mode": {
    "name": "ipython",
    "version": 3
   },
   "file_extension": ".py",
   "mimetype": "text/x-python",
   "name": "python",
   "nbconvert_exporter": "python",
   "pygments_lexer": "ipython3",
   "version": "3.8.16"
  }
 },
 "nbformat": 4,
 "nbformat_minor": 5
}
