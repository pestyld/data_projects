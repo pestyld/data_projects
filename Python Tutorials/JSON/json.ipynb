{
 "cells": [
  {
   "cell_type": "code",
   "execution_count": 30,
   "id": "9cbccfee-21ba-4ce0-9213-dfaec414de91",
   "metadata": {},
   "outputs": [],
   "source": [
    "import json\n",
    "import requests"
   ]
  },
  {
   "cell_type": "code",
   "execution_count": 4,
   "id": "51b0d588-0882-4fce-8458-cb6cf7d0e5d5",
   "metadata": {},
   "outputs": [],
   "source": [
    "people_string = '''\n",
    "{\n",
    "    \"people\": [\n",
    "      {\n",
    "       \"name\": \"John Smith\",\n",
    "       \"phone\": \"615-555-7164\",\n",
    "       \"emails\": [\"johnsmith@bogusemail.com\", \"john.smith@work-place.com\"],\n",
    "       \"has_license\": false\n",
    "      },\n",
    "      {\n",
    "       \"name\": \"Jane Doe\",\n",
    "       \"phone\": \"560-555-5153\",\n",
    "       \"emails\": null,\n",
    "       \"has_license\": true    \n",
    "      }\n",
    "    ]\n",
    "}\n",
    "'''"
   ]
  },
  {
   "cell_type": "code",
   "execution_count": 7,
   "id": "e74a82e3-25d2-4b83-b20c-11e0e07ef63a",
   "metadata": {},
   "outputs": [
    {
     "name": "stdout",
     "output_type": "stream",
     "text": [
      "\n",
      "{\n",
      "    \"people\": [\n",
      "      {\n",
      "       \"name\": \"John Smith\",\n",
      "       \"phone\": \"615-555-7164\",\n",
      "       \"emails\": [\"johnsmith@bogusemail.com\", \"john.smith@work-place.com\"],\n",
      "       \"has_license\": false\n",
      "      },\n",
      "      {\n",
      "       \"name\": \"Jane Doe\",\n",
      "       \"phone\": \"560-555-5153\",\n",
      "       \"emails\": null,\n",
      "       \"has_license\": true    \n",
      "      }\n",
      "    ]\n",
      "}\n",
      "\n"
     ]
    }
   ],
   "source": [
    "print(people_string)"
   ]
  },
  {
   "cell_type": "code",
   "execution_count": 8,
   "id": "d4db3a15-444a-47d0-bf13-df855b4a92cc",
   "metadata": {},
   "outputs": [
    {
     "data": {
      "text/plain": [
       "str"
      ]
     },
     "execution_count": 8,
     "metadata": {},
     "output_type": "execute_result"
    }
   ],
   "source": [
    "type(people_string)"
   ]
  },
  {
   "cell_type": "markdown",
   "id": "d902e724-761f-4693-854a-7820cb77f1a9",
   "metadata": {},
   "source": [
    "## Load a JSON String"
   ]
  },
  {
   "cell_type": "code",
   "execution_count": 9,
   "id": "6549142c-07f2-483a-a3d5-149f9fb4404e",
   "metadata": {},
   "outputs": [],
   "source": [
    "o = json.loads(people_string)"
   ]
  },
  {
   "cell_type": "code",
   "execution_count": 10,
   "id": "1895d8d8-3b77-45bb-af45-7de31ad570c3",
   "metadata": {},
   "outputs": [
    {
     "data": {
      "text/plain": [
       "dict"
      ]
     },
     "execution_count": 10,
     "metadata": {},
     "output_type": "execute_result"
    }
   ],
   "source": [
    "type(o)"
   ]
  },
  {
   "cell_type": "code",
   "execution_count": 11,
   "id": "b93a13eb-4a49-4f5c-b6ea-70d04b6d44a8",
   "metadata": {},
   "outputs": [
    {
     "name": "stdout",
     "output_type": "stream",
     "text": [
      "{'people': [{'name': 'John Smith', 'phone': '615-555-7164', 'emails': ['johnsmith@bogusemail.com', 'john.smith@work-place.com'], 'has_license': False}, {'name': 'Jane Doe', 'phone': '560-555-5153', 'emails': None, 'has_license': True}]}\n"
     ]
    }
   ],
   "source": [
    "print(o)"
   ]
  },
  {
   "cell_type": "code",
   "execution_count": 13,
   "id": "ee863066-17e3-42b9-a8c1-912443ac4622",
   "metadata": {},
   "outputs": [
    {
     "data": {
      "text/plain": [
       "dict"
      ]
     },
     "execution_count": 13,
     "metadata": {},
     "output_type": "execute_result"
    }
   ],
   "source": [
    "type(o)"
   ]
  },
  {
   "cell_type": "code",
   "execution_count": 12,
   "id": "ce385c58-0d87-4878-aa1e-c9f2c3bd9146",
   "metadata": {},
   "outputs": [
    {
     "data": {
      "text/plain": [
       "list"
      ]
     },
     "execution_count": 12,
     "metadata": {},
     "output_type": "execute_result"
    }
   ],
   "source": [
    "type(o['people'])"
   ]
  },
  {
   "cell_type": "markdown",
   "id": "80b07d5d-9abf-4c0c-9c09-fea2e15bd12f",
   "metadata": {},
   "source": [
    "## Access a JSON Dictionary"
   ]
  },
  {
   "cell_type": "code",
   "execution_count": 14,
   "id": "3cb2b6a4-9d6c-43ab-aaa7-0870c22f0691",
   "metadata": {},
   "outputs": [
    {
     "data": {
      "text/plain": [
       "[{'name': 'John Smith',\n",
       "  'phone': '615-555-7164',\n",
       "  'emails': ['johnsmith@bogusemail.com', 'john.smith@work-place.com'],\n",
       "  'has_license': False},\n",
       " {'name': 'Jane Doe',\n",
       "  'phone': '560-555-5153',\n",
       "  'emails': None,\n",
       "  'has_license': True}]"
      ]
     },
     "execution_count": 14,
     "metadata": {},
     "output_type": "execute_result"
    }
   ],
   "source": [
    "o['people']"
   ]
  },
  {
   "cell_type": "code",
   "execution_count": 15,
   "id": "6a02a033-b357-4825-a63e-427a7437bc13",
   "metadata": {},
   "outputs": [
    {
     "name": "stdout",
     "output_type": "stream",
     "text": [
      "{'name': 'John Smith', 'phone': '615-555-7164', 'emails': ['johnsmith@bogusemail.com', 'john.smith@work-place.com'], 'has_license': False}\n",
      "{'name': 'Jane Doe', 'phone': '560-555-5153', 'emails': None, 'has_license': True}\n"
     ]
    }
   ],
   "source": [
    "for person in o['people']:\n",
    "    print(person)"
   ]
  },
  {
   "cell_type": "code",
   "execution_count": 16,
   "id": "1e53827c-ee4d-4c81-bd65-f75d6261865d",
   "metadata": {},
   "outputs": [
    {
     "name": "stdout",
     "output_type": "stream",
     "text": [
      "John Smith\n",
      "Jane Doe\n"
     ]
    }
   ],
   "source": [
    "for person in o['people']:\n",
    "    print(person['name'])"
   ]
  },
  {
   "cell_type": "code",
   "execution_count": 17,
   "id": "ad313268-78cc-4d2a-a07a-de45c626e4de",
   "metadata": {},
   "outputs": [
    {
     "name": "stdout",
     "output_type": "stream",
     "text": [
      "{'name': 'John Smith', 'emails': ['johnsmith@bogusemail.com', 'john.smith@work-place.com'], 'has_license': False}\n",
      "{'name': 'Jane Doe', 'emails': None, 'has_license': True}\n"
     ]
    }
   ],
   "source": [
    "for person in o['people']:\n",
    "    del person['phone']\n",
    "    print(person)"
   ]
  },
  {
   "cell_type": "code",
   "execution_count": 18,
   "id": "5bf575d8-28f7-457a-8283-ff42bef19dec",
   "metadata": {},
   "outputs": [
    {
     "name": "stdout",
     "output_type": "stream",
     "text": [
      "{\n",
      "  \"people\": [\n",
      "    {\n",
      "      \"emails\": [\n",
      "        \"johnsmith@bogusemail.com\",\n",
      "        \"john.smith@work-place.com\"\n",
      "      ],\n",
      "      \"has_license\": false,\n",
      "      \"name\": \"John Smith\"\n",
      "    },\n",
      "    {\n",
      "      \"emails\": null,\n",
      "      \"has_license\": true,\n",
      "      \"name\": \"Jane Doe\"\n",
      "    }\n",
      "  ]\n",
      "}\n"
     ]
    }
   ],
   "source": [
    "new_string = json.dumps(o, indent=2, sort_keys=True)\n",
    "print(new_string)"
   ]
  },
  {
   "cell_type": "code",
   "execution_count": 19,
   "id": "1d400005-39a0-46c2-8285-3e432a76d616",
   "metadata": {},
   "outputs": [
    {
     "data": {
      "text/plain": [
       "str"
      ]
     },
     "execution_count": 19,
     "metadata": {},
     "output_type": "execute_result"
    }
   ],
   "source": [
    "type(new_string)"
   ]
  },
  {
   "cell_type": "markdown",
   "id": "bf664266-25e7-46be-aa0e-a74038c8967b",
   "metadata": {},
   "source": [
    "## Access a the STATES.JSON File"
   ]
  },
  {
   "cell_type": "code",
   "execution_count": 22,
   "id": "68d660bb-1f4d-4ffd-9085-520d96e508ab",
   "metadata": {},
   "outputs": [],
   "source": [
    "with open('states.json') as f:\n",
    "    data = json.load(f)"
   ]
  },
  {
   "cell_type": "code",
   "execution_count": 23,
   "id": "f03451f8-b5d5-4712-bf12-92d81a2d7db0",
   "metadata": {},
   "outputs": [
    {
     "data": {
      "text/plain": [
       "dict"
      ]
     },
     "execution_count": 23,
     "metadata": {},
     "output_type": "execute_result"
    }
   ],
   "source": [
    "type(data)"
   ]
  },
  {
   "cell_type": "code",
   "execution_count": 24,
   "id": "bcf04a9c-d2f8-483c-a3d6-db585b7b276f",
   "metadata": {},
   "outputs": [
    {
     "name": "stdout",
     "output_type": "stream",
     "text": [
      "Alabama AL\n",
      "Alaska AK\n",
      "Arizona AZ\n",
      "Arkansas AR\n",
      "California CA\n",
      "Colorado CO\n",
      "Connecticut CT\n",
      "Delaware DE\n",
      "Florida FL\n",
      "Georgia GA\n",
      "Hawaii HI\n",
      "Idaho ID\n",
      "Illinois IL\n",
      "Indiana IN\n",
      "Iowa IA\n",
      "Kansas KS\n",
      "Kentucky KY\n",
      "Louisiana LA\n",
      "Maine ME\n",
      "Maryland MD\n",
      "Massachusetts MA\n",
      "Michigan MI\n",
      "Minnesota MN\n",
      "Mississippi MS\n",
      "Missouri MO\n",
      "Montana MT\n",
      "Nebraska NE\n",
      "Nevada NV\n",
      "New Hampshire NH\n",
      "New Jersey NJ\n",
      "New Mexico NM\n",
      "New York NY\n",
      "North Carolina NC\n",
      "North Dakota ND\n",
      "Ohio OH\n",
      "Oklahoma OK\n",
      "Oregon OR\n",
      "Pennsylvania PA\n",
      "Rhode Island RI\n",
      "South Carolina SC\n",
      "South Dakota SD\n",
      "Tennessee TN\n",
      "Texas TX\n",
      "Utah UT\n",
      "Vermont VT\n",
      "Virginia VA\n",
      "Washington WA\n",
      "West Virginia WV\n",
      "Wisconsin WI\n",
      "Wyoming WY\n"
     ]
    }
   ],
   "source": [
    "for state in data['states']:\n",
    "    print(state['name'], state['abbreviation'])"
   ]
  },
  {
   "cell_type": "markdown",
   "id": "c63e319d-903b-41d2-83df-e1ca5133b3e6",
   "metadata": {},
   "source": [
    "## Delete area_codes"
   ]
  },
  {
   "cell_type": "code",
   "execution_count": 25,
   "id": "bf7ab5ab-6cb2-4518-a44a-62b33a22e92d",
   "metadata": {},
   "outputs": [],
   "source": [
    "for state in data['states']:\n",
    "    del state['area_codes']"
   ]
  },
  {
   "cell_type": "code",
   "execution_count": 26,
   "id": "eca023cd-f8be-4ce8-b41a-b7c334ca02f4",
   "metadata": {},
   "outputs": [
    {
     "data": {
      "text/plain": [
       "{'states': [{'name': 'Alabama', 'abbreviation': 'AL'},\n",
       "  {'name': 'Alaska', 'abbreviation': 'AK'},\n",
       "  {'name': 'Arizona', 'abbreviation': 'AZ'},\n",
       "  {'name': 'Arkansas', 'abbreviation': 'AR'},\n",
       "  {'name': 'California', 'abbreviation': 'CA'},\n",
       "  {'name': 'Colorado', 'abbreviation': 'CO'},\n",
       "  {'name': 'Connecticut', 'abbreviation': 'CT'},\n",
       "  {'name': 'Delaware', 'abbreviation': 'DE'},\n",
       "  {'name': 'Florida', 'abbreviation': 'FL'},\n",
       "  {'name': 'Georgia', 'abbreviation': 'GA'},\n",
       "  {'name': 'Hawaii', 'abbreviation': 'HI'},\n",
       "  {'name': 'Idaho', 'abbreviation': 'ID'},\n",
       "  {'name': 'Illinois', 'abbreviation': 'IL'},\n",
       "  {'name': 'Indiana', 'abbreviation': 'IN'},\n",
       "  {'name': 'Iowa', 'abbreviation': 'IA'},\n",
       "  {'name': 'Kansas', 'abbreviation': 'KS'},\n",
       "  {'name': 'Kentucky', 'abbreviation': 'KY'},\n",
       "  {'name': 'Louisiana', 'abbreviation': 'LA'},\n",
       "  {'name': 'Maine', 'abbreviation': 'ME'},\n",
       "  {'name': 'Maryland', 'abbreviation': 'MD'},\n",
       "  {'name': 'Massachusetts', 'abbreviation': 'MA'},\n",
       "  {'name': 'Michigan', 'abbreviation': 'MI'},\n",
       "  {'name': 'Minnesota', 'abbreviation': 'MN'},\n",
       "  {'name': 'Mississippi', 'abbreviation': 'MS'},\n",
       "  {'name': 'Missouri', 'abbreviation': 'MO'},\n",
       "  {'name': 'Montana', 'abbreviation': 'MT'},\n",
       "  {'name': 'Nebraska', 'abbreviation': 'NE'},\n",
       "  {'name': 'Nevada', 'abbreviation': 'NV'},\n",
       "  {'name': 'New Hampshire', 'abbreviation': 'NH'},\n",
       "  {'name': 'New Jersey', 'abbreviation': 'NJ'},\n",
       "  {'name': 'New Mexico', 'abbreviation': 'NM'},\n",
       "  {'name': 'New York', 'abbreviation': 'NY'},\n",
       "  {'name': 'North Carolina', 'abbreviation': 'NC'},\n",
       "  {'name': 'North Dakota', 'abbreviation': 'ND'},\n",
       "  {'name': 'Ohio', 'abbreviation': 'OH'},\n",
       "  {'name': 'Oklahoma', 'abbreviation': 'OK'},\n",
       "  {'name': 'Oregon', 'abbreviation': 'OR'},\n",
       "  {'name': 'Pennsylvania', 'abbreviation': 'PA'},\n",
       "  {'name': 'Rhode Island', 'abbreviation': 'RI'},\n",
       "  {'name': 'South Carolina', 'abbreviation': 'SC'},\n",
       "  {'name': 'South Dakota', 'abbreviation': 'SD'},\n",
       "  {'name': 'Tennessee', 'abbreviation': 'TN'},\n",
       "  {'name': 'Texas', 'abbreviation': 'TX'},\n",
       "  {'name': 'Utah', 'abbreviation': 'UT'},\n",
       "  {'name': 'Vermont', 'abbreviation': 'VT'},\n",
       "  {'name': 'Virginia', 'abbreviation': 'VA'},\n",
       "  {'name': 'Washington', 'abbreviation': 'WA'},\n",
       "  {'name': 'West Virginia', 'abbreviation': 'WV'},\n",
       "  {'name': 'Wisconsin', 'abbreviation': 'WI'},\n",
       "  {'name': 'Wyoming', 'abbreviation': 'WY'}]}"
      ]
     },
     "execution_count": 26,
     "metadata": {},
     "output_type": "execute_result"
    }
   ],
   "source": [
    "data"
   ]
  },
  {
   "cell_type": "markdown",
   "id": "c56cadf1-4a3c-400e-b053-fe9373e2424d",
   "metadata": {},
   "source": [
    "## Write to a JSON file"
   ]
  },
  {
   "cell_type": "code",
   "execution_count": 27,
   "id": "34d6704f-fe2a-4325-8858-653a58fdeec3",
   "metadata": {},
   "outputs": [],
   "source": [
    "with open('new_states.json','w') as f:\n",
    "    json.dump(data, f, indent = 2)"
   ]
  },
  {
   "cell_type": "markdown",
   "id": "a2502a20-0c0b-4a00-9d0b-fda843121d03",
   "metadata": {},
   "source": [
    "## Example"
   ]
  },
  {
   "cell_type": "code",
   "execution_count": 28,
   "id": "fb825c0d-5711-49ed-9fed-cdfe99388eea",
   "metadata": {},
   "outputs": [
    {
     "ename": "NameError",
     "evalue": "name 'requests' is not defined",
     "output_type": "error",
     "traceback": [
      "\u001b[1;31m---------------------------------------------------------------------------\u001b[0m",
      "\u001b[1;31mNameError\u001b[0m                                 Traceback (most recent call last)",
      "\u001b[1;32m<ipython-input-28-11301820eeba>\u001b[0m in \u001b[0;36m<module>\u001b[1;34m\u001b[0m\n\u001b[1;32m----> 1\u001b[1;33m \u001b[0mdata\u001b[0m \u001b[1;33m=\u001b[0m \u001b[0mrequests\u001b[0m\u001b[1;33m.\u001b[0m\u001b[0mget\u001b[0m\u001b[1;33m(\u001b[0m\u001b[1;34m'https://api.census.gov/data/2021/pep/population?get=DENSITY_2021,POP_2021,NAME,STATE,NPOPCHG_2021&for=state:*&key=cd9e2c0183cd192ecf8441472b0c32c538da635f'\u001b[0m\u001b[1;33m)\u001b[0m\u001b[1;33m\u001b[0m\u001b[1;33m\u001b[0m\u001b[0m\n\u001b[0m",
      "\u001b[1;31mNameError\u001b[0m: name 'requests' is not defined"
     ]
    }
   ],
   "source": [
    "data = requests.get('https://api.census.gov/data/2021/pep/population?get=DENSITY_2021,POP_2021,NAME,STATE,NPOPCHG_2021&for=state:*&key=cd9e2c0183cd192ecf8441472b0c32c538da635f')"
   ]
  },
  {
   "cell_type": "code",
   "execution_count": 29,
   "id": "dc024371-f2ac-4d7d-bc9c-b6983452809b",
   "metadata": {},
   "outputs": [
    {
     "ename": "NameError",
     "evalue": "name 'pd' is not defined",
     "output_type": "error",
     "traceback": [
      "\u001b[1;31m---------------------------------------------------------------------------\u001b[0m",
      "\u001b[1;31mNameError\u001b[0m                                 Traceback (most recent call last)",
      "\u001b[1;32m<ipython-input-29-50ebb58e84a1>\u001b[0m in \u001b[0;36m<module>\u001b[1;34m\u001b[0m\n\u001b[1;32m----> 1\u001b[1;33m \u001b[0mapi_key\u001b[0m \u001b[1;33m=\u001b[0m \u001b[0mpd\u001b[0m\u001b[1;33m.\u001b[0m\u001b[0mread_csv\u001b[0m\u001b[1;33m(\u001b[0m\u001b[1;34m'census_api.csv'\u001b[0m\u001b[1;33m,\u001b[0m \u001b[0mheader\u001b[0m \u001b[1;33m=\u001b[0m \u001b[1;32mNone\u001b[0m\u001b[1;33m)\u001b[0m\u001b[1;33m.\u001b[0m\u001b[0mloc\u001b[0m\u001b[1;33m[\u001b[0m\u001b[1;36m0\u001b[0m\u001b[1;33m,\u001b[0m\u001b[1;36m0\u001b[0m\u001b[1;33m]\u001b[0m\u001b[1;33m\u001b[0m\u001b[1;33m\u001b[0m\u001b[0m\n\u001b[0m",
      "\u001b[1;31mNameError\u001b[0m: name 'pd' is not defined"
     ]
    }
   ],
   "source": [
    "api_key = pd.read_csv('census_api.csv', header = None).loc[0,0]"
   ]
  },
  {
   "cell_type": "code",
   "execution_count": 243,
   "id": "89bf1a78-9a47-4fb9-9764-252e0dfce414",
   "metadata": {},
   "outputs": [
    {
     "name": "stdout",
     "output_type": "stream",
     "text": [
      "200\n"
     ]
    }
   ],
   "source": [
    "import requests\n",
    "import pandas as pd\n",
    "\n",
    "parameters = {'get' : 'DENSITY_2021,POP_2021,NAME,NPOPCHG_2021',\n",
    "              'for' : 'state',\n",
    "              'key' : 'cd9e2c0183cd192ecf8441472b0c32c538da635f'}\n",
    "\n",
    "\n",
    "data = requests.get('https://api.census.gov/data/2021/pep/population?', params = parameters, timeout = 5)\n",
    "print(data.status_code)"
   ]
  },
  {
   "cell_type": "code",
   "execution_count": null,
   "id": "bebf804c-e12d-45f1-a34e-46f1b676b7a0",
   "metadata": {},
   "outputs": [],
   "source": []
  },
  {
   "cell_type": "code",
   "execution_count": null,
   "id": "381d98d3-8d19-4e0a-9427-5d7e27f2751b",
   "metadata": {},
   "outputs": [],
   "source": [
    "def createData(_censusJSON):\n",
    "    \n",
    "    ## Obtain column names from the JSON file in the first row\n",
    "    pop_data_col_names = _censusJSON.json()[0]\n",
    "    \n",
    "    ## Obtain data from the JSON file. First row is headers\n",
    "    pop_data = _censusJSON.json()[1:]\n",
    "    \n",
    "    ## Create the dataframe and add the rows and columns\n",
    "    df = pd.DataFrame(data = pop_data, columns = pop_data_col_names)\n",
    "    \n",
    "    df.rename(columns = {'state':'STATENUMBER'}, inplace = True)\n",
    "    df.set_index('NAME', inplace = True)"
   ]
  },
  {
   "cell_type": "code",
   "execution_count": 237,
   "id": "402df607-991c-44be-a71c-76b678bc37a3",
   "metadata": {},
   "outputs": [],
   "source": [
    "def createData(_censusJSON):\n",
    "    \n",
    "    ## Obtain column names from the JSON file in the first row\n",
    "    pop_data_col_names = _censusJSON.json()[0]\n",
    "    \n",
    "    ## Make column names lowercase\n",
    "    pop_data_col_names = [x.lower() for x in pop_data_col_names]\n",
    "    \n",
    "    ## Obtain data from the JSON file. First row is headers\n",
    "    pop_data = _censusJSON.json()[1:]\n",
    "    \n",
    "    ## Create the dataframe and add the rows and columns\n",
    "    df = pd.DataFrame(data = pop_data, columns = pop_data_col_names)\n",
    "    \n",
    "    ## Finalize the dataframe\n",
    "    return (df\n",
    "            .astype({'density_2021':'float',\n",
    "                     'pop_2021':'int64',\n",
    "                     'npopchg_2021':'int64'})\n",
    "            .assign(\n",
    "                population_pct_2021 = lambda _df: _df.pop_2021 / _df.pop_2021.sum()\n",
    "                   )\n",
    "    )"
   ]
  },
  {
   "cell_type": "code",
   "execution_count": 238,
   "id": "34c65624-bdbd-4545-8758-b2ffeb1a39bd",
   "metadata": {},
   "outputs": [
    {
     "data": {
      "text/html": [
       "<div>\n",
       "<style scoped>\n",
       "    .dataframe tbody tr th:only-of-type {\n",
       "        vertical-align: middle;\n",
       "    }\n",
       "\n",
       "    .dataframe tbody tr th {\n",
       "        vertical-align: top;\n",
       "    }\n",
       "\n",
       "    .dataframe thead th {\n",
       "        text-align: right;\n",
       "    }\n",
       "</style>\n",
       "<table border=\"1\" class=\"dataframe\">\n",
       "  <thead>\n",
       "    <tr style=\"text-align: right;\">\n",
       "      <th></th>\n",
       "      <th>density_2021</th>\n",
       "      <th>pop_2021</th>\n",
       "      <th>npopchg_2021</th>\n",
       "      <th>state</th>\n",
       "      <th>population_pct_2021</th>\n",
       "    </tr>\n",
       "    <tr>\n",
       "      <th>name</th>\n",
       "      <th></th>\n",
       "      <th></th>\n",
       "      <th></th>\n",
       "      <th></th>\n",
       "      <th></th>\n",
       "    </tr>\n",
       "  </thead>\n",
       "  <tbody>\n",
       "    <tr>\n",
       "      <th>Oklahoma</th>\n",
       "      <td>58.117159</td>\n",
       "      <td>3986639</td>\n",
       "      <td>24608</td>\n",
       "      <td>40</td>\n",
       "      <td>0.011895</td>\n",
       "    </tr>\n",
       "    <tr>\n",
       "      <th>Nebraska</th>\n",
       "      <td>25.562964</td>\n",
       "      <td>1963692</td>\n",
       "      <td>2237</td>\n",
       "      <td>31</td>\n",
       "      <td>0.005859</td>\n",
       "    </tr>\n",
       "    <tr>\n",
       "      <th>Hawaii</th>\n",
       "      <td>224.456138</td>\n",
       "      <td>1441553</td>\n",
       "      <td>-10358</td>\n",
       "      <td>15</td>\n",
       "      <td>0.004301</td>\n",
       "    </tr>\n",
       "    <tr>\n",
       "      <th>South Dakota</th>\n",
       "      <td>11.810849</td>\n",
       "      <td>895376</td>\n",
       "      <td>8277</td>\n",
       "      <td>46</td>\n",
       "      <td>0.002672</td>\n",
       "    </tr>\n",
       "    <tr>\n",
       "      <th>Tennessee</th>\n",
       "      <td>169.167902</td>\n",
       "      <td>6975218</td>\n",
       "      <td>55099</td>\n",
       "      <td>47</td>\n",
       "      <td>0.020812</td>\n",
       "    </tr>\n",
       "    <tr>\n",
       "      <th>Nevada</th>\n",
       "      <td>28.618062</td>\n",
       "      <td>3143991</td>\n",
       "      <td>29920</td>\n",
       "      <td>32</td>\n",
       "      <td>0.009381</td>\n",
       "    </tr>\n",
       "    <tr>\n",
       "      <th>New Mexico</th>\n",
       "      <td>17.441507</td>\n",
       "      <td>2115877</td>\n",
       "      <td>-1689</td>\n",
       "      <td>35</td>\n",
       "      <td>0.006313</td>\n",
       "    </tr>\n",
       "    <tr>\n",
       "      <th>Iowa</th>\n",
       "      <td>57.169008</td>\n",
       "      <td>3193079</td>\n",
       "      <td>4410</td>\n",
       "      <td>19</td>\n",
       "      <td>0.009527</td>\n",
       "    </tr>\n",
       "    <tr>\n",
       "      <th>Kansas</th>\n",
       "      <td>35.893254</td>\n",
       "      <td>2934582</td>\n",
       "      <td>-1298</td>\n",
       "      <td>20</td>\n",
       "      <td>0.008756</td>\n",
       "    </tr>\n",
       "    <tr>\n",
       "      <th>District of Columbia</th>\n",
       "      <td>10961.845722</td>\n",
       "      <td>670050</td>\n",
       "      <td>-20043</td>\n",
       "      <td>11</td>\n",
       "      <td>0.001999</td>\n",
       "    </tr>\n",
       "    <tr>\n",
       "      <th>Texas</th>\n",
       "      <td>113.018201</td>\n",
       "      <td>29527941</td>\n",
       "      <td>310288</td>\n",
       "      <td>48</td>\n",
       "      <td>0.088102</td>\n",
       "    </tr>\n",
       "    <tr>\n",
       "      <th>Missouri</th>\n",
       "      <td>89.723504</td>\n",
       "      <td>6168187</td>\n",
       "      <td>13706</td>\n",
       "      <td>29</td>\n",
       "      <td>0.018404</td>\n",
       "    </tr>\n",
       "    <tr>\n",
       "      <th>Arkansas</th>\n",
       "      <td>58.194679</td>\n",
       "      <td>3025891</td>\n",
       "      <td>13659</td>\n",
       "      <td>05</td>\n",
       "      <td>0.009028</td>\n",
       "    </tr>\n",
       "    <tr>\n",
       "      <th>Michigan</th>\n",
       "      <td>177.551936</td>\n",
       "      <td>10050811</td>\n",
       "      <td>-16853</td>\n",
       "      <td>26</td>\n",
       "      <td>0.029988</td>\n",
       "    </tr>\n",
       "    <tr>\n",
       "      <th>New Hampshire</th>\n",
       "      <td>155.129503</td>\n",
       "      <td>1388992</td>\n",
       "      <td>11144</td>\n",
       "      <td>33</td>\n",
       "      <td>0.004144</td>\n",
       "    </tr>\n",
       "    <tr>\n",
       "      <th>North Carolina</th>\n",
       "      <td>216.999717</td>\n",
       "      <td>10551162</td>\n",
       "      <td>93985</td>\n",
       "      <td>37</td>\n",
       "      <td>0.031481</td>\n",
       "    </tr>\n",
       "    <tr>\n",
       "      <th>Ohio</th>\n",
       "      <td>288.309817</td>\n",
       "      <td>11780017</td>\n",
       "      <td>-10570</td>\n",
       "      <td>39</td>\n",
       "      <td>0.035148</td>\n",
       "    </tr>\n",
       "    <tr>\n",
       "      <th>South Carolina</th>\n",
       "      <td>172.653449</td>\n",
       "      <td>5190705</td>\n",
       "      <td>59976</td>\n",
       "      <td>45</td>\n",
       "      <td>0.015487</td>\n",
       "    </tr>\n",
       "    <tr>\n",
       "      <th>Wyoming</th>\n",
       "      <td>5.961589</td>\n",
       "      <td>578803</td>\n",
       "      <td>1536</td>\n",
       "      <td>56</td>\n",
       "      <td>0.001727</td>\n",
       "    </tr>\n",
       "    <tr>\n",
       "      <th>California</th>\n",
       "      <td>251.754362</td>\n",
       "      <td>39237836</td>\n",
       "      <td>-261902</td>\n",
       "      <td>06</td>\n",
       "      <td>0.117073</td>\n",
       "    </tr>\n",
       "    <tr>\n",
       "      <th>North Dakota</th>\n",
       "      <td>11.231804</td>\n",
       "      <td>774948</td>\n",
       "      <td>-4014</td>\n",
       "      <td>38</td>\n",
       "      <td>0.002312</td>\n",
       "    </tr>\n",
       "    <tr>\n",
       "      <th>Louisiana</th>\n",
       "      <td>107.010359</td>\n",
       "      <td>4624047</td>\n",
       "      <td>-27156</td>\n",
       "      <td>22</td>\n",
       "      <td>0.013797</td>\n",
       "    </tr>\n",
       "    <tr>\n",
       "      <th>Maryland</th>\n",
       "      <td>634.849038</td>\n",
       "      <td>6165129</td>\n",
       "      <td>-7550</td>\n",
       "      <td>24</td>\n",
       "      <td>0.018395</td>\n",
       "    </tr>\n",
       "    <tr>\n",
       "      <th>Delaware</th>\n",
       "      <td>514.938620</td>\n",
       "      <td>1003384</td>\n",
       "      <td>11498</td>\n",
       "      <td>10</td>\n",
       "      <td>0.002994</td>\n",
       "    </tr>\n",
       "    <tr>\n",
       "      <th>Pennsylvania</th>\n",
       "      <td>289.749786</td>\n",
       "      <td>12964056</td>\n",
       "      <td>-25569</td>\n",
       "      <td>42</td>\n",
       "      <td>0.038681</td>\n",
       "    </tr>\n",
       "    <tr>\n",
       "      <th>Georgia</th>\n",
       "      <td>187.112585</td>\n",
       "      <td>10799566</td>\n",
       "      <td>73766</td>\n",
       "      <td>13</td>\n",
       "      <td>0.032222</td>\n",
       "    </tr>\n",
       "    <tr>\n",
       "      <th>Oregon</th>\n",
       "      <td>44.232678</td>\n",
       "      <td>4246155</td>\n",
       "      <td>4611</td>\n",
       "      <td>41</td>\n",
       "      <td>0.012669</td>\n",
       "    </tr>\n",
       "    <tr>\n",
       "      <th>Minnesota</th>\n",
       "      <td>71.677007</td>\n",
       "      <td>5707390</td>\n",
       "      <td>225</td>\n",
       "      <td>27</td>\n",
       "      <td>0.017029</td>\n",
       "    </tr>\n",
       "    <tr>\n",
       "      <th>Colorado</th>\n",
       "      <td>56.081421</td>\n",
       "      <td>5812069</td>\n",
       "      <td>27761</td>\n",
       "      <td>08</td>\n",
       "      <td>0.017341</td>\n",
       "    </tr>\n",
       "    <tr>\n",
       "      <th>New Jersey</th>\n",
       "      <td>1260.029076</td>\n",
       "      <td>9267130</td>\n",
       "      <td>-12613</td>\n",
       "      <td>34</td>\n",
       "      <td>0.027650</td>\n",
       "    </tr>\n",
       "    <tr>\n",
       "      <th>Kentucky</th>\n",
       "      <td>114.186468</td>\n",
       "      <td>4509394</td>\n",
       "      <td>5436</td>\n",
       "      <td>21</td>\n",
       "      <td>0.013455</td>\n",
       "    </tr>\n",
       "    <tr>\n",
       "      <th>Washington</th>\n",
       "      <td>116.449709</td>\n",
       "      <td>7738692</td>\n",
       "      <td>19907</td>\n",
       "      <td>53</td>\n",
       "      <td>0.023090</td>\n",
       "    </tr>\n",
       "    <tr>\n",
       "      <th>Maine</th>\n",
       "      <td>44.488287</td>\n",
       "      <td>1372247</td>\n",
       "      <td>9967</td>\n",
       "      <td>23</td>\n",
       "      <td>0.004094</td>\n",
       "    </tr>\n",
       "    <tr>\n",
       "      <th>Vermont</th>\n",
       "      <td>70.037812</td>\n",
       "      <td>645570</td>\n",
       "      <td>3075</td>\n",
       "      <td>50</td>\n",
       "      <td>0.001926</td>\n",
       "    </tr>\n",
       "    <tr>\n",
       "      <th>Idaho</th>\n",
       "      <td>23.001023</td>\n",
       "      <td>1900923</td>\n",
       "      <td>53151</td>\n",
       "      <td>16</td>\n",
       "      <td>0.005672</td>\n",
       "    </tr>\n",
       "    <tr>\n",
       "      <th>Indiana</th>\n",
       "      <td>189.973578</td>\n",
       "      <td>6805985</td>\n",
       "      <td>20341</td>\n",
       "      <td>18</td>\n",
       "      <td>0.020307</td>\n",
       "    </tr>\n",
       "    <tr>\n",
       "      <th>Montana</th>\n",
       "      <td>7.586865</td>\n",
       "      <td>1104271</td>\n",
       "      <td>18078</td>\n",
       "      <td>30</td>\n",
       "      <td>0.003295</td>\n",
       "    </tr>\n",
       "    <tr>\n",
       "      <th>New York</th>\n",
       "      <td>420.935960</td>\n",
       "      <td>19835913</td>\n",
       "      <td>-319020</td>\n",
       "      <td>36</td>\n",
       "      <td>0.059184</td>\n",
       "    </tr>\n",
       "    <tr>\n",
       "      <th>Puerto Rico</th>\n",
       "      <td>NaN</td>\n",
       "      <td>3263584</td>\n",
       "      <td>-17954</td>\n",
       "      <td>72</td>\n",
       "      <td>0.009737</td>\n",
       "    </tr>\n",
       "    <tr>\n",
       "      <th>Connecticut</th>\n",
       "      <td>744.556991</td>\n",
       "      <td>3605597</td>\n",
       "      <td>5337</td>\n",
       "      <td>09</td>\n",
       "      <td>0.010758</td>\n",
       "    </tr>\n",
       "    <tr>\n",
       "      <th>Florida</th>\n",
       "      <td>405.980418</td>\n",
       "      <td>21781128</td>\n",
       "      <td>211196</td>\n",
       "      <td>12</td>\n",
       "      <td>0.064988</td>\n",
       "    </tr>\n",
       "    <tr>\n",
       "      <th>Virginia</th>\n",
       "      <td>218.890512</td>\n",
       "      <td>8642274</td>\n",
       "      <td>10230</td>\n",
       "      <td>51</td>\n",
       "      <td>0.025786</td>\n",
       "    </tr>\n",
       "    <tr>\n",
       "      <th>Massachusetts</th>\n",
       "      <td>895.369530</td>\n",
       "      <td>6984723</td>\n",
       "      <td>-37497</td>\n",
       "      <td>25</td>\n",
       "      <td>0.020840</td>\n",
       "    </tr>\n",
       "    <tr>\n",
       "      <th>Illinois</th>\n",
       "      <td>228.258855</td>\n",
       "      <td>12671469</td>\n",
       "      <td>-113776</td>\n",
       "      <td>17</td>\n",
       "      <td>0.037808</td>\n",
       "    </tr>\n",
       "    <tr>\n",
       "      <th>Mississippi</th>\n",
       "      <td>62.866946</td>\n",
       "      <td>2949965</td>\n",
       "      <td>-6905</td>\n",
       "      <td>28</td>\n",
       "      <td>0.008802</td>\n",
       "    </tr>\n",
       "    <tr>\n",
       "      <th>Arizona</th>\n",
       "      <td>64.022114</td>\n",
       "      <td>7276316</td>\n",
       "      <td>98330</td>\n",
       "      <td>04</td>\n",
       "      <td>0.021710</td>\n",
       "    </tr>\n",
       "    <tr>\n",
       "      <th>Utah</th>\n",
       "      <td>40.520796</td>\n",
       "      <td>3337975</td>\n",
       "      <td>56291</td>\n",
       "      <td>49</td>\n",
       "      <td>0.009959</td>\n",
       "    </tr>\n",
       "    <tr>\n",
       "      <th>Wisconsin</th>\n",
       "      <td>108.846155</td>\n",
       "      <td>5895908</td>\n",
       "      <td>3585</td>\n",
       "      <td>55</td>\n",
       "      <td>0.017591</td>\n",
       "    </tr>\n",
       "    <tr>\n",
       "      <th>Alabama</th>\n",
       "      <td>99.509913</td>\n",
       "      <td>5039877</td>\n",
       "      <td>15074</td>\n",
       "      <td>01</td>\n",
       "      <td>0.015037</td>\n",
       "    </tr>\n",
       "    <tr>\n",
       "      <th>West Virginia</th>\n",
       "      <td>74.162763</td>\n",
       "      <td>1782959</td>\n",
       "      <td>-6839</td>\n",
       "      <td>54</td>\n",
       "      <td>0.005320</td>\n",
       "    </tr>\n",
       "    <tr>\n",
       "      <th>Rhode Island</th>\n",
       "      <td>1059.698994</td>\n",
       "      <td>1095610</td>\n",
       "      <td>-619</td>\n",
       "      <td>44</td>\n",
       "      <td>0.003269</td>\n",
       "    </tr>\n",
       "    <tr>\n",
       "      <th>Alaska</th>\n",
       "      <td>1.283093</td>\n",
       "      <td>732673</td>\n",
       "      <td>232</td>\n",
       "      <td>02</td>\n",
       "      <td>0.002186</td>\n",
       "    </tr>\n",
       "  </tbody>\n",
       "</table>\n",
       "</div>"
      ],
      "text/plain": [
       "                      density_2021  pop_2021  npopchg_2021 state  \\\n",
       "name                                                               \n",
       "Oklahoma                 58.117159   3986639         24608    40   \n",
       "Nebraska                 25.562964   1963692          2237    31   \n",
       "Hawaii                  224.456138   1441553        -10358    15   \n",
       "South Dakota             11.810849    895376          8277    46   \n",
       "Tennessee               169.167902   6975218         55099    47   \n",
       "Nevada                   28.618062   3143991         29920    32   \n",
       "New Mexico               17.441507   2115877         -1689    35   \n",
       "Iowa                     57.169008   3193079          4410    19   \n",
       "Kansas                   35.893254   2934582         -1298    20   \n",
       "District of Columbia  10961.845722    670050        -20043    11   \n",
       "Texas                   113.018201  29527941        310288    48   \n",
       "Missouri                 89.723504   6168187         13706    29   \n",
       "Arkansas                 58.194679   3025891         13659    05   \n",
       "Michigan                177.551936  10050811        -16853    26   \n",
       "New Hampshire           155.129503   1388992         11144    33   \n",
       "North Carolina          216.999717  10551162         93985    37   \n",
       "Ohio                    288.309817  11780017        -10570    39   \n",
       "South Carolina          172.653449   5190705         59976    45   \n",
       "Wyoming                   5.961589    578803          1536    56   \n",
       "California              251.754362  39237836       -261902    06   \n",
       "North Dakota             11.231804    774948         -4014    38   \n",
       "Louisiana               107.010359   4624047        -27156    22   \n",
       "Maryland                634.849038   6165129         -7550    24   \n",
       "Delaware                514.938620   1003384         11498    10   \n",
       "Pennsylvania            289.749786  12964056        -25569    42   \n",
       "Georgia                 187.112585  10799566         73766    13   \n",
       "Oregon                   44.232678   4246155          4611    41   \n",
       "Minnesota                71.677007   5707390           225    27   \n",
       "Colorado                 56.081421   5812069         27761    08   \n",
       "New Jersey             1260.029076   9267130        -12613    34   \n",
       "Kentucky                114.186468   4509394          5436    21   \n",
       "Washington              116.449709   7738692         19907    53   \n",
       "Maine                    44.488287   1372247          9967    23   \n",
       "Vermont                  70.037812    645570          3075    50   \n",
       "Idaho                    23.001023   1900923         53151    16   \n",
       "Indiana                 189.973578   6805985         20341    18   \n",
       "Montana                   7.586865   1104271         18078    30   \n",
       "New York                420.935960  19835913       -319020    36   \n",
       "Puerto Rico                    NaN   3263584        -17954    72   \n",
       "Connecticut             744.556991   3605597          5337    09   \n",
       "Florida                 405.980418  21781128        211196    12   \n",
       "Virginia                218.890512   8642274         10230    51   \n",
       "Massachusetts           895.369530   6984723        -37497    25   \n",
       "Illinois                228.258855  12671469       -113776    17   \n",
       "Mississippi              62.866946   2949965         -6905    28   \n",
       "Arizona                  64.022114   7276316         98330    04   \n",
       "Utah                     40.520796   3337975         56291    49   \n",
       "Wisconsin               108.846155   5895908          3585    55   \n",
       "Alabama                  99.509913   5039877         15074    01   \n",
       "West Virginia            74.162763   1782959         -6839    54   \n",
       "Rhode Island           1059.698994   1095610          -619    44   \n",
       "Alaska                    1.283093    732673           232    02   \n",
       "\n",
       "                      population_pct_2021  \n",
       "name                                       \n",
       "Oklahoma                         0.011895  \n",
       "Nebraska                         0.005859  \n",
       "Hawaii                           0.004301  \n",
       "South Dakota                     0.002672  \n",
       "Tennessee                        0.020812  \n",
       "Nevada                           0.009381  \n",
       "New Mexico                       0.006313  \n",
       "Iowa                             0.009527  \n",
       "Kansas                           0.008756  \n",
       "District of Columbia             0.001999  \n",
       "Texas                            0.088102  \n",
       "Missouri                         0.018404  \n",
       "Arkansas                         0.009028  \n",
       "Michigan                         0.029988  \n",
       "New Hampshire                    0.004144  \n",
       "North Carolina                   0.031481  \n",
       "Ohio                             0.035148  \n",
       "South Carolina                   0.015487  \n",
       "Wyoming                          0.001727  \n",
       "California                       0.117073  \n",
       "North Dakota                     0.002312  \n",
       "Louisiana                        0.013797  \n",
       "Maryland                         0.018395  \n",
       "Delaware                         0.002994  \n",
       "Pennsylvania                     0.038681  \n",
       "Georgia                          0.032222  \n",
       "Oregon                           0.012669  \n",
       "Minnesota                        0.017029  \n",
       "Colorado                         0.017341  \n",
       "New Jersey                       0.027650  \n",
       "Kentucky                         0.013455  \n",
       "Washington                       0.023090  \n",
       "Maine                            0.004094  \n",
       "Vermont                          0.001926  \n",
       "Idaho                            0.005672  \n",
       "Indiana                          0.020307  \n",
       "Montana                          0.003295  \n",
       "New York                         0.059184  \n",
       "Puerto Rico                      0.009737  \n",
       "Connecticut                      0.010758  \n",
       "Florida                          0.064988  \n",
       "Virginia                         0.025786  \n",
       "Massachusetts                    0.020840  \n",
       "Illinois                         0.037808  \n",
       "Mississippi                      0.008802  \n",
       "Arizona                          0.021710  \n",
       "Utah                             0.009959  \n",
       "Wisconsin                        0.017591  \n",
       "Alabama                          0.015037  \n",
       "West Virginia                    0.005320  \n",
       "Rhode Island                     0.003269  \n",
       "Alaska                           0.002186  "
      ]
     },
     "execution_count": 238,
     "metadata": {},
     "output_type": "execute_result"
    }
   ],
   "source": [
    "df = createData(data)\n",
    "df"
   ]
  },
  {
   "cell_type": "code",
   "execution_count": 246,
   "id": "bc778d06-fd83-46b7-ad53-b6a5c709b600",
   "metadata": {},
   "outputs": [
    {
     "data": {
      "text/plain": [
       "335157329"
      ]
     },
     "execution_count": 247,
     "metadata": {},
     "output_type": "execute_result"
    }
   ],
   "source": [
    "df.pop_2021.sum()?"
   ]
  },
  {
   "cell_type": "code",
   "execution_count": null,
   "id": "3f2b8bd7-cfc5-4df0-9f92-f8d8fc5771cb",
   "metadata": {},
   "outputs": [
    {
     "data": {
      "text/plain": [
       "0.11707288668600173"
      ]
     },
     "execution_count": 248,
     "metadata": {},
     "output_type": "execute_result"
    }
   ],
   "source": []
  }
 ],
 "metadata": {
  "kernelspec": {
   "display_name": "Python 3",
   "language": "python",
   "name": "python3"
  },
  "language_info": {
   "codemirror_mode": {
    "name": "ipython",
    "version": 3
   },
   "file_extension": ".py",
   "mimetype": "text/x-python",
   "name": "python",
   "nbconvert_exporter": "python",
   "pygments_lexer": "ipython3",
   "version": "3.8.8"
  }
 },
 "nbformat": 4,
 "nbformat_minor": 5
}
