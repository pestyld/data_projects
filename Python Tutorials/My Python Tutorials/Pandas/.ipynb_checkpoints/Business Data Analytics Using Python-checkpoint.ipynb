{
 "cells": [
  {
   "cell_type": "code",
   "execution_count": 11,
   "metadata": {},
   "outputs": [
    {
     "name": "stderr",
     "output_type": "stream",
     "text": [
      "C:\\Users\\pestyl\\AppData\\Local\\Continuum\\anaconda3\\lib\\site-packages\\sklearn\\externals\\six.py:31: DeprecationWarning: The module is deprecated in version 0.21 and will be removed in version 0.23 since we've dropped support for Python 2.7. Please rely on the official version of six (https://pypi.org/project/six/).\n",
      "  \"(https://pypi.org/project/six/).\", DeprecationWarning)\n"
     ]
    }
   ],
   "source": [
    "import pandas as pd\n",
    "import seaborn as sns\n",
    "import matplotlib.pyplot as plt\n",
    "import numpy as np\n",
    "\n",
    "## Stats packages\n",
    "\n",
    "## Import train_test_split package from sklearn\n",
    "##\n",
    "from sklearn.model_selection import train_test_split\n",
    "##\n",
    "## For modeling, notice the new import command for\n",
    "## the formula API and the summary option\n",
    "##\n",
    "import statsmodels.api as sm\n",
    "import statsmodels.formula.api as smf \n",
    "##\n",
    "## Import the r2_score function from the sklearn metrics package\n",
    "##\n",
    "from sklearn.metrics import r2_score\n",
    "##\n",
    "## Import confusion functions for classication\n",
    "##\n",
    "from sklearn.metrics import confusion_matrix, classification_report\n",
    "##\n",
    "## Import decision tree classifier functions\n",
    "##\n",
    "from sklearn.tree import DecisionTreeClassifier\n",
    "from sklearn.metrics import accuracy_score\n",
    "from sklearn import tree\n",
    "from sklearn import preprocessing\n",
    "from sklearn.tree import export_graphviz\n",
    "##\n",
    "from sklearn.preprocessing import LabelEncoder\n",
    "##\n",
    "## Some packages are needed for decision trees:\n",
    "## Some additional packages are needed to plot a decision tree:\n",
    "## - graphviz\n",
    "## - pydotplus\n",
    "## Both packages may have to be installed before they can be used.  \n",
    "## Use the operating system to do this.\n",
    "##\n",
    "import os\n",
    "\n",
    "## Load the following packages\n",
    "##\n",
    "from sklearn.externals.six import StringIO  \n",
    "from IPython.display import Image\n",
    "##\n",
    "## Import needed tree packages\n",
    "##\n",
    "from sklearn.externals.six import StringIO  \n",
    "from IPython.display import Image  \n",
    "from sklearn.tree import export_graphviz"
   ]
  },
  {
   "cell_type": "code",
   "execution_count": 71,
   "metadata": {},
   "outputs": [],
   "source": [
    "pd.set_option('display.max_columns',20)"
   ]
  },
  {
   "cell_type": "markdown",
   "metadata": {},
   "source": [
    "## Data Path(s)"
   ]
  },
  {
   "cell_type": "code",
   "execution_count": 13,
   "metadata": {},
   "outputs": [],
   "source": [
    "# r indicates to treat the string exactly as you see it.\n",
    "path=r'C:\\Users\\pestyl\\Desktop\\github repos\\Data-Projects\\Tutorials\\Python Tutorials\\Pandas'"
   ]
  },
  {
   "cell_type": "markdown",
   "metadata": {},
   "source": [
    "## Import data into Pandas"
   ]
  },
  {
   "cell_type": "code",
   "execution_count": 45,
   "metadata": {},
   "outputs": [],
   "source": [
    "file='orders.csv'"
   ]
  },
  {
   "cell_type": "code",
   "execution_count": 46,
   "metadata": {},
   "outputs": [],
   "source": [
    "orders=pd.read_csv(file, parse_dates=['Tdate'])"
   ]
  },
  {
   "cell_type": "code",
   "execution_count": 47,
   "metadata": {},
   "outputs": [
    {
     "data": {
      "text/html": [
       "<div>\n",
       "<style scoped>\n",
       "    .dataframe tbody tr th:only-of-type {\n",
       "        vertical-align: middle;\n",
       "    }\n",
       "\n",
       "    .dataframe tbody tr th {\n",
       "        vertical-align: top;\n",
       "    }\n",
       "\n",
       "    .dataframe thead th {\n",
       "        text-align: right;\n",
       "    }\n",
       "</style>\n",
       "<table border=\"1\" class=\"dataframe\">\n",
       "  <thead>\n",
       "    <tr style=\"text-align: right;\">\n",
       "      <th></th>\n",
       "      <th>Onum</th>\n",
       "      <th>CID</th>\n",
       "      <th>Tdate</th>\n",
       "      <th>Pline</th>\n",
       "      <th>...</th>\n",
       "      <th>Ddisc</th>\n",
       "      <th>Cdisc</th>\n",
       "      <th>Odisc</th>\n",
       "      <th>Pdisc</th>\n",
       "    </tr>\n",
       "  </thead>\n",
       "  <tbody>\n",
       "    <tr>\n",
       "      <th>0</th>\n",
       "      <td>585</td>\n",
       "      <td>1015</td>\n",
       "      <td>2004-01-25</td>\n",
       "      <td>Living Room</td>\n",
       "      <td>...</td>\n",
       "      <td>NaN</td>\n",
       "      <td>NaN</td>\n",
       "      <td>0.043</td>\n",
       "      <td>0.042</td>\n",
       "    </tr>\n",
       "    <tr>\n",
       "      <th>1</th>\n",
       "      <td>586</td>\n",
       "      <td>1015</td>\n",
       "      <td>2004-01-25</td>\n",
       "      <td>Living Room</td>\n",
       "      <td>...</td>\n",
       "      <td>0.157</td>\n",
       "      <td>0.075</td>\n",
       "      <td>0.041</td>\n",
       "      <td>0.031</td>\n",
       "    </tr>\n",
       "    <tr>\n",
       "      <th>2</th>\n",
       "      <td>587</td>\n",
       "      <td>1015</td>\n",
       "      <td>2004-01-25</td>\n",
       "      <td>Living Room</td>\n",
       "      <td>...</td>\n",
       "      <td>NaN</td>\n",
       "      <td>0.048</td>\n",
       "      <td>0.053</td>\n",
       "      <td>0.021</td>\n",
       "    </tr>\n",
       "    <tr>\n",
       "      <th>3</th>\n",
       "      <td>588</td>\n",
       "      <td>1015</td>\n",
       "      <td>2004-01-25</td>\n",
       "      <td>Living Room</td>\n",
       "      <td>...</td>\n",
       "      <td>NaN</td>\n",
       "      <td>0.072</td>\n",
       "      <td>NaN</td>\n",
       "      <td>0.033</td>\n",
       "    </tr>\n",
       "    <tr>\n",
       "      <th>4</th>\n",
       "      <td>589</td>\n",
       "      <td>1015</td>\n",
       "      <td>2004-01-25</td>\n",
       "      <td>Living Room</td>\n",
       "      <td>...</td>\n",
       "      <td>0.140</td>\n",
       "      <td>0.056</td>\n",
       "      <td>0.041</td>\n",
       "      <td>0.055</td>\n",
       "    </tr>\n",
       "  </tbody>\n",
       "</table>\n",
       "<p>5 rows × 14 columns</p>\n",
       "</div>"
      ],
      "text/plain": [
       "   Onum   CID      Tdate        Pline  ...  Ddisc  Cdisc  Odisc  Pdisc\n",
       "0   585  1015 2004-01-25  Living Room  ...    NaN    NaN  0.043  0.042\n",
       "1   586  1015 2004-01-25  Living Room  ...  0.157  0.075  0.041  0.031\n",
       "2   587  1015 2004-01-25  Living Room  ...    NaN  0.048  0.053  0.021\n",
       "3   588  1015 2004-01-25  Living Room  ...    NaN  0.072    NaN  0.033\n",
       "4   589  1015 2004-01-25  Living Room  ...  0.140  0.056  0.041  0.055\n",
       "\n",
       "[5 rows x 14 columns]"
      ]
     },
     "execution_count": 47,
     "metadata": {},
     "output_type": "execute_result"
    }
   ],
   "source": [
    "orders.head()"
   ]
  },
  {
   "cell_type": "code",
   "execution_count": 31,
   "metadata": {},
   "outputs": [
    {
     "data": {
      "text/plain": [
       "779"
      ]
     },
     "execution_count": 31,
     "metadata": {},
     "output_type": "execute_result"
    }
   ],
   "source": [
    "orders.CID.nunique()"
   ]
  },
  {
   "cell_type": "markdown",
   "metadata": {},
   "source": [
    "1. Do I see I see what I expec tto see?\n",
    "2. Do I see all I expect to see?\n",
    "3. Do I have the corrrect and cleansed variables I need?\n",
    "4. Do I have complete data?"
   ]
  },
  {
   "cell_type": "markdown",
   "metadata": {},
   "source": [
    "## 1"
   ]
  },
  {
   "cell_type": "code",
   "execution_count": 32,
   "metadata": {},
   "outputs": [
    {
     "data": {
      "text/html": [
       "<div>\n",
       "<style scoped>\n",
       "    .dataframe tbody tr th:only-of-type {\n",
       "        vertical-align: middle;\n",
       "    }\n",
       "\n",
       "    .dataframe tbody tr th {\n",
       "        vertical-align: top;\n",
       "    }\n",
       "\n",
       "    .dataframe thead th {\n",
       "        text-align: right;\n",
       "    }\n",
       "</style>\n",
       "<table border=\"1\" class=\"dataframe\">\n",
       "  <thead>\n",
       "    <tr style=\"text-align: right;\">\n",
       "      <th></th>\n",
       "      <th>Onum</th>\n",
       "      <th>CID</th>\n",
       "      <th>Tdate</th>\n",
       "      <th>Pline</th>\n",
       "      <th>...</th>\n",
       "      <th>Ddisc</th>\n",
       "      <th>Cdisc</th>\n",
       "      <th>Odisc</th>\n",
       "      <th>Pdisc</th>\n",
       "    </tr>\n",
       "  </thead>\n",
       "  <tbody>\n",
       "    <tr>\n",
       "      <th>0</th>\n",
       "      <td>585</td>\n",
       "      <td>1015</td>\n",
       "      <td>2004-01-25</td>\n",
       "      <td>Living Room</td>\n",
       "      <td>...</td>\n",
       "      <td>NaN</td>\n",
       "      <td>NaN</td>\n",
       "      <td>0.043</td>\n",
       "      <td>0.042</td>\n",
       "    </tr>\n",
       "    <tr>\n",
       "      <th>1</th>\n",
       "      <td>586</td>\n",
       "      <td>1015</td>\n",
       "      <td>2004-01-25</td>\n",
       "      <td>Living Room</td>\n",
       "      <td>...</td>\n",
       "      <td>0.157</td>\n",
       "      <td>0.075</td>\n",
       "      <td>0.041</td>\n",
       "      <td>0.031</td>\n",
       "    </tr>\n",
       "    <tr>\n",
       "      <th>2</th>\n",
       "      <td>587</td>\n",
       "      <td>1015</td>\n",
       "      <td>2004-01-25</td>\n",
       "      <td>Living Room</td>\n",
       "      <td>...</td>\n",
       "      <td>NaN</td>\n",
       "      <td>0.048</td>\n",
       "      <td>0.053</td>\n",
       "      <td>0.021</td>\n",
       "    </tr>\n",
       "    <tr>\n",
       "      <th>3</th>\n",
       "      <td>588</td>\n",
       "      <td>1015</td>\n",
       "      <td>2004-01-25</td>\n",
       "      <td>Living Room</td>\n",
       "      <td>...</td>\n",
       "      <td>NaN</td>\n",
       "      <td>0.072</td>\n",
       "      <td>NaN</td>\n",
       "      <td>0.033</td>\n",
       "    </tr>\n",
       "    <tr>\n",
       "      <th>4</th>\n",
       "      <td>589</td>\n",
       "      <td>1015</td>\n",
       "      <td>2004-01-25</td>\n",
       "      <td>Living Room</td>\n",
       "      <td>...</td>\n",
       "      <td>0.140</td>\n",
       "      <td>0.056</td>\n",
       "      <td>0.041</td>\n",
       "      <td>0.055</td>\n",
       "    </tr>\n",
       "  </tbody>\n",
       "</table>\n",
       "<p>5 rows × 14 columns</p>\n",
       "</div>"
      ],
      "text/plain": [
       "   Onum   CID      Tdate        Pline  ...  Ddisc  Cdisc  Odisc  Pdisc\n",
       "0   585  1015 2004-01-25  Living Room  ...    NaN    NaN  0.043  0.042\n",
       "1   586  1015 2004-01-25  Living Room  ...  0.157  0.075  0.041  0.031\n",
       "2   587  1015 2004-01-25  Living Room  ...    NaN  0.048  0.053  0.021\n",
       "3   588  1015 2004-01-25  Living Room  ...    NaN  0.072    NaN  0.033\n",
       "4   589  1015 2004-01-25  Living Room  ...  0.140  0.056  0.041  0.055\n",
       "\n",
       "[5 rows x 14 columns]"
      ]
     },
     "execution_count": 32,
     "metadata": {},
     "output_type": "execute_result"
    }
   ],
   "source": [
    "orders.head()"
   ]
  },
  {
   "cell_type": "code",
   "execution_count": 34,
   "metadata": {},
   "outputs": [
    {
     "data": {
      "text/html": [
       "<div>\n",
       "<style scoped>\n",
       "    .dataframe tbody tr th:only-of-type {\n",
       "        vertical-align: middle;\n",
       "    }\n",
       "\n",
       "    .dataframe tbody tr th {\n",
       "        vertical-align: top;\n",
       "    }\n",
       "\n",
       "    .dataframe thead th {\n",
       "        text-align: right;\n",
       "    }\n",
       "</style>\n",
       "<table border=\"1\" class=\"dataframe\">\n",
       "  <thead>\n",
       "    <tr style=\"text-align: right;\">\n",
       "      <th></th>\n",
       "      <th>Onum</th>\n",
       "      <th>CID</th>\n",
       "      <th>Tdate</th>\n",
       "      <th>Pline</th>\n",
       "      <th>...</th>\n",
       "      <th>Ddisc</th>\n",
       "      <th>Cdisc</th>\n",
       "      <th>Odisc</th>\n",
       "      <th>Pdisc</th>\n",
       "    </tr>\n",
       "  </thead>\n",
       "  <tbody>\n",
       "    <tr>\n",
       "      <th>70265</th>\n",
       "      <td>1173638</td>\n",
       "      <td>938</td>\n",
       "      <td>2005-01-15</td>\n",
       "      <td>Living Room</td>\n",
       "      <td>...</td>\n",
       "      <td>0.071</td>\n",
       "      <td>0.047</td>\n",
       "      <td>0.028</td>\n",
       "      <td>0.046</td>\n",
       "    </tr>\n",
       "    <tr>\n",
       "      <th>70266</th>\n",
       "      <td>1173639</td>\n",
       "      <td>938</td>\n",
       "      <td>2005-01-15</td>\n",
       "      <td>Living Room</td>\n",
       "      <td>...</td>\n",
       "      <td>0.184</td>\n",
       "      <td>0.064</td>\n",
       "      <td>0.064</td>\n",
       "      <td>0.050</td>\n",
       "    </tr>\n",
       "    <tr>\n",
       "      <th>70267</th>\n",
       "      <td>1173640</td>\n",
       "      <td>938</td>\n",
       "      <td>2005-01-15</td>\n",
       "      <td>Living Room</td>\n",
       "      <td>...</td>\n",
       "      <td>0.165</td>\n",
       "      <td>0.066</td>\n",
       "      <td>0.052</td>\n",
       "      <td>0.043</td>\n",
       "    </tr>\n",
       "    <tr>\n",
       "      <th>70268</th>\n",
       "      <td>1173641</td>\n",
       "      <td>938</td>\n",
       "      <td>2005-01-15</td>\n",
       "      <td>Living Room</td>\n",
       "      <td>...</td>\n",
       "      <td>0.106</td>\n",
       "      <td>0.098</td>\n",
       "      <td>0.071</td>\n",
       "      <td>0.057</td>\n",
       "    </tr>\n",
       "    <tr>\n",
       "      <th>70269</th>\n",
       "      <td>1173642</td>\n",
       "      <td>938</td>\n",
       "      <td>2005-01-15</td>\n",
       "      <td>Living Room</td>\n",
       "      <td>...</td>\n",
       "      <td>0.065</td>\n",
       "      <td>0.066</td>\n",
       "      <td>0.030</td>\n",
       "      <td>0.042</td>\n",
       "    </tr>\n",
       "  </tbody>\n",
       "</table>\n",
       "<p>5 rows × 14 columns</p>\n",
       "</div>"
      ],
      "text/plain": [
       "          Onum  CID      Tdate        Pline  ...  Ddisc  Cdisc  Odisc  Pdisc\n",
       "70265  1173638  938 2005-01-15  Living Room  ...  0.071  0.047  0.028  0.046\n",
       "70266  1173639  938 2005-01-15  Living Room  ...  0.184  0.064  0.064  0.050\n",
       "70267  1173640  938 2005-01-15  Living Room  ...  0.165  0.066  0.052  0.043\n",
       "70268  1173641  938 2005-01-15  Living Room  ...  0.106  0.098  0.071  0.057\n",
       "70269  1173642  938 2005-01-15  Living Room  ...  0.065  0.066  0.030  0.042\n",
       "\n",
       "[5 rows x 14 columns]"
      ]
     },
     "execution_count": 34,
     "metadata": {},
     "output_type": "execute_result"
    }
   ],
   "source": [
    "orders.tail()"
   ]
  },
  {
   "cell_type": "markdown",
   "metadata": {},
   "source": [
    "## 2"
   ]
  },
  {
   "cell_type": "code",
   "execution_count": 36,
   "metadata": {},
   "outputs": [
    {
     "name": "stdout",
     "output_type": "stream",
     "text": [
      "Total Rows: 70270, Total Columns: 14\n"
     ]
    }
   ],
   "source": [
    "totalcols = len(orders.columns)\n",
    "totalrows= len(orders)\n",
    "print(\"Total Rows: {}, Total Columns: {}\".format(totalrows, totalcols))"
   ]
  },
  {
   "cell_type": "code",
   "execution_count": 39,
   "metadata": {},
   "outputs": [
    {
     "data": {
      "text/plain": [
       "Index(['Onum', 'CID', 'Tdate', 'Pline', 'Pclass', 'Usales', 'Return',\n",
       "       'returnAmount', 'Mcost', 'Lprice', 'Ddisc', 'Cdisc', 'Odisc', 'Pdisc'],\n",
       "      dtype='object')"
      ]
     },
     "execution_count": 39,
     "metadata": {},
     "output_type": "execute_result"
    }
   ],
   "source": [
    "orders.columns"
   ]
  },
  {
   "cell_type": "code",
   "execution_count": 40,
   "metadata": {},
   "outputs": [
    {
     "data": {
      "text/plain": [
       "Onum                     int64\n",
       "CID                      int64\n",
       "Tdate           datetime64[ns]\n",
       "Pline                   object\n",
       "Pclass                  object\n",
       "Usales                   int64\n",
       "Return                  object\n",
       "returnAmount             int64\n",
       "Mcost                  float64\n",
       "Lprice                 float64\n",
       "Ddisc                  float64\n",
       "Cdisc                  float64\n",
       "Odisc                  float64\n",
       "Pdisc                  float64\n",
       "dtype: object"
      ]
     },
     "execution_count": 40,
     "metadata": {},
     "output_type": "execute_result"
    }
   ],
   "source": [
    "orders.dtypes"
   ]
  },
  {
   "cell_type": "code",
   "execution_count": 43,
   "metadata": {},
   "outputs": [
    {
     "data": {
      "text/plain": [
       "Index(['ONUM', 'CID', 'TDATE', 'PLINE', 'PCLASS', 'USALES', 'RETURN',\n",
       "       'RETURNAMOUNT', 'MCOST', 'LPRICE', 'DDISC', 'CDISC', 'ODISC', 'PDISC'],\n",
       "      dtype='object')"
      ]
     },
     "execution_count": 43,
     "metadata": {},
     "output_type": "execute_result"
    }
   ],
   "source": [
    "orders.columns = orders.columns.str.upper()\n",
    "orders.columns"
   ]
  },
  {
   "cell_type": "code",
   "execution_count": 44,
   "metadata": {},
   "outputs": [
    {
     "data": {
      "text/plain": [
       "Index(['ONUM', 'CID', 'TDATE', 'PLINE', 'PCLASS', 'USALES', 'RETURN',\n",
       "       'RETURNAMOUNT', 'MCOST', 'LPRICE', 'DDISC', 'CDISC', 'ODISC', 'PDISC'],\n",
       "      dtype='object')"
      ]
     },
     "execution_count": 44,
     "metadata": {},
     "output_type": "execute_result"
    }
   ],
   "source": [
    "orders.columns = orders.columns.str.strip()\n",
    "orders.columns"
   ]
  },
  {
   "cell_type": "markdown",
   "metadata": {},
   "source": [
    "## 3"
   ]
  },
  {
   "cell_type": "code",
   "execution_count": 49,
   "metadata": {},
   "outputs": [
    {
     "name": "stdout",
     "output_type": "stream",
     "text": [
      "<class 'pandas.core.frame.DataFrame'>\n",
      "RangeIndex: 70270 entries, 0 to 70269\n",
      "Data columns (total 14 columns):\n",
      "Onum            70270 non-null int64\n",
      "CID             70270 non-null int64\n",
      "Tdate           70270 non-null datetime64[ns]\n",
      "Pline           70270 non-null object\n",
      "Pclass          70270 non-null object\n",
      "Usales          70270 non-null int64\n",
      "Return          70270 non-null object\n",
      "returnAmount    70270 non-null int64\n",
      "Mcost           70270 non-null float64\n",
      "Lprice          70270 non-null float64\n",
      "Ddisc           70262 non-null float64\n",
      "Cdisc           70261 non-null float64\n",
      "Odisc           70266 non-null float64\n",
      "Pdisc           70268 non-null float64\n",
      "dtypes: datetime64[ns](1), float64(6), int64(4), object(3)\n",
      "memory usage: 7.5+ MB\n"
     ]
    }
   ],
   "source": [
    "orders.info()"
   ]
  },
  {
   "cell_type": "code",
   "execution_count": null,
   "metadata": {},
   "outputs": [],
   "source": []
  },
  {
   "cell_type": "markdown",
   "metadata": {},
   "source": [
    "## Simple Analytics (Create new columns)"
   ]
  },
  {
   "cell_type": "code",
   "execution_count": 56,
   "metadata": {},
   "outputs": [
    {
     "data": {
      "text/html": [
       "<div>\n",
       "<style scoped>\n",
       "    .dataframe tbody tr th:only-of-type {\n",
       "        vertical-align: middle;\n",
       "    }\n",
       "\n",
       "    .dataframe tbody tr th {\n",
       "        vertical-align: top;\n",
       "    }\n",
       "\n",
       "    .dataframe thead th {\n",
       "        text-align: right;\n",
       "    }\n",
       "</style>\n",
       "<table border=\"1\" class=\"dataframe\">\n",
       "  <thead>\n",
       "    <tr style=\"text-align: right;\">\n",
       "      <th></th>\n",
       "      <th>Onum</th>\n",
       "      <th>CID</th>\n",
       "      <th>Tdate</th>\n",
       "      <th>Pline</th>\n",
       "      <th>...</th>\n",
       "      <th>Cdisc</th>\n",
       "      <th>Odisc</th>\n",
       "      <th>Pdisc</th>\n",
       "      <th>Tdisc</th>\n",
       "    </tr>\n",
       "  </thead>\n",
       "  <tbody>\n",
       "    <tr>\n",
       "      <th>0</th>\n",
       "      <td>585</td>\n",
       "      <td>1015</td>\n",
       "      <td>2004-01-25</td>\n",
       "      <td>Living Room</td>\n",
       "      <td>...</td>\n",
       "      <td>NaN</td>\n",
       "      <td>0.043</td>\n",
       "      <td>0.042</td>\n",
       "      <td>0.085</td>\n",
       "    </tr>\n",
       "    <tr>\n",
       "      <th>1</th>\n",
       "      <td>586</td>\n",
       "      <td>1015</td>\n",
       "      <td>2004-01-25</td>\n",
       "      <td>Living Room</td>\n",
       "      <td>...</td>\n",
       "      <td>0.075</td>\n",
       "      <td>0.041</td>\n",
       "      <td>0.031</td>\n",
       "      <td>0.304</td>\n",
       "    </tr>\n",
       "    <tr>\n",
       "      <th>2</th>\n",
       "      <td>587</td>\n",
       "      <td>1015</td>\n",
       "      <td>2004-01-25</td>\n",
       "      <td>Living Room</td>\n",
       "      <td>...</td>\n",
       "      <td>0.048</td>\n",
       "      <td>0.053</td>\n",
       "      <td>0.021</td>\n",
       "      <td>0.122</td>\n",
       "    </tr>\n",
       "    <tr>\n",
       "      <th>3</th>\n",
       "      <td>588</td>\n",
       "      <td>1015</td>\n",
       "      <td>2004-01-25</td>\n",
       "      <td>Living Room</td>\n",
       "      <td>...</td>\n",
       "      <td>0.072</td>\n",
       "      <td>NaN</td>\n",
       "      <td>0.033</td>\n",
       "      <td>0.105</td>\n",
       "    </tr>\n",
       "    <tr>\n",
       "      <th>4</th>\n",
       "      <td>589</td>\n",
       "      <td>1015</td>\n",
       "      <td>2004-01-25</td>\n",
       "      <td>Living Room</td>\n",
       "      <td>...</td>\n",
       "      <td>0.056</td>\n",
       "      <td>0.041</td>\n",
       "      <td>0.055</td>\n",
       "      <td>0.292</td>\n",
       "    </tr>\n",
       "  </tbody>\n",
       "</table>\n",
       "<p>5 rows × 15 columns</p>\n",
       "</div>"
      ],
      "text/plain": [
       "   Onum   CID      Tdate        Pline  ...  Cdisc  Odisc  Pdisc  Tdisc\n",
       "0   585  1015 2004-01-25  Living Room  ...    NaN  0.043  0.042  0.085\n",
       "1   586  1015 2004-01-25  Living Room  ...  0.075  0.041  0.031  0.304\n",
       "2   587  1015 2004-01-25  Living Room  ...  0.048  0.053  0.021  0.122\n",
       "3   588  1015 2004-01-25  Living Room  ...  0.072    NaN  0.033  0.105\n",
       "4   589  1015 2004-01-25  Living Room  ...  0.056  0.041  0.055  0.292\n",
       "\n",
       "[5 rows x 15 columns]"
      ]
     },
     "execution_count": 56,
     "metadata": {},
     "output_type": "execute_result"
    }
   ],
   "source": [
    "orders.head()"
   ]
  },
  {
   "cell_type": "code",
   "execution_count": 54,
   "metadata": {},
   "outputs": [],
   "source": [
    "x = [ 'Ddisc', 'Odisc', 'Cdisc', 'Pdisc' ]\n",
    "orders['Tdisc'] = orders[ x ].sum(axis=1)"
   ]
  },
  {
   "cell_type": "code",
   "execution_count": 55,
   "metadata": {},
   "outputs": [
    {
     "data": {
      "text/html": [
       "<div>\n",
       "<style scoped>\n",
       "    .dataframe tbody tr th:only-of-type {\n",
       "        vertical-align: middle;\n",
       "    }\n",
       "\n",
       "    .dataframe tbody tr th {\n",
       "        vertical-align: top;\n",
       "    }\n",
       "\n",
       "    .dataframe thead th {\n",
       "        text-align: right;\n",
       "    }\n",
       "</style>\n",
       "<table border=\"1\" class=\"dataframe\">\n",
       "  <thead>\n",
       "    <tr style=\"text-align: right;\">\n",
       "      <th></th>\n",
       "      <th>Onum</th>\n",
       "      <th>CID</th>\n",
       "      <th>Tdate</th>\n",
       "      <th>Pline</th>\n",
       "      <th>...</th>\n",
       "      <th>Cdisc</th>\n",
       "      <th>Odisc</th>\n",
       "      <th>Pdisc</th>\n",
       "      <th>Tdisc</th>\n",
       "    </tr>\n",
       "  </thead>\n",
       "  <tbody>\n",
       "    <tr>\n",
       "      <th>0</th>\n",
       "      <td>585</td>\n",
       "      <td>1015</td>\n",
       "      <td>2004-01-25</td>\n",
       "      <td>Living Room</td>\n",
       "      <td>...</td>\n",
       "      <td>NaN</td>\n",
       "      <td>0.043</td>\n",
       "      <td>0.042</td>\n",
       "      <td>0.085</td>\n",
       "    </tr>\n",
       "    <tr>\n",
       "      <th>1</th>\n",
       "      <td>586</td>\n",
       "      <td>1015</td>\n",
       "      <td>2004-01-25</td>\n",
       "      <td>Living Room</td>\n",
       "      <td>...</td>\n",
       "      <td>0.075</td>\n",
       "      <td>0.041</td>\n",
       "      <td>0.031</td>\n",
       "      <td>0.304</td>\n",
       "    </tr>\n",
       "    <tr>\n",
       "      <th>2</th>\n",
       "      <td>587</td>\n",
       "      <td>1015</td>\n",
       "      <td>2004-01-25</td>\n",
       "      <td>Living Room</td>\n",
       "      <td>...</td>\n",
       "      <td>0.048</td>\n",
       "      <td>0.053</td>\n",
       "      <td>0.021</td>\n",
       "      <td>0.122</td>\n",
       "    </tr>\n",
       "    <tr>\n",
       "      <th>3</th>\n",
       "      <td>588</td>\n",
       "      <td>1015</td>\n",
       "      <td>2004-01-25</td>\n",
       "      <td>Living Room</td>\n",
       "      <td>...</td>\n",
       "      <td>0.072</td>\n",
       "      <td>NaN</td>\n",
       "      <td>0.033</td>\n",
       "      <td>0.105</td>\n",
       "    </tr>\n",
       "    <tr>\n",
       "      <th>4</th>\n",
       "      <td>589</td>\n",
       "      <td>1015</td>\n",
       "      <td>2004-01-25</td>\n",
       "      <td>Living Room</td>\n",
       "      <td>...</td>\n",
       "      <td>0.056</td>\n",
       "      <td>0.041</td>\n",
       "      <td>0.055</td>\n",
       "      <td>0.292</td>\n",
       "    </tr>\n",
       "  </tbody>\n",
       "</table>\n",
       "<p>5 rows × 15 columns</p>\n",
       "</div>"
      ],
      "text/plain": [
       "   Onum   CID      Tdate        Pline  ...  Cdisc  Odisc  Pdisc  Tdisc\n",
       "0   585  1015 2004-01-25  Living Room  ...    NaN  0.043  0.042  0.085\n",
       "1   586  1015 2004-01-25  Living Room  ...  0.075  0.041  0.031  0.304\n",
       "2   587  1015 2004-01-25  Living Room  ...  0.048  0.053  0.021  0.122\n",
       "3   588  1015 2004-01-25  Living Room  ...  0.072    NaN  0.033  0.105\n",
       "4   589  1015 2004-01-25  Living Room  ...  0.056  0.041  0.055  0.292\n",
       "\n",
       "[5 rows x 15 columns]"
      ]
     },
     "execution_count": 55,
     "metadata": {},
     "output_type": "execute_result"
    }
   ],
   "source": [
    "orders.head()"
   ]
  },
  {
   "cell_type": "code",
   "execution_count": 57,
   "metadata": {},
   "outputs": [],
   "source": [
    "x.append('Tdisc')"
   ]
  },
  {
   "cell_type": "code",
   "execution_count": 58,
   "metadata": {},
   "outputs": [
    {
     "data": {
      "text/plain": [
       "['Ddisc', 'Odisc', 'Cdisc', 'Pdisc', 'Tdisc']"
      ]
     },
     "execution_count": 58,
     "metadata": {},
     "output_type": "execute_result"
    }
   ],
   "source": [
    "x"
   ]
  },
  {
   "cell_type": "code",
   "execution_count": 60,
   "metadata": {},
   "outputs": [
    {
     "data": {
      "text/html": [
       "<div>\n",
       "<style scoped>\n",
       "    .dataframe tbody tr th:only-of-type {\n",
       "        vertical-align: middle;\n",
       "    }\n",
       "\n",
       "    .dataframe tbody tr th {\n",
       "        vertical-align: top;\n",
       "    }\n",
       "\n",
       "    .dataframe thead th {\n",
       "        text-align: right;\n",
       "    }\n",
       "</style>\n",
       "<table border=\"1\" class=\"dataframe\">\n",
       "  <thead>\n",
       "    <tr style=\"text-align: right;\">\n",
       "      <th></th>\n",
       "      <th>Ddisc</th>\n",
       "      <th>Odisc</th>\n",
       "      <th>Cdisc</th>\n",
       "      <th>Pdisc</th>\n",
       "      <th>Tdisc</th>\n",
       "    </tr>\n",
       "  </thead>\n",
       "  <tbody>\n",
       "    <tr>\n",
       "      <th>0</th>\n",
       "      <td>NaN</td>\n",
       "      <td>0.043</td>\n",
       "      <td>NaN</td>\n",
       "      <td>0.042</td>\n",
       "      <td>0.085</td>\n",
       "    </tr>\n",
       "    <tr>\n",
       "      <th>1</th>\n",
       "      <td>0.157</td>\n",
       "      <td>0.041</td>\n",
       "      <td>0.075</td>\n",
       "      <td>0.031</td>\n",
       "      <td>0.304</td>\n",
       "    </tr>\n",
       "    <tr>\n",
       "      <th>2</th>\n",
       "      <td>NaN</td>\n",
       "      <td>0.053</td>\n",
       "      <td>0.048</td>\n",
       "      <td>0.021</td>\n",
       "      <td>0.122</td>\n",
       "    </tr>\n",
       "    <tr>\n",
       "      <th>3</th>\n",
       "      <td>NaN</td>\n",
       "      <td>NaN</td>\n",
       "      <td>0.072</td>\n",
       "      <td>0.033</td>\n",
       "      <td>0.105</td>\n",
       "    </tr>\n",
       "    <tr>\n",
       "      <th>4</th>\n",
       "      <td>0.140</td>\n",
       "      <td>0.041</td>\n",
       "      <td>0.056</td>\n",
       "      <td>0.055</td>\n",
       "      <td>0.292</td>\n",
       "    </tr>\n",
       "  </tbody>\n",
       "</table>\n",
       "</div>"
      ],
      "text/plain": [
       "   Ddisc  Odisc  Cdisc  Pdisc  Tdisc\n",
       "0    NaN  0.043    NaN  0.042  0.085\n",
       "1  0.157  0.041  0.075  0.031  0.304\n",
       "2    NaN  0.053  0.048  0.021  0.122\n",
       "3    NaN    NaN  0.072  0.033  0.105\n",
       "4  0.140  0.041  0.056  0.055  0.292"
      ]
     },
     "execution_count": 60,
     "metadata": {},
     "output_type": "execute_result"
    }
   ],
   "source": [
    "orders[x].head()"
   ]
  },
  {
   "cell_type": "markdown",
   "metadata": {},
   "source": [
    "#### Create Pocket Price"
   ]
  },
  {
   "cell_type": "code",
   "execution_count": 61,
   "metadata": {},
   "outputs": [
    {
     "data": {
      "text/html": [
       "<div>\n",
       "<style scoped>\n",
       "    .dataframe tbody tr th:only-of-type {\n",
       "        vertical-align: middle;\n",
       "    }\n",
       "\n",
       "    .dataframe tbody tr th {\n",
       "        vertical-align: top;\n",
       "    }\n",
       "\n",
       "    .dataframe thead th {\n",
       "        text-align: right;\n",
       "    }\n",
       "</style>\n",
       "<table border=\"1\" class=\"dataframe\">\n",
       "  <thead>\n",
       "    <tr style=\"text-align: right;\">\n",
       "      <th></th>\n",
       "      <th>Onum</th>\n",
       "      <th>CID</th>\n",
       "      <th>Tdate</th>\n",
       "      <th>Pline</th>\n",
       "      <th>...</th>\n",
       "      <th>Cdisc</th>\n",
       "      <th>Odisc</th>\n",
       "      <th>Pdisc</th>\n",
       "      <th>Tdisc</th>\n",
       "    </tr>\n",
       "  </thead>\n",
       "  <tbody>\n",
       "    <tr>\n",
       "      <th>0</th>\n",
       "      <td>585</td>\n",
       "      <td>1015</td>\n",
       "      <td>2004-01-25</td>\n",
       "      <td>Living Room</td>\n",
       "      <td>...</td>\n",
       "      <td>NaN</td>\n",
       "      <td>0.043</td>\n",
       "      <td>0.042</td>\n",
       "      <td>0.085</td>\n",
       "    </tr>\n",
       "    <tr>\n",
       "      <th>1</th>\n",
       "      <td>586</td>\n",
       "      <td>1015</td>\n",
       "      <td>2004-01-25</td>\n",
       "      <td>Living Room</td>\n",
       "      <td>...</td>\n",
       "      <td>0.075</td>\n",
       "      <td>0.041</td>\n",
       "      <td>0.031</td>\n",
       "      <td>0.304</td>\n",
       "    </tr>\n",
       "    <tr>\n",
       "      <th>2</th>\n",
       "      <td>587</td>\n",
       "      <td>1015</td>\n",
       "      <td>2004-01-25</td>\n",
       "      <td>Living Room</td>\n",
       "      <td>...</td>\n",
       "      <td>0.048</td>\n",
       "      <td>0.053</td>\n",
       "      <td>0.021</td>\n",
       "      <td>0.122</td>\n",
       "    </tr>\n",
       "    <tr>\n",
       "      <th>3</th>\n",
       "      <td>588</td>\n",
       "      <td>1015</td>\n",
       "      <td>2004-01-25</td>\n",
       "      <td>Living Room</td>\n",
       "      <td>...</td>\n",
       "      <td>0.072</td>\n",
       "      <td>NaN</td>\n",
       "      <td>0.033</td>\n",
       "      <td>0.105</td>\n",
       "    </tr>\n",
       "    <tr>\n",
       "      <th>4</th>\n",
       "      <td>589</td>\n",
       "      <td>1015</td>\n",
       "      <td>2004-01-25</td>\n",
       "      <td>Living Room</td>\n",
       "      <td>...</td>\n",
       "      <td>0.056</td>\n",
       "      <td>0.041</td>\n",
       "      <td>0.055</td>\n",
       "      <td>0.292</td>\n",
       "    </tr>\n",
       "  </tbody>\n",
       "</table>\n",
       "<p>5 rows × 15 columns</p>\n",
       "</div>"
      ],
      "text/plain": [
       "   Onum   CID      Tdate        Pline  ...  Cdisc  Odisc  Pdisc  Tdisc\n",
       "0   585  1015 2004-01-25  Living Room  ...    NaN  0.043  0.042  0.085\n",
       "1   586  1015 2004-01-25  Living Room  ...  0.075  0.041  0.031  0.304\n",
       "2   587  1015 2004-01-25  Living Room  ...  0.048  0.053  0.021  0.122\n",
       "3   588  1015 2004-01-25  Living Room  ...  0.072    NaN  0.033  0.105\n",
       "4   589  1015 2004-01-25  Living Room  ...  0.056  0.041  0.055  0.292\n",
       "\n",
       "[5 rows x 15 columns]"
      ]
     },
     "execution_count": 61,
     "metadata": {},
     "output_type": "execute_result"
    }
   ],
   "source": [
    "orders.head()"
   ]
  },
  {
   "cell_type": "code",
   "execution_count": 62,
   "metadata": {},
   "outputs": [
    {
     "data": {
      "text/plain": [
       "Index(['Onum', 'CID', 'Tdate', 'Pline', 'Pclass', 'Usales', 'Return',\n",
       "       'returnAmount', 'Mcost', 'Lprice', 'Ddisc', 'Cdisc', 'Odisc', 'Pdisc',\n",
       "       'Tdisc'],\n",
       "      dtype='object')"
      ]
     },
     "execution_count": 62,
     "metadata": {},
     "output_type": "execute_result"
    }
   ],
   "source": [
    "orders.columns"
   ]
  },
  {
   "cell_type": "code",
   "execution_count": 64,
   "metadata": {},
   "outputs": [],
   "source": [
    "orders['Pprice'] = orders['Lprice']*(1-orders['Tdisc'])"
   ]
  },
  {
   "cell_type": "code",
   "execution_count": 66,
   "metadata": {},
   "outputs": [
    {
     "data": {
      "text/html": [
       "<div>\n",
       "<style scoped>\n",
       "    .dataframe tbody tr th:only-of-type {\n",
       "        vertical-align: middle;\n",
       "    }\n",
       "\n",
       "    .dataframe tbody tr th {\n",
       "        vertical-align: top;\n",
       "    }\n",
       "\n",
       "    .dataframe thead th {\n",
       "        text-align: right;\n",
       "    }\n",
       "</style>\n",
       "<table border=\"1\" class=\"dataframe\">\n",
       "  <thead>\n",
       "    <tr style=\"text-align: right;\">\n",
       "      <th></th>\n",
       "      <th>Onum</th>\n",
       "      <th>CID</th>\n",
       "      <th>Tdate</th>\n",
       "      <th>Pline</th>\n",
       "      <th>...</th>\n",
       "      <th>Odisc</th>\n",
       "      <th>Pdisc</th>\n",
       "      <th>Tdisc</th>\n",
       "      <th>Pprice</th>\n",
       "    </tr>\n",
       "  </thead>\n",
       "  <tbody>\n",
       "    <tr>\n",
       "      <th>0</th>\n",
       "      <td>585</td>\n",
       "      <td>1015</td>\n",
       "      <td>2004-01-25</td>\n",
       "      <td>Living Room</td>\n",
       "      <td>...</td>\n",
       "      <td>0.043</td>\n",
       "      <td>0.042</td>\n",
       "      <td>0.085</td>\n",
       "      <td>4.9410</td>\n",
       "    </tr>\n",
       "    <tr>\n",
       "      <th>1</th>\n",
       "      <td>586</td>\n",
       "      <td>1015</td>\n",
       "      <td>2004-01-25</td>\n",
       "      <td>Living Room</td>\n",
       "      <td>...</td>\n",
       "      <td>0.041</td>\n",
       "      <td>0.031</td>\n",
       "      <td>0.304</td>\n",
       "      <td>3.7584</td>\n",
       "    </tr>\n",
       "    <tr>\n",
       "      <th>2</th>\n",
       "      <td>587</td>\n",
       "      <td>1015</td>\n",
       "      <td>2004-01-25</td>\n",
       "      <td>Living Room</td>\n",
       "      <td>...</td>\n",
       "      <td>0.053</td>\n",
       "      <td>0.021</td>\n",
       "      <td>0.122</td>\n",
       "      <td>4.7412</td>\n",
       "    </tr>\n",
       "    <tr>\n",
       "      <th>3</th>\n",
       "      <td>588</td>\n",
       "      <td>1015</td>\n",
       "      <td>2004-01-25</td>\n",
       "      <td>Living Room</td>\n",
       "      <td>...</td>\n",
       "      <td>NaN</td>\n",
       "      <td>0.033</td>\n",
       "      <td>0.105</td>\n",
       "      <td>4.8330</td>\n",
       "    </tr>\n",
       "    <tr>\n",
       "      <th>4</th>\n",
       "      <td>589</td>\n",
       "      <td>1015</td>\n",
       "      <td>2004-01-25</td>\n",
       "      <td>Living Room</td>\n",
       "      <td>...</td>\n",
       "      <td>0.041</td>\n",
       "      <td>0.055</td>\n",
       "      <td>0.292</td>\n",
       "      <td>3.8232</td>\n",
       "    </tr>\n",
       "  </tbody>\n",
       "</table>\n",
       "<p>5 rows × 16 columns</p>\n",
       "</div>"
      ],
      "text/plain": [
       "   Onum   CID      Tdate        Pline  ...  Odisc  Pdisc  Tdisc  Pprice\n",
       "0   585  1015 2004-01-25  Living Room  ...  0.043  0.042  0.085  4.9410\n",
       "1   586  1015 2004-01-25  Living Room  ...  0.041  0.031  0.304  3.7584\n",
       "2   587  1015 2004-01-25  Living Room  ...  0.053  0.021  0.122  4.7412\n",
       "3   588  1015 2004-01-25  Living Room  ...    NaN  0.033  0.105  4.8330\n",
       "4   589  1015 2004-01-25  Living Room  ...  0.041  0.055  0.292  3.8232\n",
       "\n",
       "[5 rows x 16 columns]"
      ]
     },
     "execution_count": 66,
     "metadata": {},
     "output_type": "execute_result"
    }
   ],
   "source": [
    "orders.head()"
   ]
  },
  {
   "cell_type": "markdown",
   "metadata": {},
   "source": [
    "#### Create Revenue"
   ]
  },
  {
   "cell_type": "code",
   "execution_count": 68,
   "metadata": {},
   "outputs": [
    {
     "data": {
      "text/plain": [
       "Index(['Onum', 'CID', 'Tdate', 'Pline', 'Pclass', 'Usales', 'Return',\n",
       "       'returnAmount', 'Mcost', 'Lprice', 'Ddisc', 'Cdisc', 'Odisc', 'Pdisc',\n",
       "       'Tdisc', 'Pprice'],\n",
       "      dtype='object')"
      ]
     },
     "execution_count": 68,
     "metadata": {},
     "output_type": "execute_result"
    }
   ],
   "source": [
    "orders.columns"
   ]
  },
  {
   "cell_type": "code",
   "execution_count": 70,
   "metadata": {},
   "outputs": [],
   "source": [
    "orders['Rev'] = orders['Usales'] * orders['Pprice']"
   ]
  },
  {
   "cell_type": "markdown",
   "metadata": {},
   "source": [
    "#### Create Con"
   ]
  },
  {
   "cell_type": "code",
   "execution_count": 72,
   "metadata": {},
   "outputs": [
    {
     "data": {
      "text/html": [
       "<div>\n",
       "<style scoped>\n",
       "    .dataframe tbody tr th:only-of-type {\n",
       "        vertical-align: middle;\n",
       "    }\n",
       "\n",
       "    .dataframe tbody tr th {\n",
       "        vertical-align: top;\n",
       "    }\n",
       "\n",
       "    .dataframe thead th {\n",
       "        text-align: right;\n",
       "    }\n",
       "</style>\n",
       "<table border=\"1\" class=\"dataframe\">\n",
       "  <thead>\n",
       "    <tr style=\"text-align: right;\">\n",
       "      <th></th>\n",
       "      <th>Onum</th>\n",
       "      <th>CID</th>\n",
       "      <th>Tdate</th>\n",
       "      <th>Pline</th>\n",
       "      <th>Pclass</th>\n",
       "      <th>Usales</th>\n",
       "      <th>Return</th>\n",
       "      <th>returnAmount</th>\n",
       "      <th>Mcost</th>\n",
       "      <th>Lprice</th>\n",
       "      <th>Ddisc</th>\n",
       "      <th>Cdisc</th>\n",
       "      <th>Odisc</th>\n",
       "      <th>Pdisc</th>\n",
       "      <th>Tdisc</th>\n",
       "      <th>Pprice</th>\n",
       "      <th>Rev</th>\n",
       "    </tr>\n",
       "  </thead>\n",
       "  <tbody>\n",
       "    <tr>\n",
       "      <th>0</th>\n",
       "      <td>585</td>\n",
       "      <td>1015</td>\n",
       "      <td>2004-01-25</td>\n",
       "      <td>Living Room</td>\n",
       "      <td>Window Treatment: Blinds</td>\n",
       "      <td>36</td>\n",
       "      <td>No</td>\n",
       "      <td>0</td>\n",
       "      <td>0.95</td>\n",
       "      <td>5.4</td>\n",
       "      <td>NaN</td>\n",
       "      <td>NaN</td>\n",
       "      <td>0.043</td>\n",
       "      <td>0.042</td>\n",
       "      <td>0.085</td>\n",
       "      <td>4.9410</td>\n",
       "      <td>177.8760</td>\n",
       "    </tr>\n",
       "    <tr>\n",
       "      <th>1</th>\n",
       "      <td>586</td>\n",
       "      <td>1015</td>\n",
       "      <td>2004-01-25</td>\n",
       "      <td>Living Room</td>\n",
       "      <td>Window Treatment: Blinds</td>\n",
       "      <td>57</td>\n",
       "      <td>No</td>\n",
       "      <td>0</td>\n",
       "      <td>0.95</td>\n",
       "      <td>5.4</td>\n",
       "      <td>0.157</td>\n",
       "      <td>0.075</td>\n",
       "      <td>0.041</td>\n",
       "      <td>0.031</td>\n",
       "      <td>0.304</td>\n",
       "      <td>3.7584</td>\n",
       "      <td>214.2288</td>\n",
       "    </tr>\n",
       "    <tr>\n",
       "      <th>2</th>\n",
       "      <td>587</td>\n",
       "      <td>1015</td>\n",
       "      <td>2004-01-25</td>\n",
       "      <td>Living Room</td>\n",
       "      <td>Window Treatment: Blinds</td>\n",
       "      <td>27</td>\n",
       "      <td>No</td>\n",
       "      <td>0</td>\n",
       "      <td>0.95</td>\n",
       "      <td>5.4</td>\n",
       "      <td>NaN</td>\n",
       "      <td>0.048</td>\n",
       "      <td>0.053</td>\n",
       "      <td>0.021</td>\n",
       "      <td>0.122</td>\n",
       "      <td>4.7412</td>\n",
       "      <td>128.0124</td>\n",
       "    </tr>\n",
       "    <tr>\n",
       "      <th>3</th>\n",
       "      <td>588</td>\n",
       "      <td>1015</td>\n",
       "      <td>2004-01-25</td>\n",
       "      <td>Living Room</td>\n",
       "      <td>Window Treatment: Blinds</td>\n",
       "      <td>21</td>\n",
       "      <td>No</td>\n",
       "      <td>0</td>\n",
       "      <td>0.95</td>\n",
       "      <td>5.4</td>\n",
       "      <td>NaN</td>\n",
       "      <td>0.072</td>\n",
       "      <td>NaN</td>\n",
       "      <td>0.033</td>\n",
       "      <td>0.105</td>\n",
       "      <td>4.8330</td>\n",
       "      <td>101.4930</td>\n",
       "    </tr>\n",
       "    <tr>\n",
       "      <th>4</th>\n",
       "      <td>589</td>\n",
       "      <td>1015</td>\n",
       "      <td>2004-01-25</td>\n",
       "      <td>Living Room</td>\n",
       "      <td>Window Treatment: Blinds</td>\n",
       "      <td>56</td>\n",
       "      <td>No</td>\n",
       "      <td>0</td>\n",
       "      <td>0.95</td>\n",
       "      <td>5.4</td>\n",
       "      <td>0.140</td>\n",
       "      <td>0.056</td>\n",
       "      <td>0.041</td>\n",
       "      <td>0.055</td>\n",
       "      <td>0.292</td>\n",
       "      <td>3.8232</td>\n",
       "      <td>214.0992</td>\n",
       "    </tr>\n",
       "  </tbody>\n",
       "</table>\n",
       "</div>"
      ],
      "text/plain": [
       "   Onum   CID      Tdate        Pline                    Pclass  Usales  \\\n",
       "0   585  1015 2004-01-25  Living Room  Window Treatment: Blinds      36   \n",
       "1   586  1015 2004-01-25  Living Room  Window Treatment: Blinds      57   \n",
       "2   587  1015 2004-01-25  Living Room  Window Treatment: Blinds      27   \n",
       "3   588  1015 2004-01-25  Living Room  Window Treatment: Blinds      21   \n",
       "4   589  1015 2004-01-25  Living Room  Window Treatment: Blinds      56   \n",
       "\n",
       "  Return  returnAmount  Mcost  Lprice  Ddisc  Cdisc  Odisc  Pdisc  Tdisc  \\\n",
       "0     No             0   0.95     5.4    NaN    NaN  0.043  0.042  0.085   \n",
       "1     No             0   0.95     5.4  0.157  0.075  0.041  0.031  0.304   \n",
       "2     No             0   0.95     5.4    NaN  0.048  0.053  0.021  0.122   \n",
       "3     No             0   0.95     5.4    NaN  0.072    NaN  0.033  0.105   \n",
       "4     No             0   0.95     5.4  0.140  0.056  0.041  0.055  0.292   \n",
       "\n",
       "   Pprice       Rev  \n",
       "0  4.9410  177.8760  \n",
       "1  3.7584  214.2288  \n",
       "2  4.7412  128.0124  \n",
       "3  4.8330  101.4930  \n",
       "4  3.8232  214.0992  "
      ]
     },
     "execution_count": 72,
     "metadata": {},
     "output_type": "execute_result"
    }
   ],
   "source": [
    "orders.head()"
   ]
  },
  {
   "cell_type": "code",
   "execution_count": 73,
   "metadata": {},
   "outputs": [],
   "source": [
    "orders['Con'] = orders['Rev'] - orders['Mcost']"
   ]
  },
  {
   "cell_type": "code",
   "execution_count": 87,
   "metadata": {},
   "outputs": [
    {
     "data": {
      "text/html": [
       "<div>\n",
       "<style scoped>\n",
       "    .dataframe tbody tr th:only-of-type {\n",
       "        vertical-align: middle;\n",
       "    }\n",
       "\n",
       "    .dataframe tbody tr th {\n",
       "        vertical-align: top;\n",
       "    }\n",
       "\n",
       "    .dataframe thead th {\n",
       "        text-align: right;\n",
       "    }\n",
       "</style>\n",
       "<table border=\"1\" class=\"dataframe\">\n",
       "  <thead>\n",
       "    <tr style=\"text-align: right;\">\n",
       "      <th></th>\n",
       "      <th>Con</th>\n",
       "      <th>Rev</th>\n",
       "      <th>Mcost</th>\n",
       "    </tr>\n",
       "  </thead>\n",
       "  <tbody>\n",
       "    <tr>\n",
       "      <th>0</th>\n",
       "      <td>176.9260</td>\n",
       "      <td>177.8760</td>\n",
       "      <td>0.95</td>\n",
       "    </tr>\n",
       "    <tr>\n",
       "      <th>1</th>\n",
       "      <td>213.2788</td>\n",
       "      <td>214.2288</td>\n",
       "      <td>0.95</td>\n",
       "    </tr>\n",
       "    <tr>\n",
       "      <th>2</th>\n",
       "      <td>127.0624</td>\n",
       "      <td>128.0124</td>\n",
       "      <td>0.95</td>\n",
       "    </tr>\n",
       "    <tr>\n",
       "      <th>3</th>\n",
       "      <td>100.5430</td>\n",
       "      <td>101.4930</td>\n",
       "      <td>0.95</td>\n",
       "    </tr>\n",
       "    <tr>\n",
       "      <th>4</th>\n",
       "      <td>213.1492</td>\n",
       "      <td>214.0992</td>\n",
       "      <td>0.95</td>\n",
       "    </tr>\n",
       "  </tbody>\n",
       "</table>\n",
       "</div>"
      ],
      "text/plain": [
       "        Con       Rev  Mcost\n",
       "0  176.9260  177.8760   0.95\n",
       "1  213.2788  214.2288   0.95\n",
       "2  127.0624  128.0124   0.95\n",
       "3  100.5430  101.4930   0.95\n",
       "4  213.1492  214.0992   0.95"
      ]
     },
     "execution_count": 87,
     "metadata": {},
     "output_type": "execute_result"
    }
   ],
   "source": [
    "x=['Con','Rev','Mcost']\n",
    "orders[x].head()"
   ]
  },
  {
   "cell_type": "markdown",
   "metadata": {},
   "source": [
    "#### Create Contribution Margin"
   ]
  },
  {
   "cell_type": "code",
   "execution_count": 75,
   "metadata": {},
   "outputs": [],
   "source": [
    "orders['CM'] = orders['Con']/orders['Rev']"
   ]
  },
  {
   "cell_type": "code",
   "execution_count": 86,
   "metadata": {},
   "outputs": [
    {
     "data": {
      "text/html": [
       "<div>\n",
       "<style scoped>\n",
       "    .dataframe tbody tr th:only-of-type {\n",
       "        vertical-align: middle;\n",
       "    }\n",
       "\n",
       "    .dataframe tbody tr th {\n",
       "        vertical-align: top;\n",
       "    }\n",
       "\n",
       "    .dataframe thead th {\n",
       "        text-align: right;\n",
       "    }\n",
       "</style>\n",
       "<table border=\"1\" class=\"dataframe\">\n",
       "  <thead>\n",
       "    <tr style=\"text-align: right;\">\n",
       "      <th></th>\n",
       "      <th>Con</th>\n",
       "      <th>Rev</th>\n",
       "      <th>CM</th>\n",
       "    </tr>\n",
       "  </thead>\n",
       "  <tbody>\n",
       "    <tr>\n",
       "      <th>0</th>\n",
       "      <td>176.9260</td>\n",
       "      <td>177.8760</td>\n",
       "      <td>0.994659</td>\n",
       "    </tr>\n",
       "    <tr>\n",
       "      <th>1</th>\n",
       "      <td>213.2788</td>\n",
       "      <td>214.2288</td>\n",
       "      <td>0.995565</td>\n",
       "    </tr>\n",
       "    <tr>\n",
       "      <th>2</th>\n",
       "      <td>127.0624</td>\n",
       "      <td>128.0124</td>\n",
       "      <td>0.992579</td>\n",
       "    </tr>\n",
       "    <tr>\n",
       "      <th>3</th>\n",
       "      <td>100.5430</td>\n",
       "      <td>101.4930</td>\n",
       "      <td>0.990640</td>\n",
       "    </tr>\n",
       "    <tr>\n",
       "      <th>4</th>\n",
       "      <td>213.1492</td>\n",
       "      <td>214.0992</td>\n",
       "      <td>0.995563</td>\n",
       "    </tr>\n",
       "    <tr>\n",
       "      <th>5</th>\n",
       "      <td>353.7220</td>\n",
       "      <td>354.6720</td>\n",
       "      <td>0.997321</td>\n",
       "    </tr>\n",
       "    <tr>\n",
       "      <th>6</th>\n",
       "      <td>217.8148</td>\n",
       "      <td>218.7648</td>\n",
       "      <td>0.995657</td>\n",
       "    </tr>\n",
       "    <tr>\n",
       "      <th>7</th>\n",
       "      <td>248.8324</td>\n",
       "      <td>249.7824</td>\n",
       "      <td>0.996197</td>\n",
       "    </tr>\n",
       "    <tr>\n",
       "      <th>8</th>\n",
       "      <td>811.5232</td>\n",
       "      <td>812.4732</td>\n",
       "      <td>0.998831</td>\n",
       "    </tr>\n",
       "    <tr>\n",
       "      <th>9</th>\n",
       "      <td>345.8380</td>\n",
       "      <td>346.7880</td>\n",
       "      <td>0.997261</td>\n",
       "    </tr>\n",
       "  </tbody>\n",
       "</table>\n",
       "</div>"
      ],
      "text/plain": [
       "        Con       Rev        CM\n",
       "0  176.9260  177.8760  0.994659\n",
       "1  213.2788  214.2288  0.995565\n",
       "2  127.0624  128.0124  0.992579\n",
       "3  100.5430  101.4930  0.990640\n",
       "4  213.1492  214.0992  0.995563\n",
       "5  353.7220  354.6720  0.997321\n",
       "6  217.8148  218.7648  0.995657\n",
       "7  248.8324  249.7824  0.996197\n",
       "8  811.5232  812.4732  0.998831\n",
       "9  345.8380  346.7880  0.997261"
      ]
     },
     "execution_count": 86,
     "metadata": {},
     "output_type": "execute_result"
    }
   ],
   "source": [
    "x=['Con','Rev','CM']\n",
    "orders[x].head(10)"
   ]
  },
  {
   "cell_type": "code",
   "execution_count": 77,
   "metadata": {},
   "outputs": [
    {
     "data": {
      "text/plain": [
       "Index(['Onum', 'CID', 'Tdate', 'Pline', 'Pclass', 'Usales', 'Return',\n",
       "       'returnAmount', 'Mcost', 'Lprice', 'Ddisc', 'Cdisc', 'Odisc', 'Pdisc',\n",
       "       'Tdisc', 'Pprice', 'Rev', 'Con', 'CM'],\n",
       "      dtype='object')"
      ]
     },
     "execution_count": 77,
     "metadata": {},
     "output_type": "execute_result"
    }
   ],
   "source": [
    "orders.columns"
   ]
  },
  {
   "cell_type": "code",
   "execution_count": 80,
   "metadata": {},
   "outputs": [],
   "source": [
    "orders['netRev']=(orders['Usales'] - orders['returnAmount']) * orders['Pprice']"
   ]
  },
  {
   "cell_type": "code",
   "execution_count": 84,
   "metadata": {},
   "outputs": [
    {
     "data": {
      "text/html": [
       "<div>\n",
       "<style scoped>\n",
       "    .dataframe tbody tr th:only-of-type {\n",
       "        vertical-align: middle;\n",
       "    }\n",
       "\n",
       "    .dataframe tbody tr th {\n",
       "        vertical-align: top;\n",
       "    }\n",
       "\n",
       "    .dataframe thead th {\n",
       "        text-align: right;\n",
       "    }\n",
       "</style>\n",
       "<table border=\"1\" class=\"dataframe\">\n",
       "  <thead>\n",
       "    <tr style=\"text-align: right;\">\n",
       "      <th></th>\n",
       "      <th>netRev</th>\n",
       "      <th>Usales</th>\n",
       "      <th>returnAmount</th>\n",
       "      <th>Pprice</th>\n",
       "    </tr>\n",
       "  </thead>\n",
       "  <tbody>\n",
       "    <tr>\n",
       "      <th>0</th>\n",
       "      <td>177.8760</td>\n",
       "      <td>36</td>\n",
       "      <td>0</td>\n",
       "      <td>4.9410</td>\n",
       "    </tr>\n",
       "    <tr>\n",
       "      <th>1</th>\n",
       "      <td>214.2288</td>\n",
       "      <td>57</td>\n",
       "      <td>0</td>\n",
       "      <td>3.7584</td>\n",
       "    </tr>\n",
       "    <tr>\n",
       "      <th>2</th>\n",
       "      <td>128.0124</td>\n",
       "      <td>27</td>\n",
       "      <td>0</td>\n",
       "      <td>4.7412</td>\n",
       "    </tr>\n",
       "    <tr>\n",
       "      <th>3</th>\n",
       "      <td>101.4930</td>\n",
       "      <td>21</td>\n",
       "      <td>0</td>\n",
       "      <td>4.8330</td>\n",
       "    </tr>\n",
       "    <tr>\n",
       "      <th>4</th>\n",
       "      <td>214.0992</td>\n",
       "      <td>56</td>\n",
       "      <td>0</td>\n",
       "      <td>3.8232</td>\n",
       "    </tr>\n",
       "    <tr>\n",
       "      <th>5</th>\n",
       "      <td>354.6720</td>\n",
       "      <td>80</td>\n",
       "      <td>0</td>\n",
       "      <td>4.4334</td>\n",
       "    </tr>\n",
       "    <tr>\n",
       "      <th>6</th>\n",
       "      <td>218.7648</td>\n",
       "      <td>64</td>\n",
       "      <td>0</td>\n",
       "      <td>3.4182</td>\n",
       "    </tr>\n",
       "    <tr>\n",
       "      <th>7</th>\n",
       "      <td>249.7824</td>\n",
       "      <td>49</td>\n",
       "      <td>0</td>\n",
       "      <td>5.0976</td>\n",
       "    </tr>\n",
       "    <tr>\n",
       "      <th>8</th>\n",
       "      <td>812.4732</td>\n",
       "      <td>154</td>\n",
       "      <td>0</td>\n",
       "      <td>5.2758</td>\n",
       "    </tr>\n",
       "    <tr>\n",
       "      <th>9</th>\n",
       "      <td>346.7880</td>\n",
       "      <td>76</td>\n",
       "      <td>0</td>\n",
       "      <td>4.5630</td>\n",
       "    </tr>\n",
       "  </tbody>\n",
       "</table>\n",
       "</div>"
      ],
      "text/plain": [
       "     netRev  Usales  returnAmount  Pprice\n",
       "0  177.8760      36             0  4.9410\n",
       "1  214.2288      57             0  3.7584\n",
       "2  128.0124      27             0  4.7412\n",
       "3  101.4930      21             0  4.8330\n",
       "4  214.0992      56             0  3.8232\n",
       "5  354.6720      80             0  4.4334\n",
       "6  218.7648      64             0  3.4182\n",
       "7  249.7824      49             0  5.0976\n",
       "8  812.4732     154             0  5.2758\n",
       "9  346.7880      76             0  4.5630"
      ]
     },
     "execution_count": 84,
     "metadata": {},
     "output_type": "execute_result"
    }
   ],
   "source": [
    "x = ['netRev','Usales','returnAmount','Pprice']\n",
    "orders[x].head(10)"
   ]
  },
  {
   "cell_type": "markdown",
   "metadata": {},
   "source": [
    "#### Create lost rev"
   ]
  },
  {
   "cell_type": "code",
   "execution_count": 100,
   "metadata": {},
   "outputs": [],
   "source": [
    "orders[ 'lostRev' ] = orders.Rev - orders.netRev"
   ]
  },
  {
   "cell_type": "code",
   "execution_count": 101,
   "metadata": {},
   "outputs": [],
   "source": [
    "x.append('lostRev')"
   ]
  },
  {
   "cell_type": "code",
   "execution_count": 103,
   "metadata": {},
   "outputs": [
    {
     "data": {
      "text/html": [
       "<div>\n",
       "<style scoped>\n",
       "    .dataframe tbody tr th:only-of-type {\n",
       "        vertical-align: middle;\n",
       "    }\n",
       "\n",
       "    .dataframe tbody tr th {\n",
       "        vertical-align: top;\n",
       "    }\n",
       "\n",
       "    .dataframe thead th {\n",
       "        text-align: right;\n",
       "    }\n",
       "</style>\n",
       "<table border=\"1\" class=\"dataframe\">\n",
       "  <thead>\n",
       "    <tr style=\"text-align: right;\">\n",
       "      <th></th>\n",
       "      <th>Con</th>\n",
       "      <th>Rev</th>\n",
       "      <th>Mcost</th>\n",
       "      <th>lostRev</th>\n",
       "    </tr>\n",
       "  </thead>\n",
       "  <tbody>\n",
       "    <tr>\n",
       "      <th>0</th>\n",
       "      <td>176.9260</td>\n",
       "      <td>177.8760</td>\n",
       "      <td>0.95</td>\n",
       "      <td>0.0</td>\n",
       "    </tr>\n",
       "    <tr>\n",
       "      <th>1</th>\n",
       "      <td>213.2788</td>\n",
       "      <td>214.2288</td>\n",
       "      <td>0.95</td>\n",
       "      <td>0.0</td>\n",
       "    </tr>\n",
       "    <tr>\n",
       "      <th>2</th>\n",
       "      <td>127.0624</td>\n",
       "      <td>128.0124</td>\n",
       "      <td>0.95</td>\n",
       "      <td>0.0</td>\n",
       "    </tr>\n",
       "    <tr>\n",
       "      <th>3</th>\n",
       "      <td>100.5430</td>\n",
       "      <td>101.4930</td>\n",
       "      <td>0.95</td>\n",
       "      <td>0.0</td>\n",
       "    </tr>\n",
       "    <tr>\n",
       "      <th>4</th>\n",
       "      <td>213.1492</td>\n",
       "      <td>214.0992</td>\n",
       "      <td>0.95</td>\n",
       "      <td>0.0</td>\n",
       "    </tr>\n",
       "  </tbody>\n",
       "</table>\n",
       "</div>"
      ],
      "text/plain": [
       "        Con       Rev  Mcost  lostRev\n",
       "0  176.9260  177.8760   0.95      0.0\n",
       "1  213.2788  214.2288   0.95      0.0\n",
       "2  127.0624  128.0124   0.95      0.0\n",
       "3  100.5430  101.4930   0.95      0.0\n",
       "4  213.1492  214.0992   0.95      0.0"
      ]
     },
     "execution_count": 103,
     "metadata": {},
     "output_type": "execute_result"
    }
   ],
   "source": [
    "orders[x].head()"
   ]
  },
  {
   "cell_type": "markdown",
   "metadata": {},
   "source": [
    "#### All columns created"
   ]
  },
  {
   "cell_type": "code",
   "execution_count": 81,
   "metadata": {},
   "outputs": [
    {
     "data": {
      "text/html": [
       "<div>\n",
       "<style scoped>\n",
       "    .dataframe tbody tr th:only-of-type {\n",
       "        vertical-align: middle;\n",
       "    }\n",
       "\n",
       "    .dataframe tbody tr th {\n",
       "        vertical-align: top;\n",
       "    }\n",
       "\n",
       "    .dataframe thead th {\n",
       "        text-align: right;\n",
       "    }\n",
       "</style>\n",
       "<table border=\"1\" class=\"dataframe\">\n",
       "  <thead>\n",
       "    <tr style=\"text-align: right;\">\n",
       "      <th></th>\n",
       "      <th>Onum</th>\n",
       "      <th>CID</th>\n",
       "      <th>Tdate</th>\n",
       "      <th>Pline</th>\n",
       "      <th>Pclass</th>\n",
       "      <th>Usales</th>\n",
       "      <th>Return</th>\n",
       "      <th>returnAmount</th>\n",
       "      <th>Mcost</th>\n",
       "      <th>Lprice</th>\n",
       "      <th>Ddisc</th>\n",
       "      <th>Cdisc</th>\n",
       "      <th>Odisc</th>\n",
       "      <th>Pdisc</th>\n",
       "      <th>Tdisc</th>\n",
       "      <th>Pprice</th>\n",
       "      <th>Rev</th>\n",
       "      <th>Con</th>\n",
       "      <th>CM</th>\n",
       "      <th>netRev</th>\n",
       "    </tr>\n",
       "  </thead>\n",
       "  <tbody>\n",
       "    <tr>\n",
       "      <th>0</th>\n",
       "      <td>585</td>\n",
       "      <td>1015</td>\n",
       "      <td>2004-01-25</td>\n",
       "      <td>Living Room</td>\n",
       "      <td>Window Treatment: Blinds</td>\n",
       "      <td>36</td>\n",
       "      <td>No</td>\n",
       "      <td>0</td>\n",
       "      <td>0.95</td>\n",
       "      <td>5.4</td>\n",
       "      <td>NaN</td>\n",
       "      <td>NaN</td>\n",
       "      <td>0.043</td>\n",
       "      <td>0.042</td>\n",
       "      <td>0.085</td>\n",
       "      <td>4.9410</td>\n",
       "      <td>177.8760</td>\n",
       "      <td>176.9260</td>\n",
       "      <td>0.994659</td>\n",
       "      <td>177.8760</td>\n",
       "    </tr>\n",
       "    <tr>\n",
       "      <th>1</th>\n",
       "      <td>586</td>\n",
       "      <td>1015</td>\n",
       "      <td>2004-01-25</td>\n",
       "      <td>Living Room</td>\n",
       "      <td>Window Treatment: Blinds</td>\n",
       "      <td>57</td>\n",
       "      <td>No</td>\n",
       "      <td>0</td>\n",
       "      <td>0.95</td>\n",
       "      <td>5.4</td>\n",
       "      <td>0.157</td>\n",
       "      <td>0.075</td>\n",
       "      <td>0.041</td>\n",
       "      <td>0.031</td>\n",
       "      <td>0.304</td>\n",
       "      <td>3.7584</td>\n",
       "      <td>214.2288</td>\n",
       "      <td>213.2788</td>\n",
       "      <td>0.995565</td>\n",
       "      <td>214.2288</td>\n",
       "    </tr>\n",
       "    <tr>\n",
       "      <th>2</th>\n",
       "      <td>587</td>\n",
       "      <td>1015</td>\n",
       "      <td>2004-01-25</td>\n",
       "      <td>Living Room</td>\n",
       "      <td>Window Treatment: Blinds</td>\n",
       "      <td>27</td>\n",
       "      <td>No</td>\n",
       "      <td>0</td>\n",
       "      <td>0.95</td>\n",
       "      <td>5.4</td>\n",
       "      <td>NaN</td>\n",
       "      <td>0.048</td>\n",
       "      <td>0.053</td>\n",
       "      <td>0.021</td>\n",
       "      <td>0.122</td>\n",
       "      <td>4.7412</td>\n",
       "      <td>128.0124</td>\n",
       "      <td>127.0624</td>\n",
       "      <td>0.992579</td>\n",
       "      <td>128.0124</td>\n",
       "    </tr>\n",
       "    <tr>\n",
       "      <th>3</th>\n",
       "      <td>588</td>\n",
       "      <td>1015</td>\n",
       "      <td>2004-01-25</td>\n",
       "      <td>Living Room</td>\n",
       "      <td>Window Treatment: Blinds</td>\n",
       "      <td>21</td>\n",
       "      <td>No</td>\n",
       "      <td>0</td>\n",
       "      <td>0.95</td>\n",
       "      <td>5.4</td>\n",
       "      <td>NaN</td>\n",
       "      <td>0.072</td>\n",
       "      <td>NaN</td>\n",
       "      <td>0.033</td>\n",
       "      <td>0.105</td>\n",
       "      <td>4.8330</td>\n",
       "      <td>101.4930</td>\n",
       "      <td>100.5430</td>\n",
       "      <td>0.990640</td>\n",
       "      <td>101.4930</td>\n",
       "    </tr>\n",
       "    <tr>\n",
       "      <th>4</th>\n",
       "      <td>589</td>\n",
       "      <td>1015</td>\n",
       "      <td>2004-01-25</td>\n",
       "      <td>Living Room</td>\n",
       "      <td>Window Treatment: Blinds</td>\n",
       "      <td>56</td>\n",
       "      <td>No</td>\n",
       "      <td>0</td>\n",
       "      <td>0.95</td>\n",
       "      <td>5.4</td>\n",
       "      <td>0.140</td>\n",
       "      <td>0.056</td>\n",
       "      <td>0.041</td>\n",
       "      <td>0.055</td>\n",
       "      <td>0.292</td>\n",
       "      <td>3.8232</td>\n",
       "      <td>214.0992</td>\n",
       "      <td>213.1492</td>\n",
       "      <td>0.995563</td>\n",
       "      <td>214.0992</td>\n",
       "    </tr>\n",
       "  </tbody>\n",
       "</table>\n",
       "</div>"
      ],
      "text/plain": [
       "   Onum   CID      Tdate        Pline                    Pclass  Usales  \\\n",
       "0   585  1015 2004-01-25  Living Room  Window Treatment: Blinds      36   \n",
       "1   586  1015 2004-01-25  Living Room  Window Treatment: Blinds      57   \n",
       "2   587  1015 2004-01-25  Living Room  Window Treatment: Blinds      27   \n",
       "3   588  1015 2004-01-25  Living Room  Window Treatment: Blinds      21   \n",
       "4   589  1015 2004-01-25  Living Room  Window Treatment: Blinds      56   \n",
       "\n",
       "  Return  returnAmount  Mcost  Lprice  Ddisc  Cdisc  Odisc  Pdisc  Tdisc  \\\n",
       "0     No             0   0.95     5.4    NaN    NaN  0.043  0.042  0.085   \n",
       "1     No             0   0.95     5.4  0.157  0.075  0.041  0.031  0.304   \n",
       "2     No             0   0.95     5.4    NaN  0.048  0.053  0.021  0.122   \n",
       "3     No             0   0.95     5.4    NaN  0.072    NaN  0.033  0.105   \n",
       "4     No             0   0.95     5.4  0.140  0.056  0.041  0.055  0.292   \n",
       "\n",
       "   Pprice       Rev       Con        CM    netRev  \n",
       "0  4.9410  177.8760  176.9260  0.994659  177.8760  \n",
       "1  3.7584  214.2288  213.2788  0.995565  214.2288  \n",
       "2  4.7412  128.0124  127.0624  0.992579  128.0124  \n",
       "3  4.8330  101.4930  100.5430  0.990640  101.4930  \n",
       "4  3.8232  214.0992  213.1492  0.995563  214.0992  "
      ]
     },
     "execution_count": 81,
     "metadata": {},
     "output_type": "execute_result"
    }
   ],
   "source": [
    "orders.head()"
   ]
  },
  {
   "cell_type": "markdown",
   "metadata": {},
   "source": [
    "## Merging and Joining dataframes"
   ]
  },
  {
   "cell_type": "code",
   "execution_count": 88,
   "metadata": {},
   "outputs": [],
   "source": [
    "custFile = 'customers.csv'"
   ]
  },
  {
   "cell_type": "code",
   "execution_count": 89,
   "metadata": {},
   "outputs": [],
   "source": [
    "cust = pd.read_csv(custFile)"
   ]
  },
  {
   "cell_type": "code",
   "execution_count": 90,
   "metadata": {},
   "outputs": [
    {
     "data": {
      "text/html": [
       "<div>\n",
       "<style scoped>\n",
       "    .dataframe tbody tr th:only-of-type {\n",
       "        vertical-align: middle;\n",
       "    }\n",
       "\n",
       "    .dataframe tbody tr th {\n",
       "        vertical-align: top;\n",
       "    }\n",
       "\n",
       "    .dataframe thead th {\n",
       "        text-align: right;\n",
       "    }\n",
       "</style>\n",
       "<table border=\"1\" class=\"dataframe\">\n",
       "  <thead>\n",
       "    <tr style=\"text-align: right;\">\n",
       "      <th></th>\n",
       "      <th>CID</th>\n",
       "      <th>State</th>\n",
       "      <th>ZIP</th>\n",
       "      <th>Region</th>\n",
       "    </tr>\n",
       "  </thead>\n",
       "  <tbody>\n",
       "    <tr>\n",
       "      <th>0</th>\n",
       "      <td>1700</td>\n",
       "      <td>MT</td>\n",
       "      <td>59821</td>\n",
       "      <td>West</td>\n",
       "    </tr>\n",
       "    <tr>\n",
       "      <th>1</th>\n",
       "      <td>850</td>\n",
       "      <td>ND</td>\n",
       "      <td>58068</td>\n",
       "      <td>Midwest</td>\n",
       "    </tr>\n",
       "    <tr>\n",
       "      <th>2</th>\n",
       "      <td>280</td>\n",
       "      <td>NY</td>\n",
       "      <td>10007</td>\n",
       "      <td>Northeast</td>\n",
       "    </tr>\n",
       "    <tr>\n",
       "      <th>3</th>\n",
       "      <td>1574</td>\n",
       "      <td>WY</td>\n",
       "      <td>83120</td>\n",
       "      <td>West</td>\n",
       "    </tr>\n",
       "    <tr>\n",
       "      <th>4</th>\n",
       "      <td>110</td>\n",
       "      <td>CO</td>\n",
       "      <td>80403</td>\n",
       "      <td>West</td>\n",
       "    </tr>\n",
       "  </tbody>\n",
       "</table>\n",
       "</div>"
      ],
      "text/plain": [
       "    CID State    ZIP     Region\n",
       "0  1700    MT  59821       West\n",
       "1   850    ND  58068    Midwest\n",
       "2   280    NY  10007  Northeast\n",
       "3  1574    WY  83120       West\n",
       "4   110    CO  80403       West"
      ]
     },
     "execution_count": 90,
     "metadata": {},
     "output_type": "execute_result"
    }
   ],
   "source": [
    "cust.head()"
   ]
  },
  {
   "cell_type": "code",
   "execution_count": 91,
   "metadata": {},
   "outputs": [
    {
     "data": {
      "text/html": [
       "<div>\n",
       "<style scoped>\n",
       "    .dataframe tbody tr th:only-of-type {\n",
       "        vertical-align: middle;\n",
       "    }\n",
       "\n",
       "    .dataframe tbody tr th {\n",
       "        vertical-align: top;\n",
       "    }\n",
       "\n",
       "    .dataframe thead th {\n",
       "        text-align: right;\n",
       "    }\n",
       "</style>\n",
       "<table border=\"1\" class=\"dataframe\">\n",
       "  <thead>\n",
       "    <tr style=\"text-align: right;\">\n",
       "      <th></th>\n",
       "      <th>Onum</th>\n",
       "      <th>CID</th>\n",
       "      <th>Tdate</th>\n",
       "      <th>Pline</th>\n",
       "      <th>Pclass</th>\n",
       "      <th>Usales</th>\n",
       "      <th>Return</th>\n",
       "      <th>returnAmount</th>\n",
       "      <th>Mcost</th>\n",
       "      <th>Lprice</th>\n",
       "      <th>Ddisc</th>\n",
       "      <th>Cdisc</th>\n",
       "      <th>Odisc</th>\n",
       "      <th>Pdisc</th>\n",
       "      <th>Tdisc</th>\n",
       "      <th>Pprice</th>\n",
       "      <th>Rev</th>\n",
       "      <th>Con</th>\n",
       "      <th>CM</th>\n",
       "      <th>netRev</th>\n",
       "    </tr>\n",
       "  </thead>\n",
       "  <tbody>\n",
       "    <tr>\n",
       "      <th>0</th>\n",
       "      <td>585</td>\n",
       "      <td>1015</td>\n",
       "      <td>2004-01-25</td>\n",
       "      <td>Living Room</td>\n",
       "      <td>Window Treatment: Blinds</td>\n",
       "      <td>36</td>\n",
       "      <td>No</td>\n",
       "      <td>0</td>\n",
       "      <td>0.95</td>\n",
       "      <td>5.4</td>\n",
       "      <td>NaN</td>\n",
       "      <td>NaN</td>\n",
       "      <td>0.043</td>\n",
       "      <td>0.042</td>\n",
       "      <td>0.085</td>\n",
       "      <td>4.9410</td>\n",
       "      <td>177.8760</td>\n",
       "      <td>176.9260</td>\n",
       "      <td>0.994659</td>\n",
       "      <td>177.8760</td>\n",
       "    </tr>\n",
       "    <tr>\n",
       "      <th>1</th>\n",
       "      <td>586</td>\n",
       "      <td>1015</td>\n",
       "      <td>2004-01-25</td>\n",
       "      <td>Living Room</td>\n",
       "      <td>Window Treatment: Blinds</td>\n",
       "      <td>57</td>\n",
       "      <td>No</td>\n",
       "      <td>0</td>\n",
       "      <td>0.95</td>\n",
       "      <td>5.4</td>\n",
       "      <td>0.157</td>\n",
       "      <td>0.075</td>\n",
       "      <td>0.041</td>\n",
       "      <td>0.031</td>\n",
       "      <td>0.304</td>\n",
       "      <td>3.7584</td>\n",
       "      <td>214.2288</td>\n",
       "      <td>213.2788</td>\n",
       "      <td>0.995565</td>\n",
       "      <td>214.2288</td>\n",
       "    </tr>\n",
       "    <tr>\n",
       "      <th>2</th>\n",
       "      <td>587</td>\n",
       "      <td>1015</td>\n",
       "      <td>2004-01-25</td>\n",
       "      <td>Living Room</td>\n",
       "      <td>Window Treatment: Blinds</td>\n",
       "      <td>27</td>\n",
       "      <td>No</td>\n",
       "      <td>0</td>\n",
       "      <td>0.95</td>\n",
       "      <td>5.4</td>\n",
       "      <td>NaN</td>\n",
       "      <td>0.048</td>\n",
       "      <td>0.053</td>\n",
       "      <td>0.021</td>\n",
       "      <td>0.122</td>\n",
       "      <td>4.7412</td>\n",
       "      <td>128.0124</td>\n",
       "      <td>127.0624</td>\n",
       "      <td>0.992579</td>\n",
       "      <td>128.0124</td>\n",
       "    </tr>\n",
       "    <tr>\n",
       "      <th>3</th>\n",
       "      <td>588</td>\n",
       "      <td>1015</td>\n",
       "      <td>2004-01-25</td>\n",
       "      <td>Living Room</td>\n",
       "      <td>Window Treatment: Blinds</td>\n",
       "      <td>21</td>\n",
       "      <td>No</td>\n",
       "      <td>0</td>\n",
       "      <td>0.95</td>\n",
       "      <td>5.4</td>\n",
       "      <td>NaN</td>\n",
       "      <td>0.072</td>\n",
       "      <td>NaN</td>\n",
       "      <td>0.033</td>\n",
       "      <td>0.105</td>\n",
       "      <td>4.8330</td>\n",
       "      <td>101.4930</td>\n",
       "      <td>100.5430</td>\n",
       "      <td>0.990640</td>\n",
       "      <td>101.4930</td>\n",
       "    </tr>\n",
       "    <tr>\n",
       "      <th>4</th>\n",
       "      <td>589</td>\n",
       "      <td>1015</td>\n",
       "      <td>2004-01-25</td>\n",
       "      <td>Living Room</td>\n",
       "      <td>Window Treatment: Blinds</td>\n",
       "      <td>56</td>\n",
       "      <td>No</td>\n",
       "      <td>0</td>\n",
       "      <td>0.95</td>\n",
       "      <td>5.4</td>\n",
       "      <td>0.140</td>\n",
       "      <td>0.056</td>\n",
       "      <td>0.041</td>\n",
       "      <td>0.055</td>\n",
       "      <td>0.292</td>\n",
       "      <td>3.8232</td>\n",
       "      <td>214.0992</td>\n",
       "      <td>213.1492</td>\n",
       "      <td>0.995563</td>\n",
       "      <td>214.0992</td>\n",
       "    </tr>\n",
       "  </tbody>\n",
       "</table>\n",
       "</div>"
      ],
      "text/plain": [
       "   Onum   CID      Tdate        Pline                    Pclass  Usales  \\\n",
       "0   585  1015 2004-01-25  Living Room  Window Treatment: Blinds      36   \n",
       "1   586  1015 2004-01-25  Living Room  Window Treatment: Blinds      57   \n",
       "2   587  1015 2004-01-25  Living Room  Window Treatment: Blinds      27   \n",
       "3   588  1015 2004-01-25  Living Room  Window Treatment: Blinds      21   \n",
       "4   589  1015 2004-01-25  Living Room  Window Treatment: Blinds      56   \n",
       "\n",
       "  Return  returnAmount  Mcost  Lprice  Ddisc  Cdisc  Odisc  Pdisc  Tdisc  \\\n",
       "0     No             0   0.95     5.4    NaN    NaN  0.043  0.042  0.085   \n",
       "1     No             0   0.95     5.4  0.157  0.075  0.041  0.031  0.304   \n",
       "2     No             0   0.95     5.4    NaN  0.048  0.053  0.021  0.122   \n",
       "3     No             0   0.95     5.4    NaN  0.072    NaN  0.033  0.105   \n",
       "4     No             0   0.95     5.4  0.140  0.056  0.041  0.055  0.292   \n",
       "\n",
       "   Pprice       Rev       Con        CM    netRev  \n",
       "0  4.9410  177.8760  176.9260  0.994659  177.8760  \n",
       "1  3.7584  214.2288  213.2788  0.995565  214.2288  \n",
       "2  4.7412  128.0124  127.0624  0.992579  128.0124  \n",
       "3  4.8330  101.4930  100.5430  0.990640  101.4930  \n",
       "4  3.8232  214.0992  213.1492  0.995563  214.0992  "
      ]
     },
     "execution_count": 91,
     "metadata": {},
     "output_type": "execute_result"
    }
   ],
   "source": [
    "orders.head()"
   ]
  },
  {
   "cell_type": "code",
   "execution_count": 92,
   "metadata": {},
   "outputs": [],
   "source": [
    "custOrders = pd.merge(orders,cust,how='inner',on='CID')"
   ]
  },
  {
   "cell_type": "code",
   "execution_count": 93,
   "metadata": {},
   "outputs": [
    {
     "data": {
      "text/html": [
       "<div>\n",
       "<style scoped>\n",
       "    .dataframe tbody tr th:only-of-type {\n",
       "        vertical-align: middle;\n",
       "    }\n",
       "\n",
       "    .dataframe tbody tr th {\n",
       "        vertical-align: top;\n",
       "    }\n",
       "\n",
       "    .dataframe thead th {\n",
       "        text-align: right;\n",
       "    }\n",
       "</style>\n",
       "<table border=\"1\" class=\"dataframe\">\n",
       "  <thead>\n",
       "    <tr style=\"text-align: right;\">\n",
       "      <th></th>\n",
       "      <th>Onum</th>\n",
       "      <th>CID</th>\n",
       "      <th>Tdate</th>\n",
       "      <th>Pline</th>\n",
       "      <th>Pclass</th>\n",
       "      <th>Usales</th>\n",
       "      <th>Return</th>\n",
       "      <th>returnAmount</th>\n",
       "      <th>Mcost</th>\n",
       "      <th>Lprice</th>\n",
       "      <th>...</th>\n",
       "      <th>Pdisc</th>\n",
       "      <th>Tdisc</th>\n",
       "      <th>Pprice</th>\n",
       "      <th>Rev</th>\n",
       "      <th>Con</th>\n",
       "      <th>CM</th>\n",
       "      <th>netRev</th>\n",
       "      <th>State</th>\n",
       "      <th>ZIP</th>\n",
       "      <th>Region</th>\n",
       "    </tr>\n",
       "  </thead>\n",
       "  <tbody>\n",
       "    <tr>\n",
       "      <th>0</th>\n",
       "      <td>585</td>\n",
       "      <td>1015</td>\n",
       "      <td>2004-01-25</td>\n",
       "      <td>Living Room</td>\n",
       "      <td>Window Treatment: Blinds</td>\n",
       "      <td>36</td>\n",
       "      <td>No</td>\n",
       "      <td>0</td>\n",
       "      <td>0.95</td>\n",
       "      <td>5.4</td>\n",
       "      <td>...</td>\n",
       "      <td>0.042</td>\n",
       "      <td>0.085</td>\n",
       "      <td>4.9410</td>\n",
       "      <td>177.8760</td>\n",
       "      <td>176.9260</td>\n",
       "      <td>0.994659</td>\n",
       "      <td>177.8760</td>\n",
       "      <td>MI</td>\n",
       "      <td>49093</td>\n",
       "      <td>Midwest</td>\n",
       "    </tr>\n",
       "    <tr>\n",
       "      <th>1</th>\n",
       "      <td>586</td>\n",
       "      <td>1015</td>\n",
       "      <td>2004-01-25</td>\n",
       "      <td>Living Room</td>\n",
       "      <td>Window Treatment: Blinds</td>\n",
       "      <td>57</td>\n",
       "      <td>No</td>\n",
       "      <td>0</td>\n",
       "      <td>0.95</td>\n",
       "      <td>5.4</td>\n",
       "      <td>...</td>\n",
       "      <td>0.031</td>\n",
       "      <td>0.304</td>\n",
       "      <td>3.7584</td>\n",
       "      <td>214.2288</td>\n",
       "      <td>213.2788</td>\n",
       "      <td>0.995565</td>\n",
       "      <td>214.2288</td>\n",
       "      <td>MI</td>\n",
       "      <td>49093</td>\n",
       "      <td>Midwest</td>\n",
       "    </tr>\n",
       "    <tr>\n",
       "      <th>2</th>\n",
       "      <td>587</td>\n",
       "      <td>1015</td>\n",
       "      <td>2004-01-25</td>\n",
       "      <td>Living Room</td>\n",
       "      <td>Window Treatment: Blinds</td>\n",
       "      <td>27</td>\n",
       "      <td>No</td>\n",
       "      <td>0</td>\n",
       "      <td>0.95</td>\n",
       "      <td>5.4</td>\n",
       "      <td>...</td>\n",
       "      <td>0.021</td>\n",
       "      <td>0.122</td>\n",
       "      <td>4.7412</td>\n",
       "      <td>128.0124</td>\n",
       "      <td>127.0624</td>\n",
       "      <td>0.992579</td>\n",
       "      <td>128.0124</td>\n",
       "      <td>MI</td>\n",
       "      <td>49093</td>\n",
       "      <td>Midwest</td>\n",
       "    </tr>\n",
       "    <tr>\n",
       "      <th>3</th>\n",
       "      <td>588</td>\n",
       "      <td>1015</td>\n",
       "      <td>2004-01-25</td>\n",
       "      <td>Living Room</td>\n",
       "      <td>Window Treatment: Blinds</td>\n",
       "      <td>21</td>\n",
       "      <td>No</td>\n",
       "      <td>0</td>\n",
       "      <td>0.95</td>\n",
       "      <td>5.4</td>\n",
       "      <td>...</td>\n",
       "      <td>0.033</td>\n",
       "      <td>0.105</td>\n",
       "      <td>4.8330</td>\n",
       "      <td>101.4930</td>\n",
       "      <td>100.5430</td>\n",
       "      <td>0.990640</td>\n",
       "      <td>101.4930</td>\n",
       "      <td>MI</td>\n",
       "      <td>49093</td>\n",
       "      <td>Midwest</td>\n",
       "    </tr>\n",
       "    <tr>\n",
       "      <th>4</th>\n",
       "      <td>589</td>\n",
       "      <td>1015</td>\n",
       "      <td>2004-01-25</td>\n",
       "      <td>Living Room</td>\n",
       "      <td>Window Treatment: Blinds</td>\n",
       "      <td>56</td>\n",
       "      <td>No</td>\n",
       "      <td>0</td>\n",
       "      <td>0.95</td>\n",
       "      <td>5.4</td>\n",
       "      <td>...</td>\n",
       "      <td>0.055</td>\n",
       "      <td>0.292</td>\n",
       "      <td>3.8232</td>\n",
       "      <td>214.0992</td>\n",
       "      <td>213.1492</td>\n",
       "      <td>0.995563</td>\n",
       "      <td>214.0992</td>\n",
       "      <td>MI</td>\n",
       "      <td>49093</td>\n",
       "      <td>Midwest</td>\n",
       "    </tr>\n",
       "  </tbody>\n",
       "</table>\n",
       "<p>5 rows × 23 columns</p>\n",
       "</div>"
      ],
      "text/plain": [
       "   Onum   CID      Tdate        Pline                    Pclass  Usales  \\\n",
       "0   585  1015 2004-01-25  Living Room  Window Treatment: Blinds      36   \n",
       "1   586  1015 2004-01-25  Living Room  Window Treatment: Blinds      57   \n",
       "2   587  1015 2004-01-25  Living Room  Window Treatment: Blinds      27   \n",
       "3   588  1015 2004-01-25  Living Room  Window Treatment: Blinds      21   \n",
       "4   589  1015 2004-01-25  Living Room  Window Treatment: Blinds      56   \n",
       "\n",
       "  Return  returnAmount  Mcost  Lprice  ...  Pdisc  Tdisc  Pprice       Rev  \\\n",
       "0     No             0   0.95     5.4  ...  0.042  0.085  4.9410  177.8760   \n",
       "1     No             0   0.95     5.4  ...  0.031  0.304  3.7584  214.2288   \n",
       "2     No             0   0.95     5.4  ...  0.021  0.122  4.7412  128.0124   \n",
       "3     No             0   0.95     5.4  ...  0.033  0.105  4.8330  101.4930   \n",
       "4     No             0   0.95     5.4  ...  0.055  0.292  3.8232  214.0992   \n",
       "\n",
       "        Con        CM    netRev  State    ZIP   Region  \n",
       "0  176.9260  0.994659  177.8760     MI  49093  Midwest  \n",
       "1  213.2788  0.995565  214.2288     MI  49093  Midwest  \n",
       "2  127.0624  0.992579  128.0124     MI  49093  Midwest  \n",
       "3  100.5430  0.990640  101.4930     MI  49093  Midwest  \n",
       "4  213.1492  0.995563  214.0992     MI  49093  Midwest  \n",
       "\n",
       "[5 rows x 23 columns]"
      ]
     },
     "execution_count": 93,
     "metadata": {},
     "output_type": "execute_result"
    }
   ],
   "source": [
    "custOrders.head()"
   ]
  },
  {
   "cell_type": "markdown",
   "metadata": {},
   "source": [
    "#### Checks"
   ]
  },
  {
   "cell_type": "code",
   "execution_count": 95,
   "metadata": {},
   "outputs": [
    {
     "data": {
      "text/plain": [
       "(70270, 20)"
      ]
     },
     "execution_count": 95,
     "metadata": {},
     "output_type": "execute_result"
    }
   ],
   "source": [
    "orders.shape"
   ]
  },
  {
   "cell_type": "code",
   "execution_count": 97,
   "metadata": {},
   "outputs": [
    {
     "data": {
      "text/plain": [
       "(1136, 4)"
      ]
     },
     "execution_count": 97,
     "metadata": {},
     "output_type": "execute_result"
    }
   ],
   "source": [
    "cust.shape"
   ]
  },
  {
   "cell_type": "code",
   "execution_count": 98,
   "metadata": {},
   "outputs": [
    {
     "data": {
      "text/plain": [
       "(70270, 23)"
      ]
     },
     "execution_count": 98,
     "metadata": {},
     "output_type": "execute_result"
    }
   ],
   "source": [
    "custOrders.shape"
   ]
  },
  {
   "cell_type": "code",
   "execution_count": 105,
   "metadata": {},
   "outputs": [
    {
     "data": {
      "text/plain": [
       "779"
      ]
     },
     "execution_count": 105,
     "metadata": {},
     "output_type": "execute_result"
    }
   ],
   "source": [
    "custOrders['CID'].nunique()"
   ]
  },
  {
   "cell_type": "markdown",
   "metadata": {},
   "source": [
    "#### Merge with the marketing data"
   ]
  },
  {
   "cell_type": "code",
   "execution_count": 106,
   "metadata": {},
   "outputs": [],
   "source": [
    "fileMarketing = 'marketing.csv'"
   ]
  },
  {
   "cell_type": "code",
   "execution_count": 107,
   "metadata": {},
   "outputs": [],
   "source": [
    "mark = pd.read_csv(fileMarketing)"
   ]
  },
  {
   "cell_type": "code",
   "execution_count": 108,
   "metadata": {},
   "outputs": [
    {
     "data": {
      "text/html": [
       "<div>\n",
       "<style scoped>\n",
       "    .dataframe tbody tr th:only-of-type {\n",
       "        vertical-align: middle;\n",
       "    }\n",
       "\n",
       "    .dataframe tbody tr th {\n",
       "        vertical-align: top;\n",
       "    }\n",
       "\n",
       "    .dataframe thead th {\n",
       "        text-align: right;\n",
       "    }\n",
       "</style>\n",
       "<table border=\"1\" class=\"dataframe\">\n",
       "  <thead>\n",
       "    <tr style=\"text-align: right;\">\n",
       "      <th></th>\n",
       "      <th>CID</th>\n",
       "      <th>loyaltyProgram</th>\n",
       "      <th>buyerRating</th>\n",
       "      <th>buyerSatisfaction</th>\n",
       "    </tr>\n",
       "  </thead>\n",
       "  <tbody>\n",
       "    <tr>\n",
       "      <th>0</th>\n",
       "      <td>1700</td>\n",
       "      <td>Yes</td>\n",
       "      <td>Excellent</td>\n",
       "      <td>4</td>\n",
       "    </tr>\n",
       "    <tr>\n",
       "      <th>1</th>\n",
       "      <td>850</td>\n",
       "      <td>Yes</td>\n",
       "      <td>Excellent</td>\n",
       "      <td>4</td>\n",
       "    </tr>\n",
       "    <tr>\n",
       "      <th>2</th>\n",
       "      <td>280</td>\n",
       "      <td>Yes</td>\n",
       "      <td>Excellent</td>\n",
       "      <td>3</td>\n",
       "    </tr>\n",
       "    <tr>\n",
       "      <th>3</th>\n",
       "      <td>1574</td>\n",
       "      <td>No</td>\n",
       "      <td>Good</td>\n",
       "      <td>4</td>\n",
       "    </tr>\n",
       "    <tr>\n",
       "      <th>4</th>\n",
       "      <td>110</td>\n",
       "      <td>Yes</td>\n",
       "      <td>Excellent</td>\n",
       "      <td>4</td>\n",
       "    </tr>\n",
       "  </tbody>\n",
       "</table>\n",
       "</div>"
      ],
      "text/plain": [
       "    CID loyaltyProgram buyerRating  buyerSatisfaction\n",
       "0  1700            Yes   Excellent                  4\n",
       "1   850            Yes   Excellent                  4\n",
       "2   280            Yes   Excellent                  3\n",
       "3  1574             No        Good                  4\n",
       "4   110            Yes   Excellent                  4"
      ]
     },
     "execution_count": 108,
     "metadata": {},
     "output_type": "execute_result"
    }
   ],
   "source": [
    "mark.head()"
   ]
  },
  {
   "cell_type": "code",
   "execution_count": 109,
   "metadata": {},
   "outputs": [
    {
     "data": {
      "text/html": [
       "<div>\n",
       "<style scoped>\n",
       "    .dataframe tbody tr th:only-of-type {\n",
       "        vertical-align: middle;\n",
       "    }\n",
       "\n",
       "    .dataframe tbody tr th {\n",
       "        vertical-align: top;\n",
       "    }\n",
       "\n",
       "    .dataframe thead th {\n",
       "        text-align: right;\n",
       "    }\n",
       "</style>\n",
       "<table border=\"1\" class=\"dataframe\">\n",
       "  <thead>\n",
       "    <tr style=\"text-align: right;\">\n",
       "      <th></th>\n",
       "      <th>Onum</th>\n",
       "      <th>CID</th>\n",
       "      <th>Tdate</th>\n",
       "      <th>Pline</th>\n",
       "      <th>Pclass</th>\n",
       "      <th>Usales</th>\n",
       "      <th>Return</th>\n",
       "      <th>returnAmount</th>\n",
       "      <th>Mcost</th>\n",
       "      <th>Lprice</th>\n",
       "      <th>...</th>\n",
       "      <th>Pdisc</th>\n",
       "      <th>Tdisc</th>\n",
       "      <th>Pprice</th>\n",
       "      <th>Rev</th>\n",
       "      <th>Con</th>\n",
       "      <th>CM</th>\n",
       "      <th>netRev</th>\n",
       "      <th>State</th>\n",
       "      <th>ZIP</th>\n",
       "      <th>Region</th>\n",
       "    </tr>\n",
       "  </thead>\n",
       "  <tbody>\n",
       "    <tr>\n",
       "      <th>0</th>\n",
       "      <td>585</td>\n",
       "      <td>1015</td>\n",
       "      <td>2004-01-25</td>\n",
       "      <td>Living Room</td>\n",
       "      <td>Window Treatment: Blinds</td>\n",
       "      <td>36</td>\n",
       "      <td>No</td>\n",
       "      <td>0</td>\n",
       "      <td>0.95</td>\n",
       "      <td>5.4</td>\n",
       "      <td>...</td>\n",
       "      <td>0.042</td>\n",
       "      <td>0.085</td>\n",
       "      <td>4.9410</td>\n",
       "      <td>177.8760</td>\n",
       "      <td>176.9260</td>\n",
       "      <td>0.994659</td>\n",
       "      <td>177.8760</td>\n",
       "      <td>MI</td>\n",
       "      <td>49093</td>\n",
       "      <td>Midwest</td>\n",
       "    </tr>\n",
       "    <tr>\n",
       "      <th>1</th>\n",
       "      <td>586</td>\n",
       "      <td>1015</td>\n",
       "      <td>2004-01-25</td>\n",
       "      <td>Living Room</td>\n",
       "      <td>Window Treatment: Blinds</td>\n",
       "      <td>57</td>\n",
       "      <td>No</td>\n",
       "      <td>0</td>\n",
       "      <td>0.95</td>\n",
       "      <td>5.4</td>\n",
       "      <td>...</td>\n",
       "      <td>0.031</td>\n",
       "      <td>0.304</td>\n",
       "      <td>3.7584</td>\n",
       "      <td>214.2288</td>\n",
       "      <td>213.2788</td>\n",
       "      <td>0.995565</td>\n",
       "      <td>214.2288</td>\n",
       "      <td>MI</td>\n",
       "      <td>49093</td>\n",
       "      <td>Midwest</td>\n",
       "    </tr>\n",
       "    <tr>\n",
       "      <th>2</th>\n",
       "      <td>587</td>\n",
       "      <td>1015</td>\n",
       "      <td>2004-01-25</td>\n",
       "      <td>Living Room</td>\n",
       "      <td>Window Treatment: Blinds</td>\n",
       "      <td>27</td>\n",
       "      <td>No</td>\n",
       "      <td>0</td>\n",
       "      <td>0.95</td>\n",
       "      <td>5.4</td>\n",
       "      <td>...</td>\n",
       "      <td>0.021</td>\n",
       "      <td>0.122</td>\n",
       "      <td>4.7412</td>\n",
       "      <td>128.0124</td>\n",
       "      <td>127.0624</td>\n",
       "      <td>0.992579</td>\n",
       "      <td>128.0124</td>\n",
       "      <td>MI</td>\n",
       "      <td>49093</td>\n",
       "      <td>Midwest</td>\n",
       "    </tr>\n",
       "    <tr>\n",
       "      <th>3</th>\n",
       "      <td>588</td>\n",
       "      <td>1015</td>\n",
       "      <td>2004-01-25</td>\n",
       "      <td>Living Room</td>\n",
       "      <td>Window Treatment: Blinds</td>\n",
       "      <td>21</td>\n",
       "      <td>No</td>\n",
       "      <td>0</td>\n",
       "      <td>0.95</td>\n",
       "      <td>5.4</td>\n",
       "      <td>...</td>\n",
       "      <td>0.033</td>\n",
       "      <td>0.105</td>\n",
       "      <td>4.8330</td>\n",
       "      <td>101.4930</td>\n",
       "      <td>100.5430</td>\n",
       "      <td>0.990640</td>\n",
       "      <td>101.4930</td>\n",
       "      <td>MI</td>\n",
       "      <td>49093</td>\n",
       "      <td>Midwest</td>\n",
       "    </tr>\n",
       "    <tr>\n",
       "      <th>4</th>\n",
       "      <td>589</td>\n",
       "      <td>1015</td>\n",
       "      <td>2004-01-25</td>\n",
       "      <td>Living Room</td>\n",
       "      <td>Window Treatment: Blinds</td>\n",
       "      <td>56</td>\n",
       "      <td>No</td>\n",
       "      <td>0</td>\n",
       "      <td>0.95</td>\n",
       "      <td>5.4</td>\n",
       "      <td>...</td>\n",
       "      <td>0.055</td>\n",
       "      <td>0.292</td>\n",
       "      <td>3.8232</td>\n",
       "      <td>214.0992</td>\n",
       "      <td>213.1492</td>\n",
       "      <td>0.995563</td>\n",
       "      <td>214.0992</td>\n",
       "      <td>MI</td>\n",
       "      <td>49093</td>\n",
       "      <td>Midwest</td>\n",
       "    </tr>\n",
       "  </tbody>\n",
       "</table>\n",
       "<p>5 rows × 23 columns</p>\n",
       "</div>"
      ],
      "text/plain": [
       "   Onum   CID      Tdate        Pline                    Pclass  Usales  \\\n",
       "0   585  1015 2004-01-25  Living Room  Window Treatment: Blinds      36   \n",
       "1   586  1015 2004-01-25  Living Room  Window Treatment: Blinds      57   \n",
       "2   587  1015 2004-01-25  Living Room  Window Treatment: Blinds      27   \n",
       "3   588  1015 2004-01-25  Living Room  Window Treatment: Blinds      21   \n",
       "4   589  1015 2004-01-25  Living Room  Window Treatment: Blinds      56   \n",
       "\n",
       "  Return  returnAmount  Mcost  Lprice  ...  Pdisc  Tdisc  Pprice       Rev  \\\n",
       "0     No             0   0.95     5.4  ...  0.042  0.085  4.9410  177.8760   \n",
       "1     No             0   0.95     5.4  ...  0.031  0.304  3.7584  214.2288   \n",
       "2     No             0   0.95     5.4  ...  0.021  0.122  4.7412  128.0124   \n",
       "3     No             0   0.95     5.4  ...  0.033  0.105  4.8330  101.4930   \n",
       "4     No             0   0.95     5.4  ...  0.055  0.292  3.8232  214.0992   \n",
       "\n",
       "        Con        CM    netRev  State    ZIP   Region  \n",
       "0  176.9260  0.994659  177.8760     MI  49093  Midwest  \n",
       "1  213.2788  0.995565  214.2288     MI  49093  Midwest  \n",
       "2  127.0624  0.992579  128.0124     MI  49093  Midwest  \n",
       "3  100.5430  0.990640  101.4930     MI  49093  Midwest  \n",
       "4  213.1492  0.995563  214.0992     MI  49093  Midwest  \n",
       "\n",
       "[5 rows x 23 columns]"
      ]
     },
     "execution_count": 109,
     "metadata": {},
     "output_type": "execute_result"
    }
   ],
   "source": [
    "custOrders.head()"
   ]
  },
  {
   "cell_type": "code",
   "execution_count": 110,
   "metadata": {},
   "outputs": [],
   "source": [
    "df = pd.merge(custOrders,mark,how='inner',on='CID')"
   ]
  },
  {
   "cell_type": "code",
   "execution_count": 111,
   "metadata": {},
   "outputs": [
    {
     "data": {
      "text/html": [
       "<div>\n",
       "<style scoped>\n",
       "    .dataframe tbody tr th:only-of-type {\n",
       "        vertical-align: middle;\n",
       "    }\n",
       "\n",
       "    .dataframe tbody tr th {\n",
       "        vertical-align: top;\n",
       "    }\n",
       "\n",
       "    .dataframe thead th {\n",
       "        text-align: right;\n",
       "    }\n",
       "</style>\n",
       "<table border=\"1\" class=\"dataframe\">\n",
       "  <thead>\n",
       "    <tr style=\"text-align: right;\">\n",
       "      <th></th>\n",
       "      <th>Onum</th>\n",
       "      <th>CID</th>\n",
       "      <th>Tdate</th>\n",
       "      <th>Pline</th>\n",
       "      <th>Pclass</th>\n",
       "      <th>Usales</th>\n",
       "      <th>Return</th>\n",
       "      <th>returnAmount</th>\n",
       "      <th>Mcost</th>\n",
       "      <th>Lprice</th>\n",
       "      <th>...</th>\n",
       "      <th>Rev</th>\n",
       "      <th>Con</th>\n",
       "      <th>CM</th>\n",
       "      <th>netRev</th>\n",
       "      <th>State</th>\n",
       "      <th>ZIP</th>\n",
       "      <th>Region</th>\n",
       "      <th>loyaltyProgram</th>\n",
       "      <th>buyerRating</th>\n",
       "      <th>buyerSatisfaction</th>\n",
       "    </tr>\n",
       "  </thead>\n",
       "  <tbody>\n",
       "    <tr>\n",
       "      <th>0</th>\n",
       "      <td>585</td>\n",
       "      <td>1015</td>\n",
       "      <td>2004-01-25</td>\n",
       "      <td>Living Room</td>\n",
       "      <td>Window Treatment: Blinds</td>\n",
       "      <td>36</td>\n",
       "      <td>No</td>\n",
       "      <td>0</td>\n",
       "      <td>0.95</td>\n",
       "      <td>5.4</td>\n",
       "      <td>...</td>\n",
       "      <td>177.8760</td>\n",
       "      <td>176.9260</td>\n",
       "      <td>0.994659</td>\n",
       "      <td>177.8760</td>\n",
       "      <td>MI</td>\n",
       "      <td>49093</td>\n",
       "      <td>Midwest</td>\n",
       "      <td>Yes</td>\n",
       "      <td>Good</td>\n",
       "      <td>2</td>\n",
       "    </tr>\n",
       "    <tr>\n",
       "      <th>1</th>\n",
       "      <td>586</td>\n",
       "      <td>1015</td>\n",
       "      <td>2004-01-25</td>\n",
       "      <td>Living Room</td>\n",
       "      <td>Window Treatment: Blinds</td>\n",
       "      <td>57</td>\n",
       "      <td>No</td>\n",
       "      <td>0</td>\n",
       "      <td>0.95</td>\n",
       "      <td>5.4</td>\n",
       "      <td>...</td>\n",
       "      <td>214.2288</td>\n",
       "      <td>213.2788</td>\n",
       "      <td>0.995565</td>\n",
       "      <td>214.2288</td>\n",
       "      <td>MI</td>\n",
       "      <td>49093</td>\n",
       "      <td>Midwest</td>\n",
       "      <td>Yes</td>\n",
       "      <td>Good</td>\n",
       "      <td>2</td>\n",
       "    </tr>\n",
       "    <tr>\n",
       "      <th>2</th>\n",
       "      <td>587</td>\n",
       "      <td>1015</td>\n",
       "      <td>2004-01-25</td>\n",
       "      <td>Living Room</td>\n",
       "      <td>Window Treatment: Blinds</td>\n",
       "      <td>27</td>\n",
       "      <td>No</td>\n",
       "      <td>0</td>\n",
       "      <td>0.95</td>\n",
       "      <td>5.4</td>\n",
       "      <td>...</td>\n",
       "      <td>128.0124</td>\n",
       "      <td>127.0624</td>\n",
       "      <td>0.992579</td>\n",
       "      <td>128.0124</td>\n",
       "      <td>MI</td>\n",
       "      <td>49093</td>\n",
       "      <td>Midwest</td>\n",
       "      <td>Yes</td>\n",
       "      <td>Good</td>\n",
       "      <td>2</td>\n",
       "    </tr>\n",
       "    <tr>\n",
       "      <th>3</th>\n",
       "      <td>588</td>\n",
       "      <td>1015</td>\n",
       "      <td>2004-01-25</td>\n",
       "      <td>Living Room</td>\n",
       "      <td>Window Treatment: Blinds</td>\n",
       "      <td>21</td>\n",
       "      <td>No</td>\n",
       "      <td>0</td>\n",
       "      <td>0.95</td>\n",
       "      <td>5.4</td>\n",
       "      <td>...</td>\n",
       "      <td>101.4930</td>\n",
       "      <td>100.5430</td>\n",
       "      <td>0.990640</td>\n",
       "      <td>101.4930</td>\n",
       "      <td>MI</td>\n",
       "      <td>49093</td>\n",
       "      <td>Midwest</td>\n",
       "      <td>Yes</td>\n",
       "      <td>Good</td>\n",
       "      <td>2</td>\n",
       "    </tr>\n",
       "    <tr>\n",
       "      <th>4</th>\n",
       "      <td>589</td>\n",
       "      <td>1015</td>\n",
       "      <td>2004-01-25</td>\n",
       "      <td>Living Room</td>\n",
       "      <td>Window Treatment: Blinds</td>\n",
       "      <td>56</td>\n",
       "      <td>No</td>\n",
       "      <td>0</td>\n",
       "      <td>0.95</td>\n",
       "      <td>5.4</td>\n",
       "      <td>...</td>\n",
       "      <td>214.0992</td>\n",
       "      <td>213.1492</td>\n",
       "      <td>0.995563</td>\n",
       "      <td>214.0992</td>\n",
       "      <td>MI</td>\n",
       "      <td>49093</td>\n",
       "      <td>Midwest</td>\n",
       "      <td>Yes</td>\n",
       "      <td>Good</td>\n",
       "      <td>2</td>\n",
       "    </tr>\n",
       "  </tbody>\n",
       "</table>\n",
       "<p>5 rows × 26 columns</p>\n",
       "</div>"
      ],
      "text/plain": [
       "   Onum   CID      Tdate        Pline                    Pclass  Usales  \\\n",
       "0   585  1015 2004-01-25  Living Room  Window Treatment: Blinds      36   \n",
       "1   586  1015 2004-01-25  Living Room  Window Treatment: Blinds      57   \n",
       "2   587  1015 2004-01-25  Living Room  Window Treatment: Blinds      27   \n",
       "3   588  1015 2004-01-25  Living Room  Window Treatment: Blinds      21   \n",
       "4   589  1015 2004-01-25  Living Room  Window Treatment: Blinds      56   \n",
       "\n",
       "  Return  returnAmount  Mcost  Lprice  ...       Rev       Con        CM  \\\n",
       "0     No             0   0.95     5.4  ...  177.8760  176.9260  0.994659   \n",
       "1     No             0   0.95     5.4  ...  214.2288  213.2788  0.995565   \n",
       "2     No             0   0.95     5.4  ...  128.0124  127.0624  0.992579   \n",
       "3     No             0   0.95     5.4  ...  101.4930  100.5430  0.990640   \n",
       "4     No             0   0.95     5.4  ...  214.0992  213.1492  0.995563   \n",
       "\n",
       "     netRev  State    ZIP   Region  loyaltyProgram  buyerRating  \\\n",
       "0  177.8760     MI  49093  Midwest             Yes         Good   \n",
       "1  214.2288     MI  49093  Midwest             Yes         Good   \n",
       "2  128.0124     MI  49093  Midwest             Yes         Good   \n",
       "3  101.4930     MI  49093  Midwest             Yes         Good   \n",
       "4  214.0992     MI  49093  Midwest             Yes         Good   \n",
       "\n",
       "   buyerSatisfaction  \n",
       "0                  2  \n",
       "1                  2  \n",
       "2                  2  \n",
       "3                  2  \n",
       "4                  2  \n",
       "\n",
       "[5 rows x 26 columns]"
      ]
     },
     "execution_count": 111,
     "metadata": {},
     "output_type": "execute_result"
    }
   ],
   "source": [
    "df.head()"
   ]
  },
  {
   "cell_type": "code",
   "execution_count": 113,
   "metadata": {},
   "outputs": [
    {
     "data": {
      "text/plain": [
       "(70270, 26)"
      ]
     },
     "execution_count": 113,
     "metadata": {},
     "output_type": "execute_result"
    }
   ],
   "source": [
    "df.shape"
   ]
  },
  {
   "cell_type": "code",
   "execution_count": 116,
   "metadata": {},
   "outputs": [
    {
     "data": {
      "text/plain": [
       "779"
      ]
     },
     "execution_count": 116,
     "metadata": {},
     "output_type": "execute_result"
    }
   ],
   "source": [
    "df.CID.nunique()"
   ]
  },
  {
   "cell_type": "markdown",
   "metadata": {},
   "source": [
    "## Summary Statistics"
   ]
  },
  {
   "cell_type": "code",
   "execution_count": 124,
   "metadata": {},
   "outputs": [
    {
     "data": {
      "text/html": [
       "<div>\n",
       "<style scoped>\n",
       "    .dataframe tbody tr th:only-of-type {\n",
       "        vertical-align: middle;\n",
       "    }\n",
       "\n",
       "    .dataframe tbody tr th {\n",
       "        vertical-align: top;\n",
       "    }\n",
       "\n",
       "    .dataframe thead th {\n",
       "        text-align: right;\n",
       "    }\n",
       "</style>\n",
       "<table border=\"1\" class=\"dataframe\">\n",
       "  <thead>\n",
       "    <tr style=\"text-align: right;\">\n",
       "      <th></th>\n",
       "      <th>count</th>\n",
       "      <th>mean</th>\n",
       "      <th>std</th>\n",
       "      <th>min</th>\n",
       "      <th>25%</th>\n",
       "      <th>50%</th>\n",
       "      <th>75%</th>\n",
       "      <th>max</th>\n",
       "    </tr>\n",
       "  </thead>\n",
       "  <tbody>\n",
       "    <tr>\n",
       "      <th>Ddisc</th>\n",
       "      <td>70262.0</td>\n",
       "      <td>0.12</td>\n",
       "      <td>0.04</td>\n",
       "      <td>0.04</td>\n",
       "      <td>0.09</td>\n",
       "      <td>0.12</td>\n",
       "      <td>0.16</td>\n",
       "      <td>0.22</td>\n",
       "    </tr>\n",
       "    <tr>\n",
       "      <th>Cdisc</th>\n",
       "      <td>70261.0</td>\n",
       "      <td>0.07</td>\n",
       "      <td>0.02</td>\n",
       "      <td>0.04</td>\n",
       "      <td>0.05</td>\n",
       "      <td>0.07</td>\n",
       "      <td>0.09</td>\n",
       "      <td>0.10</td>\n",
       "    </tr>\n",
       "    <tr>\n",
       "      <th>Odisc</th>\n",
       "      <td>70266.0</td>\n",
       "      <td>0.05</td>\n",
       "      <td>0.01</td>\n",
       "      <td>0.02</td>\n",
       "      <td>0.04</td>\n",
       "      <td>0.05</td>\n",
       "      <td>0.06</td>\n",
       "      <td>0.08</td>\n",
       "    </tr>\n",
       "    <tr>\n",
       "      <th>Pdisc</th>\n",
       "      <td>70268.0</td>\n",
       "      <td>0.04</td>\n",
       "      <td>0.01</td>\n",
       "      <td>0.02</td>\n",
       "      <td>0.03</td>\n",
       "      <td>0.04</td>\n",
       "      <td>0.05</td>\n",
       "      <td>0.06</td>\n",
       "    </tr>\n",
       "    <tr>\n",
       "      <th>Tdisc</th>\n",
       "      <td>70270.0</td>\n",
       "      <td>0.28</td>\n",
       "      <td>0.05</td>\n",
       "      <td>0.02</td>\n",
       "      <td>0.24</td>\n",
       "      <td>0.28</td>\n",
       "      <td>0.32</td>\n",
       "      <td>0.43</td>\n",
       "    </tr>\n",
       "  </tbody>\n",
       "</table>\n",
       "</div>"
      ],
      "text/plain": [
       "         count  mean   std   min   25%   50%   75%   max\n",
       "Ddisc  70262.0  0.12  0.04  0.04  0.09  0.12  0.16  0.22\n",
       "Cdisc  70261.0  0.07  0.02  0.04  0.05  0.07  0.09  0.10\n",
       "Odisc  70266.0  0.05  0.01  0.02  0.04  0.05  0.06  0.08\n",
       "Pdisc  70268.0  0.04  0.01  0.02  0.03  0.04  0.05  0.06\n",
       "Tdisc  70270.0  0.28  0.05  0.02  0.24  0.28  0.32  0.43"
      ]
     },
     "execution_count": 124,
     "metadata": {},
     "output_type": "execute_result"
    }
   ],
   "source": [
    "x = ['Ddisc','Cdisc','Odisc','Pdisc','Tdisc']\n",
    "df[x].describe().round(2).transpose()"
   ]
  },
  {
   "cell_type": "code",
   "execution_count": 127,
   "metadata": {},
   "outputs": [],
   "source": [
    "test = df[x].describe().round(2).transpose()"
   ]
  },
  {
   "cell_type": "code",
   "execution_count": 140,
   "metadata": {},
   "outputs": [
    {
     "data": {
      "text/plain": [
       "0.03999999999999998"
      ]
     },
     "execution_count": 140,
     "metadata": {},
     "output_type": "execute_result"
    }
   ],
   "source": [
    "test.loc['Tdisc','75%'] - test.loc['Tdisc','50%'] "
   ]
  },
  {
   "cell_type": "code",
   "execution_count": 141,
   "metadata": {},
   "outputs": [
    {
     "data": {
      "text/plain": [
       "0.040000000000000036"
      ]
     },
     "execution_count": 141,
     "metadata": {},
     "output_type": "execute_result"
    }
   ],
   "source": [
    "test.loc['Tdisc','50%'] - test.loc['Tdisc','25%'] "
   ]
  },
  {
   "cell_type": "code",
   "execution_count": 137,
   "metadata": {},
   "outputs": [],
   "source": []
  },
  {
   "cell_type": "markdown",
   "metadata": {},
   "source": [
    "## Data Visualization"
   ]
  },
  {
   "cell_type": "markdown",
   "metadata": {},
   "source": [
    "### Learn about:\n",
    "1. market\n",
    "2. region\n",
    "3. customer loytlaty\n",
    "4. buyer rating"
   ]
  },
  {
   "cell_type": "code",
   "execution_count": 142,
   "metadata": {},
   "outputs": [
    {
     "data": {
      "text/plain": [
       "<matplotlib.axes._subplots.AxesSubplot at 0x188353ba6c8>"
      ]
     },
     "execution_count": 142,
     "metadata": {},
     "output_type": "execute_result"
    },
    {
     "data": {
      "image/png": "[encoded data removed]",
      "text/plain": [
       "<Figure size 432x288 with 1 Axes>"
      ]
     },
     "metadata": {
      "needs_background": "light"
     },
     "output_type": "display_data"
    }
   ],
   "source": [
    "sns.distplot(df['Usales'])"
   ]
  },
  {
   "cell_type": "code",
   "execution_count": 153,
   "metadata": {},
   "outputs": [
    {
     "data": {
      "text/plain": [
       "[Text(0, 0.5, 'Proportions'),\n",
       " Text(0.5, 1.0, 'Unit Sales Distr'),\n",
       " Text(0.5, 0, 'Unit Sales')]"
      ]
     },
     "execution_count": 153,
     "metadata": {},
     "output_type": "execute_result"
    },
    {
     "data": {
      "image/png": "[encoded data removed]",
      "text/plain": [
       "<Figure size 432x288 with 1 Axes>"
      ]
     },
     "metadata": {
      "needs_background": "light"
     },
     "output_type": "display_data"
    }
   ],
   "source": [
    "ax = sns.distplot(df['Usales'])\n",
    "ax.set(title=\"Unit Sales Distr\", Xlabel='Unit Sales', ylabel = 'Proportions')"
   ]
  },
  {
   "cell_type": "markdown",
   "metadata": {},
   "source": [
    "#### Pocket Price"
   ]
  },
  {
   "cell_type": "code",
   "execution_count": 154,
   "metadata": {},
   "outputs": [
    {
     "data": {
      "text/html": [
       "<div>\n",
       "<style scoped>\n",
       "    .dataframe tbody tr th:only-of-type {\n",
       "        vertical-align: middle;\n",
       "    }\n",
       "\n",
       "    .dataframe tbody tr th {\n",
       "        vertical-align: top;\n",
       "    }\n",
       "\n",
       "    .dataframe thead th {\n",
       "        text-align: right;\n",
       "    }\n",
       "</style>\n",
       "<table border=\"1\" class=\"dataframe\">\n",
       "  <thead>\n",
       "    <tr style=\"text-align: right;\">\n",
       "      <th></th>\n",
       "      <th>Onum</th>\n",
       "      <th>CID</th>\n",
       "      <th>Tdate</th>\n",
       "      <th>Pline</th>\n",
       "      <th>Pclass</th>\n",
       "      <th>Usales</th>\n",
       "      <th>Return</th>\n",
       "      <th>returnAmount</th>\n",
       "      <th>Mcost</th>\n",
       "      <th>Lprice</th>\n",
       "      <th>...</th>\n",
       "      <th>Rev</th>\n",
       "      <th>Con</th>\n",
       "      <th>CM</th>\n",
       "      <th>netRev</th>\n",
       "      <th>State</th>\n",
       "      <th>ZIP</th>\n",
       "      <th>Region</th>\n",
       "      <th>loyaltyProgram</th>\n",
       "      <th>buyerRating</th>\n",
       "      <th>buyerSatisfaction</th>\n",
       "    </tr>\n",
       "  </thead>\n",
       "  <tbody>\n",
       "    <tr>\n",
       "      <th>0</th>\n",
       "      <td>585</td>\n",
       "      <td>1015</td>\n",
       "      <td>2004-01-25</td>\n",
       "      <td>Living Room</td>\n",
       "      <td>Window Treatment: Blinds</td>\n",
       "      <td>36</td>\n",
       "      <td>No</td>\n",
       "      <td>0</td>\n",
       "      <td>0.95</td>\n",
       "      <td>5.4</td>\n",
       "      <td>...</td>\n",
       "      <td>177.8760</td>\n",
       "      <td>176.9260</td>\n",
       "      <td>0.994659</td>\n",
       "      <td>177.8760</td>\n",
       "      <td>MI</td>\n",
       "      <td>49093</td>\n",
       "      <td>Midwest</td>\n",
       "      <td>Yes</td>\n",
       "      <td>Good</td>\n",
       "      <td>2</td>\n",
       "    </tr>\n",
       "    <tr>\n",
       "      <th>1</th>\n",
       "      <td>586</td>\n",
       "      <td>1015</td>\n",
       "      <td>2004-01-25</td>\n",
       "      <td>Living Room</td>\n",
       "      <td>Window Treatment: Blinds</td>\n",
       "      <td>57</td>\n",
       "      <td>No</td>\n",
       "      <td>0</td>\n",
       "      <td>0.95</td>\n",
       "      <td>5.4</td>\n",
       "      <td>...</td>\n",
       "      <td>214.2288</td>\n",
       "      <td>213.2788</td>\n",
       "      <td>0.995565</td>\n",
       "      <td>214.2288</td>\n",
       "      <td>MI</td>\n",
       "      <td>49093</td>\n",
       "      <td>Midwest</td>\n",
       "      <td>Yes</td>\n",
       "      <td>Good</td>\n",
       "      <td>2</td>\n",
       "    </tr>\n",
       "    <tr>\n",
       "      <th>2</th>\n",
       "      <td>587</td>\n",
       "      <td>1015</td>\n",
       "      <td>2004-01-25</td>\n",
       "      <td>Living Room</td>\n",
       "      <td>Window Treatment: Blinds</td>\n",
       "      <td>27</td>\n",
       "      <td>No</td>\n",
       "      <td>0</td>\n",
       "      <td>0.95</td>\n",
       "      <td>5.4</td>\n",
       "      <td>...</td>\n",
       "      <td>128.0124</td>\n",
       "      <td>127.0624</td>\n",
       "      <td>0.992579</td>\n",
       "      <td>128.0124</td>\n",
       "      <td>MI</td>\n",
       "      <td>49093</td>\n",
       "      <td>Midwest</td>\n",
       "      <td>Yes</td>\n",
       "      <td>Good</td>\n",
       "      <td>2</td>\n",
       "    </tr>\n",
       "    <tr>\n",
       "      <th>3</th>\n",
       "      <td>588</td>\n",
       "      <td>1015</td>\n",
       "      <td>2004-01-25</td>\n",
       "      <td>Living Room</td>\n",
       "      <td>Window Treatment: Blinds</td>\n",
       "      <td>21</td>\n",
       "      <td>No</td>\n",
       "      <td>0</td>\n",
       "      <td>0.95</td>\n",
       "      <td>5.4</td>\n",
       "      <td>...</td>\n",
       "      <td>101.4930</td>\n",
       "      <td>100.5430</td>\n",
       "      <td>0.990640</td>\n",
       "      <td>101.4930</td>\n",
       "      <td>MI</td>\n",
       "      <td>49093</td>\n",
       "      <td>Midwest</td>\n",
       "      <td>Yes</td>\n",
       "      <td>Good</td>\n",
       "      <td>2</td>\n",
       "    </tr>\n",
       "    <tr>\n",
       "      <th>4</th>\n",
       "      <td>589</td>\n",
       "      <td>1015</td>\n",
       "      <td>2004-01-25</td>\n",
       "      <td>Living Room</td>\n",
       "      <td>Window Treatment: Blinds</td>\n",
       "      <td>56</td>\n",
       "      <td>No</td>\n",
       "      <td>0</td>\n",
       "      <td>0.95</td>\n",
       "      <td>5.4</td>\n",
       "      <td>...</td>\n",
       "      <td>214.0992</td>\n",
       "      <td>213.1492</td>\n",
       "      <td>0.995563</td>\n",
       "      <td>214.0992</td>\n",
       "      <td>MI</td>\n",
       "      <td>49093</td>\n",
       "      <td>Midwest</td>\n",
       "      <td>Yes</td>\n",
       "      <td>Good</td>\n",
       "      <td>2</td>\n",
       "    </tr>\n",
       "  </tbody>\n",
       "</table>\n",
       "<p>5 rows × 26 columns</p>\n",
       "</div>"
      ],
      "text/plain": [
       "   Onum   CID      Tdate        Pline                    Pclass  Usales  \\\n",
       "0   585  1015 2004-01-25  Living Room  Window Treatment: Blinds      36   \n",
       "1   586  1015 2004-01-25  Living Room  Window Treatment: Blinds      57   \n",
       "2   587  1015 2004-01-25  Living Room  Window Treatment: Blinds      27   \n",
       "3   588  1015 2004-01-25  Living Room  Window Treatment: Blinds      21   \n",
       "4   589  1015 2004-01-25  Living Room  Window Treatment: Blinds      56   \n",
       "\n",
       "  Return  returnAmount  Mcost  Lprice  ...       Rev       Con        CM  \\\n",
       "0     No             0   0.95     5.4  ...  177.8760  176.9260  0.994659   \n",
       "1     No             0   0.95     5.4  ...  214.2288  213.2788  0.995565   \n",
       "2     No             0   0.95     5.4  ...  128.0124  127.0624  0.992579   \n",
       "3     No             0   0.95     5.4  ...  101.4930  100.5430  0.990640   \n",
       "4     No             0   0.95     5.4  ...  214.0992  213.1492  0.995563   \n",
       "\n",
       "     netRev  State    ZIP   Region  loyaltyProgram  buyerRating  \\\n",
       "0  177.8760     MI  49093  Midwest             Yes         Good   \n",
       "1  214.2288     MI  49093  Midwest             Yes         Good   \n",
       "2  128.0124     MI  49093  Midwest             Yes         Good   \n",
       "3  101.4930     MI  49093  Midwest             Yes         Good   \n",
       "4  214.0992     MI  49093  Midwest             Yes         Good   \n",
       "\n",
       "   buyerSatisfaction  \n",
       "0                  2  \n",
       "1                  2  \n",
       "2                  2  \n",
       "3                  2  \n",
       "4                  2  \n",
       "\n",
       "[5 rows x 26 columns]"
      ]
     },
     "execution_count": 154,
     "metadata": {},
     "output_type": "execute_result"
    }
   ],
   "source": [
    "df.head()"
   ]
  },
  {
   "cell_type": "code",
   "execution_count": 155,
   "metadata": {},
   "outputs": [
    {
     "data": {
      "text/plain": [
       "Index(['Onum', 'CID', 'Tdate', 'Pline', 'Pclass', 'Usales', 'Return',\n",
       "       'returnAmount', 'Mcost', 'Lprice', 'Ddisc', 'Cdisc', 'Odisc', 'Pdisc',\n",
       "       'Tdisc', 'Pprice', 'Rev', 'Con', 'CM', 'netRev', 'State', 'ZIP',\n",
       "       'Region', 'loyaltyProgram', 'buyerRating', 'buyerSatisfaction'],\n",
       "      dtype='object')"
      ]
     },
     "execution_count": 155,
     "metadata": {},
     "output_type": "execute_result"
    }
   ],
   "source": [
    "df.columns"
   ]
  },
  {
   "cell_type": "code",
   "execution_count": 160,
   "metadata": {},
   "outputs": [
    {
     "data": {
      "text/plain": [
       "[Text(0, 0.5, 'Distribution'),\n",
       " Text(0.5, 0, 'Pocket Price'),\n",
       " Text(0.5, 1.0, 'Pocket Price Dist')]"
      ]
     },
     "execution_count": 160,
     "metadata": {},
     "output_type": "execute_result"
    },
    {
     "data": {
      "image/png": "[encoded data removed]",
      "text/plain": [
       "<Figure size 432x288 with 1 Axes>"
      ]
     },
     "metadata": {
      "needs_background": "light"
     },
     "output_type": "display_data"
    }
   ],
   "source": [
    "ax = sns.distplot(df['Pprice'])\n",
    "ax.set(Title='Pocket Price Dist', xlabel='Pocket Price', ylabel='Distribution')"
   ]
  },
  {
   "cell_type": "code",
   "execution_count": 163,
   "metadata": {},
   "outputs": [
    {
     "data": {
      "text/plain": [
       "[Text(0, 0.5, 'Proportions'),\n",
       " Text(0.5, 0, 'Pocket Price (log)'),\n",
       " Text(0.5, 1.0, 'Pocket Price Dist')]"
      ]
     },
     "execution_count": 163,
     "metadata": {},
     "output_type": "execute_result"
    },
    {
     "data": {
      "image/png": "[encoded data removed]",
      "text/plain": [
       "<Figure size 432x288 with 1 Axes>"
      ]
     },
     "metadata": {
      "needs_background": "light"
     },
     "output_type": "display_data"
    }
   ],
   "source": [
    "ax = sns.distplot(np.log1p(df['Pprice']))\n",
    "ax.set(Title='Pocket Price Dist', xlabel='Pocket Price (log)', ylabel='Proportions')"
   ]
  },
  {
   "cell_type": "code",
   "execution_count": 166,
   "metadata": {},
   "outputs": [
    {
     "data": {
      "text/plain": [
       "Text(0, 0.5, 'Total Discount')"
      ]
     },
     "execution_count": 166,
     "metadata": {},
     "output_type": "execute_result"
    },
    {
     "data": {
      "image/png": "[encoded data removed]",
      "text/plain": [
       "<Figure size 432x288 with 1 Axes>"
      ]
     },
     "metadata": {
      "needs_background": "light"
     },
     "output_type": "display_data"
    }
   ],
   "source": [
    "sns.boxplot(data=df, y='Tdisc')\n",
    "plt.title('Dist of Total Discount')\n",
    "plt.ylabel('Total Discount')"
   ]
  },
  {
   "cell_type": "code",
   "execution_count": 167,
   "metadata": {},
   "outputs": [
    {
     "data": {
      "text/html": [
       "<div>\n",
       "<style scoped>\n",
       "    .dataframe tbody tr th:only-of-type {\n",
       "        vertical-align: middle;\n",
       "    }\n",
       "\n",
       "    .dataframe tbody tr th {\n",
       "        vertical-align: top;\n",
       "    }\n",
       "\n",
       "    .dataframe thead th {\n",
       "        text-align: right;\n",
       "    }\n",
       "</style>\n",
       "<table border=\"1\" class=\"dataframe\">\n",
       "  <thead>\n",
       "    <tr style=\"text-align: right;\">\n",
       "      <th></th>\n",
       "      <th>Onum</th>\n",
       "      <th>CID</th>\n",
       "      <th>Tdate</th>\n",
       "      <th>Pline</th>\n",
       "      <th>Pclass</th>\n",
       "      <th>Usales</th>\n",
       "      <th>Return</th>\n",
       "      <th>returnAmount</th>\n",
       "      <th>Mcost</th>\n",
       "      <th>Lprice</th>\n",
       "      <th>...</th>\n",
       "      <th>Rev</th>\n",
       "      <th>Con</th>\n",
       "      <th>CM</th>\n",
       "      <th>netRev</th>\n",
       "      <th>State</th>\n",
       "      <th>ZIP</th>\n",
       "      <th>Region</th>\n",
       "      <th>loyaltyProgram</th>\n",
       "      <th>buyerRating</th>\n",
       "      <th>buyerSatisfaction</th>\n",
       "    </tr>\n",
       "  </thead>\n",
       "  <tbody>\n",
       "    <tr>\n",
       "      <th>0</th>\n",
       "      <td>585</td>\n",
       "      <td>1015</td>\n",
       "      <td>2004-01-25</td>\n",
       "      <td>Living Room</td>\n",
       "      <td>Window Treatment: Blinds</td>\n",
       "      <td>36</td>\n",
       "      <td>No</td>\n",
       "      <td>0</td>\n",
       "      <td>0.95</td>\n",
       "      <td>5.4</td>\n",
       "      <td>...</td>\n",
       "      <td>177.8760</td>\n",
       "      <td>176.9260</td>\n",
       "      <td>0.994659</td>\n",
       "      <td>177.8760</td>\n",
       "      <td>MI</td>\n",
       "      <td>49093</td>\n",
       "      <td>Midwest</td>\n",
       "      <td>Yes</td>\n",
       "      <td>Good</td>\n",
       "      <td>2</td>\n",
       "    </tr>\n",
       "    <tr>\n",
       "      <th>1</th>\n",
       "      <td>586</td>\n",
       "      <td>1015</td>\n",
       "      <td>2004-01-25</td>\n",
       "      <td>Living Room</td>\n",
       "      <td>Window Treatment: Blinds</td>\n",
       "      <td>57</td>\n",
       "      <td>No</td>\n",
       "      <td>0</td>\n",
       "      <td>0.95</td>\n",
       "      <td>5.4</td>\n",
       "      <td>...</td>\n",
       "      <td>214.2288</td>\n",
       "      <td>213.2788</td>\n",
       "      <td>0.995565</td>\n",
       "      <td>214.2288</td>\n",
       "      <td>MI</td>\n",
       "      <td>49093</td>\n",
       "      <td>Midwest</td>\n",
       "      <td>Yes</td>\n",
       "      <td>Good</td>\n",
       "      <td>2</td>\n",
       "    </tr>\n",
       "    <tr>\n",
       "      <th>2</th>\n",
       "      <td>587</td>\n",
       "      <td>1015</td>\n",
       "      <td>2004-01-25</td>\n",
       "      <td>Living Room</td>\n",
       "      <td>Window Treatment: Blinds</td>\n",
       "      <td>27</td>\n",
       "      <td>No</td>\n",
       "      <td>0</td>\n",
       "      <td>0.95</td>\n",
       "      <td>5.4</td>\n",
       "      <td>...</td>\n",
       "      <td>128.0124</td>\n",
       "      <td>127.0624</td>\n",
       "      <td>0.992579</td>\n",
       "      <td>128.0124</td>\n",
       "      <td>MI</td>\n",
       "      <td>49093</td>\n",
       "      <td>Midwest</td>\n",
       "      <td>Yes</td>\n",
       "      <td>Good</td>\n",
       "      <td>2</td>\n",
       "    </tr>\n",
       "    <tr>\n",
       "      <th>3</th>\n",
       "      <td>588</td>\n",
       "      <td>1015</td>\n",
       "      <td>2004-01-25</td>\n",
       "      <td>Living Room</td>\n",
       "      <td>Window Treatment: Blinds</td>\n",
       "      <td>21</td>\n",
       "      <td>No</td>\n",
       "      <td>0</td>\n",
       "      <td>0.95</td>\n",
       "      <td>5.4</td>\n",
       "      <td>...</td>\n",
       "      <td>101.4930</td>\n",
       "      <td>100.5430</td>\n",
       "      <td>0.990640</td>\n",
       "      <td>101.4930</td>\n",
       "      <td>MI</td>\n",
       "      <td>49093</td>\n",
       "      <td>Midwest</td>\n",
       "      <td>Yes</td>\n",
       "      <td>Good</td>\n",
       "      <td>2</td>\n",
       "    </tr>\n",
       "    <tr>\n",
       "      <th>4</th>\n",
       "      <td>589</td>\n",
       "      <td>1015</td>\n",
       "      <td>2004-01-25</td>\n",
       "      <td>Living Room</td>\n",
       "      <td>Window Treatment: Blinds</td>\n",
       "      <td>56</td>\n",
       "      <td>No</td>\n",
       "      <td>0</td>\n",
       "      <td>0.95</td>\n",
       "      <td>5.4</td>\n",
       "      <td>...</td>\n",
       "      <td>214.0992</td>\n",
       "      <td>213.1492</td>\n",
       "      <td>0.995563</td>\n",
       "      <td>214.0992</td>\n",
       "      <td>MI</td>\n",
       "      <td>49093</td>\n",
       "      <td>Midwest</td>\n",
       "      <td>Yes</td>\n",
       "      <td>Good</td>\n",
       "      <td>2</td>\n",
       "    </tr>\n",
       "  </tbody>\n",
       "</table>\n",
       "<p>5 rows × 26 columns</p>\n",
       "</div>"
      ],
      "text/plain": [
       "   Onum   CID      Tdate        Pline                    Pclass  Usales  \\\n",
       "0   585  1015 2004-01-25  Living Room  Window Treatment: Blinds      36   \n",
       "1   586  1015 2004-01-25  Living Room  Window Treatment: Blinds      57   \n",
       "2   587  1015 2004-01-25  Living Room  Window Treatment: Blinds      27   \n",
       "3   588  1015 2004-01-25  Living Room  Window Treatment: Blinds      21   \n",
       "4   589  1015 2004-01-25  Living Room  Window Treatment: Blinds      56   \n",
       "\n",
       "  Return  returnAmount  Mcost  Lprice  ...       Rev       Con        CM  \\\n",
       "0     No             0   0.95     5.4  ...  177.8760  176.9260  0.994659   \n",
       "1     No             0   0.95     5.4  ...  214.2288  213.2788  0.995565   \n",
       "2     No             0   0.95     5.4  ...  128.0124  127.0624  0.992579   \n",
       "3     No             0   0.95     5.4  ...  101.4930  100.5430  0.990640   \n",
       "4     No             0   0.95     5.4  ...  214.0992  213.1492  0.995563   \n",
       "\n",
       "     netRev  State    ZIP   Region  loyaltyProgram  buyerRating  \\\n",
       "0  177.8760     MI  49093  Midwest             Yes         Good   \n",
       "1  214.2288     MI  49093  Midwest             Yes         Good   \n",
       "2  128.0124     MI  49093  Midwest             Yes         Good   \n",
       "3  101.4930     MI  49093  Midwest             Yes         Good   \n",
       "4  214.0992     MI  49093  Midwest             Yes         Good   \n",
       "\n",
       "   buyerSatisfaction  \n",
       "0                  2  \n",
       "1                  2  \n",
       "2                  2  \n",
       "3                  2  \n",
       "4                  2  \n",
       "\n",
       "[5 rows x 26 columns]"
      ]
     },
     "execution_count": 167,
     "metadata": {},
     "output_type": "execute_result"
    }
   ],
   "source": [
    "df.head()"
   ]
  },
  {
   "cell_type": "code",
   "execution_count": 169,
   "metadata": {},
   "outputs": [
    {
     "data": {
      "text/plain": [
       "<matplotlib.axes._subplots.AxesSubplot at 0x18823a7c808>"
      ]
     },
     "execution_count": 169,
     "metadata": {},
     "output_type": "execute_result"
    },
    {
     "data": {
      "image/png": "[encoded data removed]",
      "text/plain": [
       "<Figure size 432x288 with 1 Axes>"
      ]
     },
     "metadata": {
      "needs_background": "light"
     },
     "output_type": "display_data"
    }
   ],
   "source": [
    "sns.boxplot(data=df, y='Tdisc',x='Region')"
   ]
  },
  {
   "cell_type": "code",
   "execution_count": 172,
   "metadata": {},
   "outputs": [],
   "source": [
    "x=['Ddisc','Cdisc','Odisc','Pdisc']\n",
    "df_south=df.loc[df.Region=='South',x]"
   ]
  },
  {
   "cell_type": "code",
   "execution_count": 173,
   "metadata": {},
   "outputs": [
    {
     "data": {
      "text/html": [
       "<div>\n",
       "<style scoped>\n",
       "    .dataframe tbody tr th:only-of-type {\n",
       "        vertical-align: middle;\n",
       "    }\n",
       "\n",
       "    .dataframe tbody tr th {\n",
       "        vertical-align: top;\n",
       "    }\n",
       "\n",
       "    .dataframe thead th {\n",
       "        text-align: right;\n",
       "    }\n",
       "</style>\n",
       "<table border=\"1\" class=\"dataframe\">\n",
       "  <thead>\n",
       "    <tr style=\"text-align: right;\">\n",
       "      <th></th>\n",
       "      <th>Ddisc</th>\n",
       "      <th>Cdisc</th>\n",
       "      <th>Odisc</th>\n",
       "      <th>Pdisc</th>\n",
       "    </tr>\n",
       "  </thead>\n",
       "  <tbody>\n",
       "    <tr>\n",
       "      <th>862</th>\n",
       "      <td>0.078</td>\n",
       "      <td>0.044</td>\n",
       "      <td>0.050</td>\n",
       "      <td>0.046</td>\n",
       "    </tr>\n",
       "    <tr>\n",
       "      <th>863</th>\n",
       "      <td>0.085</td>\n",
       "      <td>0.050</td>\n",
       "      <td>0.060</td>\n",
       "      <td>0.022</td>\n",
       "    </tr>\n",
       "    <tr>\n",
       "      <th>864</th>\n",
       "      <td>0.070</td>\n",
       "      <td>0.068</td>\n",
       "      <td>0.060</td>\n",
       "      <td>0.035</td>\n",
       "    </tr>\n",
       "    <tr>\n",
       "      <th>865</th>\n",
       "      <td>0.077</td>\n",
       "      <td>0.074</td>\n",
       "      <td>0.063</td>\n",
       "      <td>0.031</td>\n",
       "    </tr>\n",
       "    <tr>\n",
       "      <th>866</th>\n",
       "      <td>0.080</td>\n",
       "      <td>0.076</td>\n",
       "      <td>0.068</td>\n",
       "      <td>0.048</td>\n",
       "    </tr>\n",
       "  </tbody>\n",
       "</table>\n",
       "</div>"
      ],
      "text/plain": [
       "     Ddisc  Cdisc  Odisc  Pdisc\n",
       "862  0.078  0.044  0.050  0.046\n",
       "863  0.085  0.050  0.060  0.022\n",
       "864  0.070  0.068  0.060  0.035\n",
       "865  0.077  0.074  0.063  0.031\n",
       "866  0.080  0.076  0.068  0.048"
      ]
     },
     "execution_count": 173,
     "metadata": {},
     "output_type": "execute_result"
    }
   ],
   "source": [
    "df_south.head()"
   ]
  },
  {
   "cell_type": "markdown",
   "metadata": {},
   "source": [
    "#### Need one var for boxplot"
   ]
  },
  {
   "cell_type": "code",
   "execution_count": 174,
   "metadata": {},
   "outputs": [],
   "source": [
    "df_narrow = pd.melt(df_south)"
   ]
  },
  {
   "cell_type": "code",
   "execution_count": 176,
   "metadata": {},
   "outputs": [
    {
     "data": {
      "text/html": [
       "<div>\n",
       "<style scoped>\n",
       "    .dataframe tbody tr th:only-of-type {\n",
       "        vertical-align: middle;\n",
       "    }\n",
       "\n",
       "    .dataframe tbody tr th {\n",
       "        vertical-align: top;\n",
       "    }\n",
       "\n",
       "    .dataframe thead th {\n",
       "        text-align: right;\n",
       "    }\n",
       "</style>\n",
       "<table border=\"1\" class=\"dataframe\">\n",
       "  <thead>\n",
       "    <tr style=\"text-align: right;\">\n",
       "      <th></th>\n",
       "      <th>variable</th>\n",
       "      <th>value</th>\n",
       "    </tr>\n",
       "  </thead>\n",
       "  <tbody>\n",
       "    <tr>\n",
       "      <th>0</th>\n",
       "      <td>Ddisc</td>\n",
       "      <td>0.078</td>\n",
       "    </tr>\n",
       "    <tr>\n",
       "      <th>1</th>\n",
       "      <td>Ddisc</td>\n",
       "      <td>0.085</td>\n",
       "    </tr>\n",
       "    <tr>\n",
       "      <th>2</th>\n",
       "      <td>Ddisc</td>\n",
       "      <td>0.070</td>\n",
       "    </tr>\n",
       "    <tr>\n",
       "      <th>3</th>\n",
       "      <td>Ddisc</td>\n",
       "      <td>0.077</td>\n",
       "    </tr>\n",
       "    <tr>\n",
       "      <th>4</th>\n",
       "      <td>Ddisc</td>\n",
       "      <td>0.080</td>\n",
       "    </tr>\n",
       "    <tr>\n",
       "      <th>...</th>\n",
       "      <td>...</td>\n",
       "      <td>...</td>\n",
       "    </tr>\n",
       "    <tr>\n",
       "      <th>63319</th>\n",
       "      <td>Pdisc</td>\n",
       "      <td>0.020</td>\n",
       "    </tr>\n",
       "    <tr>\n",
       "      <th>63320</th>\n",
       "      <td>Pdisc</td>\n",
       "      <td>0.045</td>\n",
       "    </tr>\n",
       "    <tr>\n",
       "      <th>63321</th>\n",
       "      <td>Pdisc</td>\n",
       "      <td>0.025</td>\n",
       "    </tr>\n",
       "    <tr>\n",
       "      <th>63322</th>\n",
       "      <td>Pdisc</td>\n",
       "      <td>0.059</td>\n",
       "    </tr>\n",
       "    <tr>\n",
       "      <th>63323</th>\n",
       "      <td>Pdisc</td>\n",
       "      <td>0.048</td>\n",
       "    </tr>\n",
       "  </tbody>\n",
       "</table>\n",
       "<p>63324 rows × 2 columns</p>\n",
       "</div>"
      ],
      "text/plain": [
       "      variable  value\n",
       "0        Ddisc  0.078\n",
       "1        Ddisc  0.085\n",
       "2        Ddisc  0.070\n",
       "3        Ddisc  0.077\n",
       "4        Ddisc  0.080\n",
       "...        ...    ...\n",
       "63319    Pdisc  0.020\n",
       "63320    Pdisc  0.045\n",
       "63321    Pdisc  0.025\n",
       "63322    Pdisc  0.059\n",
       "63323    Pdisc  0.048\n",
       "\n",
       "[63324 rows x 2 columns]"
      ]
     },
     "execution_count": 176,
     "metadata": {},
     "output_type": "execute_result"
    }
   ],
   "source": [
    "df_narrow"
   ]
  },
  {
   "cell_type": "code",
   "execution_count": 177,
   "metadata": {},
   "outputs": [],
   "source": [
    "x = df_narrow.groupby('variable').describe()"
   ]
  },
  {
   "cell_type": "code",
   "execution_count": 178,
   "metadata": {},
   "outputs": [
    {
     "data": {
      "text/html": [
       "<div>\n",
       "<style scoped>\n",
       "    .dataframe tbody tr th:only-of-type {\n",
       "        vertical-align: middle;\n",
       "    }\n",
       "\n",
       "    .dataframe tbody tr th {\n",
       "        vertical-align: top;\n",
       "    }\n",
       "\n",
       "    .dataframe thead tr th {\n",
       "        text-align: left;\n",
       "    }\n",
       "\n",
       "    .dataframe thead tr:last-of-type th {\n",
       "        text-align: right;\n",
       "    }\n",
       "</style>\n",
       "<table border=\"1\" class=\"dataframe\">\n",
       "  <thead>\n",
       "    <tr>\n",
       "      <th></th>\n",
       "      <th colspan=\"8\" halign=\"left\">value</th>\n",
       "    </tr>\n",
       "    <tr>\n",
       "      <th></th>\n",
       "      <th>count</th>\n",
       "      <th>mean</th>\n",
       "      <th>std</th>\n",
       "      <th>min</th>\n",
       "      <th>25%</th>\n",
       "      <th>50%</th>\n",
       "      <th>75%</th>\n",
       "      <th>max</th>\n",
       "    </tr>\n",
       "    <tr>\n",
       "      <th>variable</th>\n",
       "      <th></th>\n",
       "      <th></th>\n",
       "      <th></th>\n",
       "      <th></th>\n",
       "      <th></th>\n",
       "      <th></th>\n",
       "      <th></th>\n",
       "      <th></th>\n",
       "    </tr>\n",
       "  </thead>\n",
       "  <tbody>\n",
       "    <tr>\n",
       "      <th>Cdisc</th>\n",
       "      <td>15831.0</td>\n",
       "      <td>0.069813</td>\n",
       "      <td>0.020228</td>\n",
       "      <td>0.035</td>\n",
       "      <td>0.052</td>\n",
       "      <td>0.07</td>\n",
       "      <td>0.087</td>\n",
       "      <td>0.105</td>\n",
       "    </tr>\n",
       "    <tr>\n",
       "      <th>Ddisc</th>\n",
       "      <td>15831.0</td>\n",
       "      <td>0.079939</td>\n",
       "      <td>0.008658</td>\n",
       "      <td>0.065</td>\n",
       "      <td>0.072</td>\n",
       "      <td>0.08</td>\n",
       "      <td>0.087</td>\n",
       "      <td>0.095</td>\n",
       "    </tr>\n",
       "    <tr>\n",
       "      <th>Odisc</th>\n",
       "      <td>15831.0</td>\n",
       "      <td>0.050175</td>\n",
       "      <td>0.014507</td>\n",
       "      <td>0.025</td>\n",
       "      <td>0.038</td>\n",
       "      <td>0.05</td>\n",
       "      <td>0.063</td>\n",
       "      <td>0.075</td>\n",
       "    </tr>\n",
       "    <tr>\n",
       "      <th>Pdisc</th>\n",
       "      <td>15831.0</td>\n",
       "      <td>0.040134</td>\n",
       "      <td>0.011540</td>\n",
       "      <td>0.020</td>\n",
       "      <td>0.030</td>\n",
       "      <td>0.04</td>\n",
       "      <td>0.050</td>\n",
       "      <td>0.060</td>\n",
       "    </tr>\n",
       "  </tbody>\n",
       "</table>\n",
       "</div>"
      ],
      "text/plain": [
       "            value                                                      \n",
       "            count      mean       std    min    25%   50%    75%    max\n",
       "variable                                                               \n",
       "Cdisc     15831.0  0.069813  0.020228  0.035  0.052  0.07  0.087  0.105\n",
       "Ddisc     15831.0  0.079939  0.008658  0.065  0.072  0.08  0.087  0.095\n",
       "Odisc     15831.0  0.050175  0.014507  0.025  0.038  0.05  0.063  0.075\n",
       "Pdisc     15831.0  0.040134  0.011540  0.020  0.030  0.04  0.050  0.060"
      ]
     },
     "execution_count": 178,
     "metadata": {},
     "output_type": "execute_result"
    }
   ],
   "source": [
    "x"
   ]
  },
  {
   "cell_type": "code",
   "execution_count": 180,
   "metadata": {},
   "outputs": [
    {
     "data": {
      "text/plain": [
       "Text(0.5, 1.0, 'Discounts in the South Region')"
      ]
     },
     "execution_count": 180,
     "metadata": {},
     "output_type": "execute_result"
    },
    {
     "data": {
      "image/png": "[encoded data removed]",
      "text/plain": [
       "<Figure size 432x288 with 1 Axes>"
      ]
     },
     "metadata": {
      "needs_background": "light"
     },
     "output_type": "display_data"
    }
   ],
   "source": [
    "sns.boxplot(data=df_narrow,x='variable',y='value')\n",
    "plt.title(\"Discounts in the South Region\")"
   ]
  },
  {
   "cell_type": "code",
   "execution_count": 181,
   "metadata": {},
   "outputs": [
    {
     "data": {
      "text/plain": [
       "[Text(0, 0, 'Dealer'),\n",
       " Text(0, 0, 'Order\\nSize'),\n",
       " Text(0, 0, 'Competitive'),\n",
       " Text(0, 0, 'Pickup')]"
      ]
     },
     "execution_count": 181,
     "metadata": {},
     "output_type": "execute_result"
    },
    {
     "data": {
      "image/png": "[encoded data removed]",
      "text/plain": [
       "<Figure size 432x288 with 1 Axes>"
      ]
     },
     "metadata": {
      "needs_background": "light"
     },
     "output_type": "display_data"
    }
   ],
   "source": [
    "ax = sns.boxplot(data=df_narrow,x='variable',y='value')\n",
    "ax.set_xticklabels(['Dealer','Order\\nSize', 'Competitive','Pickup'])"
   ]
  },
  {
   "cell_type": "markdown",
   "metadata": {},
   "source": [
    "#### Check marketing region, loytalty program membership and buyer rating"
   ]
  },
  {
   "cell_type": "code",
   "execution_count": 189,
   "metadata": {},
   "outputs": [
    {
     "data": {
      "text/plain": [
       "Text(0.5, 1.0, 'Pocket Price')"
      ]
     },
     "execution_count": 189,
     "metadata": {},
     "output_type": "execute_result"
    },
    {
     "data": {
      "image/png": "[encoded data removed]",
      "text/plain": [
       "<Figure size 432x288 with 1 Axes>"
      ]
     },
     "metadata": {
      "needs_background": "light"
     },
     "output_type": "display_data"
    }
   ],
   "source": [
    "am = sns.boxplot(data=df,x='Region',y='Pprice')\n",
    "am.set_title('Pocket Price')"
   ]
  },
  {
   "cell_type": "code",
   "execution_count": 190,
   "metadata": {},
   "outputs": [
    {
     "data": {
      "text/plain": [
       "Index(['Onum', 'CID', 'Tdate', 'Pline', 'Pclass', 'Usales', 'Return',\n",
       "       'returnAmount', 'Mcost', 'Lprice', 'Ddisc', 'Cdisc', 'Odisc', 'Pdisc',\n",
       "       'Tdisc', 'Pprice', 'Rev', 'Con', 'CM', 'netRev', 'State', 'ZIP',\n",
       "       'Region', 'loyaltyProgram', 'buyerRating', 'buyerSatisfaction'],\n",
       "      dtype='object')"
      ]
     },
     "execution_count": 190,
     "metadata": {},
     "output_type": "execute_result"
    }
   ],
   "source": [
    "df.columns"
   ]
  },
  {
   "cell_type": "code",
   "execution_count": 191,
   "metadata": {},
   "outputs": [
    {
     "data": {
      "image/png": "[encoded data removed]",
      "text/plain": [
       "<Figure size 432x288 with 1 Axes>"
      ]
     },
     "metadata": {
      "needs_background": "light"
     },
     "output_type": "display_data"
    }
   ],
   "source": [
    "am = sns.boxplot(data=df,x='loyaltyProgram',y='Pprice')"
   ]
  },
  {
   "cell_type": "code",
   "execution_count": 192,
   "metadata": {},
   "outputs": [
    {
     "data": {
      "image/png": "[encoded data removed]",
      "text/plain": [
       "<Figure size 432x288 with 1 Axes>"
      ]
     },
     "metadata": {
      "needs_background": "light"
     },
     "output_type": "display_data"
    }
   ],
   "source": [
    "am = sns.boxplot(data=df,x='buyerRating',y='Pprice')"
   ]
  },
  {
   "cell_type": "markdown",
   "metadata": {},
   "source": [
    "## Looking at Relationships"
   ]
  },
  {
   "cell_type": "code",
   "execution_count": 193,
   "metadata": {},
   "outputs": [],
   "source": [
    "df['log_Pprice']=np.log1p(df.Pprice)\n",
    "df['log_Usales']=np.log1p(df.Usales)"
   ]
  },
  {
   "cell_type": "code",
   "execution_count": 194,
   "metadata": {},
   "outputs": [
    {
     "data": {
      "image/png": "[encoded data removed]",
      "text/plain": [
       "<Figure size 360x360 with 1 Axes>"
      ]
     },
     "metadata": {
      "needs_background": "light"
     },
     "output_type": "display_data"
    }
   ],
   "source": [
    "ax = sns.relplot(data=df, x='log_Pprice',y='log_Usales')"
   ]
  },
  {
   "cell_type": "code",
   "execution_count": 202,
   "metadata": {},
   "outputs": [
    {
     "data": {
      "image/png": "[encoded data removed]",
      "text/plain": [
       "<Figure size 432x288 with 1 Axes>"
      ]
     },
     "metadata": {
      "needs_background": "light"
     },
     "output_type": "display_data"
    }
   ],
   "source": [
    "ax = sns.regplot(data=df, x='log_Pprice',y='log_Usales',\n",
    "                scatter_kws={\"color\":\"black\"},\n",
    "                line_kws={\"color\":\"yellow\"})"
   ]
  },
  {
   "cell_type": "code",
   "execution_count": null,
   "metadata": {},
   "outputs": [],
   "source": []
  },
  {
   "cell_type": "code",
   "execution_count": null,
   "metadata": {},
   "outputs": [],
   "source": []
  },
  {
   "cell_type": "code",
   "execution_count": null,
   "metadata": {},
   "outputs": [],
   "source": []
  },
  {
   "cell_type": "code",
   "execution_count": null,
   "metadata": {},
   "outputs": [],
   "source": []
  },
  {
   "cell_type": "code",
   "execution_count": 199,
   "metadata": {},
   "outputs": [],
   "source": [
    "smpl = df.sample(n=500, random_state=1234, replace=False)"
   ]
  },
  {
   "cell_type": "code",
   "execution_count": 203,
   "metadata": {},
   "outputs": [
    {
     "data": {
      "text/plain": [
       "(500, 28)"
      ]
     },
     "execution_count": 203,
     "metadata": {},
     "output_type": "execute_result"
    }
   ],
   "source": [
    "smpl.shape"
   ]
  },
  {
   "cell_type": "code",
   "execution_count": 204,
   "metadata": {},
   "outputs": [
    {
     "data": {
      "text/plain": [
       "[Text(0, 0.5, 'Log Unit Sales'),\n",
       " Text(0.5, 0, 'Log Pocket Price'),\n",
       " Text(0.5, 1.0, 'Unit Sales vs Pocket Price\\nRandom Sample\\nn=500')]"
      ]
     },
     "execution_count": 204,
     "metadata": {},
     "output_type": "execute_result"
    },
    {
     "data": {
      "image/png": "[encoded data removed]",
      "text/plain": [
       "<Figure size 432x288 with 1 Axes>"
      ]
     },
     "metadata": {
      "needs_background": "light"
     },
     "output_type": "display_data"
    }
   ],
   "source": [
    "ax = sns.regplot(data=smpl, x='log_Pprice', y='log_Usales')\n",
    "ax.set(title = \"Unit Sales vs Pocket Price\\nRandom Sample\\nn=500\",\n",
    "      ylabel='Log Unit Sales',\n",
    "      xlabel='Log Pocket Price')"
   ]
  },
  {
   "cell_type": "code",
   "execution_count": 206,
   "metadata": {},
   "outputs": [
    {
     "data": {
      "text/plain": [
       "Index(['Onum', 'CID', 'Tdate', 'Pline', 'Pclass', 'Usales', 'Return',\n",
       "       'returnAmount', 'Mcost', 'Lprice', 'Ddisc', 'Cdisc', 'Odisc', 'Pdisc',\n",
       "       'Tdisc', 'Pprice', 'Rev', 'Con', 'CM', 'netRev', 'State', 'ZIP',\n",
       "       'Region', 'loyaltyProgram', 'buyerRating', 'buyerSatisfaction',\n",
       "       'log_Pprice', 'log_Usales'],\n",
       "      dtype='object')"
      ]
     },
     "execution_count": 206,
     "metadata": {},
     "output_type": "execute_result"
    }
   ],
   "source": [
    "df.columns"
   ]
  },
  {
   "cell_type": "code",
   "execution_count": 210,
   "metadata": {},
   "outputs": [],
   "source": [
    "smpl = df[['Tdisc','Usales','Region']].sample(n=1000,)"
   ]
  },
  {
   "cell_type": "code",
   "execution_count": 213,
   "metadata": {},
   "outputs": [
    {
     "data": {
      "text/plain": [
       "<matplotlib.axes._subplots.AxesSubplot at 0x1883d987248>"
      ]
     },
     "execution_count": 213,
     "metadata": {},
     "output_type": "execute_result"
    },
    {
     "data": {
      "image/png": "[encoded data removed]",
      "text/plain": [
       "<Figure size 432x288 with 1 Axes>"
      ]
     },
     "metadata": {
      "needs_background": "light"
     },
     "output_type": "display_data"
    }
   ],
   "source": [
    "sns.regplot(data=smpl,x='Tdisc',y='Usales')"
   ]
  },
  {
   "cell_type": "markdown",
   "metadata": {},
   "source": [
    "#### Joint Plot"
   ]
  },
  {
   "cell_type": "code",
   "execution_count": 214,
   "metadata": {},
   "outputs": [
    {
     "data": {
      "image/png": "[encoded data removed]",
      "text/plain": [
       "<Figure size 432x432 with 3 Axes>"
      ]
     },
     "metadata": {
      "needs_background": "light"
     },
     "output_type": "display_data"
    }
   ],
   "source": [
    "ax = sns.jointplot(data=df, x='log_Pprice',y='log_Usales', kind='kde')"
   ]
  },
  {
   "cell_type": "code",
   "execution_count": 215,
   "metadata": {},
   "outputs": [
    {
     "data": {
      "image/png": "[encoded data removed]",
      "text/plain": [
       "<Figure size 432x432 with 3 Axes>"
      ]
     },
     "metadata": {
      "needs_background": "light"
     },
     "output_type": "display_data"
    }
   ],
   "source": [
    "ax = sns.jointplot(data=df, x='log_Pprice',y='log_Usales')"
   ]
  },
  {
   "cell_type": "markdown",
   "metadata": {},
   "source": [
    "### Hex Bin Plot"
   ]
  },
  {
   "cell_type": "code",
   "execution_count": 216,
   "metadata": {},
   "outputs": [
    {
     "data": {
      "image/png": "[encoded data removed]",
      "text/plain": [
       "<Figure size 432x432 with 3 Axes>"
      ]
     },
     "metadata": {
      "needs_background": "light"
     },
     "output_type": "display_data"
    }
   ],
   "source": [
    "ax = sns.jointplot(data=df, x='log_Pprice',y='log_Usales', kind='hex')"
   ]
  },
  {
   "cell_type": "code",
   "execution_count": 217,
   "metadata": {},
   "outputs": [
    {
     "data": {
      "image/png": "[encoded data removed]",
      "text/plain": [
       "<Figure size 432x432 with 3 Axes>"
      ]
     },
     "metadata": {
      "needs_background": "light"
     },
     "output_type": "display_data"
    }
   ],
   "source": [
    "ax = sns.jointplot(data=df, x='log_Pprice',y='log_Usales', kind='hex', color='k')"
   ]
  },
  {
   "cell_type": "markdown",
   "metadata": {},
   "source": [
    "### Loewst Smooth"
   ]
  },
  {
   "cell_type": "code",
   "execution_count": 221,
   "metadata": {},
   "outputs": [
    {
     "data": {
      "image/png": "[encoded data removed]",
      "text/plain": [
       "<Figure size 432x288 with 1 Axes>"
      ]
     },
     "metadata": {
      "needs_background": "light"
     },
     "output_type": "display_data"
    }
   ],
   "source": [
    "smpl = df.sample(n=500, random_state=1234, replace=False)\n",
    "ax = sns.regplot(data=smpl, x='log_Pprice',y='log_Usales', \n",
    "                   lowess=True, scatter=False)"
   ]
  },
  {
   "cell_type": "code",
   "execution_count": null,
   "metadata": {},
   "outputs": [],
   "source": []
  },
  {
   "cell_type": "code",
   "execution_count": null,
   "metadata": {},
   "outputs": [],
   "source": []
  },
  {
   "cell_type": "code",
   "execution_count": 222,
   "metadata": {},
   "outputs": [],
   "source": [
    "x = ['Tdate', 'Ddisc']\n",
    "tmp=df[x]"
   ]
  },
  {
   "cell_type": "code",
   "execution_count": 223,
   "metadata": {},
   "outputs": [
    {
     "data": {
      "text/html": [
       "<div>\n",
       "<style scoped>\n",
       "    .dataframe tbody tr th:only-of-type {\n",
       "        vertical-align: middle;\n",
       "    }\n",
       "\n",
       "    .dataframe tbody tr th {\n",
       "        vertical-align: top;\n",
       "    }\n",
       "\n",
       "    .dataframe thead th {\n",
       "        text-align: right;\n",
       "    }\n",
       "</style>\n",
       "<table border=\"1\" class=\"dataframe\">\n",
       "  <thead>\n",
       "    <tr style=\"text-align: right;\">\n",
       "      <th></th>\n",
       "      <th>Tdate</th>\n",
       "      <th>Ddisc</th>\n",
       "    </tr>\n",
       "  </thead>\n",
       "  <tbody>\n",
       "    <tr>\n",
       "      <th>0</th>\n",
       "      <td>2004-01-25</td>\n",
       "      <td>NaN</td>\n",
       "    </tr>\n",
       "    <tr>\n",
       "      <th>1</th>\n",
       "      <td>2004-01-25</td>\n",
       "      <td>0.157</td>\n",
       "    </tr>\n",
       "    <tr>\n",
       "      <th>2</th>\n",
       "      <td>2004-01-25</td>\n",
       "      <td>NaN</td>\n",
       "    </tr>\n",
       "    <tr>\n",
       "      <th>3</th>\n",
       "      <td>2004-01-25</td>\n",
       "      <td>NaN</td>\n",
       "    </tr>\n",
       "    <tr>\n",
       "      <th>4</th>\n",
       "      <td>2004-01-25</td>\n",
       "      <td>0.140</td>\n",
       "    </tr>\n",
       "  </tbody>\n",
       "</table>\n",
       "</div>"
      ],
      "text/plain": [
       "       Tdate  Ddisc\n",
       "0 2004-01-25    NaN\n",
       "1 2004-01-25  0.157\n",
       "2 2004-01-25    NaN\n",
       "3 2004-01-25    NaN\n",
       "4 2004-01-25  0.140"
      ]
     },
     "execution_count": 223,
     "metadata": {},
     "output_type": "execute_result"
    }
   ],
   "source": [
    "tmp.head()"
   ]
  },
  {
   "cell_type": "code",
   "execution_count": 224,
   "metadata": {},
   "outputs": [],
   "source": [
    "tmp.set_index('Tdate', inplace=True)"
   ]
  },
  {
   "cell_type": "code",
   "execution_count": 225,
   "metadata": {},
   "outputs": [
    {
     "data": {
      "text/html": [
       "<div>\n",
       "<style scoped>\n",
       "    .dataframe tbody tr th:only-of-type {\n",
       "        vertical-align: middle;\n",
       "    }\n",
       "\n",
       "    .dataframe tbody tr th {\n",
       "        vertical-align: top;\n",
       "    }\n",
       "\n",
       "    .dataframe thead th {\n",
       "        text-align: right;\n",
       "    }\n",
       "</style>\n",
       "<table border=\"1\" class=\"dataframe\">\n",
       "  <thead>\n",
       "    <tr style=\"text-align: right;\">\n",
       "      <th></th>\n",
       "      <th>Ddisc</th>\n",
       "    </tr>\n",
       "    <tr>\n",
       "      <th>Tdate</th>\n",
       "      <th></th>\n",
       "    </tr>\n",
       "  </thead>\n",
       "  <tbody>\n",
       "    <tr>\n",
       "      <th>2004-01-25</th>\n",
       "      <td>NaN</td>\n",
       "    </tr>\n",
       "    <tr>\n",
       "      <th>2004-01-25</th>\n",
       "      <td>0.157</td>\n",
       "    </tr>\n",
       "    <tr>\n",
       "      <th>2004-01-25</th>\n",
       "      <td>NaN</td>\n",
       "    </tr>\n",
       "    <tr>\n",
       "      <th>2004-01-25</th>\n",
       "      <td>NaN</td>\n",
       "    </tr>\n",
       "    <tr>\n",
       "      <th>2004-01-25</th>\n",
       "      <td>0.140</td>\n",
       "    </tr>\n",
       "  </tbody>\n",
       "</table>\n",
       "</div>"
      ],
      "text/plain": [
       "            Ddisc\n",
       "Tdate            \n",
       "2004-01-25    NaN\n",
       "2004-01-25  0.157\n",
       "2004-01-25    NaN\n",
       "2004-01-25    NaN\n",
       "2004-01-25  0.140"
      ]
     },
     "execution_count": 225,
     "metadata": {},
     "output_type": "execute_result"
    }
   ],
   "source": [
    "tmp.head()"
   ]
  },
  {
   "cell_type": "code",
   "execution_count": 226,
   "metadata": {},
   "outputs": [
    {
     "data": {
      "text/html": [
       "<div>\n",
       "<style scoped>\n",
       "    .dataframe tbody tr th:only-of-type {\n",
       "        vertical-align: middle;\n",
       "    }\n",
       "\n",
       "    .dataframe tbody tr th {\n",
       "        vertical-align: top;\n",
       "    }\n",
       "\n",
       "    .dataframe thead th {\n",
       "        text-align: right;\n",
       "    }\n",
       "</style>\n",
       "<table border=\"1\" class=\"dataframe\">\n",
       "  <thead>\n",
       "    <tr style=\"text-align: right;\">\n",
       "      <th></th>\n",
       "      <th>Ddisc</th>\n",
       "    </tr>\n",
       "    <tr>\n",
       "      <th>Tdate</th>\n",
       "      <th></th>\n",
       "    </tr>\n",
       "  </thead>\n",
       "  <tbody>\n",
       "    <tr>\n",
       "      <th>2003-06-30</th>\n",
       "      <td>0.108419</td>\n",
       "    </tr>\n",
       "    <tr>\n",
       "      <th>2003-07-31</th>\n",
       "      <td>0.107782</td>\n",
       "    </tr>\n",
       "    <tr>\n",
       "      <th>2003-08-31</th>\n",
       "      <td>0.112491</td>\n",
       "    </tr>\n",
       "    <tr>\n",
       "      <th>2003-09-30</th>\n",
       "      <td>0.115927</td>\n",
       "    </tr>\n",
       "    <tr>\n",
       "      <th>2003-10-31</th>\n",
       "      <td>0.122851</td>\n",
       "    </tr>\n",
       "  </tbody>\n",
       "</table>\n",
       "</div>"
      ],
      "text/plain": [
       "               Ddisc\n",
       "Tdate               \n",
       "2003-06-30  0.108419\n",
       "2003-07-31  0.107782\n",
       "2003-08-31  0.112491\n",
       "2003-09-30  0.115927\n",
       "2003-10-31  0.122851"
      ]
     },
     "execution_count": 226,
     "metadata": {},
     "output_type": "execute_result"
    }
   ],
   "source": [
    "grp = tmp.resample('M').mean()\n",
    "grp.head()"
   ]
  },
  {
   "cell_type": "code",
   "execution_count": 230,
   "metadata": {},
   "outputs": [
    {
     "data": {
      "text/plain": [
       "Text(0.5, 1.0, 'Test')"
      ]
     },
     "execution_count": 230,
     "metadata": {},
     "output_type": "execute_result"
    },
    {
     "data": {
      "image/png": "[encoded data removed]",
      "text/plain": [
       "<Figure size 432x288 with 1 Axes>"
      ]
     },
     "metadata": {
      "needs_background": "light"
     },
     "output_type": "display_data"
    }
   ],
   "source": [
    "ax = grp.plot(y='Ddisc', legend='False', marker='o')\n",
    "ax.set_title(\"Test\")"
   ]
  },
  {
   "cell_type": "markdown",
   "metadata": {},
   "source": [
    "# Predictive Modeling"
   ]
  },
  {
   "cell_type": "markdown",
   "metadata": {},
   "source": [
    "#### Extract column to predict"
   ]
  },
  {
   "cell_type": "code",
   "execution_count": 231,
   "metadata": {},
   "outputs": [],
   "source": [
    "y =df['Usales']"
   ]
  },
  {
   "cell_type": "markdown",
   "metadata": {},
   "source": [
    "#### X, independant"
   ]
  },
  {
   "cell_type": "code",
   "execution_count": 233,
   "metadata": {},
   "outputs": [],
   "source": [
    "X = ['Pprice','Ddisc','Odisc','Cdisc','Pdisc','Region', 'buyerRating']"
   ]
  },
  {
   "cell_type": "code",
   "execution_count": 238,
   "metadata": {},
   "outputs": [],
   "source": [
    "y = df[ 'Usales' ]\n",
    "##\n",
    "x = [ 'Pprice', 'Ddisc', 'Odisc', 'Cdisc', 'Pdisc', 'Region', 'buyerRating' ]\n",
    "X = df[ x ]"
   ]
  },
  {
   "cell_type": "code",
   "execution_count": 239,
   "metadata": {},
   "outputs": [],
   "source": [
    "X_train, X_test, y_train, y_test = train_test_split( X, y, test_size = 0.25,\n",
    "                                                    random_state = 42 ) "
   ]
  },
  {
   "cell_type": "code",
   "execution_count": 240,
   "metadata": {},
   "outputs": [
    {
     "name": "stdout",
     "output_type": "stream",
     "text": [
      "Sample sizes:\n",
      "X: 52702, y: 52702\n",
      "\n",
      "Training X Data:\n",
      "        Pprice  Ddisc  Odisc  Cdisc  Pdisc   Region buyerRating\n",
      "29834  5.08950  0.114  0.035  0.044  0.053     West   Excellent\n",
      "64348  5.77622  0.180  0.033  0.067  0.053  Midwest   Excellent\n",
      "63453  5.31867  0.154  0.073  0.066  0.056  Midwest        Good\n",
      "36311  4.92480  0.176  0.074  0.043  0.059  Midwest        Good\n",
      "17132  3.82602  0.115  0.073  0.077  0.053     West        Good\n",
      "\n",
      "Training y Data:\n",
      "29834    37\n",
      "64348    35\n",
      "63453    24\n",
      "36311    20\n",
      "17132    10\n",
      "Name: Usales, dtype: int64\n"
     ]
    }
   ],
   "source": [
    "print( 'Sample sizes:\\nX: {}, y: {}'.format( X_train.shape[0], y_train.shape[0] ) )\n",
    "print( '\\nTraining X Data:\\n{}'.format( X_train.head() ) )\n",
    "print( '\\nTraining y Data:\\n{}'.format( y_train.head() ))"
   ]
  },
  {
   "cell_type": "code",
   "execution_count": 241,
   "metadata": {},
   "outputs": [
    {
     "name": "stdout",
     "output_type": "stream",
     "text": [
      "Training Data Set:\n",
      "       Usales   Pprice  Ddisc  Odisc  Cdisc  Pdisc   Region buyerRating\n",
      "29834      37  5.08950  0.114  0.035  0.044  0.053     West   Excellent\n",
      "64348      35  5.77622  0.180  0.033  0.067  0.053  Midwest   Excellent\n",
      "63453      24  5.31867  0.154  0.073  0.066  0.056  Midwest        Good\n",
      "36311      20  4.92480  0.176  0.074  0.043  0.059  Midwest        Good\n",
      "17132      10  3.82602  0.115  0.073  0.077  0.053     West        Good\n"
     ]
    }
   ],
   "source": [
    "## \n",
    "## Merge the X and y training data for \n",
    "## model training.  Do an inner join on the indexes.\n",
    "##\n",
    "## Rename the y variable: Usales\n",
    "##\n",
    "yy = pd.DataFrame( { 'Usales':y_train } )\n",
    "train = yy.merge( X_train, left_index = True, right_index = True )\n",
    "print( 'Training Data Set:\\n{}'.format( train.head() ) )"
   ]
  },
  {
   "cell_type": "code",
   "execution_count": null,
   "metadata": {},
   "outputs": [],
   "source": []
  }
 ],
 "metadata": {
  "kernelspec": {
   "display_name": "Python 3",
   "language": "python",
   "name": "python3"
  },
  "language_info": {
   "codemirror_mode": {
    "name": "ipython",
    "version": 3
   },
   "file_extension": ".py",
   "mimetype": "text/x-python",
   "name": "python",
   "nbconvert_exporter": "python",
   "pygments_lexer": "ipython3",
   "version": "3.7.4"
  }
 },
 "nbformat": 4,
 "nbformat_minor": 2
}
