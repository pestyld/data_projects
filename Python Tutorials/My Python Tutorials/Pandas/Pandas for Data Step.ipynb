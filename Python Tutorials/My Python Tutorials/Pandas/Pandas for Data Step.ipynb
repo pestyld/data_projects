{
 "cells": [
  {
   "cell_type": "code",
   "execution_count": 21,
   "metadata": {},
   "outputs": [],
   "source": [
    "import pandas as pd\n",
    "from matplotlib import pyplot as plt\n",
    "import seaborn as sns\n",
    "\n",
    "%matplotlib inline"
   ]
  },
  {
   "cell_type": "markdown",
   "metadata": {},
   "source": [
    "# Resources/Papers\n",
    "\n",
    "https://www.sas.com/content/dam/SAS/support/en/sas-global-forum-proceedings/2019/3884-2019.pdf\n",
    "\n",
    "https://www.amazon.com/Python-SAS-Users-SAS-Oriented-Introduction/dp/1484250001"
   ]
  },
  {
   "cell_type": "markdown",
   "metadata": {},
   "source": [
    "## Access Data"
   ]
  },
  {
   "cell_type": "markdown",
   "metadata": {},
   "source": [
    "think proc import or data infile"
   ]
  },
  {
   "cell_type": "code",
   "execution_count": 234,
   "metadata": {},
   "outputs": [
    {
     "data": {
      "text/html": [
       "<div>\n",
       "<style scoped>\n",
       "    .dataframe tbody tr th:only-of-type {\n",
       "        vertical-align: middle;\n",
       "    }\n",
       "\n",
       "    .dataframe tbody tr th {\n",
       "        vertical-align: top;\n",
       "    }\n",
       "\n",
       "    .dataframe thead th {\n",
       "        text-align: right;\n",
       "    }\n",
       "</style>\n",
       "<table border=\"1\" class=\"dataframe\">\n",
       "  <thead>\n",
       "    <tr style=\"text-align: right;\">\n",
       "      <th></th>\n",
       "      <th>Make</th>\n",
       "      <th>Model</th>\n",
       "      <th>Type</th>\n",
       "      <th>Origin</th>\n",
       "      <th>DriveTrain</th>\n",
       "      <th>MSRP</th>\n",
       "      <th>Invoice</th>\n",
       "      <th>EngineSize</th>\n",
       "      <th>Cylinders</th>\n",
       "      <th>Horsepower</th>\n",
       "      <th>MPG_City</th>\n",
       "      <th>MPG_Highway</th>\n",
       "      <th>Weight</th>\n",
       "      <th>Wheelbase</th>\n",
       "      <th>Length</th>\n",
       "    </tr>\n",
       "  </thead>\n",
       "  <tbody>\n",
       "    <tr>\n",
       "      <th>0</th>\n",
       "      <td>Acura</td>\n",
       "      <td>MDX</td>\n",
       "      <td>SUV</td>\n",
       "      <td>Asia</td>\n",
       "      <td>All</td>\n",
       "      <td>$36,945</td>\n",
       "      <td>$33,337</td>\n",
       "      <td>3.5</td>\n",
       "      <td>6.0</td>\n",
       "      <td>265</td>\n",
       "      <td>17</td>\n",
       "      <td>23</td>\n",
       "      <td>4451</td>\n",
       "      <td>106</td>\n",
       "      <td>189</td>\n",
       "    </tr>\n",
       "    <tr>\n",
       "      <th>1</th>\n",
       "      <td>Acura</td>\n",
       "      <td>RSX Type S 2dr</td>\n",
       "      <td>Sedan</td>\n",
       "      <td>Asia</td>\n",
       "      <td>Front</td>\n",
       "      <td>$23,820</td>\n",
       "      <td>$21,761</td>\n",
       "      <td>2.0</td>\n",
       "      <td>4.0</td>\n",
       "      <td>200</td>\n",
       "      <td>24</td>\n",
       "      <td>31</td>\n",
       "      <td>2778</td>\n",
       "      <td>101</td>\n",
       "      <td>172</td>\n",
       "    </tr>\n",
       "    <tr>\n",
       "      <th>2</th>\n",
       "      <td>Acura</td>\n",
       "      <td>TSX 4dr</td>\n",
       "      <td>Sedan</td>\n",
       "      <td>Asia</td>\n",
       "      <td>Front</td>\n",
       "      <td>$26,990</td>\n",
       "      <td>$24,647</td>\n",
       "      <td>2.4</td>\n",
       "      <td>4.0</td>\n",
       "      <td>200</td>\n",
       "      <td>22</td>\n",
       "      <td>29</td>\n",
       "      <td>3230</td>\n",
       "      <td>105</td>\n",
       "      <td>183</td>\n",
       "    </tr>\n",
       "    <tr>\n",
       "      <th>3</th>\n",
       "      <td>Acura</td>\n",
       "      <td>TL 4dr</td>\n",
       "      <td>Sedan</td>\n",
       "      <td>Asia</td>\n",
       "      <td>Front</td>\n",
       "      <td>$33,195</td>\n",
       "      <td>$30,299</td>\n",
       "      <td>3.2</td>\n",
       "      <td>6.0</td>\n",
       "      <td>270</td>\n",
       "      <td>20</td>\n",
       "      <td>28</td>\n",
       "      <td>3575</td>\n",
       "      <td>108</td>\n",
       "      <td>186</td>\n",
       "    </tr>\n",
       "    <tr>\n",
       "      <th>4</th>\n",
       "      <td>Acura</td>\n",
       "      <td>3.5 RL 4dr</td>\n",
       "      <td>Sedan</td>\n",
       "      <td>Asia</td>\n",
       "      <td>Front</td>\n",
       "      <td>$43,755</td>\n",
       "      <td>$39,014</td>\n",
       "      <td>3.5</td>\n",
       "      <td>6.0</td>\n",
       "      <td>225</td>\n",
       "      <td>18</td>\n",
       "      <td>24</td>\n",
       "      <td>3880</td>\n",
       "      <td>115</td>\n",
       "      <td>197</td>\n",
       "    </tr>\n",
       "  </tbody>\n",
       "</table>\n",
       "</div>"
      ],
      "text/plain": [
       "    Make           Model   Type Origin DriveTrain     MSRP  Invoice  \\\n",
       "0  Acura             MDX    SUV   Asia        All  $36,945  $33,337   \n",
       "1  Acura  RSX Type S 2dr  Sedan   Asia      Front  $23,820  $21,761   \n",
       "2  Acura         TSX 4dr  Sedan   Asia      Front  $26,990  $24,647   \n",
       "3  Acura          TL 4dr  Sedan   Asia      Front  $33,195  $30,299   \n",
       "4  Acura      3.5 RL 4dr  Sedan   Asia      Front  $43,755  $39,014   \n",
       "\n",
       "   EngineSize  Cylinders  Horsepower  MPG_City  MPG_Highway  Weight  \\\n",
       "0         3.5        6.0         265        17           23    4451   \n",
       "1         2.0        4.0         200        24           31    2778   \n",
       "2         2.4        4.0         200        22           29    3230   \n",
       "3         3.2        6.0         270        20           28    3575   \n",
       "4         3.5        6.0         225        18           24    3880   \n",
       "\n",
       "   Wheelbase  Length  \n",
       "0        106     189  \n",
       "1        101     172  \n",
       "2        105     183  \n",
       "3        108     186  \n",
       "4        115     197  "
      ]
     },
     "execution_count": 234,
     "metadata": {},
     "output_type": "execute_result"
    }
   ],
   "source": [
    "df = pd.read_csv(\"cars.csv\")\n",
    "df.head()"
   ]
  },
  {
   "cell_type": "markdown",
   "metadata": {},
   "source": [
    "## Basic Exploration"
   ]
  },
  {
   "cell_type": "markdown",
   "metadata": {},
   "source": [
    "Data types, think proc contents\n",
    "\n",
    "Maybe focus on showing proc contents with labels, formats, etc. Pretty cool procedure to see everything at once. Not sure if there is something similar with python.\n",
    "\n",
    "Also see how MSRP is an object (text). Fix that later."
   ]
  },
  {
   "cell_type": "code",
   "execution_count": 129,
   "metadata": {},
   "outputs": [
    {
     "data": {
      "text/plain": [
       "Make            object\n",
       "Model           object\n",
       "Type            object\n",
       "Origin          object\n",
       "DriveTrain      object\n",
       "MSRP            object\n",
       "Invoice         object\n",
       "EngineSize     float64\n",
       "Cylinders      float64\n",
       "Horsepower       int64\n",
       "MPG_City         int64\n",
       "MPG_Highway      int64\n",
       "Weight           int64\n",
       "Wheelbase        int64\n",
       "Length           int64\n",
       "dtype: object"
      ]
     },
     "execution_count": 129,
     "metadata": {},
     "output_type": "execute_result"
    }
   ],
   "source": [
    "df.dtypes"
   ]
  },
  {
   "cell_type": "markdown",
   "metadata": {},
   "source": [
    "Look for all column names. Returns an index."
   ]
  },
  {
   "cell_type": "code",
   "execution_count": 130,
   "metadata": {},
   "outputs": [
    {
     "data": {
      "text/plain": [
       "Index(['Make', 'Model', 'Type', 'Origin', 'DriveTrain', 'MSRP', 'Invoice',\n",
       "       'EngineSize', 'Cylinders', 'Horsepower', 'MPG_City', 'MPG_Highway',\n",
       "       'Weight', 'Wheelbase', 'Length'],\n",
       "      dtype='object')"
      ]
     },
     "execution_count": 130,
     "metadata": {},
     "output_type": "execute_result"
    }
   ],
   "source": [
    "df.columns"
   ]
  },
  {
   "cell_type": "code",
   "execution_count": 131,
   "metadata": {},
   "outputs": [
    {
     "data": {
      "text/plain": [
       "pandas.core.indexes.base.Index"
      ]
     },
     "execution_count": 131,
     "metadata": {},
     "output_type": "execute_result"
    }
   ],
   "source": [
    "type(df.columns)"
   ]
  },
  {
   "cell_type": "code",
   "execution_count": 17,
   "metadata": {},
   "outputs": [
    {
     "name": "stdout",
     "output_type": "stream",
     "text": [
      "Make\n",
      "Model\n",
      "Type\n",
      "Origin\n",
      "DriveTrain\n",
      "MSRP\n",
      "Invoice\n",
      "EngineSize\n",
      "Cylinders\n",
      "Horsepower\n",
      "MPG_City\n",
      "MPG_Highway\n",
      "Weight\n",
      "Wheelbase\n",
      "Length\n"
     ]
    }
   ],
   "source": [
    "for i in df.columns:\n",
    "    print(i)"
   ]
  },
  {
   "cell_type": "markdown",
   "metadata": {},
   "source": [
    "Think proc means"
   ]
  },
  {
   "cell_type": "code",
   "execution_count": 132,
   "metadata": {},
   "outputs": [
    {
     "data": {
      "text/html": [
       "<div>\n",
       "<style scoped>\n",
       "    .dataframe tbody tr th:only-of-type {\n",
       "        vertical-align: middle;\n",
       "    }\n",
       "\n",
       "    .dataframe tbody tr th {\n",
       "        vertical-align: top;\n",
       "    }\n",
       "\n",
       "    .dataframe thead th {\n",
       "        text-align: right;\n",
       "    }\n",
       "</style>\n",
       "<table border=\"1\" class=\"dataframe\">\n",
       "  <thead>\n",
       "    <tr style=\"text-align: right;\">\n",
       "      <th></th>\n",
       "      <th>EngineSize</th>\n",
       "      <th>Cylinders</th>\n",
       "      <th>Horsepower</th>\n",
       "      <th>MPG_City</th>\n",
       "      <th>MPG_Highway</th>\n",
       "      <th>Weight</th>\n",
       "      <th>Wheelbase</th>\n",
       "      <th>Length</th>\n",
       "    </tr>\n",
       "  </thead>\n",
       "  <tbody>\n",
       "    <tr>\n",
       "      <th>count</th>\n",
       "      <td>428.000000</td>\n",
       "      <td>426.000000</td>\n",
       "      <td>428.000000</td>\n",
       "      <td>428.000000</td>\n",
       "      <td>428.000000</td>\n",
       "      <td>428.000000</td>\n",
       "      <td>428.000000</td>\n",
       "      <td>428.000000</td>\n",
       "    </tr>\n",
       "    <tr>\n",
       "      <th>mean</th>\n",
       "      <td>3.196729</td>\n",
       "      <td>5.807512</td>\n",
       "      <td>215.885514</td>\n",
       "      <td>20.060748</td>\n",
       "      <td>26.843458</td>\n",
       "      <td>3577.953271</td>\n",
       "      <td>108.154206</td>\n",
       "      <td>186.362150</td>\n",
       "    </tr>\n",
       "    <tr>\n",
       "      <th>std</th>\n",
       "      <td>1.108595</td>\n",
       "      <td>1.558443</td>\n",
       "      <td>71.836032</td>\n",
       "      <td>5.238218</td>\n",
       "      <td>5.741201</td>\n",
       "      <td>758.983215</td>\n",
       "      <td>8.311813</td>\n",
       "      <td>14.357991</td>\n",
       "    </tr>\n",
       "    <tr>\n",
       "      <th>min</th>\n",
       "      <td>1.300000</td>\n",
       "      <td>3.000000</td>\n",
       "      <td>73.000000</td>\n",
       "      <td>10.000000</td>\n",
       "      <td>12.000000</td>\n",
       "      <td>1850.000000</td>\n",
       "      <td>89.000000</td>\n",
       "      <td>143.000000</td>\n",
       "    </tr>\n",
       "    <tr>\n",
       "      <th>25%</th>\n",
       "      <td>2.375000</td>\n",
       "      <td>4.000000</td>\n",
       "      <td>165.000000</td>\n",
       "      <td>17.000000</td>\n",
       "      <td>24.000000</td>\n",
       "      <td>3104.000000</td>\n",
       "      <td>103.000000</td>\n",
       "      <td>178.000000</td>\n",
       "    </tr>\n",
       "    <tr>\n",
       "      <th>50%</th>\n",
       "      <td>3.000000</td>\n",
       "      <td>6.000000</td>\n",
       "      <td>210.000000</td>\n",
       "      <td>19.000000</td>\n",
       "      <td>26.000000</td>\n",
       "      <td>3474.500000</td>\n",
       "      <td>107.000000</td>\n",
       "      <td>187.000000</td>\n",
       "    </tr>\n",
       "    <tr>\n",
       "      <th>75%</th>\n",
       "      <td>3.900000</td>\n",
       "      <td>6.000000</td>\n",
       "      <td>255.000000</td>\n",
       "      <td>21.250000</td>\n",
       "      <td>29.000000</td>\n",
       "      <td>3977.750000</td>\n",
       "      <td>112.000000</td>\n",
       "      <td>194.000000</td>\n",
       "    </tr>\n",
       "    <tr>\n",
       "      <th>max</th>\n",
       "      <td>8.300000</td>\n",
       "      <td>12.000000</td>\n",
       "      <td>500.000000</td>\n",
       "      <td>60.000000</td>\n",
       "      <td>66.000000</td>\n",
       "      <td>7190.000000</td>\n",
       "      <td>144.000000</td>\n",
       "      <td>238.000000</td>\n",
       "    </tr>\n",
       "  </tbody>\n",
       "</table>\n",
       "</div>"
      ],
      "text/plain": [
       "       EngineSize   Cylinders  Horsepower    MPG_City  MPG_Highway  \\\n",
       "count  428.000000  426.000000  428.000000  428.000000   428.000000   \n",
       "mean     3.196729    5.807512  215.885514   20.060748    26.843458   \n",
       "std      1.108595    1.558443   71.836032    5.238218     5.741201   \n",
       "min      1.300000    3.000000   73.000000   10.000000    12.000000   \n",
       "25%      2.375000    4.000000  165.000000   17.000000    24.000000   \n",
       "50%      3.000000    6.000000  210.000000   19.000000    26.000000   \n",
       "75%      3.900000    6.000000  255.000000   21.250000    29.000000   \n",
       "max      8.300000   12.000000  500.000000   60.000000    66.000000   \n",
       "\n",
       "            Weight   Wheelbase      Length  \n",
       "count   428.000000  428.000000  428.000000  \n",
       "mean   3577.953271  108.154206  186.362150  \n",
       "std     758.983215    8.311813   14.357991  \n",
       "min    1850.000000   89.000000  143.000000  \n",
       "25%    3104.000000  103.000000  178.000000  \n",
       "50%    3474.500000  107.000000  187.000000  \n",
       "75%    3977.750000  112.000000  194.000000  \n",
       "max    7190.000000  144.000000  238.000000  "
      ]
     },
     "execution_count": 132,
     "metadata": {},
     "output_type": "execute_result"
    }
   ],
   "source": [
    "df.describe()"
   ]
  },
  {
   "cell_type": "markdown",
   "metadata": {},
   "source": [
    "You can also transpose it for a different look."
   ]
  },
  {
   "cell_type": "code",
   "execution_count": 133,
   "metadata": {},
   "outputs": [
    {
     "data": {
      "text/html": [
       "<div>\n",
       "<style scoped>\n",
       "    .dataframe tbody tr th:only-of-type {\n",
       "        vertical-align: middle;\n",
       "    }\n",
       "\n",
       "    .dataframe tbody tr th {\n",
       "        vertical-align: top;\n",
       "    }\n",
       "\n",
       "    .dataframe thead th {\n",
       "        text-align: right;\n",
       "    }\n",
       "</style>\n",
       "<table border=\"1\" class=\"dataframe\">\n",
       "  <thead>\n",
       "    <tr style=\"text-align: right;\">\n",
       "      <th></th>\n",
       "      <th>count</th>\n",
       "      <th>mean</th>\n",
       "      <th>std</th>\n",
       "      <th>min</th>\n",
       "      <th>25%</th>\n",
       "      <th>50%</th>\n",
       "      <th>75%</th>\n",
       "      <th>max</th>\n",
       "    </tr>\n",
       "  </thead>\n",
       "  <tbody>\n",
       "    <tr>\n",
       "      <th>EngineSize</th>\n",
       "      <td>428.0</td>\n",
       "      <td>3.196729</td>\n",
       "      <td>1.108595</td>\n",
       "      <td>1.3</td>\n",
       "      <td>2.375</td>\n",
       "      <td>3.0</td>\n",
       "      <td>3.90</td>\n",
       "      <td>8.3</td>\n",
       "    </tr>\n",
       "    <tr>\n",
       "      <th>Cylinders</th>\n",
       "      <td>426.0</td>\n",
       "      <td>5.807512</td>\n",
       "      <td>1.558443</td>\n",
       "      <td>3.0</td>\n",
       "      <td>4.000</td>\n",
       "      <td>6.0</td>\n",
       "      <td>6.00</td>\n",
       "      <td>12.0</td>\n",
       "    </tr>\n",
       "    <tr>\n",
       "      <th>Horsepower</th>\n",
       "      <td>428.0</td>\n",
       "      <td>215.885514</td>\n",
       "      <td>71.836032</td>\n",
       "      <td>73.0</td>\n",
       "      <td>165.000</td>\n",
       "      <td>210.0</td>\n",
       "      <td>255.00</td>\n",
       "      <td>500.0</td>\n",
       "    </tr>\n",
       "    <tr>\n",
       "      <th>MPG_City</th>\n",
       "      <td>428.0</td>\n",
       "      <td>20.060748</td>\n",
       "      <td>5.238218</td>\n",
       "      <td>10.0</td>\n",
       "      <td>17.000</td>\n",
       "      <td>19.0</td>\n",
       "      <td>21.25</td>\n",
       "      <td>60.0</td>\n",
       "    </tr>\n",
       "    <tr>\n",
       "      <th>MPG_Highway</th>\n",
       "      <td>428.0</td>\n",
       "      <td>26.843458</td>\n",
       "      <td>5.741201</td>\n",
       "      <td>12.0</td>\n",
       "      <td>24.000</td>\n",
       "      <td>26.0</td>\n",
       "      <td>29.00</td>\n",
       "      <td>66.0</td>\n",
       "    </tr>\n",
       "    <tr>\n",
       "      <th>Weight</th>\n",
       "      <td>428.0</td>\n",
       "      <td>3577.953271</td>\n",
       "      <td>758.983215</td>\n",
       "      <td>1850.0</td>\n",
       "      <td>3104.000</td>\n",
       "      <td>3474.5</td>\n",
       "      <td>3977.75</td>\n",
       "      <td>7190.0</td>\n",
       "    </tr>\n",
       "    <tr>\n",
       "      <th>Wheelbase</th>\n",
       "      <td>428.0</td>\n",
       "      <td>108.154206</td>\n",
       "      <td>8.311813</td>\n",
       "      <td>89.0</td>\n",
       "      <td>103.000</td>\n",
       "      <td>107.0</td>\n",
       "      <td>112.00</td>\n",
       "      <td>144.0</td>\n",
       "    </tr>\n",
       "    <tr>\n",
       "      <th>Length</th>\n",
       "      <td>428.0</td>\n",
       "      <td>186.362150</td>\n",
       "      <td>14.357991</td>\n",
       "      <td>143.0</td>\n",
       "      <td>178.000</td>\n",
       "      <td>187.0</td>\n",
       "      <td>194.00</td>\n",
       "      <td>238.0</td>\n",
       "    </tr>\n",
       "  </tbody>\n",
       "</table>\n",
       "</div>"
      ],
      "text/plain": [
       "             count         mean         std     min       25%     50%  \\\n",
       "EngineSize   428.0     3.196729    1.108595     1.3     2.375     3.0   \n",
       "Cylinders    426.0     5.807512    1.558443     3.0     4.000     6.0   \n",
       "Horsepower   428.0   215.885514   71.836032    73.0   165.000   210.0   \n",
       "MPG_City     428.0    20.060748    5.238218    10.0    17.000    19.0   \n",
       "MPG_Highway  428.0    26.843458    5.741201    12.0    24.000    26.0   \n",
       "Weight       428.0  3577.953271  758.983215  1850.0  3104.000  3474.5   \n",
       "Wheelbase    428.0   108.154206    8.311813    89.0   103.000   107.0   \n",
       "Length       428.0   186.362150   14.357991   143.0   178.000   187.0   \n",
       "\n",
       "                 75%     max  \n",
       "EngineSize      3.90     8.3  \n",
       "Cylinders       6.00    12.0  \n",
       "Horsepower    255.00   500.0  \n",
       "MPG_City       21.25    60.0  \n",
       "MPG_Highway    29.00    66.0  \n",
       "Weight       3977.75  7190.0  \n",
       "Wheelbase     112.00   144.0  \n",
       "Length        194.00   238.0  "
      ]
     },
     "execution_count": 133,
     "metadata": {},
     "output_type": "execute_result"
    }
   ],
   "source": [
    "df.describe().T"
   ]
  },
  {
   "cell_type": "markdown",
   "metadata": {},
   "source": [
    "Proc freq"
   ]
  },
  {
   "cell_type": "code",
   "execution_count": 134,
   "metadata": {},
   "outputs": [
    {
     "data": {
      "text/plain": [
       "Toyota           28\n",
       "Chevrolet        27\n",
       "Mercedes-Benz    26\n",
       "Ford             23\n",
       "BMW              20\n",
       "Audi             19\n",
       "Honda            17\n",
       "Nissan           17\n",
       "Chrysler         15\n",
       "Volkswagen       15\n",
       "Mitsubishi       13\n",
       "Dodge            13\n",
       "Hyundai          12\n",
       "Volvo            12\n",
       "Jaguar           12\n",
       "Pontiac          11\n",
       "Kia              11\n",
       "Lexus            11\n",
       "Subaru           11\n",
       "Mazda            11\n",
       "Mercury           9\n",
       "Lincoln           9\n",
       "Buick             9\n",
       "Cadillac          8\n",
       "Suzuki            8\n",
       "Saturn            8\n",
       "GMC               8\n",
       "Infiniti          8\n",
       "Acura             7\n",
       "Porsche           7\n",
       "Saab              7\n",
       "Oldsmobile        3\n",
       "Land Rover        3\n",
       "Jeep              3\n",
       "Isuzu             2\n",
       "Scion             2\n",
       "MINI              2\n",
       "Hummer            1\n",
       "Name: Make, dtype: int64"
      ]
     },
     "execution_count": 134,
     "metadata": {},
     "output_type": "execute_result"
    }
   ],
   "source": [
    "df.Make.value_counts()"
   ]
  },
  {
   "cell_type": "markdown",
   "metadata": {},
   "source": [
    "Plot value counts quickly. Proc freq with plots= option."
   ]
  },
  {
   "cell_type": "code",
   "execution_count": 135,
   "metadata": {},
   "outputs": [
    {
     "data": {
      "text/plain": [
       "<AxesSubplot:>"
      ]
     },
     "execution_count": 135,
     "metadata": {},
     "output_type": "execute_result"
    },
    {
     "data": {
      "image/png": "[encoded data removed]",
      "text/plain": [
       "<Figure size 432x288 with 1 Axes>"
      ]
     },
     "metadata": {
      "needs_background": "light"
     },
     "output_type": "display_data"
    }
   ],
   "source": [
    "df.Make.value_counts().plot(kind='bar')"
   ]
  },
  {
   "cell_type": "markdown",
   "metadata": {},
   "source": [
    "Loop over value counts, similar to freq with table statement"
   ]
  },
  {
   "cell_type": "code",
   "execution_count": 136,
   "metadata": {},
   "outputs": [
    {
     "name": "stdout",
     "output_type": "stream",
     "text": [
      "Asia      158\n",
      "USA       147\n",
      "Europe    123\n",
      "Name: Origin, dtype: int64\n",
      "\n",
      "\n",
      "Sedan     262\n",
      "SUV        60\n",
      "Sports     49\n",
      "Wagon      30\n",
      "Truck      24\n",
      "Hybrid      3\n",
      "Name: Type, dtype: int64\n",
      "\n",
      "\n",
      "6.0     190\n",
      "4.0     136\n",
      "8.0      87\n",
      "5.0       7\n",
      "12.0      3\n",
      "10.0      2\n",
      "3.0       1\n",
      "Name: Cylinders, dtype: int64\n",
      "\n",
      "\n"
     ]
    }
   ],
   "source": [
    "cols=[\"Origin\", \"Type\", \"Cylinders\"]\n",
    "for i in cols:\n",
    "    print(df[i].value_counts())\n",
    "    print(\"\\n\")"
   ]
  },
  {
   "cell_type": "markdown",
   "metadata": {},
   "source": [
    "Create a DF from value counts. Similar to out= in proc freq.\n",
    "\n",
    "First example shows new output. With to_frame the series turns into a dataFrame."
   ]
  },
  {
   "cell_type": "code",
   "execution_count": 137,
   "metadata": {},
   "outputs": [
    {
     "data": {
      "text/html": [
       "<div>\n",
       "<style scoped>\n",
       "    .dataframe tbody tr th:only-of-type {\n",
       "        vertical-align: middle;\n",
       "    }\n",
       "\n",
       "    .dataframe tbody tr th {\n",
       "        vertical-align: top;\n",
       "    }\n",
       "\n",
       "    .dataframe thead th {\n",
       "        text-align: right;\n",
       "    }\n",
       "</style>\n",
       "<table border=\"1\" class=\"dataframe\">\n",
       "  <thead>\n",
       "    <tr style=\"text-align: right;\">\n",
       "      <th></th>\n",
       "      <th>Make</th>\n",
       "    </tr>\n",
       "  </thead>\n",
       "  <tbody>\n",
       "    <tr>\n",
       "      <th>Toyota</th>\n",
       "      <td>28</td>\n",
       "    </tr>\n",
       "    <tr>\n",
       "      <th>Chevrolet</th>\n",
       "      <td>27</td>\n",
       "    </tr>\n",
       "    <tr>\n",
       "      <th>Mercedes-Benz</th>\n",
       "      <td>26</td>\n",
       "    </tr>\n",
       "    <tr>\n",
       "      <th>Ford</th>\n",
       "      <td>23</td>\n",
       "    </tr>\n",
       "    <tr>\n",
       "      <th>BMW</th>\n",
       "      <td>20</td>\n",
       "    </tr>\n",
       "    <tr>\n",
       "      <th>Audi</th>\n",
       "      <td>19</td>\n",
       "    </tr>\n",
       "    <tr>\n",
       "      <th>Honda</th>\n",
       "      <td>17</td>\n",
       "    </tr>\n",
       "    <tr>\n",
       "      <th>Nissan</th>\n",
       "      <td>17</td>\n",
       "    </tr>\n",
       "    <tr>\n",
       "      <th>Chrysler</th>\n",
       "      <td>15</td>\n",
       "    </tr>\n",
       "    <tr>\n",
       "      <th>Volkswagen</th>\n",
       "      <td>15</td>\n",
       "    </tr>\n",
       "    <tr>\n",
       "      <th>Mitsubishi</th>\n",
       "      <td>13</td>\n",
       "    </tr>\n",
       "    <tr>\n",
       "      <th>Dodge</th>\n",
       "      <td>13</td>\n",
       "    </tr>\n",
       "    <tr>\n",
       "      <th>Hyundai</th>\n",
       "      <td>12</td>\n",
       "    </tr>\n",
       "    <tr>\n",
       "      <th>Volvo</th>\n",
       "      <td>12</td>\n",
       "    </tr>\n",
       "    <tr>\n",
       "      <th>Jaguar</th>\n",
       "      <td>12</td>\n",
       "    </tr>\n",
       "    <tr>\n",
       "      <th>Pontiac</th>\n",
       "      <td>11</td>\n",
       "    </tr>\n",
       "    <tr>\n",
       "      <th>Kia</th>\n",
       "      <td>11</td>\n",
       "    </tr>\n",
       "    <tr>\n",
       "      <th>Lexus</th>\n",
       "      <td>11</td>\n",
       "    </tr>\n",
       "    <tr>\n",
       "      <th>Subaru</th>\n",
       "      <td>11</td>\n",
       "    </tr>\n",
       "    <tr>\n",
       "      <th>Mazda</th>\n",
       "      <td>11</td>\n",
       "    </tr>\n",
       "    <tr>\n",
       "      <th>Mercury</th>\n",
       "      <td>9</td>\n",
       "    </tr>\n",
       "    <tr>\n",
       "      <th>Lincoln</th>\n",
       "      <td>9</td>\n",
       "    </tr>\n",
       "    <tr>\n",
       "      <th>Buick</th>\n",
       "      <td>9</td>\n",
       "    </tr>\n",
       "    <tr>\n",
       "      <th>Cadillac</th>\n",
       "      <td>8</td>\n",
       "    </tr>\n",
       "    <tr>\n",
       "      <th>Suzuki</th>\n",
       "      <td>8</td>\n",
       "    </tr>\n",
       "    <tr>\n",
       "      <th>Saturn</th>\n",
       "      <td>8</td>\n",
       "    </tr>\n",
       "    <tr>\n",
       "      <th>GMC</th>\n",
       "      <td>8</td>\n",
       "    </tr>\n",
       "    <tr>\n",
       "      <th>Infiniti</th>\n",
       "      <td>8</td>\n",
       "    </tr>\n",
       "    <tr>\n",
       "      <th>Acura</th>\n",
       "      <td>7</td>\n",
       "    </tr>\n",
       "    <tr>\n",
       "      <th>Porsche</th>\n",
       "      <td>7</td>\n",
       "    </tr>\n",
       "    <tr>\n",
       "      <th>Saab</th>\n",
       "      <td>7</td>\n",
       "    </tr>\n",
       "    <tr>\n",
       "      <th>Oldsmobile</th>\n",
       "      <td>3</td>\n",
       "    </tr>\n",
       "    <tr>\n",
       "      <th>Land Rover</th>\n",
       "      <td>3</td>\n",
       "    </tr>\n",
       "    <tr>\n",
       "      <th>Jeep</th>\n",
       "      <td>3</td>\n",
       "    </tr>\n",
       "    <tr>\n",
       "      <th>Isuzu</th>\n",
       "      <td>2</td>\n",
       "    </tr>\n",
       "    <tr>\n",
       "      <th>Scion</th>\n",
       "      <td>2</td>\n",
       "    </tr>\n",
       "    <tr>\n",
       "      <th>MINI</th>\n",
       "      <td>2</td>\n",
       "    </tr>\n",
       "    <tr>\n",
       "      <th>Hummer</th>\n",
       "      <td>1</td>\n",
       "    </tr>\n",
       "  </tbody>\n",
       "</table>\n",
       "</div>"
      ],
      "text/plain": [
       "               Make\n",
       "Toyota           28\n",
       "Chevrolet        27\n",
       "Mercedes-Benz    26\n",
       "Ford             23\n",
       "BMW              20\n",
       "Audi             19\n",
       "Honda            17\n",
       "Nissan           17\n",
       "Chrysler         15\n",
       "Volkswagen       15\n",
       "Mitsubishi       13\n",
       "Dodge            13\n",
       "Hyundai          12\n",
       "Volvo            12\n",
       "Jaguar           12\n",
       "Pontiac          11\n",
       "Kia              11\n",
       "Lexus            11\n",
       "Subaru           11\n",
       "Mazda            11\n",
       "Mercury           9\n",
       "Lincoln           9\n",
       "Buick             9\n",
       "Cadillac          8\n",
       "Suzuki            8\n",
       "Saturn            8\n",
       "GMC               8\n",
       "Infiniti          8\n",
       "Acura             7\n",
       "Porsche           7\n",
       "Saab              7\n",
       "Oldsmobile        3\n",
       "Land Rover        3\n",
       "Jeep              3\n",
       "Isuzu             2\n",
       "Scion             2\n",
       "MINI              2\n",
       "Hummer            1"
      ]
     },
     "execution_count": 137,
     "metadata": {},
     "output_type": "execute_result"
    }
   ],
   "source": [
    "df.Make.value_counts().to_frame()"
   ]
  },
  {
   "cell_type": "markdown",
   "metadata": {},
   "source": [
    "Assignment statement for same code as above."
   ]
  },
  {
   "cell_type": "code",
   "execution_count": 34,
   "metadata": {},
   "outputs": [],
   "source": [
    "dfMakes = df.Make.value_counts().to_frame()"
   ]
  },
  {
   "cell_type": "code",
   "execution_count": 35,
   "metadata": {},
   "outputs": [
    {
     "data": {
      "text/html": [
       "<div>\n",
       "<style scoped>\n",
       "    .dataframe tbody tr th:only-of-type {\n",
       "        vertical-align: middle;\n",
       "    }\n",
       "\n",
       "    .dataframe tbody tr th {\n",
       "        vertical-align: top;\n",
       "    }\n",
       "\n",
       "    .dataframe thead th {\n",
       "        text-align: right;\n",
       "    }\n",
       "</style>\n",
       "<table border=\"1\" class=\"dataframe\">\n",
       "  <thead>\n",
       "    <tr style=\"text-align: right;\">\n",
       "      <th></th>\n",
       "      <th>Make</th>\n",
       "    </tr>\n",
       "  </thead>\n",
       "  <tbody>\n",
       "    <tr>\n",
       "      <th>Toyota</th>\n",
       "      <td>28</td>\n",
       "    </tr>\n",
       "    <tr>\n",
       "      <th>Chevrolet</th>\n",
       "      <td>27</td>\n",
       "    </tr>\n",
       "    <tr>\n",
       "      <th>Mercedes-Benz</th>\n",
       "      <td>26</td>\n",
       "    </tr>\n",
       "    <tr>\n",
       "      <th>Ford</th>\n",
       "      <td>23</td>\n",
       "    </tr>\n",
       "    <tr>\n",
       "      <th>BMW</th>\n",
       "      <td>20</td>\n",
       "    </tr>\n",
       "  </tbody>\n",
       "</table>\n",
       "</div>"
      ],
      "text/plain": [
       "               Make\n",
       "Toyota           28\n",
       "Chevrolet        27\n",
       "Mercedes-Benz    26\n",
       "Ford             23\n",
       "BMW              20"
      ]
     },
     "execution_count": 35,
     "metadata": {},
     "output_type": "execute_result"
    }
   ],
   "source": [
    "dfMakes.head()"
   ]
  },
  {
   "cell_type": "markdown",
   "metadata": {},
   "source": [
    "plot bar using index as category."
   ]
  },
  {
   "cell_type": "code",
   "execution_count": 36,
   "metadata": {},
   "outputs": [
    {
     "data": {
      "text/plain": [
       "<AxesSubplot:>"
      ]
     },
     "execution_count": 36,
     "metadata": {},
     "output_type": "execute_result"
    },
    {
     "data": {
      "image/png": "[encoded data removed]",
      "text/plain": [
       "<Figure size 432x288 with 1 Axes>"
      ]
     },
     "metadata": {
      "needs_background": "light"
     },
     "output_type": "display_data"
    }
   ],
   "source": [
    "dfMakes.plot(kind=\"bar\")"
   ]
  },
  {
   "cell_type": "markdown",
   "metadata": {},
   "source": [
    "## Data Prep"
   ]
  },
  {
   "cell_type": "markdown",
   "metadata": {},
   "source": [
    "Look at the raw data"
   ]
  },
  {
   "cell_type": "code",
   "execution_count": 138,
   "metadata": {},
   "outputs": [
    {
     "data": {
      "text/html": [
       "<div>\n",
       "<style scoped>\n",
       "    .dataframe tbody tr th:only-of-type {\n",
       "        vertical-align: middle;\n",
       "    }\n",
       "\n",
       "    .dataframe tbody tr th {\n",
       "        vertical-align: top;\n",
       "    }\n",
       "\n",
       "    .dataframe thead th {\n",
       "        text-align: right;\n",
       "    }\n",
       "</style>\n",
       "<table border=\"1\" class=\"dataframe\">\n",
       "  <thead>\n",
       "    <tr style=\"text-align: right;\">\n",
       "      <th></th>\n",
       "      <th>Make</th>\n",
       "      <th>Model</th>\n",
       "      <th>Type</th>\n",
       "      <th>Origin</th>\n",
       "      <th>DriveTrain</th>\n",
       "      <th>MSRP</th>\n",
       "      <th>Invoice</th>\n",
       "      <th>EngineSize</th>\n",
       "      <th>Cylinders</th>\n",
       "      <th>Horsepower</th>\n",
       "      <th>MPG_City</th>\n",
       "      <th>MPG_Highway</th>\n",
       "      <th>Weight</th>\n",
       "      <th>Wheelbase</th>\n",
       "      <th>Length</th>\n",
       "    </tr>\n",
       "  </thead>\n",
       "  <tbody>\n",
       "    <tr>\n",
       "      <th>0</th>\n",
       "      <td>Acura</td>\n",
       "      <td>MDX</td>\n",
       "      <td>SUV</td>\n",
       "      <td>Asia</td>\n",
       "      <td>All</td>\n",
       "      <td>$36,945</td>\n",
       "      <td>$33,337</td>\n",
       "      <td>3.5</td>\n",
       "      <td>6.0</td>\n",
       "      <td>265</td>\n",
       "      <td>17</td>\n",
       "      <td>23</td>\n",
       "      <td>4451</td>\n",
       "      <td>106</td>\n",
       "      <td>189</td>\n",
       "    </tr>\n",
       "    <tr>\n",
       "      <th>1</th>\n",
       "      <td>Acura</td>\n",
       "      <td>RSX Type S 2dr</td>\n",
       "      <td>Sedan</td>\n",
       "      <td>Asia</td>\n",
       "      <td>Front</td>\n",
       "      <td>$23,820</td>\n",
       "      <td>$21,761</td>\n",
       "      <td>2.0</td>\n",
       "      <td>4.0</td>\n",
       "      <td>200</td>\n",
       "      <td>24</td>\n",
       "      <td>31</td>\n",
       "      <td>2778</td>\n",
       "      <td>101</td>\n",
       "      <td>172</td>\n",
       "    </tr>\n",
       "    <tr>\n",
       "      <th>2</th>\n",
       "      <td>Acura</td>\n",
       "      <td>TSX 4dr</td>\n",
       "      <td>Sedan</td>\n",
       "      <td>Asia</td>\n",
       "      <td>Front</td>\n",
       "      <td>$26,990</td>\n",
       "      <td>$24,647</td>\n",
       "      <td>2.4</td>\n",
       "      <td>4.0</td>\n",
       "      <td>200</td>\n",
       "      <td>22</td>\n",
       "      <td>29</td>\n",
       "      <td>3230</td>\n",
       "      <td>105</td>\n",
       "      <td>183</td>\n",
       "    </tr>\n",
       "    <tr>\n",
       "      <th>3</th>\n",
       "      <td>Acura</td>\n",
       "      <td>TL 4dr</td>\n",
       "      <td>Sedan</td>\n",
       "      <td>Asia</td>\n",
       "      <td>Front</td>\n",
       "      <td>$33,195</td>\n",
       "      <td>$30,299</td>\n",
       "      <td>3.2</td>\n",
       "      <td>6.0</td>\n",
       "      <td>270</td>\n",
       "      <td>20</td>\n",
       "      <td>28</td>\n",
       "      <td>3575</td>\n",
       "      <td>108</td>\n",
       "      <td>186</td>\n",
       "    </tr>\n",
       "    <tr>\n",
       "      <th>4</th>\n",
       "      <td>Acura</td>\n",
       "      <td>3.5 RL 4dr</td>\n",
       "      <td>Sedan</td>\n",
       "      <td>Asia</td>\n",
       "      <td>Front</td>\n",
       "      <td>$43,755</td>\n",
       "      <td>$39,014</td>\n",
       "      <td>3.5</td>\n",
       "      <td>6.0</td>\n",
       "      <td>225</td>\n",
       "      <td>18</td>\n",
       "      <td>24</td>\n",
       "      <td>3880</td>\n",
       "      <td>115</td>\n",
       "      <td>197</td>\n",
       "    </tr>\n",
       "  </tbody>\n",
       "</table>\n",
       "</div>"
      ],
      "text/plain": [
       "    Make           Model   Type Origin DriveTrain     MSRP  Invoice  \\\n",
       "0  Acura             MDX    SUV   Asia        All  $36,945  $33,337   \n",
       "1  Acura  RSX Type S 2dr  Sedan   Asia      Front  $23,820  $21,761   \n",
       "2  Acura         TSX 4dr  Sedan   Asia      Front  $26,990  $24,647   \n",
       "3  Acura          TL 4dr  Sedan   Asia      Front  $33,195  $30,299   \n",
       "4  Acura      3.5 RL 4dr  Sedan   Asia      Front  $43,755  $39,014   \n",
       "\n",
       "   EngineSize  Cylinders  Horsepower  MPG_City  MPG_Highway  Weight  \\\n",
       "0         3.5        6.0         265        17           23    4451   \n",
       "1         2.0        4.0         200        24           31    2778   \n",
       "2         2.4        4.0         200        22           29    3230   \n",
       "3         3.2        6.0         270        20           28    3575   \n",
       "4         3.5        6.0         225        18           24    3880   \n",
       "\n",
       "   Wheelbase  Length  \n",
       "0        106     189  \n",
       "1        101     172  \n",
       "2        105     183  \n",
       "3        108     186  \n",
       "4        115     197  "
      ]
     },
     "execution_count": 138,
     "metadata": {},
     "output_type": "execute_result"
    }
   ],
   "source": [
    "df.head()"
   ]
  },
  {
   "cell_type": "markdown",
   "metadata": {},
   "source": [
    "### Mimic data step using .assign\n",
    "\n",
    "I'd also show how many programmers might create a column one at a time.\n",
    "I find the data step cleaner."
   ]
  },
  {
   "cell_type": "markdown",
   "metadata": {},
   "source": [
    "**Create an if then function to apply to the data**"
   ]
  },
  {
   "cell_type": "code",
   "execution_count": 119,
   "metadata": {},
   "outputs": [],
   "source": [
    "def mpg_category(mpg):\n",
    "    if mpg < 20:\n",
    "        return \"low mileage\"\n",
    "    else:\n",
    "        return \"high mileage\"   "
   ]
  },
  {
   "cell_type": "markdown",
   "metadata": {},
   "source": [
    "You need to use lambda to reference the current dataframe being created. Otherwise, it'll use the df dataframe."
   ]
  },
  {
   "cell_type": "code",
   "execution_count": 243,
   "metadata": {},
   "outputs": [],
   "source": [
    "dfNew = df.rename(columns={\"DriveTrain\":\"Drive_Train\", \"MPG_City\":\"MPGCity\", \"MPG_Highway\":\"MPGHighway\"}) \\\n",
    "          .assign(NewString=\"test\",   ## assignment statement\n",
    "                  NewNumber=10,       ## assignment statement\n",
    "                  MeanFunction=lambda x: x[[\"MPGCity\", \"MPGHighway\"]].mean(axis=1),\n",
    "                  IF_THEN=lambda x: x.MPGCity.apply(mpg_category),\n",
    "                  StringFunctionUpper=lambda x: x.Origin.str.upper(),\n",
    "                  MSRP = lambda x: x.MSRP.str.replace('[\\$,]', '', regex=True).astype(float)) ## character to number \\\n",
    "          .drop(columns=[\"Model\",\"Cylinders\", \"Horsepower\", \"Weight\", \"EngineSize\", \"Wheelbase\",\"Length\"])"
   ]
  },
  {
   "cell_type": "code",
   "execution_count": 244,
   "metadata": {},
   "outputs": [
    {
     "data": {
      "text/html": [
       "<div>\n",
       "<style scoped>\n",
       "    .dataframe tbody tr th:only-of-type {\n",
       "        vertical-align: middle;\n",
       "    }\n",
       "\n",
       "    .dataframe tbody tr th {\n",
       "        vertical-align: top;\n",
       "    }\n",
       "\n",
       "    .dataframe thead th {\n",
       "        text-align: right;\n",
       "    }\n",
       "</style>\n",
       "<table border=\"1\" class=\"dataframe\">\n",
       "  <thead>\n",
       "    <tr style=\"text-align: right;\">\n",
       "      <th></th>\n",
       "      <th>Make</th>\n",
       "      <th>Type</th>\n",
       "      <th>Origin</th>\n",
       "      <th>Drive_Train</th>\n",
       "      <th>MSRP</th>\n",
       "      <th>Invoice</th>\n",
       "      <th>MPGCity</th>\n",
       "      <th>MPGHighway</th>\n",
       "      <th>NewString</th>\n",
       "      <th>NewNumber</th>\n",
       "      <th>MeanFunction</th>\n",
       "      <th>IF_THEN</th>\n",
       "      <th>StringFunctionUpper</th>\n",
       "    </tr>\n",
       "  </thead>\n",
       "  <tbody>\n",
       "    <tr>\n",
       "      <th>0</th>\n",
       "      <td>Acura</td>\n",
       "      <td>SUV</td>\n",
       "      <td>Asia</td>\n",
       "      <td>All</td>\n",
       "      <td>36945.0</td>\n",
       "      <td>$33,337</td>\n",
       "      <td>17</td>\n",
       "      <td>23</td>\n",
       "      <td>test</td>\n",
       "      <td>10</td>\n",
       "      <td>20.0</td>\n",
       "      <td>low mileage</td>\n",
       "      <td>ASIA</td>\n",
       "    </tr>\n",
       "    <tr>\n",
       "      <th>1</th>\n",
       "      <td>Acura</td>\n",
       "      <td>Sedan</td>\n",
       "      <td>Asia</td>\n",
       "      <td>Front</td>\n",
       "      <td>23820.0</td>\n",
       "      <td>$21,761</td>\n",
       "      <td>24</td>\n",
       "      <td>31</td>\n",
       "      <td>test</td>\n",
       "      <td>10</td>\n",
       "      <td>27.5</td>\n",
       "      <td>high mileage</td>\n",
       "      <td>ASIA</td>\n",
       "    </tr>\n",
       "    <tr>\n",
       "      <th>2</th>\n",
       "      <td>Acura</td>\n",
       "      <td>Sedan</td>\n",
       "      <td>Asia</td>\n",
       "      <td>Front</td>\n",
       "      <td>26990.0</td>\n",
       "      <td>$24,647</td>\n",
       "      <td>22</td>\n",
       "      <td>29</td>\n",
       "      <td>test</td>\n",
       "      <td>10</td>\n",
       "      <td>25.5</td>\n",
       "      <td>high mileage</td>\n",
       "      <td>ASIA</td>\n",
       "    </tr>\n",
       "    <tr>\n",
       "      <th>3</th>\n",
       "      <td>Acura</td>\n",
       "      <td>Sedan</td>\n",
       "      <td>Asia</td>\n",
       "      <td>Front</td>\n",
       "      <td>33195.0</td>\n",
       "      <td>$30,299</td>\n",
       "      <td>20</td>\n",
       "      <td>28</td>\n",
       "      <td>test</td>\n",
       "      <td>10</td>\n",
       "      <td>24.0</td>\n",
       "      <td>high mileage</td>\n",
       "      <td>ASIA</td>\n",
       "    </tr>\n",
       "    <tr>\n",
       "      <th>4</th>\n",
       "      <td>Acura</td>\n",
       "      <td>Sedan</td>\n",
       "      <td>Asia</td>\n",
       "      <td>Front</td>\n",
       "      <td>43755.0</td>\n",
       "      <td>$39,014</td>\n",
       "      <td>18</td>\n",
       "      <td>24</td>\n",
       "      <td>test</td>\n",
       "      <td>10</td>\n",
       "      <td>21.0</td>\n",
       "      <td>low mileage</td>\n",
       "      <td>ASIA</td>\n",
       "    </tr>\n",
       "  </tbody>\n",
       "</table>\n",
       "</div>"
      ],
      "text/plain": [
       "    Make   Type Origin Drive_Train     MSRP  Invoice  MPGCity  MPGHighway  \\\n",
       "0  Acura    SUV   Asia         All  36945.0  $33,337       17          23   \n",
       "1  Acura  Sedan   Asia       Front  23820.0  $21,761       24          31   \n",
       "2  Acura  Sedan   Asia       Front  26990.0  $24,647       22          29   \n",
       "3  Acura  Sedan   Asia       Front  33195.0  $30,299       20          28   \n",
       "4  Acura  Sedan   Asia       Front  43755.0  $39,014       18          24   \n",
       "\n",
       "  NewString  NewNumber  MeanFunction       IF_THEN StringFunctionUpper  \n",
       "0      test         10          20.0   low mileage                ASIA  \n",
       "1      test         10          27.5  high mileage                ASIA  \n",
       "2      test         10          25.5  high mileage                ASIA  \n",
       "3      test         10          24.0  high mileage                ASIA  \n",
       "4      test         10          21.0   low mileage                ASIA  "
      ]
     },
     "execution_count": 244,
     "metadata": {},
     "output_type": "execute_result"
    }
   ],
   "source": [
    "dfNew.head()"
   ]
  },
  {
   "cell_type": "code",
   "execution_count": 247,
   "metadata": {},
   "outputs": [
    {
     "data": {
      "text/plain": [
       "Make                    object\n",
       "Type                    object\n",
       "Origin                  object\n",
       "Drive_Train             object\n",
       "MSRP                   float64\n",
       "Invoice                 object\n",
       "MPGCity                  int64\n",
       "MPGHighway               int64\n",
       "NewString               object\n",
       "NewNumber                int64\n",
       "MeanFunction           float64\n",
       "IF_THEN                 object\n",
       "StringFunctionUpper     object\n",
       "dtype: object"
      ]
     },
     "execution_count": 247,
     "metadata": {},
     "output_type": "execute_result"
    }
   ],
   "source": [
    "dfNew.dtypes"
   ]
  },
  {
   "cell_type": "code",
   "execution_count": 240,
   "metadata": {},
   "outputs": [
    {
     "data": {
      "text/plain": [
       "0      36945.0\n",
       "1      23820.0\n",
       "2      26990.0\n",
       "3      33195.0\n",
       "4      43755.0\n",
       "        ...   \n",
       "423    40565.0\n",
       "424    42565.0\n",
       "425    45210.0\n",
       "426    26135.0\n",
       "427    35145.0\n",
       "Name: MSRP, Length: 428, dtype: float64"
      ]
     },
     "execution_count": 240,
     "metadata": {},
     "output_type": "execute_result"
    }
   ],
   "source": [
    "df.MSRP.str.replace('[\\$,]', '', regex=True).astype(float)"
   ]
  },
  {
   "cell_type": "code",
   "execution_count": 168,
   "metadata": {},
   "outputs": [
    {
     "data": {
      "text/html": [
       "<div>\n",
       "<style scoped>\n",
       "    .dataframe tbody tr th:only-of-type {\n",
       "        vertical-align: middle;\n",
       "    }\n",
       "\n",
       "    .dataframe tbody tr th {\n",
       "        vertical-align: top;\n",
       "    }\n",
       "\n",
       "    .dataframe thead th {\n",
       "        text-align: right;\n",
       "    }\n",
       "</style>\n",
       "<table border=\"1\" class=\"dataframe\">\n",
       "  <thead>\n",
       "    <tr style=\"text-align: right;\">\n",
       "      <th></th>\n",
       "      <th>Make</th>\n",
       "      <th>Type</th>\n",
       "      <th>Origin</th>\n",
       "      <th>Drive_Train</th>\n",
       "      <th>Invoice</th>\n",
       "      <th>MPGCity</th>\n",
       "      <th>MPGHighway</th>\n",
       "      <th>NewString</th>\n",
       "      <th>NewNumber</th>\n",
       "      <th>MeanFunction</th>\n",
       "      <th>IF_THEN</th>\n",
       "      <th>StringFunctionUpper</th>\n",
       "    </tr>\n",
       "  </thead>\n",
       "  <tbody>\n",
       "    <tr>\n",
       "      <th>0</th>\n",
       "      <td>Acura</td>\n",
       "      <td>SUV</td>\n",
       "      <td>Asia</td>\n",
       "      <td>All</td>\n",
       "      <td>$33,337</td>\n",
       "      <td>17</td>\n",
       "      <td>23</td>\n",
       "      <td>test</td>\n",
       "      <td>10</td>\n",
       "      <td>20.0</td>\n",
       "      <td>low mileage</td>\n",
       "      <td>ASIA</td>\n",
       "    </tr>\n",
       "    <tr>\n",
       "      <th>1</th>\n",
       "      <td>Acura</td>\n",
       "      <td>Sedan</td>\n",
       "      <td>Asia</td>\n",
       "      <td>Front</td>\n",
       "      <td>$21,761</td>\n",
       "      <td>24</td>\n",
       "      <td>31</td>\n",
       "      <td>test</td>\n",
       "      <td>10</td>\n",
       "      <td>27.5</td>\n",
       "      <td>high mileage</td>\n",
       "      <td>ASIA</td>\n",
       "    </tr>\n",
       "    <tr>\n",
       "      <th>2</th>\n",
       "      <td>Acura</td>\n",
       "      <td>Sedan</td>\n",
       "      <td>Asia</td>\n",
       "      <td>Front</td>\n",
       "      <td>$24,647</td>\n",
       "      <td>22</td>\n",
       "      <td>29</td>\n",
       "      <td>test</td>\n",
       "      <td>10</td>\n",
       "      <td>25.5</td>\n",
       "      <td>high mileage</td>\n",
       "      <td>ASIA</td>\n",
       "    </tr>\n",
       "    <tr>\n",
       "      <th>3</th>\n",
       "      <td>Acura</td>\n",
       "      <td>Sedan</td>\n",
       "      <td>Asia</td>\n",
       "      <td>Front</td>\n",
       "      <td>$30,299</td>\n",
       "      <td>20</td>\n",
       "      <td>28</td>\n",
       "      <td>test</td>\n",
       "      <td>10</td>\n",
       "      <td>24.0</td>\n",
       "      <td>high mileage</td>\n",
       "      <td>ASIA</td>\n",
       "    </tr>\n",
       "    <tr>\n",
       "      <th>4</th>\n",
       "      <td>Acura</td>\n",
       "      <td>Sedan</td>\n",
       "      <td>Asia</td>\n",
       "      <td>Front</td>\n",
       "      <td>$39,014</td>\n",
       "      <td>18</td>\n",
       "      <td>24</td>\n",
       "      <td>test</td>\n",
       "      <td>10</td>\n",
       "      <td>21.0</td>\n",
       "      <td>low mileage</td>\n",
       "      <td>ASIA</td>\n",
       "    </tr>\n",
       "  </tbody>\n",
       "</table>\n",
       "</div>"
      ],
      "text/plain": [
       "    Make   Type Origin Drive_Train  Invoice  MPGCity  MPGHighway NewString  \\\n",
       "0  Acura    SUV   Asia         All  $33,337       17          23      test   \n",
       "1  Acura  Sedan   Asia       Front  $21,761       24          31      test   \n",
       "2  Acura  Sedan   Asia       Front  $24,647       22          29      test   \n",
       "3  Acura  Sedan   Asia       Front  $30,299       20          28      test   \n",
       "4  Acura  Sedan   Asia       Front  $39,014       18          24      test   \n",
       "\n",
       "   NewNumber  MeanFunction       IF_THEN StringFunctionUpper  \n",
       "0         10          20.0   low mileage                ASIA  \n",
       "1         10          27.5  high mileage                ASIA  \n",
       "2         10          25.5  high mileage                ASIA  \n",
       "3         10          24.0  high mileage                ASIA  \n",
       "4         10          21.0   low mileage                ASIA  "
      ]
     },
     "execution_count": 168,
     "metadata": {},
     "output_type": "execute_result"
    }
   ],
   "source": [
    "dfNew.head()"
   ]
  },
  {
   "cell_type": "markdown",
   "metadata": {},
   "source": [
    "## Analysis "
   ]
  },
  {
   "cell_type": "markdown",
   "metadata": {},
   "source": [
    "Similar to proc corr"
   ]
  },
  {
   "cell_type": "code",
   "execution_count": 156,
   "metadata": {},
   "outputs": [
    {
     "data": {
      "text/html": [
       "<div>\n",
       "<style scoped>\n",
       "    .dataframe tbody tr th:only-of-type {\n",
       "        vertical-align: middle;\n",
       "    }\n",
       "\n",
       "    .dataframe tbody tr th {\n",
       "        vertical-align: top;\n",
       "    }\n",
       "\n",
       "    .dataframe thead th {\n",
       "        text-align: right;\n",
       "    }\n",
       "</style>\n",
       "<table border=\"1\" class=\"dataframe\">\n",
       "  <thead>\n",
       "    <tr style=\"text-align: right;\">\n",
       "      <th></th>\n",
       "      <th>MPGCity</th>\n",
       "      <th>MPGHighway</th>\n",
       "      <th>MPGAvg</th>\n",
       "    </tr>\n",
       "  </thead>\n",
       "  <tbody>\n",
       "    <tr>\n",
       "      <th>MPGCity</th>\n",
       "      <td>1.000000</td>\n",
       "      <td>0.941021</td>\n",
       "      <td>0.983742</td>\n",
       "    </tr>\n",
       "    <tr>\n",
       "      <th>MPGHighway</th>\n",
       "      <td>0.941021</td>\n",
       "      <td>1.000000</td>\n",
       "      <td>0.986485</td>\n",
       "    </tr>\n",
       "    <tr>\n",
       "      <th>MPGAvg</th>\n",
       "      <td>0.983742</td>\n",
       "      <td>0.986485</td>\n",
       "      <td>1.000000</td>\n",
       "    </tr>\n",
       "  </tbody>\n",
       "</table>\n",
       "</div>"
      ],
      "text/plain": [
       "             MPGCity  MPGHighway    MPGAvg\n",
       "MPGCity     1.000000    0.941021  0.983742\n",
       "MPGHighway  0.941021    1.000000  0.986485\n",
       "MPGAvg      0.983742    0.986485  1.000000"
      ]
     },
     "execution_count": 156,
     "metadata": {},
     "output_type": "execute_result"
    }
   ],
   "source": [
    "dfNew[[\"MPGCity\", \"MPGHighway\", \"MPGAvg\"]].corr()"
   ]
  },
  {
   "cell_type": "markdown",
   "metadata": {},
   "source": [
    "Maybe show proc univariate? Not sure if there is somethign similar in Python"
   ]
  },
  {
   "cell_type": "markdown",
   "metadata": {},
   "source": [
    "## Visualization (basics)\n",
    "\n",
    "I'd change the style template for sas visuals. The default is pretty bad. You can steal my custom style template from the Data Vis with ODS Graphics course, lesson 3. "
   ]
  },
  {
   "cell_type": "markdown",
   "metadata": {},
   "source": [
    "PROC SGPLOT bar"
   ]
  },
  {
   "cell_type": "code",
   "execution_count": 219,
   "metadata": {},
   "outputs": [
    {
     "data": {
      "text/plain": [
       "Text(0.5, 1.0, 'Origin of Cars')"
      ]
     },
     "execution_count": 219,
     "metadata": {},
     "output_type": "execute_result"
    },
    {
     "data": {
      "image/png": "[encoded data removed]",
      "text/plain": [
       "<Figure size 432x288 with 1 Axes>"
      ]
     },
     "metadata": {},
     "output_type": "display_data"
    }
   ],
   "source": [
    "plt.bar(df.Origin, df.MPG_City.mean())\n",
    "plt.title(\"Origin of Cars\")"
   ]
  },
  {
   "cell_type": "markdown",
   "metadata": {},
   "source": [
    "Can also use seaborn"
   ]
  },
  {
   "cell_type": "code",
   "execution_count": 220,
   "metadata": {},
   "outputs": [
    {
     "data": {
      "text/plain": [
       "<seaborn.axisgrid.FacetGrid at 0x2301ddd1e20>"
      ]
     },
     "execution_count": 220,
     "metadata": {},
     "output_type": "execute_result"
    },
    {
     "data": {
      "image/png": "[encoded data removed]",
      "text/plain": [
       "<Figure size 360x360 with 1 Axes>"
      ]
     },
     "metadata": {},
     "output_type": "display_data"
    }
   ],
   "source": [
    "sns.catplot(data=df, kind=\"bar\", x=\"Origin\", y=\"MPG_City\")"
   ]
  },
  {
   "cell_type": "markdown",
   "metadata": {},
   "source": [
    "PROC SGPLOT, scatter"
   ]
  },
  {
   "cell_type": "code",
   "execution_count": 171,
   "metadata": {},
   "outputs": [
    {
     "data": {
      "text/plain": [
       "<matplotlib.collections.PathCollection at 0x230182bddc0>"
      ]
     },
     "execution_count": 171,
     "metadata": {},
     "output_type": "execute_result"
    },
    {
     "data": {
      "image/png": "[encoded data removed]",
      "text/plain": [
       "<Figure size 432x288 with 1 Axes>"
      ]
     },
     "metadata": {
      "needs_background": "light"
     },
     "output_type": "display_data"
    }
   ],
   "source": [
    "plt.scatter(df.MPG_City, df.MPG_Highway)"
   ]
  },
  {
   "cell_type": "markdown",
   "metadata": {},
   "source": [
    "PROC SGPLOT Histogram"
   ]
  },
  {
   "cell_type": "code",
   "execution_count": 172,
   "metadata": {},
   "outputs": [
    {
     "data": {
      "text/plain": [
       "(array([ 31., 195., 142.,  44.,   9.,   4.,   0.,   1.,   0.,   2.]),\n",
       " array([10., 15., 20., 25., 30., 35., 40., 45., 50., 55., 60.]),\n",
       " <BarContainer object of 10 artists>)"
      ]
     },
     "execution_count": 172,
     "metadata": {},
     "output_type": "execute_result"
    },
    {
     "data": {
      "image/png": "[encoded data removed]",
      "text/plain": [
       "<Figure size 432x288 with 1 Axes>"
      ]
     },
     "metadata": {
      "needs_background": "light"
     },
     "output_type": "display_data"
    }
   ],
   "source": [
    "plt.hist(df.MPG_City)"
   ]
  },
  {
   "cell_type": "markdown",
   "metadata": {},
   "source": [
    "PROC SGSCATTER (multi-cell graph)\n",
    "\n",
    "Error in seaborn package. Not sure which version. Her is the github issue for pairplot: https://github.com/mwaskom/seaborn/issues/2260\n",
    "\n",
    "Notice first cell does not show."
   ]
  },
  {
   "cell_type": "code",
   "execution_count": 190,
   "metadata": {},
   "outputs": [
    {
     "data": {
      "text/plain": [
       "<seaborn.axisgrid.PairGrid at 0x2301cd6df40>"
      ]
     },
     "execution_count": 190,
     "metadata": {},
     "output_type": "execute_result"
    },
    {
     "data": {
      "image/png": "[encoded data removed]",
      "text/plain": [
       "<Figure size 360x180 with 2 Axes>"
      ]
     },
     "metadata": {
      "needs_background": "light"
     },
     "output_type": "display_data"
    }
   ],
   "source": [
    "sns.pairplot(df,x_vars=[\"Cylidners\", \"MPG_Highway\"], y_vars=\"EngineSize\")"
   ]
  },
  {
   "cell_type": "markdown",
   "metadata": {},
   "source": [
    "Correct version, add diag_kind=None"
   ]
  },
  {
   "cell_type": "code",
   "execution_count": 197,
   "metadata": {},
   "outputs": [
    {
     "data": {
      "text/plain": [
       "<seaborn.axisgrid.PairGrid at 0x2301ae69e20>"
      ]
     },
     "execution_count": 197,
     "metadata": {},
     "output_type": "execute_result"
    },
    {
     "data": {
      "image/png": "[encoded data removed]",
      "text/plain": [
       "<Figure size 604.8x432 with 2 Axes>"
      ]
     },
     "metadata": {
      "needs_background": "light"
     },
     "output_type": "display_data"
    }
   ],
   "source": [
    "sns.pairplot(df,x_vars=[\"MPG_City\", \"MPG_Highway\"], y_vars=\"EngineSize\", \n",
    "             diag_kind=None, height=6, aspect=.7)"
   ]
  },
  {
   "cell_type": "markdown",
   "metadata": {},
   "source": [
    "## Exporting"
   ]
  },
  {
   "cell_type": "markdown",
   "metadata": {},
   "source": [
    "I'd show ODS to PDF with layout. Not sure how to do it with Python and don't have the time. I'd love to learn though! I love how ODS works with this. I think it's great to show."
   ]
  },
  {
   "cell_type": "code",
   "execution_count": null,
   "metadata": {},
   "outputs": [],
   "source": []
  }
 ],
 "metadata": {
  "kernelspec": {
   "display_name": "Python 3",
   "language": "python",
   "name": "python3"
  },
  "language_info": {
   "codemirror_mode": {
    "name": "ipython",
    "version": 3
   },
   "file_extension": ".py",
   "mimetype": "text/x-python",
   "name": "python",
   "nbconvert_exporter": "python",
   "pygments_lexer": "ipython3",
   "version": "3.8.5"
  }
 },
 "nbformat": 4,
 "nbformat_minor": 4
}
