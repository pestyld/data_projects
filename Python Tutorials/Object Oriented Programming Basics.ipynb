{
 "cells": [
  {
   "cell_type": "markdown",
   "id": "fa7f1a65-adad-4a03-98ad-2e4affd53e8a",
   "metadata": {},
   "source": [
    "# Object Oriented Programming Classes"
   ]
  },
  {
   "cell_type": "code",
   "execution_count": 70,
   "id": "27264742-8d49-46cb-b178-0264797f8a37",
   "metadata": {},
   "outputs": [],
   "source": [
    "class MyClass:\n",
    "    \n",
    "    course = \"Python for Everybody\"\n",
    "\n",
    "    def __init__(self, name, age):\n",
    "        self.name = name\n",
    "        self.age = age\n",
    "\n",
    "    def get_name(self):\n",
    "        return self.name\n",
    "    \n",
    "    def get_age(self):\n",
    "        return self.age"
   ]
  },
  {
   "cell_type": "code",
   "execution_count": 71,
   "id": "8fe2cf49-b0b8-4923-8b9f-bf224d8fe002",
   "metadata": {},
   "outputs": [],
   "source": [
    "new_class = MyClass(name=\"Peter\", age = 35)"
   ]
  },
  {
   "cell_type": "code",
   "execution_count": 72,
   "id": "29d6164f-f0fa-4b8d-8e69-1a33f7372698",
   "metadata": {},
   "outputs": [
    {
     "data": {
      "text/plain": [
       "__main__.MyClass"
      ]
     },
     "execution_count": 72,
     "metadata": {},
     "output_type": "execute_result"
    }
   ],
   "source": [
    "type(new_class)"
   ]
  },
  {
   "cell_type": "code",
   "execution_count": 73,
   "id": "009214ae-5d6d-4dcd-abb0-46d9230953b4",
   "metadata": {},
   "outputs": [
    {
     "data": {
      "text/plain": [
       "35"
      ]
     },
     "execution_count": 73,
     "metadata": {},
     "output_type": "execute_result"
    }
   ],
   "source": [
    "new_class.get_age()"
   ]
  },
  {
   "cell_type": "code",
   "execution_count": 74,
   "id": "5011f088-6489-48f9-9668-10fd3bbfd117",
   "metadata": {},
   "outputs": [
    {
     "data": {
      "text/plain": [
       "'Peter'"
      ]
     },
     "execution_count": 74,
     "metadata": {},
     "output_type": "execute_result"
    }
   ],
   "source": [
    "new_class.get_name()"
   ]
  },
  {
   "cell_type": "code",
   "execution_count": 75,
   "id": "994a9cbc-c018-445d-8203-b304031c96e4",
   "metadata": {},
   "outputs": [
    {
     "data": {
      "text/plain": [
       "'Python for Everybody'"
      ]
     },
     "execution_count": 75,
     "metadata": {},
     "output_type": "execute_result"
    }
   ],
   "source": [
    "new_class.course"
   ]
  },
  {
   "cell_type": "markdown",
   "id": "adae4789-da66-4b20-b47d-b5098bde1f1f",
   "metadata": {},
   "source": [
    "## Real Example"
   ]
  },
  {
   "cell_type": "code",
   "execution_count": 84,
   "id": "a2d71b24-f61f-4573-8171-76fb0cf2d7a1",
   "metadata": {},
   "outputs": [],
   "source": [
    "class Animal:\n",
    "    \n",
    "    def __init__(self, species, name, weight):\n",
    "        self.species = species\n",
    "        self.name = name\n",
    "        self.weight = weight\n",
    "        \n",
    "    def speak(self):\n",
    "        print('Grunt')"
   ]
  },
  {
   "cell_type": "code",
   "execution_count": 85,
   "id": "67b6eb23-da66-405a-88ac-9fc4b59ae714",
   "metadata": {},
   "outputs": [],
   "source": [
    "z = Animal('Dog', 'Gaea', 60)"
   ]
  },
  {
   "cell_type": "code",
   "execution_count": 86,
   "id": "8f32d2c8-5a3f-48c9-b2f0-23b104376821",
   "metadata": {},
   "outputs": [],
   "source": [
    "h = Animal('Cat', 'Hengry', 9)"
   ]
  },
  {
   "cell_type": "code",
   "execution_count": 87,
   "id": "eb5b90a4-c9c9-4956-a3b7-fac1c7dda037",
   "metadata": {},
   "outputs": [
    {
     "data": {
      "text/plain": [
       "<__main__.Animal at 0x241e25344c0>"
      ]
     },
     "execution_count": 87,
     "metadata": {},
     "output_type": "execute_result"
    }
   ],
   "source": [
    "z"
   ]
  },
  {
   "cell_type": "code",
   "execution_count": null,
   "id": "3c235b26-0106-4a37-8411-da3ba741a4af",
   "metadata": {},
   "outputs": [],
   "source": []
  }
 ],
 "metadata": {
  "kernelspec": {
   "display_name": "Python 3",
   "language": "python",
   "name": "python3"
  },
  "language_info": {
   "codemirror_mode": {
    "name": "ipython",
    "version": 3
   },
   "file_extension": ".py",
   "mimetype": "text/x-python",
   "name": "python",
   "nbconvert_exporter": "python",
   "pygments_lexer": "ipython3",
   "version": "3.8.8"
  }
 },
 "nbformat": 4,
 "nbformat_minor": 5
}
