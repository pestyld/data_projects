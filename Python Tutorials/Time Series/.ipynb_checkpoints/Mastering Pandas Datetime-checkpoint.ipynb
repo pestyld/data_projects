{
 "cells": [
  {
   "cell_type": "code",
   "execution_count": 1,
   "id": "08370b28-5837-4fa1-ace9-7d50925cb6c8",
   "metadata": {},
   "outputs": [],
   "source": [
    "import pandas as pd\n",
    "import numpy as np\n",
    "import datetime"
   ]
  },
  {
   "cell_type": "markdown",
   "id": "f7dbab69-4bcd-4b01-a7b4-9091110374d0",
   "metadata": {},
   "source": [
    "## Datetime"
   ]
  },
  {
   "cell_type": "markdown",
   "id": "b2e6f25d-7aa0-4719-b2ee-e52451463401",
   "metadata": {},
   "source": [
    "### Date"
   ]
  },
  {
   "cell_type": "code",
   "execution_count": 7,
   "id": "702e7e10-68f1-4198-889e-a7f604fe5b71",
   "metadata": {},
   "outputs": [
    {
     "name": "stdout",
     "output_type": "stream",
     "text": [
      "2013-06-07\n"
     ]
    }
   ],
   "source": [
    "date = datetime.date(year=2013, month=6, day=7)\n",
    "print(date)"
   ]
  },
  {
   "cell_type": "markdown",
   "id": "0d9e3171-ae32-4932-9b7b-6fb031df549c",
   "metadata": {},
   "source": [
    "### Time"
   ]
  },
  {
   "cell_type": "code",
   "execution_count": 8,
   "id": "dcd73df4-993c-4bdd-b273-a2613c0779a9",
   "metadata": {},
   "outputs": [
    {
     "name": "stdout",
     "output_type": "stream",
     "text": [
      "12:30:19.463198\n"
     ]
    }
   ],
   "source": [
    "time = datetime.time(hour=12, minute=30, second=19, microsecond=463198)\n",
    "print(time)"
   ]
  },
  {
   "cell_type": "markdown",
   "id": "2c574072-9442-4d56-beb0-7901ef095326",
   "metadata": {},
   "source": [
    "### Datetime"
   ]
  },
  {
   "cell_type": "code",
   "execution_count": 9,
   "id": "65f32f21-4cf9-4ab1-8ef1-04dfc194ee16",
   "metadata": {},
   "outputs": [
    {
     "name": "stdout",
     "output_type": "stream",
     "text": [
      "2013-06-07 12:30:19.463198\n"
     ]
    }
   ],
   "source": [
    "dt = datetime.datetime(year=2013, month=6, day=7,\n",
    "                       hour=12, minute=30, second=19,microsecond=463198)\n",
    "print(dt)"
   ]
  },
  {
   "cell_type": "markdown",
   "id": "75c12aa5-7a13-4c0f-a2ec-8bf329fa72f6",
   "metadata": {},
   "source": [
    "### Timedelta"
   ]
  },
  {
   "cell_type": "code",
   "execution_count": 10,
   "id": "4fba4276-a7b7-4d99-a506-93e45cd93962",
   "metadata": {},
   "outputs": [
    {
     "name": "stdout",
     "output_type": "stream",
     "text": [
      "19 days, 10:20:06.829008\n"
     ]
    }
   ],
   "source": [
    "td = datetime.timedelta(weeks=2, days=5, \n",
    "                        hours=10, minutes=20, seconds=6.73,\n",
    "                        milliseconds=99, microseconds=8)\n",
    "\n",
    "print(td)"
   ]
  },
  {
   "cell_type": "markdown",
   "id": "8cb80bde-0e36-4947-bc55-98a4acb528a4",
   "metadata": {},
   "source": [
    "### Add Timedelta to Date and Datetime Objects"
   ]
  },
  {
   "cell_type": "code",
   "execution_count": 22,
   "id": "250c7493-87e1-4245-9a6f-d2fef86eeb3e",
   "metadata": {},
   "outputs": [
    {
     "name": "stdout",
     "output_type": "stream",
     "text": [
      "2013-06-07 \n",
      " 2013-06-26\n"
     ]
    }
   ],
   "source": [
    "print(date,'\\n',date + td)"
   ]
  },
  {
   "cell_type": "code",
   "execution_count": 21,
   "id": "d5dc60b9-b661-4e13-b10d-6b222109c08d",
   "metadata": {},
   "outputs": [
    {
     "name": "stdout",
     "output_type": "stream",
     "text": [
      "2013-06-07 12:30:19.463198 \n",
      " 2013-06-26 22:50:26.292206\n"
     ]
    }
   ],
   "source": [
    "print(dt,'\\n',dt + td)"
   ]
  },
  {
   "cell_type": "markdown",
   "id": "89fa82f1-6d1a-43a3-8d14-d50fc6d463eb",
   "metadata": {},
   "source": [
    "## Pandas \n",
    "### Timestamp"
   ]
  },
  {
   "cell_type": "code",
   "execution_count": 23,
   "id": "fd13c557-0a6f-452a-9c4e-a6442698f3cc",
   "metadata": {},
   "outputs": [
    {
     "data": {
      "text/plain": [
       "Timestamp('2012-12-21 05:10:08.000099')"
      ]
     },
     "execution_count": 23,
     "metadata": {},
     "output_type": "execute_result"
    }
   ],
   "source": [
    "pd.Timestamp(year=2012, month=12, day=21, hour=5,\n",
    "             minute=10, second=8, microsecond=99)"
   ]
  },
  {
   "cell_type": "code",
   "execution_count": 24,
   "id": "c9ef0780-1914-4bd9-baec-a6b2d7365165",
   "metadata": {},
   "outputs": [
    {
     "data": {
      "text/plain": [
       "Timestamp('2016-01-10 00:00:00')"
      ]
     },
     "execution_count": 24,
     "metadata": {},
     "output_type": "execute_result"
    }
   ],
   "source": [
    "pd.Timestamp('2016/1/10')"
   ]
  },
  {
   "cell_type": "code",
   "execution_count": 25,
   "id": "409dd924-0095-4d17-afc8-331e3c140079",
   "metadata": {},
   "outputs": [
    {
     "data": {
      "text/plain": [
       "Timestamp('2014-05-10 00:00:00')"
      ]
     },
     "execution_count": 25,
     "metadata": {},
     "output_type": "execute_result"
    }
   ],
   "source": [
    "pd.Timestamp('2014-5/10')"
   ]
  },
  {
   "cell_type": "code",
   "execution_count": 26,
   "id": "bb87e3a2-b97e-4160-9296-1ef353b4bef2",
   "metadata": {},
   "outputs": [
    {
     "data": {
      "text/plain": [
       "Timestamp('2019-01-03 20:45:33')"
      ]
     },
     "execution_count": 26,
     "metadata": {},
     "output_type": "execute_result"
    }
   ],
   "source": [
    "pd.Timestamp('Jan 3, 2019 20:45.56')"
   ]
  },
  {
   "cell_type": "code",
   "execution_count": 27,
   "id": "584f6c2d-8ab4-40eb-aee9-bce6a4cf5a8a",
   "metadata": {},
   "outputs": [
    {
     "data": {
      "text/plain": [
       "Timestamp('2016-01-05 05:34:43.123456789')"
      ]
     },
     "execution_count": 27,
     "metadata": {},
     "output_type": "execute_result"
    }
   ],
   "source": [
    "pd.Timestamp('2016-01-05T05:34:43.123456789')"
   ]
  },
  {
   "cell_type": "markdown",
   "id": "1fedd73f-15e4-4298-83d4-4f51eeca362b",
   "metadata": {},
   "source": [
    "It's also possible to pass in a single integer or float to the Timestamp constructor, which returns a date equivalent to the number of nanoseconds after the Unix epoch (January 1, 1970):"
   ]
  },
  {
   "cell_type": "code",
   "execution_count": 28,
   "id": "a7a0a4e6-e749-42c4-a4f1-5cee4eed0ca4",
   "metadata": {},
   "outputs": [
    {
     "data": {
      "text/plain": [
       "Timestamp('1970-01-01 00:00:00.000000500')"
      ]
     },
     "execution_count": 28,
     "metadata": {},
     "output_type": "execute_result"
    }
   ],
   "source": [
    "pd.Timestamp(500)"
   ]
  },
  {
   "cell_type": "code",
   "execution_count": 29,
   "id": "44ac6789-513f-41c6-9a0f-9f8c732caa83",
   "metadata": {},
   "outputs": [
    {
     "data": {
      "text/plain": [
       "Timestamp('1983-09-10 00:00:00')"
      ]
     },
     "execution_count": 29,
     "metadata": {},
     "output_type": "execute_result"
    }
   ],
   "source": [
    "pd.Timestamp(5000, unit='D')"
   ]
  },
  {
   "cell_type": "markdown",
   "id": "eb21cd52-8f58-476a-8723-e4af27f6ec74",
   "metadata": {},
   "source": [
    "### to_datetime"
   ]
  },
  {
   "cell_type": "code",
   "execution_count": 30,
   "id": "77cb7cb8-9d2e-4133-b6ac-c4515ecab1e0",
   "metadata": {},
   "outputs": [
    {
     "data": {
      "text/plain": [
       "Timestamp('2015-05-13 00:00:00')"
      ]
     },
     "execution_count": 30,
     "metadata": {},
     "output_type": "execute_result"
    }
   ],
   "source": [
    "pd.to_datetime('2015-5-13')"
   ]
  },
  {
   "cell_type": "code",
   "execution_count": 31,
   "id": "464684cd-6b2f-4642-abca-e298d308b11a",
   "metadata": {},
   "outputs": [
    {
     "data": {
      "text/plain": [
       "Timestamp('2015-05-13 00:00:00')"
      ]
     },
     "execution_count": 31,
     "metadata": {},
     "output_type": "execute_result"
    }
   ],
   "source": [
    "pd.to_datetime('2015-13-5', dayfirst=True)"
   ]
  },
  {
   "cell_type": "code",
   "execution_count": 32,
   "id": "8bbcf199-0b5d-4b35-b5a1-951fe86364c1",
   "metadata": {},
   "outputs": [
    {
     "data": {
      "text/plain": [
       "Timestamp('2017-09-30 13:30:00')"
      ]
     },
     "execution_count": 32,
     "metadata": {},
     "output_type": "execute_result"
    }
   ],
   "source": [
    "pd.to_datetime('Start Date: Sep 30, 2017 Start Time: 1:30 pm',\n",
    "               format='Start Date: %b %d, %Y Start Time: %I:%M %p')"
   ]
  },
  {
   "cell_type": "code",
   "execution_count": 33,
   "id": "10406591-7274-4ff7-a6da-ed0f7be680c8",
   "metadata": {},
   "outputs": [
    {
     "data": {
      "text/plain": [
       "Timestamp('2013-04-11 00:00:00')"
      ]
     },
     "execution_count": 33,
     "metadata": {},
     "output_type": "execute_result"
    }
   ],
   "source": [
    "pd.to_datetime(100, unit='D', origin='2013-1-1')"
   ]
  },
  {
   "cell_type": "markdown",
   "id": "88795168-9fa2-45cf-b980-c6199e9202db",
   "metadata": {},
   "source": [
    "The to_datetime function comes equipped with even more functionality. It is capable of converting entire lists or Series of strings or integers to Timestamp objects. Since we are far more likely to interact with Series or DataFrames and not single scalar values, you are far more likely to use to_datetime than Timestamp:"
   ]
  },
  {
   "cell_type": "code",
   "execution_count": 36,
   "id": "0d43cbaa-9833-42f7-b84c-6dd15a280e24",
   "metadata": {},
   "outputs": [
    {
     "data": {
      "text/plain": [
       "0   1970-01-11\n",
       "1   1970-04-11\n",
       "2   1972-09-27\n",
       "3   1997-05-19\n",
       "dtype: datetime64[ns]"
      ]
     },
     "execution_count": 36,
     "metadata": {},
     "output_type": "execute_result"
    }
   ],
   "source": [
    "s = pd.Series([10, 100, 1000, 10000])\n",
    "pd.to_datetime(s, unit=\"D\")"
   ]
  },
  {
   "cell_type": "markdown",
   "id": "62368539-d451-4b70-9cac-9ec1b8aee039",
   "metadata": {},
   "source": [
    "The to_datetime function comes equipped with even more functionality. It is capable of converting entire lists or Series of strings or integers to Timestamp objects. Since we are far more likely to interact with Series or DataFrames and not single scalar values, you are far more likely to use to_datetime than Timestamp:"
   ]
  },
  {
   "cell_type": "code",
   "execution_count": 39,
   "id": "d27a7c50-a743-440c-b116-1e800048a546",
   "metadata": {},
   "outputs": [],
   "source": [
    "s = pd.Series(['12-5-2015', \n",
    "               '14-1-2013',\n",
    "               '20/12/2017', \n",
    "               '40/23/2017'])"
   ]
  },
  {
   "cell_type": "code",
   "execution_count": 45,
   "id": "a5f50298-b14d-4daa-89ba-1f71e058535c",
   "metadata": {},
   "outputs": [
    {
     "data": {
      "text/plain": [
       "0   2015-05-12\n",
       "1   2013-01-14\n",
       "2   2017-12-20\n",
       "3          NaT\n",
       "dtype: datetime64[ns]"
      ]
     },
     "execution_count": 45,
     "metadata": {},
     "output_type": "execute_result"
    }
   ],
   "source": [
    "pd.to_datetime(s, dayfirst=True, errors='coerce')"
   ]
  },
  {
   "cell_type": "code",
   "execution_count": 49,
   "id": "81eb14ee-97a4-4de8-b1ca-2b2e06b3eceb",
   "metadata": {},
   "outputs": [
    {
     "data": {
      "text/plain": [
       "DatetimeIndex(['1999-08-03 03:45:56', '2017-10-31 00:00:00'], dtype='datetime64[ns]', freq=None)"
      ]
     },
     "execution_count": 49,
     "metadata": {},
     "output_type": "execute_result"
    }
   ],
   "source": [
    "pd.to_datetime(['Aug 3 1999 3:45:56', '10/31/2017'])"
   ]
  },
  {
   "cell_type": "markdown",
   "id": "933cbace-f1d2-49e7-a10f-1a5a47ec47d5",
   "metadata": {},
   "source": [
    "### to_timedelta\n",
    "Like the Timestamp constructor and the to_datetime function, pandas has Timedelta and to_timedelta to represent an amount of time. Both the Timedelta constructor and the to_timedelta function can create a single Timedelta object. Like to_datetime, to_timedelta has a bit more functionality and can convert entire lists or Series into Timedelta objects:"
   ]
  },
  {
   "cell_type": "code",
   "execution_count": null,
   "id": "ec9f33d6-7a09-469a-acd6-091c7c0577f2",
   "metadata": {},
   "outputs": [],
   "source": []
  }
 ],
 "metadata": {
  "kernelspec": {
   "display_name": "Python 3",
   "language": "python",
   "name": "python3"
  },
  "language_info": {
   "codemirror_mode": {
    "name": "ipython",
    "version": 3
   },
   "file_extension": ".py",
   "mimetype": "text/x-python",
   "name": "python",
   "nbconvert_exporter": "python",
   "pygments_lexer": "ipython3",
   "version": "3.8.8"
  }
 },
 "nbformat": 4,
 "nbformat_minor": 5
}
