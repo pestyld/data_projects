{
 "cells": [
  {
   "cell_type": "markdown",
   "id": "a351f88b-e1cc-4dfe-ab4e-021f4cf0bb91",
   "metadata": {},
   "source": [
    "# Decomposition of a Time Series"
   ]
  },
  {
   "cell_type": "code",
   "execution_count": 95,
   "id": "ce0bbadf-5fde-4de4-ab09-51a25392b406",
   "metadata": {},
   "outputs": [],
   "source": [
    "import pandas as pd\n",
    "import numpy as np\n",
    "import matplotlib.pyplot as plt\n",
    "\n",
    "plt.style.use('fivethirtyeight')\n",
    "plt.rcParams['figure.figsize'] = (12, 8)"
   ]
  },
  {
   "cell_type": "markdown",
   "id": "ae174a26-47eb-42e9-afe0-a493ce8784cb",
   "metadata": {},
   "source": [
    "## Airline Data"
   ]
  },
  {
   "cell_type": "markdown",
   "id": "da99d7bb-99a2-4400-85cc-79c3692a0b57",
   "metadata": {},
   "source": [
    "### Load data"
   ]
  },
  {
   "cell_type": "code",
   "execution_count": 126,
   "id": "310f3b9f-d5c5-4d92-8cd1-760df4a0a341",
   "metadata": {},
   "outputs": [
    {
     "data": {
      "text/html": [
       "<div>\n",
       "<style scoped>\n",
       "    .dataframe tbody tr th:only-of-type {\n",
       "        vertical-align: middle;\n",
       "    }\n",
       "\n",
       "    .dataframe tbody tr th {\n",
       "        vertical-align: top;\n",
       "    }\n",
       "\n",
       "    .dataframe thead th {\n",
       "        text-align: right;\n",
       "    }\n",
       "</style>\n",
       "<table border=\"1\" class=\"dataframe\">\n",
       "  <thead>\n",
       "    <tr style=\"text-align: right;\">\n",
       "      <th></th>\n",
       "      <th>Passengers</th>\n",
       "    </tr>\n",
       "    <tr>\n",
       "      <th>Month</th>\n",
       "      <th></th>\n",
       "    </tr>\n",
       "  </thead>\n",
       "  <tbody>\n",
       "    <tr>\n",
       "      <th>1949-01-01</th>\n",
       "      <td>112</td>\n",
       "    </tr>\n",
       "    <tr>\n",
       "      <th>1949-02-01</th>\n",
       "      <td>118</td>\n",
       "    </tr>\n",
       "    <tr>\n",
       "      <th>1949-03-01</th>\n",
       "      <td>132</td>\n",
       "    </tr>\n",
       "    <tr>\n",
       "      <th>1949-04-01</th>\n",
       "      <td>129</td>\n",
       "    </tr>\n",
       "    <tr>\n",
       "      <th>1949-05-01</th>\n",
       "      <td>121</td>\n",
       "    </tr>\n",
       "  </tbody>\n",
       "</table>\n",
       "</div>"
      ],
      "text/plain": [
       "            Passengers\n",
       "Month                 \n",
       "1949-01-01         112\n",
       "1949-02-01         118\n",
       "1949-03-01         132\n",
       "1949-04-01         129\n",
       "1949-05-01         121"
      ]
     },
     "execution_count": 126,
     "metadata": {},
     "output_type": "execute_result"
    }
   ],
   "source": [
    "airline = pd.read_csv('data/international-airline-passengers.csv', sep = ';', parse_dates=['Month'], index_col='Month')\n",
    "airline.head()"
   ]
  },
  {
   "cell_type": "code",
   "execution_count": 127,
   "id": "8f5907d5-8317-4a5e-bf62-402129e5d1aa",
   "metadata": {},
   "outputs": [],
   "source": [
    "def running_average(x, order):\n",
    "    current = x[:order].sum()\n",
    "    running = []\n",
    "    \n",
    "    for i in range(order, x.shape[0]):\n",
    "        current += x[i]\n",
    "        current -= x[i-order]\n",
    "        running.append(current/order)\n",
    "    \n",
    "    return np.array(running)"
   ]
  },
  {
   "cell_type": "code",
   "execution_count": 128,
   "id": "59a7bfc3-2472-468d-b181-2123283090c5",
   "metadata": {},
   "outputs": [
    {
     "data": {
      "text/plain": [
       "array([126.91666667, 127.58333333, 128.33333333, 128.83333333,\n",
       "       129.16666667, 130.33333333, 132.16666667, 134.        ,\n",
       "       135.83333333, 137.        , 137.83333333, 139.66666667,\n",
       "       142.16666667, 144.16666667, 147.25      , 149.58333333,\n",
       "       153.5       , 155.91666667, 158.33333333, 160.75      ,\n",
       "       162.91666667, 165.33333333, 168.        , 170.16666667,\n",
       "       172.33333333, 174.83333333, 176.08333333, 177.58333333,\n",
       "       178.5       , 181.83333333, 184.41666667, 188.        ,\n",
       "       190.08333333, 192.5       , 194.66666667, 197.        ,\n",
       "       199.08333333, 200.41666667, 204.        , 208.5       ,\n",
       "       212.33333333, 214.41666667, 217.25      , 219.75      ,\n",
       "       222.08333333, 223.75      , 224.41666667, 225.        ,\n",
       "       225.66666667, 225.        , 224.91666667, 224.25      ,\n",
       "       224.66666667, 226.41666667, 229.58333333, 231.33333333,\n",
       "       233.16666667, 234.66666667, 236.58333333, 238.91666667,\n",
       "       242.08333333, 245.83333333, 248.5       , 252.        ,\n",
       "       255.        , 259.25      , 264.41666667, 268.91666667,\n",
       "       273.33333333, 277.08333333, 279.91666667, 284.        ,\n",
       "       287.5       , 291.16666667, 295.33333333, 299.        ,\n",
       "       303.        , 307.91666667, 312.        , 316.83333333,\n",
       "       320.41666667, 323.08333333, 325.91666667, 328.25      ,\n",
       "       330.83333333, 332.83333333, 336.08333333, 339.        ,\n",
       "       342.08333333, 346.08333333, 350.41666667, 355.58333333,\n",
       "       359.66666667, 363.08333333, 365.91666667, 368.41666667,\n",
       "       370.5       , 371.91666667, 372.41666667, 372.41666667,\n",
       "       373.08333333, 374.16666667, 376.33333333, 379.5       ,\n",
       "       379.5       , 380.5       , 380.91666667, 381.        ,\n",
       "       382.66666667, 384.66666667, 388.33333333, 392.33333333,\n",
       "       397.08333333, 400.16666667, 404.91666667, 409.41666667,\n",
       "       414.33333333, 418.33333333, 422.66666667, 428.33333333,\n",
       "       433.08333333, 437.16666667, 438.25      , 443.66666667,\n",
       "       448.        , 453.25      , 459.41666667, 463.33333333,\n",
       "       467.08333333, 471.58333333, 473.91666667, 476.16666667])"
      ]
     },
     "execution_count": 128,
     "metadata": {},
     "output_type": "execute_result"
    }
   ],
   "source": [
    "trend = running_average(airline['Passengers'], 12)\n",
    "trend"
   ]
  },
  {
   "cell_type": "code",
   "execution_count": 129,
   "id": "d7556777-2d32-40f8-bc9e-fa43d6e2dd34",
   "metadata": {},
   "outputs": [
    {
     "data": {
      "text/html": [
       "<div>\n",
       "<style scoped>\n",
       "    .dataframe tbody tr th:only-of-type {\n",
       "        vertical-align: middle;\n",
       "    }\n",
       "\n",
       "    .dataframe tbody tr th {\n",
       "        vertical-align: top;\n",
       "    }\n",
       "\n",
       "    .dataframe thead th {\n",
       "        text-align: right;\n",
       "    }\n",
       "</style>\n",
       "<table border=\"1\" class=\"dataframe\">\n",
       "  <thead>\n",
       "    <tr style=\"text-align: right;\">\n",
       "      <th></th>\n",
       "      <th>Passengers</th>\n",
       "    </tr>\n",
       "    <tr>\n",
       "      <th>Month</th>\n",
       "      <th></th>\n",
       "    </tr>\n",
       "  </thead>\n",
       "  <tbody>\n",
       "    <tr>\n",
       "      <th>1950-01-01</th>\n",
       "      <td>115</td>\n",
       "    </tr>\n",
       "    <tr>\n",
       "      <th>1950-02-01</th>\n",
       "      <td>126</td>\n",
       "    </tr>\n",
       "    <tr>\n",
       "      <th>1950-03-01</th>\n",
       "      <td>141</td>\n",
       "    </tr>\n",
       "    <tr>\n",
       "      <th>1950-04-01</th>\n",
       "      <td>135</td>\n",
       "    </tr>\n",
       "    <tr>\n",
       "      <th>1950-05-01</th>\n",
       "      <td>125</td>\n",
       "    </tr>\n",
       "    <tr>\n",
       "      <th>...</th>\n",
       "      <td>...</td>\n",
       "    </tr>\n",
       "    <tr>\n",
       "      <th>1960-08-01</th>\n",
       "      <td>606</td>\n",
       "    </tr>\n",
       "    <tr>\n",
       "      <th>1960-09-01</th>\n",
       "      <td>508</td>\n",
       "    </tr>\n",
       "    <tr>\n",
       "      <th>1960-10-01</th>\n",
       "      <td>461</td>\n",
       "    </tr>\n",
       "    <tr>\n",
       "      <th>1960-11-01</th>\n",
       "      <td>390</td>\n",
       "    </tr>\n",
       "    <tr>\n",
       "      <th>1960-12-01</th>\n",
       "      <td>432</td>\n",
       "    </tr>\n",
       "  </tbody>\n",
       "</table>\n",
       "<p>132 rows × 1 columns</p>\n",
       "</div>"
      ],
      "text/plain": [
       "            Passengers\n",
       "Month                 \n",
       "1950-01-01         115\n",
       "1950-02-01         126\n",
       "1950-03-01         141\n",
       "1950-04-01         135\n",
       "1950-05-01         125\n",
       "...                ...\n",
       "1960-08-01         606\n",
       "1960-09-01         508\n",
       "1960-10-01         461\n",
       "1960-11-01         390\n",
       "1960-12-01         432\n",
       "\n",
       "[132 rows x 1 columns]"
      ]
     },
     "execution_count": 129,
     "metadata": {},
     "output_type": "execute_result"
    }
   ],
   "source": [
    "airline.iloc[12:]"
   ]
  },
  {
   "cell_type": "code",
   "execution_count": 130,
   "id": "4c5095f5-e1cb-4709-a029-c80eb92e8f84",
   "metadata": {},
   "outputs": [
    {
     "data": {
      "text/plain": [
       "array([126.91666667, 127.58333333, 128.33333333, 128.83333333,\n",
       "       129.16666667, 130.33333333, 132.16666667, 134.        ,\n",
       "       135.83333333, 137.        , 137.83333333, 139.66666667,\n",
       "       142.16666667, 144.16666667, 147.25      , 149.58333333,\n",
       "       153.5       , 155.91666667, 158.33333333, 160.75      ,\n",
       "       162.91666667, 165.33333333, 168.        , 170.16666667,\n",
       "       172.33333333, 174.83333333, 176.08333333, 177.58333333,\n",
       "       178.5       , 181.83333333, 184.41666667, 188.        ,\n",
       "       190.08333333, 192.5       , 194.66666667, 197.        ,\n",
       "       199.08333333, 200.41666667, 204.        , 208.5       ,\n",
       "       212.33333333, 214.41666667, 217.25      , 219.75      ,\n",
       "       222.08333333, 223.75      , 224.41666667, 225.        ,\n",
       "       225.66666667, 225.        , 224.91666667, 224.25      ,\n",
       "       224.66666667, 226.41666667, 229.58333333, 231.33333333,\n",
       "       233.16666667, 234.66666667, 236.58333333, 238.91666667,\n",
       "       242.08333333, 245.83333333, 248.5       , 252.        ,\n",
       "       255.        , 259.25      , 264.41666667, 268.91666667,\n",
       "       273.33333333, 277.08333333, 279.91666667, 284.        ,\n",
       "       287.5       , 291.16666667, 295.33333333, 299.        ,\n",
       "       303.        , 307.91666667, 312.        , 316.83333333,\n",
       "       320.41666667, 323.08333333, 325.91666667, 328.25      ,\n",
       "       330.83333333, 332.83333333, 336.08333333, 339.        ,\n",
       "       342.08333333, 346.08333333, 350.41666667, 355.58333333,\n",
       "       359.66666667, 363.08333333, 365.91666667, 368.41666667,\n",
       "       370.5       , 371.91666667, 372.41666667, 372.41666667,\n",
       "       373.08333333, 374.16666667, 376.33333333, 379.5       ,\n",
       "       379.5       , 380.5       , 380.91666667, 381.        ,\n",
       "       382.66666667, 384.66666667, 388.33333333, 392.33333333,\n",
       "       397.08333333, 400.16666667, 404.91666667, 409.41666667,\n",
       "       414.33333333, 418.33333333, 422.66666667, 428.33333333,\n",
       "       433.08333333, 437.16666667, 438.25      , 443.66666667,\n",
       "       448.        , 453.25      , 459.41666667, 463.33333333,\n",
       "       467.08333333, 471.58333333, 473.91666667, 476.16666667])"
      ]
     },
     "execution_count": 130,
     "metadata": {},
     "output_type": "execute_result"
    }
   ],
   "source": [
    "trend"
   ]
  },
  {
   "cell_type": "code",
   "execution_count": 131,
   "id": "8df49074-098f-463b-8c09-229c34f0c8e0",
   "metadata": {},
   "outputs": [
    {
     "data": {
      "text/plain": [
       "array([0.90610637, 0.98758981, 1.0987013 , 1.04786546, 0.96774194,\n",
       "       1.14322251, 1.28625473, 1.26865672, 1.16319018, 0.97080292,\n",
       "       0.82708585, 1.00238663, 1.01992966, 1.04046243, 1.20882852,\n",
       "       1.08969359, 1.12052117, 1.14163549, 1.25684211, 1.23794712,\n",
       "       1.12941176, 0.97983871, 0.86904762, 0.9755142 , 0.99226306,\n",
       "       1.02955195, 1.09607194, 1.01923979, 1.02521008, 1.19890009,\n",
       "       1.24717578, 1.28723404, 1.09951776, 0.99220779, 0.88356164,\n",
       "       0.98477157, 0.98451235, 0.97796258, 1.15686275, 1.12709832,\n",
       "       1.07849294, 1.13330742, 1.21518987, 1.23777019, 1.06716698,\n",
       "       0.94301676, 0.80207947, 0.89333333, 0.90398818, 0.83555556,\n",
       "       1.04483142, 1.0122631 , 1.04154303, 1.1659919 , 1.3154265 ,\n",
       "       1.26657061, 1.11079342, 0.97585227, 0.85804861, 0.9584932 ,\n",
       "       0.99965577, 0.94779661, 1.07444668, 1.06746032, 1.05882353,\n",
       "       1.21504339, 1.37661519, 1.29036257, 1.14146341, 0.98887218,\n",
       "       0.84668056, 0.97887324, 0.98782609, 0.95134516, 1.07336343,\n",
       "       1.04682274, 1.04950495, 1.21461434, 1.32371795, 1.27827459,\n",
       "       1.10793238, 0.94712406, 0.83150089, 0.9322163 , 0.95214106,\n",
       "       0.90435653, 1.0592611 , 1.02654867, 1.03775883, 1.2193595 ,\n",
       "       1.32699168, 1.3133349 , 1.12326228, 0.95570347, 0.83352312,\n",
       "       0.91201086, 0.91767881, 0.85503025, 0.97202954, 0.93443723,\n",
       "       0.97297297, 1.16258352, 1.30469442, 1.33069829, 1.06455863,\n",
       "       0.9434954 , 0.8138263 , 0.88451444, 0.94076655, 0.88908146,\n",
       "       1.04549356, 1.00934579, 1.05771249, 1.17950854, 1.35336489,\n",
       "       1.36535722, 1.11745776, 0.97290837, 0.85646688, 0.94552529,\n",
       "       0.96286319, 0.89439573, 0.9560753 , 1.03906837, 1.05357143,\n",
       "       1.18036404, 1.3538908 , 1.30791367, 1.08760036, 0.97755787,\n",
       "       0.82292949, 0.90724536])"
      ]
     },
     "execution_count": 131,
     "metadata": {},
     "output_type": "execute_result"
    }
   ],
   "source": [
    "detrended = airline.iloc[12:].values.flatten()/trend\n",
    "detrended"
   ]
  },
  {
   "cell_type": "code",
   "execution_count": 132,
   "id": "5bd920a6-25a0-4219-8729-7f07909de04e",
   "metadata": {},
   "outputs": [
    {
     "data": {
      "text/plain": [
       "Text(0, 0.5, 'Detrended value')"
      ]
     },
     "execution_count": 132,
     "metadata": {},
     "output_type": "execute_result"
    },
    {
     "data": {
      "image/png": "[encoded data removed]",
      "text/plain": [
       "<Figure size 864x576 with 1 Axes>"
      ]
     },
     "metadata": {},
     "output_type": "display_data"
    }
   ],
   "source": [
    "fig, ax = plt.subplots(1, 1)\n",
    "ax.plot(airline.index[12:], detrended)\n",
    "ax.set_xlabel('Date')\n",
    "ax.set_ylabel('Detrended value')"
   ]
  },
  {
   "cell_type": "code",
   "execution_count": 133,
   "id": "afc720da-106c-47cd-9e0f-217726387997",
   "metadata": {},
   "outputs": [
    {
     "data": {
      "text/plain": [
       "['#008fd5', '#fc4f30', '#e5ae38', '#6d904f', '#8b8b8b', '#810f7c']"
      ]
     },
     "execution_count": 133,
     "metadata": {},
     "output_type": "execute_result"
    }
   ],
   "source": [
    "colors = plt.rcParams['axes.prop_cycle'].by_key()['color']\n",
    "colors"
   ]
  },
  {
   "cell_type": "code",
   "execution_count": 135,
   "id": "2bcb528e-c153-42b8-a5e0-2fc40109a68f",
   "metadata": {},
   "outputs": [
    {
     "data": {
      "text/plain": [
       "132"
      ]
     },
     "execution_count": 135,
     "metadata": {},
     "output_type": "execute_result"
    }
   ],
   "source": [
    "N = len(detrended)\n",
    "N"
   ]
  },
  {
   "cell_type": "code",
   "execution_count": 140,
   "id": "910b6ad3-5cb8-45b2-b213-1ff8b411d133",
   "metadata": {},
   "outputs": [
    {
     "data": {
      "text/plain": [
       "array([0.90610637, 1.01992966, 0.99226306, 0.98451235, 0.90398818,\n",
       "       0.99965577, 0.98782609, 0.95214106, 0.91767881, 0.94076655,\n",
       "       0.96286319])"
      ]
     },
     "execution_count": 140,
     "metadata": {},
     "output_type": "execute_result"
    }
   ],
   "source": [
    "detrended[0::12]"
   ]
  },
  {
   "cell_type": "code",
   "execution_count": 138,
   "id": "442c1156-bffa-4ba1-bd3e-d819671f19f7",
   "metadata": {},
   "outputs": [
    {
     "data": {
      "text/plain": [
       "array([[0.90610637, 1.01992966, 0.99226306, 0.98451235, 0.90398818,\n",
       "        0.99965577, 0.98782609, 0.95214106, 0.91767881, 0.94076655,\n",
       "        0.96286319],\n",
       "       [0.98758981, 1.04046243, 1.02955195, 0.97796258, 0.83555556,\n",
       "        0.94779661, 0.95134516, 0.90435653, 0.85503025, 0.88908146,\n",
       "        0.89439573],\n",
       "       [1.0987013 , 1.20882852, 1.09607194, 1.15686275, 1.04483142,\n",
       "        1.07444668, 1.07336343, 1.0592611 , 0.97202954, 1.04549356,\n",
       "        0.9560753 ],\n",
       "       [1.04786546, 1.08969359, 1.01923979, 1.12709832, 1.0122631 ,\n",
       "        1.06746032, 1.04682274, 1.02654867, 0.93443723, 1.00934579,\n",
       "        1.03906837],\n",
       "       [0.96774194, 1.12052117, 1.02521008, 1.07849294, 1.04154303,\n",
       "        1.05882353, 1.04950495, 1.03775883, 0.97297297, 1.05771249,\n",
       "        1.05357143],\n",
       "       [1.14322251, 1.14163549, 1.19890009, 1.13330742, 1.1659919 ,\n",
       "        1.21504339, 1.21461434, 1.2193595 , 1.16258352, 1.17950854,\n",
       "        1.18036404],\n",
       "       [1.28625473, 1.25684211, 1.24717578, 1.21518987, 1.3154265 ,\n",
       "        1.37661519, 1.32371795, 1.32699168, 1.30469442, 1.35336489,\n",
       "        1.3538908 ],\n",
       "       [1.26865672, 1.23794712, 1.28723404, 1.23777019, 1.26657061,\n",
       "        1.29036257, 1.27827459, 1.3133349 , 1.33069829, 1.36535722,\n",
       "        1.30791367],\n",
       "       [1.16319018, 1.12941176, 1.09951776, 1.06716698, 1.11079342,\n",
       "        1.14146341, 1.10793238, 1.12326228, 1.06455863, 1.11745776,\n",
       "        1.08760036],\n",
       "       [0.97080292, 0.97983871, 0.99220779, 0.94301676, 0.97585227,\n",
       "        0.98887218, 0.94712406, 0.95570347, 0.9434954 , 0.97290837,\n",
       "        0.97755787],\n",
       "       [0.82708585, 0.86904762, 0.88356164, 0.80207947, 0.85804861,\n",
       "        0.84668056, 0.83150089, 0.83352312, 0.8138263 , 0.85646688,\n",
       "        0.82292949],\n",
       "       [1.00238663, 0.9755142 , 0.98477157, 0.89333333, 0.9584932 ,\n",
       "        0.97887324, 0.9322163 , 0.91201086, 0.88451444, 0.94552529,\n",
       "        0.90724536]])"
      ]
     },
     "execution_count": 138,
     "metadata": {},
     "output_type": "execute_result"
    }
   ],
   "source": [
    "data = np.array([detrended[i::12] for i in range(12)])\n",
    "data"
   ]
  },
  {
   "cell_type": "code",
   "execution_count": 142,
   "id": "84a2ad86-ffa0-45bb-af18-22118ddca6f0",
   "metadata": {},
   "outputs": [
    {
     "data": {
      "text/plain": [
       "[0]"
      ]
     },
     "execution_count": 142,
     "metadata": {},
     "output_type": "execute_result"
    }
   ],
   "source": [
    "counts = [0]\n",
    "counts"
   ]
  },
  {
   "cell_type": "code",
   "execution_count": 144,
   "id": "d9a71346-7a85-4586-a989-d83b15685823",
   "metadata": {},
   "outputs": [
    {
     "data": {
      "text/plain": [
       "[0, 11, 11, 11, 11, 11, 11, 11, 11, 11, 11, 11, 11]"
      ]
     },
     "execution_count": 144,
     "metadata": {},
     "output_type": "execute_result"
    }
   ],
   "source": [
    "counts.extend([len(data[i]) for i in range(12)])\n",
    "counts"
   ]
  },
  {
   "cell_type": "code",
   "execution_count": 146,
   "id": "73d2a344-8325-492a-8fb5-cd0b62ea64f3",
   "metadata": {},
   "outputs": [
    {
     "data": {
      "text/plain": [
       "array([  0,  11,  33,  66, 110, 165, 231, 308, 396, 495, 605, 726, 858],\n",
       "      dtype=int32)"
      ]
     },
     "execution_count": 146,
     "metadata": {},
     "output_type": "execute_result"
    }
   ],
   "source": [
    "counts = np.cumsum(counts)\n",
    "counts"
   ]
  },
  {
   "cell_type": "code",
   "execution_count": null,
   "id": "f9669adb-9936-43b2-895e-617d1484f0e1",
   "metadata": {},
   "outputs": [],
   "source": []
  },
  {
   "cell_type": "code",
   "execution_count": null,
   "id": "7c8bea91-0898-4bc6-8bc7-5731d74929d0",
   "metadata": {},
   "outputs": [],
   "source": []
  },
  {
   "cell_type": "code",
   "execution_count": 72,
   "id": "37fe7fe8-2263-4a92-8809-47652b9fcb0c",
   "metadata": {},
   "outputs": [
    {
     "data": {
      "text/plain": [
       "Passengers    int64\n",
       "dtype: object"
      ]
     },
     "execution_count": 72,
     "metadata": {},
     "output_type": "execute_result"
    }
   ],
   "source": [
    "airline.dtypes"
   ]
  },
  {
   "cell_type": "code",
   "execution_count": 73,
   "id": "5867eaae-13f6-411b-9ed4-216450688355",
   "metadata": {},
   "outputs": [
    {
     "name": "stdout",
     "output_type": "stream",
     "text": [
      "<class 'pandas.core.frame.DataFrame'>\n",
      "DatetimeIndex: 144 entries, 1949-01-01 to 1960-12-01\n",
      "Data columns (total 1 columns):\n",
      " #   Column      Non-Null Count  Dtype\n",
      "---  ------      --------------  -----\n",
      " 0   Passengers  144 non-null    int64\n",
      "dtypes: int64(1)\n",
      "memory usage: 2.2 KB\n"
     ]
    }
   ],
   "source": [
    "airline.info()"
   ]
  },
  {
   "cell_type": "markdown",
   "id": "e1aa3ae4-b27e-4978-a2f6-7342d3cb22fa",
   "metadata": {},
   "source": [
    "### Plot data"
   ]
  },
  {
   "cell_type": "code",
   "execution_count": 74,
   "id": "ac9d7f21-c462-42fd-ae20-dcfddb622e1b",
   "metadata": {},
   "outputs": [
    {
     "data": {
      "image/png": "[encoded data removed]",
      "text/plain": [
       "<Figure size 864x576 with 1 Axes>"
      ]
     },
     "metadata": {},
     "output_type": "display_data"
    }
   ],
   "source": [
    "fig, ax = plt.subplots()\n",
    "ax.plot(airline)\n",
    "ax.set_ylabel('Total Passengers');"
   ]
  },
  {
   "cell_type": "markdown",
   "id": "ee8f8686-eaab-43f2-aff5-83590c273a8a",
   "metadata": {},
   "source": [
    "### Moving Average"
   ]
  },
  {
   "cell_type": "code",
   "execution_count": 154,
   "id": "da3b7169-cfeb-4b6a-83fc-ab5645eb6a7a",
   "metadata": {},
   "outputs": [
    {
     "data": {
      "text/html": [
       "<div>\n",
       "<style scoped>\n",
       "    .dataframe tbody tr th:only-of-type {\n",
       "        vertical-align: middle;\n",
       "    }\n",
       "\n",
       "    .dataframe tbody tr th {\n",
       "        vertical-align: top;\n",
       "    }\n",
       "\n",
       "    .dataframe thead th {\n",
       "        text-align: right;\n",
       "    }\n",
       "</style>\n",
       "<table border=\"1\" class=\"dataframe\">\n",
       "  <thead>\n",
       "    <tr style=\"text-align: right;\">\n",
       "      <th></th>\n",
       "      <th>Passengers</th>\n",
       "      <th>MovingAverage</th>\n",
       "      <th>Detrended</th>\n",
       "    </tr>\n",
       "    <tr>\n",
       "      <th>Month</th>\n",
       "      <th></th>\n",
       "      <th></th>\n",
       "      <th></th>\n",
       "    </tr>\n",
       "  </thead>\n",
       "  <tbody>\n",
       "    <tr>\n",
       "      <th>1949-01-01</th>\n",
       "      <td>112</td>\n",
       "      <td>NaN</td>\n",
       "      <td>NaN</td>\n",
       "    </tr>\n",
       "    <tr>\n",
       "      <th>1949-02-01</th>\n",
       "      <td>118</td>\n",
       "      <td>NaN</td>\n",
       "      <td>NaN</td>\n",
       "    </tr>\n",
       "    <tr>\n",
       "      <th>1949-03-01</th>\n",
       "      <td>132</td>\n",
       "      <td>NaN</td>\n",
       "      <td>NaN</td>\n",
       "    </tr>\n",
       "    <tr>\n",
       "      <th>1949-04-01</th>\n",
       "      <td>129</td>\n",
       "      <td>NaN</td>\n",
       "      <td>NaN</td>\n",
       "    </tr>\n",
       "    <tr>\n",
       "      <th>1949-05-01</th>\n",
       "      <td>121</td>\n",
       "      <td>NaN</td>\n",
       "      <td>NaN</td>\n",
       "    </tr>\n",
       "    <tr>\n",
       "      <th>1949-06-01</th>\n",
       "      <td>135</td>\n",
       "      <td>NaN</td>\n",
       "      <td>NaN</td>\n",
       "    </tr>\n",
       "    <tr>\n",
       "      <th>1949-07-01</th>\n",
       "      <td>148</td>\n",
       "      <td>NaN</td>\n",
       "      <td>NaN</td>\n",
       "    </tr>\n",
       "    <tr>\n",
       "      <th>1949-08-01</th>\n",
       "      <td>148</td>\n",
       "      <td>NaN</td>\n",
       "      <td>NaN</td>\n",
       "    </tr>\n",
       "    <tr>\n",
       "      <th>1949-09-01</th>\n",
       "      <td>136</td>\n",
       "      <td>NaN</td>\n",
       "      <td>NaN</td>\n",
       "    </tr>\n",
       "    <tr>\n",
       "      <th>1949-10-01</th>\n",
       "      <td>119</td>\n",
       "      <td>NaN</td>\n",
       "      <td>NaN</td>\n",
       "    </tr>\n",
       "    <tr>\n",
       "      <th>1949-11-01</th>\n",
       "      <td>104</td>\n",
       "      <td>NaN</td>\n",
       "      <td>NaN</td>\n",
       "    </tr>\n",
       "    <tr>\n",
       "      <th>1949-12-01</th>\n",
       "      <td>118</td>\n",
       "      <td>NaN</td>\n",
       "      <td>NaN</td>\n",
       "    </tr>\n",
       "    <tr>\n",
       "      <th>1950-01-01</th>\n",
       "      <td>115</td>\n",
       "      <td>125.769231</td>\n",
       "      <td>0.914373</td>\n",
       "    </tr>\n",
       "    <tr>\n",
       "      <th>1950-02-01</th>\n",
       "      <td>126</td>\n",
       "      <td>126.846154</td>\n",
       "      <td>0.993329</td>\n",
       "    </tr>\n",
       "    <tr>\n",
       "      <th>1950-03-01</th>\n",
       "      <td>141</td>\n",
       "      <td>128.615385</td>\n",
       "      <td>1.096292</td>\n",
       "    </tr>\n",
       "    <tr>\n",
       "      <th>1950-04-01</th>\n",
       "      <td>135</td>\n",
       "      <td>128.846154</td>\n",
       "      <td>1.047761</td>\n",
       "    </tr>\n",
       "    <tr>\n",
       "      <th>1950-05-01</th>\n",
       "      <td>125</td>\n",
       "      <td>128.538462</td>\n",
       "      <td>0.972472</td>\n",
       "    </tr>\n",
       "    <tr>\n",
       "      <th>1950-06-01</th>\n",
       "      <td>149</td>\n",
       "      <td>130.692308</td>\n",
       "      <td>1.140082</td>\n",
       "    </tr>\n",
       "    <tr>\n",
       "      <th>1950-07-01</th>\n",
       "      <td>170</td>\n",
       "      <td>133.384615</td>\n",
       "      <td>1.274510</td>\n",
       "    </tr>\n",
       "    <tr>\n",
       "      <th>1950-08-01</th>\n",
       "      <td>170</td>\n",
       "      <td>135.076923</td>\n",
       "      <td>1.258542</td>\n",
       "    </tr>\n",
       "  </tbody>\n",
       "</table>\n",
       "</div>"
      ],
      "text/plain": [
       "            Passengers  MovingAverage  Detrended\n",
       "Month                                           \n",
       "1949-01-01         112            NaN        NaN\n",
       "1949-02-01         118            NaN        NaN\n",
       "1949-03-01         132            NaN        NaN\n",
       "1949-04-01         129            NaN        NaN\n",
       "1949-05-01         121            NaN        NaN\n",
       "1949-06-01         135            NaN        NaN\n",
       "1949-07-01         148            NaN        NaN\n",
       "1949-08-01         148            NaN        NaN\n",
       "1949-09-01         136            NaN        NaN\n",
       "1949-10-01         119            NaN        NaN\n",
       "1949-11-01         104            NaN        NaN\n",
       "1949-12-01         118            NaN        NaN\n",
       "1950-01-01         115     125.769231   0.914373\n",
       "1950-02-01         126     126.846154   0.993329\n",
       "1950-03-01         141     128.615385   1.096292\n",
       "1950-04-01         135     128.846154   1.047761\n",
       "1950-05-01         125     128.538462   0.972472\n",
       "1950-06-01         149     130.692308   1.140082\n",
       "1950-07-01         170     133.384615   1.274510\n",
       "1950-08-01         170     135.076923   1.258542"
      ]
     },
     "execution_count": 154,
     "metadata": {},
     "output_type": "execute_result"
    }
   ],
   "source": [
    "airline['MovingAverage'] = airline.rolling(13).mean()\n",
    "airline.head(20)"
   ]
  },
  {
   "cell_type": "markdown",
   "id": "305da31f-60ec-4306-88b0-d6f490090ab2",
   "metadata": {},
   "source": [
    "We identify the trending behavior by taking a running average."
   ]
  },
  {
   "cell_type": "code",
   "execution_count": 155,
   "id": "b2bbe0aa-b51a-4e03-ba15-0cdc443fd8d1",
   "metadata": {},
   "outputs": [
    {
     "data": {
      "text/plain": [
       "<matplotlib.legend.Legend at 0x29c940341c0>"
      ]
     },
     "execution_count": 155,
     "metadata": {},
     "output_type": "execute_result"
    },
    {
     "data": {
      "image/png": "[encoded data removed]",
      "text/plain": [
       "<Figure size 864x576 with 1 Axes>"
      ]
     },
     "metadata": {},
     "output_type": "display_data"
    }
   ],
   "source": [
    "fig, ax = plt.subplots(1, 1)\n",
    "ax.plot(airline.index, airline['Passengers'])\n",
    "ax.plot(airline.index, airline['MovingAverage'], label='12M Moving Average', color='darkviolet')\n",
    "\n",
    "ax.set_xlabel('Date')\n",
    "ax.set_ylabel('Passengers')\n",
    "ax.legend()"
   ]
  },
  {
   "cell_type": "markdown",
   "id": "cd810fcd-cb96-4cff-9505-8a5bd88e9539",
   "metadata": {},
   "source": [
    "We move on to the next step of detrending the data by dividing by the trend"
   ]
  },
  {
   "cell_type": "code",
   "execution_count": 156,
   "id": "e7c09b9a-621c-40e1-a428-99294bde9015",
   "metadata": {},
   "outputs": [
    {
     "data": {
      "text/html": [
       "<div>\n",
       "<style scoped>\n",
       "    .dataframe tbody tr th:only-of-type {\n",
       "        vertical-align: middle;\n",
       "    }\n",
       "\n",
       "    .dataframe tbody tr th {\n",
       "        vertical-align: top;\n",
       "    }\n",
       "\n",
       "    .dataframe thead th {\n",
       "        text-align: right;\n",
       "    }\n",
       "</style>\n",
       "<table border=\"1\" class=\"dataframe\">\n",
       "  <thead>\n",
       "    <tr style=\"text-align: right;\">\n",
       "      <th></th>\n",
       "      <th>Passengers</th>\n",
       "      <th>MovingAverage</th>\n",
       "      <th>Detrended</th>\n",
       "    </tr>\n",
       "    <tr>\n",
       "      <th>Month</th>\n",
       "      <th></th>\n",
       "      <th></th>\n",
       "      <th></th>\n",
       "    </tr>\n",
       "  </thead>\n",
       "  <tbody>\n",
       "    <tr>\n",
       "      <th>1949-01-01</th>\n",
       "      <td>112</td>\n",
       "      <td>NaN</td>\n",
       "      <td>NaN</td>\n",
       "    </tr>\n",
       "    <tr>\n",
       "      <th>1949-02-01</th>\n",
       "      <td>118</td>\n",
       "      <td>NaN</td>\n",
       "      <td>NaN</td>\n",
       "    </tr>\n",
       "    <tr>\n",
       "      <th>1949-03-01</th>\n",
       "      <td>132</td>\n",
       "      <td>NaN</td>\n",
       "      <td>NaN</td>\n",
       "    </tr>\n",
       "    <tr>\n",
       "      <th>1949-04-01</th>\n",
       "      <td>129</td>\n",
       "      <td>NaN</td>\n",
       "      <td>NaN</td>\n",
       "    </tr>\n",
       "    <tr>\n",
       "      <th>1949-05-01</th>\n",
       "      <td>121</td>\n",
       "      <td>NaN</td>\n",
       "      <td>NaN</td>\n",
       "    </tr>\n",
       "    <tr>\n",
       "      <th>1949-06-01</th>\n",
       "      <td>135</td>\n",
       "      <td>NaN</td>\n",
       "      <td>NaN</td>\n",
       "    </tr>\n",
       "    <tr>\n",
       "      <th>1949-07-01</th>\n",
       "      <td>148</td>\n",
       "      <td>NaN</td>\n",
       "      <td>NaN</td>\n",
       "    </tr>\n",
       "    <tr>\n",
       "      <th>1949-08-01</th>\n",
       "      <td>148</td>\n",
       "      <td>NaN</td>\n",
       "      <td>NaN</td>\n",
       "    </tr>\n",
       "    <tr>\n",
       "      <th>1949-09-01</th>\n",
       "      <td>136</td>\n",
       "      <td>NaN</td>\n",
       "      <td>NaN</td>\n",
       "    </tr>\n",
       "    <tr>\n",
       "      <th>1949-10-01</th>\n",
       "      <td>119</td>\n",
       "      <td>NaN</td>\n",
       "      <td>NaN</td>\n",
       "    </tr>\n",
       "    <tr>\n",
       "      <th>1949-11-01</th>\n",
       "      <td>104</td>\n",
       "      <td>NaN</td>\n",
       "      <td>NaN</td>\n",
       "    </tr>\n",
       "    <tr>\n",
       "      <th>1949-12-01</th>\n",
       "      <td>118</td>\n",
       "      <td>NaN</td>\n",
       "      <td>NaN</td>\n",
       "    </tr>\n",
       "    <tr>\n",
       "      <th>1950-01-01</th>\n",
       "      <td>115</td>\n",
       "      <td>125.769231</td>\n",
       "      <td>0.914373</td>\n",
       "    </tr>\n",
       "    <tr>\n",
       "      <th>1950-02-01</th>\n",
       "      <td>126</td>\n",
       "      <td>126.846154</td>\n",
       "      <td>0.993329</td>\n",
       "    </tr>\n",
       "    <tr>\n",
       "      <th>1950-03-01</th>\n",
       "      <td>141</td>\n",
       "      <td>128.615385</td>\n",
       "      <td>1.096292</td>\n",
       "    </tr>\n",
       "    <tr>\n",
       "      <th>1950-04-01</th>\n",
       "      <td>135</td>\n",
       "      <td>128.846154</td>\n",
       "      <td>1.047761</td>\n",
       "    </tr>\n",
       "    <tr>\n",
       "      <th>1950-05-01</th>\n",
       "      <td>125</td>\n",
       "      <td>128.538462</td>\n",
       "      <td>0.972472</td>\n",
       "    </tr>\n",
       "    <tr>\n",
       "      <th>1950-06-01</th>\n",
       "      <td>149</td>\n",
       "      <td>130.692308</td>\n",
       "      <td>1.140082</td>\n",
       "    </tr>\n",
       "    <tr>\n",
       "      <th>1950-07-01</th>\n",
       "      <td>170</td>\n",
       "      <td>133.384615</td>\n",
       "      <td>1.274510</td>\n",
       "    </tr>\n",
       "    <tr>\n",
       "      <th>1950-08-01</th>\n",
       "      <td>170</td>\n",
       "      <td>135.076923</td>\n",
       "      <td>1.258542</td>\n",
       "    </tr>\n",
       "    <tr>\n",
       "      <th>1950-09-01</th>\n",
       "      <td>158</td>\n",
       "      <td>135.846154</td>\n",
       "      <td>1.163080</td>\n",
       "    </tr>\n",
       "    <tr>\n",
       "      <th>1950-10-01</th>\n",
       "      <td>133</td>\n",
       "      <td>135.615385</td>\n",
       "      <td>0.980715</td>\n",
       "    </tr>\n",
       "    <tr>\n",
       "      <th>1950-11-01</th>\n",
       "      <td>114</td>\n",
       "      <td>135.230769</td>\n",
       "      <td>0.843003</td>\n",
       "    </tr>\n",
       "    <tr>\n",
       "      <th>1950-12-01</th>\n",
       "      <td>140</td>\n",
       "      <td>138.000000</td>\n",
       "      <td>1.014493</td>\n",
       "    </tr>\n",
       "    <tr>\n",
       "      <th>1951-01-01</th>\n",
       "      <td>145</td>\n",
       "      <td>140.076923</td>\n",
       "      <td>1.035146</td>\n",
       "    </tr>\n",
       "    <tr>\n",
       "      <th>1951-02-01</th>\n",
       "      <td>150</td>\n",
       "      <td>142.769231</td>\n",
       "      <td>1.050647</td>\n",
       "    </tr>\n",
       "    <tr>\n",
       "      <th>1951-03-01</th>\n",
       "      <td>178</td>\n",
       "      <td>146.769231</td>\n",
       "      <td>1.212788</td>\n",
       "    </tr>\n",
       "    <tr>\n",
       "      <th>1951-04-01</th>\n",
       "      <td>163</td>\n",
       "      <td>148.461538</td>\n",
       "      <td>1.097927</td>\n",
       "    </tr>\n",
       "    <tr>\n",
       "      <th>1951-05-01</th>\n",
       "      <td>172</td>\n",
       "      <td>151.307692</td>\n",
       "      <td>1.136756</td>\n",
       "    </tr>\n",
       "    <tr>\n",
       "      <th>1951-06-01</th>\n",
       "      <td>178</td>\n",
       "      <td>155.384615</td>\n",
       "      <td>1.145545</td>\n",
       "    </tr>\n",
       "  </tbody>\n",
       "</table>\n",
       "</div>"
      ],
      "text/plain": [
       "            Passengers  MovingAverage  Detrended\n",
       "Month                                           \n",
       "1949-01-01         112            NaN        NaN\n",
       "1949-02-01         118            NaN        NaN\n",
       "1949-03-01         132            NaN        NaN\n",
       "1949-04-01         129            NaN        NaN\n",
       "1949-05-01         121            NaN        NaN\n",
       "1949-06-01         135            NaN        NaN\n",
       "1949-07-01         148            NaN        NaN\n",
       "1949-08-01         148            NaN        NaN\n",
       "1949-09-01         136            NaN        NaN\n",
       "1949-10-01         119            NaN        NaN\n",
       "1949-11-01         104            NaN        NaN\n",
       "1949-12-01         118            NaN        NaN\n",
       "1950-01-01         115     125.769231   0.914373\n",
       "1950-02-01         126     126.846154   0.993329\n",
       "1950-03-01         141     128.615385   1.096292\n",
       "1950-04-01         135     128.846154   1.047761\n",
       "1950-05-01         125     128.538462   0.972472\n",
       "1950-06-01         149     130.692308   1.140082\n",
       "1950-07-01         170     133.384615   1.274510\n",
       "1950-08-01         170     135.076923   1.258542\n",
       "1950-09-01         158     135.846154   1.163080\n",
       "1950-10-01         133     135.615385   0.980715\n",
       "1950-11-01         114     135.230769   0.843003\n",
       "1950-12-01         140     138.000000   1.014493\n",
       "1951-01-01         145     140.076923   1.035146\n",
       "1951-02-01         150     142.769231   1.050647\n",
       "1951-03-01         178     146.769231   1.212788\n",
       "1951-04-01         163     148.461538   1.097927\n",
       "1951-05-01         172     151.307692   1.136756\n",
       "1951-06-01         178     155.384615   1.145545"
      ]
     },
     "execution_count": 156,
     "metadata": {},
     "output_type": "execute_result"
    }
   ],
   "source": [
    "airline['Detrended'] = airline.Passengers/airline.MovingAverage\n",
    "airline.head(30)"
   ]
  },
  {
   "cell_type": "code",
   "execution_count": 80,
   "id": "1f3b813f-ff03-4fee-8cde-42f6f554111a",
   "metadata": {},
   "outputs": [
    {
     "data": {
      "text/plain": [
       "Text(0, 0.5, 'Detrended Value')"
      ]
     },
     "execution_count": 80,
     "metadata": {},
     "output_type": "execute_result"
    },
    {
     "data": {
      "image/png": "[encoded data removed]",
      "text/plain": [
       "<Figure size 864x576 with 1 Axes>"
      ]
     },
     "metadata": {},
     "output_type": "display_data"
    }
   ],
   "source": [
    "fig, ax = plt.subplots(1, 1)\n",
    "ax.plot(airline.index, airline.Detrended)\n",
    "ax.set_ylabel('Detrended Value')"
   ]
  },
  {
   "cell_type": "markdown",
   "id": "56a34864-9808-4f0f-99af-228a093651e5",
   "metadata": {},
   "source": [
    "### Seasonality\n",
    "\n",
    "There's also a clear seasonal pattern. We identify the period by inspection of the plot. A simple way of making sure that we have the correct pattern is to generate a \"seasonal subplots\" figure."
   ]
  },
  {
   "cell_type": "code",
   "execution_count": null,
   "id": "ea8351ef-4345-435c-8963-8cc76842ac5c",
   "metadata": {},
   "outputs": [],
   "source": [
    "def plot_seasons(detrended, order, plot_mean = True):\n",
    "    "
   ]
  },
  {
   "cell_type": "code",
   "execution_count": 157,
   "id": "5f088e79-6d70-4777-b9b5-19ed92d88915",
   "metadata": {},
   "outputs": [
    {
     "data": {
      "text/plain": [
       "144"
      ]
     },
     "execution_count": 157,
     "metadata": {},
     "output_type": "execute_result"
    }
   ],
   "source": [
    "N = len(airline)\n",
    "N"
   ]
  },
  {
   "cell_type": "code",
   "execution_count": 158,
   "id": "2c0e0814-62da-40c6-8838-0f0983017280",
   "metadata": {},
   "outputs": [
    {
     "data": {
      "text/plain": [
       "Passengers       280.298611\n",
       "MovingAverage    278.030303\n",
       "Detrended          1.060992\n",
       "dtype: float64"
      ]
     },
     "execution_count": 158,
     "metadata": {},
     "output_type": "execute_result"
    }
   ],
   "source": [
    "np.mean(airline)"
   ]
  },
  {
   "cell_type": "code",
   "execution_count": 159,
   "id": "355763e9-727d-4e49-8c4f-7c875ed8e593",
   "metadata": {},
   "outputs": [
    {
     "data": {
      "text/html": [
       "<div>\n",
       "<style scoped>\n",
       "    .dataframe tbody tr th:only-of-type {\n",
       "        vertical-align: middle;\n",
       "    }\n",
       "\n",
       "    .dataframe tbody tr th {\n",
       "        vertical-align: top;\n",
       "    }\n",
       "\n",
       "    .dataframe thead th {\n",
       "        text-align: right;\n",
       "    }\n",
       "</style>\n",
       "<table border=\"1\" class=\"dataframe\">\n",
       "  <thead>\n",
       "    <tr style=\"text-align: right;\">\n",
       "      <th></th>\n",
       "      <th>Passengers</th>\n",
       "      <th>MovingAverage</th>\n",
       "      <th>Detrended</th>\n",
       "    </tr>\n",
       "    <tr>\n",
       "      <th>Month</th>\n",
       "      <th></th>\n",
       "      <th></th>\n",
       "      <th></th>\n",
       "    </tr>\n",
       "  </thead>\n",
       "  <tbody>\n",
       "    <tr>\n",
       "      <th>1949-01-01</th>\n",
       "      <td>112</td>\n",
       "      <td>NaN</td>\n",
       "      <td>NaN</td>\n",
       "    </tr>\n",
       "    <tr>\n",
       "      <th>1949-02-01</th>\n",
       "      <td>118</td>\n",
       "      <td>NaN</td>\n",
       "      <td>NaN</td>\n",
       "    </tr>\n",
       "    <tr>\n",
       "      <th>1949-03-01</th>\n",
       "      <td>132</td>\n",
       "      <td>NaN</td>\n",
       "      <td>NaN</td>\n",
       "    </tr>\n",
       "    <tr>\n",
       "      <th>1949-04-01</th>\n",
       "      <td>129</td>\n",
       "      <td>NaN</td>\n",
       "      <td>NaN</td>\n",
       "    </tr>\n",
       "    <tr>\n",
       "      <th>1949-05-01</th>\n",
       "      <td>121</td>\n",
       "      <td>NaN</td>\n",
       "      <td>NaN</td>\n",
       "    </tr>\n",
       "    <tr>\n",
       "      <th>...</th>\n",
       "      <td>...</td>\n",
       "      <td>...</td>\n",
       "      <td>...</td>\n",
       "    </tr>\n",
       "    <tr>\n",
       "      <th>1960-08-01</th>\n",
       "      <td>606</td>\n",
       "      <td>470.692308</td>\n",
       "      <td>1.287465</td>\n",
       "    </tr>\n",
       "    <tr>\n",
       "      <th>1960-09-01</th>\n",
       "      <td>508</td>\n",
       "      <td>466.769231</td>\n",
       "      <td>1.088332</td>\n",
       "    </tr>\n",
       "    <tr>\n",
       "      <th>1960-10-01</th>\n",
       "      <td>461</td>\n",
       "      <td>466.615385</td>\n",
       "      <td>0.987966</td>\n",
       "    </tr>\n",
       "    <tr>\n",
       "      <th>1960-11-01</th>\n",
       "      <td>390</td>\n",
       "      <td>465.307692</td>\n",
       "      <td>0.838155</td>\n",
       "    </tr>\n",
       "    <tr>\n",
       "      <th>1960-12-01</th>\n",
       "      <td>432</td>\n",
       "      <td>470.692308</td>\n",
       "      <td>0.917797</td>\n",
       "    </tr>\n",
       "  </tbody>\n",
       "</table>\n",
       "<p>144 rows × 3 columns</p>\n",
       "</div>"
      ],
      "text/plain": [
       "            Passengers  MovingAverage  Detrended\n",
       "Month                                           \n",
       "1949-01-01         112            NaN        NaN\n",
       "1949-02-01         118            NaN        NaN\n",
       "1949-03-01         132            NaN        NaN\n",
       "1949-04-01         129            NaN        NaN\n",
       "1949-05-01         121            NaN        NaN\n",
       "...                ...            ...        ...\n",
       "1960-08-01         606     470.692308   1.287465\n",
       "1960-09-01         508     466.769231   1.088332\n",
       "1960-10-01         461     466.615385   0.987966\n",
       "1960-11-01         390     465.307692   0.838155\n",
       "1960-12-01         432     470.692308   0.917797\n",
       "\n",
       "[144 rows x 3 columns]"
      ]
     },
     "execution_count": 159,
     "metadata": {},
     "output_type": "execute_result"
    }
   ],
   "source": [
    "airline"
   ]
  },
  {
   "cell_type": "code",
   "execution_count": 160,
   "id": "773c4dcd-9cbf-4457-8f3e-763aae359c76",
   "metadata": {},
   "outputs": [
    {
     "data": {
      "text/html": [
       "<div>\n",
       "<style scoped>\n",
       "    .dataframe tbody tr th:only-of-type {\n",
       "        vertical-align: middle;\n",
       "    }\n",
       "\n",
       "    .dataframe tbody tr th {\n",
       "        vertical-align: top;\n",
       "    }\n",
       "\n",
       "    .dataframe thead th {\n",
       "        text-align: right;\n",
       "    }\n",
       "</style>\n",
       "<table border=\"1\" class=\"dataframe\">\n",
       "  <thead>\n",
       "    <tr style=\"text-align: right;\">\n",
       "      <th></th>\n",
       "      <th>Passengers</th>\n",
       "      <th>MovingAverage</th>\n",
       "      <th>Detrended</th>\n",
       "      <th>MonthValue</th>\n",
       "    </tr>\n",
       "    <tr>\n",
       "      <th>Month</th>\n",
       "      <th></th>\n",
       "      <th></th>\n",
       "      <th></th>\n",
       "      <th></th>\n",
       "    </tr>\n",
       "  </thead>\n",
       "  <tbody>\n",
       "    <tr>\n",
       "      <th>1949-01-01</th>\n",
       "      <td>112</td>\n",
       "      <td>NaN</td>\n",
       "      <td>NaN</td>\n",
       "      <td>1</td>\n",
       "    </tr>\n",
       "    <tr>\n",
       "      <th>1949-02-01</th>\n",
       "      <td>118</td>\n",
       "      <td>NaN</td>\n",
       "      <td>NaN</td>\n",
       "      <td>2</td>\n",
       "    </tr>\n",
       "    <tr>\n",
       "      <th>1949-03-01</th>\n",
       "      <td>132</td>\n",
       "      <td>NaN</td>\n",
       "      <td>NaN</td>\n",
       "      <td>3</td>\n",
       "    </tr>\n",
       "    <tr>\n",
       "      <th>1949-04-01</th>\n",
       "      <td>129</td>\n",
       "      <td>NaN</td>\n",
       "      <td>NaN</td>\n",
       "      <td>4</td>\n",
       "    </tr>\n",
       "    <tr>\n",
       "      <th>1949-05-01</th>\n",
       "      <td>121</td>\n",
       "      <td>NaN</td>\n",
       "      <td>NaN</td>\n",
       "      <td>5</td>\n",
       "    </tr>\n",
       "    <tr>\n",
       "      <th>...</th>\n",
       "      <td>...</td>\n",
       "      <td>...</td>\n",
       "      <td>...</td>\n",
       "      <td>...</td>\n",
       "    </tr>\n",
       "    <tr>\n",
       "      <th>1960-08-01</th>\n",
       "      <td>606</td>\n",
       "      <td>470.692308</td>\n",
       "      <td>1.287465</td>\n",
       "      <td>8</td>\n",
       "    </tr>\n",
       "    <tr>\n",
       "      <th>1960-09-01</th>\n",
       "      <td>508</td>\n",
       "      <td>466.769231</td>\n",
       "      <td>1.088332</td>\n",
       "      <td>9</td>\n",
       "    </tr>\n",
       "    <tr>\n",
       "      <th>1960-10-01</th>\n",
       "      <td>461</td>\n",
       "      <td>466.615385</td>\n",
       "      <td>0.987966</td>\n",
       "      <td>10</td>\n",
       "    </tr>\n",
       "    <tr>\n",
       "      <th>1960-11-01</th>\n",
       "      <td>390</td>\n",
       "      <td>465.307692</td>\n",
       "      <td>0.838155</td>\n",
       "      <td>11</td>\n",
       "    </tr>\n",
       "    <tr>\n",
       "      <th>1960-12-01</th>\n",
       "      <td>432</td>\n",
       "      <td>470.692308</td>\n",
       "      <td>0.917797</td>\n",
       "      <td>12</td>\n",
       "    </tr>\n",
       "  </tbody>\n",
       "</table>\n",
       "<p>144 rows × 4 columns</p>\n",
       "</div>"
      ],
      "text/plain": [
       "            Passengers  MovingAverage  Detrended  MonthValue\n",
       "Month                                                       \n",
       "1949-01-01         112            NaN        NaN           1\n",
       "1949-02-01         118            NaN        NaN           2\n",
       "1949-03-01         132            NaN        NaN           3\n",
       "1949-04-01         129            NaN        NaN           4\n",
       "1949-05-01         121            NaN        NaN           5\n",
       "...                ...            ...        ...         ...\n",
       "1960-08-01         606     470.692308   1.287465           8\n",
       "1960-09-01         508     466.769231   1.088332           9\n",
       "1960-10-01         461     466.615385   0.987966          10\n",
       "1960-11-01         390     465.307692   0.838155          11\n",
       "1960-12-01         432     470.692308   0.917797          12\n",
       "\n",
       "[144 rows x 4 columns]"
      ]
     },
     "execution_count": 160,
     "metadata": {},
     "output_type": "execute_result"
    }
   ],
   "source": [
    "airline['MonthValue'] = airline.index.month\n",
    "airline"
   ]
  },
  {
   "cell_type": "code",
   "execution_count": 199,
   "id": "871bab47-fc8f-4d10-a1f8-820fe6bc523b",
   "metadata": {},
   "outputs": [
    {
     "data": {
      "text/html": [
       "<div>\n",
       "<style scoped>\n",
       "    .dataframe tbody tr th:only-of-type {\n",
       "        vertical-align: middle;\n",
       "    }\n",
       "\n",
       "    .dataframe tbody tr th {\n",
       "        vertical-align: top;\n",
       "    }\n",
       "\n",
       "    .dataframe thead th {\n",
       "        text-align: right;\n",
       "    }\n",
       "</style>\n",
       "<table border=\"1\" class=\"dataframe\">\n",
       "  <thead>\n",
       "    <tr style=\"text-align: right;\">\n",
       "      <th></th>\n",
       "      <th>mean</th>\n",
       "      <th>median</th>\n",
       "    </tr>\n",
       "    <tr>\n",
       "      <th>MonthValue</th>\n",
       "      <th></th>\n",
       "      <th></th>\n",
       "    </tr>\n",
       "  </thead>\n",
       "  <tbody>\n",
       "    <tr>\n",
       "      <th>1</th>\n",
       "      <td>0.971810</td>\n",
       "      <td>0.975526</td>\n",
       "    </tr>\n",
       "    <tr>\n",
       "      <th>2</th>\n",
       "      <td>0.949148</td>\n",
       "      <td>0.965264</td>\n",
       "    </tr>\n",
       "    <tr>\n",
       "      <th>3</th>\n",
       "      <td>1.074440</td>\n",
       "      <td>1.078956</td>\n",
       "    </tr>\n",
       "    <tr>\n",
       "      <th>4</th>\n",
       "      <td>1.044270</td>\n",
       "      <td>1.047727</td>\n",
       "    </tr>\n",
       "    <tr>\n",
       "      <th>5</th>\n",
       "      <td>1.048615</td>\n",
       "      <td>1.058372</td>\n",
       "    </tr>\n",
       "    <tr>\n",
       "      <th>6</th>\n",
       "      <td>1.174089</td>\n",
       "      <td>1.171663</td>\n",
       "    </tr>\n",
       "    <tr>\n",
       "      <th>7</th>\n",
       "      <td>1.290811</td>\n",
       "      <td>1.300431</td>\n",
       "    </tr>\n",
       "    <tr>\n",
       "      <th>8</th>\n",
       "      <td>1.276053</td>\n",
       "      <td>1.281466</td>\n",
       "    </tr>\n",
       "    <tr>\n",
       "      <th>9</th>\n",
       "      <td>1.111514</td>\n",
       "      <td>1.110176</td>\n",
       "    </tr>\n",
       "    <tr>\n",
       "      <th>10</th>\n",
       "      <td>0.978793</td>\n",
       "      <td>0.983482</td>\n",
       "    </tr>\n",
       "    <tr>\n",
       "      <th>11</th>\n",
       "      <td>0.857244</td>\n",
       "      <td>0.850493</td>\n",
       "    </tr>\n",
       "    <tr>\n",
       "      <th>12</th>\n",
       "      <td>0.955122</td>\n",
       "      <td>0.961293</td>\n",
       "    </tr>\n",
       "  </tbody>\n",
       "</table>\n",
       "</div>"
      ],
      "text/plain": [
       "                mean    median\n",
       "MonthValue                    \n",
       "1           0.971810  0.975526\n",
       "2           0.949148  0.965264\n",
       "3           1.074440  1.078956\n",
       "4           1.044270  1.047727\n",
       "5           1.048615  1.058372\n",
       "6           1.174089  1.171663\n",
       "7           1.290811  1.300431\n",
       "8           1.276053  1.281466\n",
       "9           1.111514  1.110176\n",
       "10          0.978793  0.983482\n",
       "11          0.857244  0.850493\n",
       "12          0.955122  0.961293"
      ]
     },
     "execution_count": 199,
     "metadata": {},
     "output_type": "execute_result"
    }
   ],
   "source": [
    "df = (airline\n",
    " .loc[:,['MonthValue','Detrended']]\n",
    " .groupby('MonthValue')\n",
    " .agg(['mean', 'median'])\n",
    " .droplevel(axis=1, level=0)\n",
    ")\n",
    "df"
   ]
  },
  {
   "cell_type": "code",
   "execution_count": 200,
   "id": "e2d6f713-344e-470e-9ac2-bb5a1852b7b2",
   "metadata": {},
   "outputs": [
    {
     "data": {
      "text/plain": [
       "Index(['mean', 'median'], dtype='object')"
      ]
     },
     "execution_count": 200,
     "metadata": {},
     "output_type": "execute_result"
    }
   ],
   "source": [
    "df.columns"
   ]
  },
  {
   "cell_type": "code",
   "execution_count": 169,
   "id": "1e89ad62-191c-4fae-883d-be92dacdc1c3",
   "metadata": {},
   "outputs": [
    {
     "data": {
      "text/plain": [
       "MonthValue\n",
       "1     0.971810\n",
       "2     0.949148\n",
       "3     1.074440\n",
       "4     1.044270\n",
       "5     1.048615\n",
       "6     1.174089\n",
       "7     1.290811\n",
       "8     1.276053\n",
       "9     1.111514\n",
       "10    0.978793\n",
       "11    0.857244\n",
       "12    0.955122\n",
       "Name: mean, dtype: float64"
      ]
     },
     "execution_count": 169,
     "metadata": {},
     "output_type": "execute_result"
    }
   ],
   "source": []
  },
  {
   "cell_type": "code",
   "execution_count": 205,
   "id": "6c7cc5a0-b152-4153-9b8f-ffb1520be29f",
   "metadata": {},
   "outputs": [
    {
     "data": {
      "text/plain": [
       "MonthValue\n",
       "1     0.971810\n",
       "2     0.949148\n",
       "3     1.074440\n",
       "4     1.044270\n",
       "5     1.048615\n",
       "6     1.174089\n",
       "7     1.290811\n",
       "8     1.276053\n",
       "9     1.111514\n",
       "10    0.978793\n",
       "11    0.857244\n",
       "12    0.955122\n",
       "Name: mean, dtype: float64"
      ]
     },
     "execution_count": 205,
     "metadata": {},
     "output_type": "execute_result"
    }
   ],
   "source": [
    "df['mean']"
   ]
  },
  {
   "cell_type": "code",
   "execution_count": 202,
   "id": "61d776c9-e3a4-4e35-a6b7-22d6071cde72",
   "metadata": {},
   "outputs": [
    {
     "ename": "ValueError",
     "evalue": "x and y must have same first dimension, but have shapes (12,) and (1,)",
     "output_type": "error",
     "traceback": [
      "\u001b[1;31m---------------------------------------------------------------------------\u001b[0m",
      "\u001b[1;31mValueError\u001b[0m                                Traceback (most recent call last)",
      "\u001b[1;32m<ipython-input-202-533cb4086dcb>\u001b[0m in \u001b[0;36m<module>\u001b[1;34m\u001b[0m\n\u001b[0;32m      1\u001b[0m \u001b[0mfig\u001b[0m\u001b[1;33m,\u001b[0m \u001b[0max\u001b[0m \u001b[1;33m=\u001b[0m \u001b[0mplt\u001b[0m\u001b[1;33m.\u001b[0m\u001b[0msubplots\u001b[0m\u001b[1;33m(\u001b[0m\u001b[1;36m1\u001b[0m\u001b[1;33m,\u001b[0m \u001b[1;36m1\u001b[0m\u001b[1;33m)\u001b[0m\u001b[1;33m\u001b[0m\u001b[1;33m\u001b[0m\u001b[0m\n\u001b[1;32m----> 2\u001b[1;33m \u001b[0max\u001b[0m\u001b[1;33m.\u001b[0m\u001b[0mplot\u001b[0m\u001b[1;33m(\u001b[0m\u001b[0mdf\u001b[0m\u001b[1;33m.\u001b[0m\u001b[0mindex\u001b[0m\u001b[1;33m,\u001b[0m \u001b[0mdf\u001b[0m\u001b[1;33m.\u001b[0m\u001b[0mmean\u001b[0m\u001b[1;33m)\u001b[0m\u001b[1;33m\u001b[0m\u001b[1;33m\u001b[0m\u001b[0m\n\u001b[0m\u001b[0;32m      3\u001b[0m \u001b[0max\u001b[0m\u001b[1;33m.\u001b[0m\u001b[0mset_ylabel\u001b[0m\u001b[1;33m(\u001b[0m\u001b[1;34m'Detrended Value'\u001b[0m\u001b[1;33m)\u001b[0m\u001b[1;33m\u001b[0m\u001b[1;33m\u001b[0m\u001b[0m\n",
      "\u001b[1;32m~\\Anaconda3\\lib\\site-packages\\matplotlib\\axes\\_axes.py\u001b[0m in \u001b[0;36mplot\u001b[1;34m(self, scalex, scaley, data, *args, **kwargs)\u001b[0m\n\u001b[0;32m   1741\u001b[0m         \"\"\"\n\u001b[0;32m   1742\u001b[0m         \u001b[0mkwargs\u001b[0m \u001b[1;33m=\u001b[0m \u001b[0mcbook\u001b[0m\u001b[1;33m.\u001b[0m\u001b[0mnormalize_kwargs\u001b[0m\u001b[1;33m(\u001b[0m\u001b[0mkwargs\u001b[0m\u001b[1;33m,\u001b[0m \u001b[0mmlines\u001b[0m\u001b[1;33m.\u001b[0m\u001b[0mLine2D\u001b[0m\u001b[1;33m)\u001b[0m\u001b[1;33m\u001b[0m\u001b[1;33m\u001b[0m\u001b[0m\n\u001b[1;32m-> 1743\u001b[1;33m         \u001b[0mlines\u001b[0m \u001b[1;33m=\u001b[0m \u001b[1;33m[\u001b[0m\u001b[1;33m*\u001b[0m\u001b[0mself\u001b[0m\u001b[1;33m.\u001b[0m\u001b[0m_get_lines\u001b[0m\u001b[1;33m(\u001b[0m\u001b[1;33m*\u001b[0m\u001b[0margs\u001b[0m\u001b[1;33m,\u001b[0m \u001b[0mdata\u001b[0m\u001b[1;33m=\u001b[0m\u001b[0mdata\u001b[0m\u001b[1;33m,\u001b[0m \u001b[1;33m**\u001b[0m\u001b[0mkwargs\u001b[0m\u001b[1;33m)\u001b[0m\u001b[1;33m]\u001b[0m\u001b[1;33m\u001b[0m\u001b[1;33m\u001b[0m\u001b[0m\n\u001b[0m\u001b[0;32m   1744\u001b[0m         \u001b[1;32mfor\u001b[0m \u001b[0mline\u001b[0m \u001b[1;32min\u001b[0m \u001b[0mlines\u001b[0m\u001b[1;33m:\u001b[0m\u001b[1;33m\u001b[0m\u001b[1;33m\u001b[0m\u001b[0m\n\u001b[0;32m   1745\u001b[0m             \u001b[0mself\u001b[0m\u001b[1;33m.\u001b[0m\u001b[0madd_line\u001b[0m\u001b[1;33m(\u001b[0m\u001b[0mline\u001b[0m\u001b[1;33m)\u001b[0m\u001b[1;33m\u001b[0m\u001b[1;33m\u001b[0m\u001b[0m\n",
      "\u001b[1;32m~\\Anaconda3\\lib\\site-packages\\matplotlib\\axes\\_base.py\u001b[0m in \u001b[0;36m__call__\u001b[1;34m(self, data, *args, **kwargs)\u001b[0m\n\u001b[0;32m    271\u001b[0m                 \u001b[0mthis\u001b[0m \u001b[1;33m+=\u001b[0m \u001b[0margs\u001b[0m\u001b[1;33m[\u001b[0m\u001b[1;36m0\u001b[0m\u001b[1;33m]\u001b[0m\u001b[1;33m,\u001b[0m\u001b[1;33m\u001b[0m\u001b[1;33m\u001b[0m\u001b[0m\n\u001b[0;32m    272\u001b[0m                 \u001b[0margs\u001b[0m \u001b[1;33m=\u001b[0m \u001b[0margs\u001b[0m\u001b[1;33m[\u001b[0m\u001b[1;36m1\u001b[0m\u001b[1;33m:\u001b[0m\u001b[1;33m]\u001b[0m\u001b[1;33m\u001b[0m\u001b[1;33m\u001b[0m\u001b[0m\n\u001b[1;32m--> 273\u001b[1;33m             \u001b[1;32myield\u001b[0m \u001b[1;32mfrom\u001b[0m \u001b[0mself\u001b[0m\u001b[1;33m.\u001b[0m\u001b[0m_plot_args\u001b[0m\u001b[1;33m(\u001b[0m\u001b[0mthis\u001b[0m\u001b[1;33m,\u001b[0m \u001b[0mkwargs\u001b[0m\u001b[1;33m)\u001b[0m\u001b[1;33m\u001b[0m\u001b[1;33m\u001b[0m\u001b[0m\n\u001b[0m\u001b[0;32m    274\u001b[0m \u001b[1;33m\u001b[0m\u001b[0m\n\u001b[0;32m    275\u001b[0m     \u001b[1;32mdef\u001b[0m \u001b[0mget_next_color\u001b[0m\u001b[1;33m(\u001b[0m\u001b[0mself\u001b[0m\u001b[1;33m)\u001b[0m\u001b[1;33m:\u001b[0m\u001b[1;33m\u001b[0m\u001b[1;33m\u001b[0m\u001b[0m\n",
      "\u001b[1;32m~\\Anaconda3\\lib\\site-packages\\matplotlib\\axes\\_base.py\u001b[0m in \u001b[0;36m_plot_args\u001b[1;34m(self, tup, kwargs)\u001b[0m\n\u001b[0;32m    397\u001b[0m \u001b[1;33m\u001b[0m\u001b[0m\n\u001b[0;32m    398\u001b[0m         \u001b[1;32mif\u001b[0m \u001b[0mx\u001b[0m\u001b[1;33m.\u001b[0m\u001b[0mshape\u001b[0m\u001b[1;33m[\u001b[0m\u001b[1;36m0\u001b[0m\u001b[1;33m]\u001b[0m \u001b[1;33m!=\u001b[0m \u001b[0my\u001b[0m\u001b[1;33m.\u001b[0m\u001b[0mshape\u001b[0m\u001b[1;33m[\u001b[0m\u001b[1;36m0\u001b[0m\u001b[1;33m]\u001b[0m\u001b[1;33m:\u001b[0m\u001b[1;33m\u001b[0m\u001b[1;33m\u001b[0m\u001b[0m\n\u001b[1;32m--> 399\u001b[1;33m             raise ValueError(f\"x and y must have same first dimension, but \"\n\u001b[0m\u001b[0;32m    400\u001b[0m                              f\"have shapes {x.shape} and {y.shape}\")\n\u001b[0;32m    401\u001b[0m         \u001b[1;32mif\u001b[0m \u001b[0mx\u001b[0m\u001b[1;33m.\u001b[0m\u001b[0mndim\u001b[0m \u001b[1;33m>\u001b[0m \u001b[1;36m2\u001b[0m \u001b[1;32mor\u001b[0m \u001b[0my\u001b[0m\u001b[1;33m.\u001b[0m\u001b[0mndim\u001b[0m \u001b[1;33m>\u001b[0m \u001b[1;36m2\u001b[0m\u001b[1;33m:\u001b[0m\u001b[1;33m\u001b[0m\u001b[1;33m\u001b[0m\u001b[0m\n",
      "\u001b[1;31mValueError\u001b[0m: x and y must have same first dimension, but have shapes (12,) and (1,)"
     ]
    },
    {
     "data": {
      "image/png": "[encoded data removed]",
      "text/plain": [
       "<Figure size 864x576 with 1 Axes>"
      ]
     },
     "metadata": {},
     "output_type": "display_data"
    }
   ],
   "source": [
    "fig, ax = plt.subplots(1, 1)\n",
    "ax.plot(df.index, df.mean)\n",
    "ax.set_ylabel('Detrended Value')"
   ]
  },
  {
   "cell_type": "code",
   "execution_count": 195,
   "id": "4b6c2b54-885b-4e0a-8db1-312d03320b14",
   "metadata": {},
   "outputs": [
    {
     "name": "stdout",
     "output_type": "stream",
     "text": [
      "(1, Detrended  mean      0.971810\n",
      "           median    0.975526\n",
      "Name: 1, dtype: float64)\n",
      "(2, Detrended  mean      0.949148\n",
      "           median    0.965264\n",
      "Name: 2, dtype: float64)\n",
      "(3, Detrended  mean      1.074440\n",
      "           median    1.078956\n",
      "Name: 3, dtype: float64)\n",
      "(4, Detrended  mean      1.044270\n",
      "           median    1.047727\n",
      "Name: 4, dtype: float64)\n",
      "(5, Detrended  mean      1.048615\n",
      "           median    1.058372\n",
      "Name: 5, dtype: float64)\n",
      "(6, Detrended  mean      1.174089\n",
      "           median    1.171663\n",
      "Name: 6, dtype: float64)\n",
      "(7, Detrended  mean      1.290811\n",
      "           median    1.300431\n",
      "Name: 7, dtype: float64)\n",
      "(8, Detrended  mean      1.276053\n",
      "           median    1.281466\n",
      "Name: 8, dtype: float64)\n",
      "(9, Detrended  mean      1.111514\n",
      "           median    1.110176\n",
      "Name: 9, dtype: float64)\n",
      "(10, Detrended  mean      0.978793\n",
      "           median    0.983482\n",
      "Name: 10, dtype: float64)\n",
      "(11, Detrended  mean      0.857244\n",
      "           median    0.850493\n",
      "Name: 11, dtype: float64)\n",
      "(12, Detrended  mean      0.955122\n",
      "           median    0.961293\n",
      "Name: 12, dtype: float64)\n"
     ]
    },
    {
     "data": {
      "image/png": "[encoded data removed]",
      "text/plain": [
       "<Figure size 864x576 with 1 Axes>"
      ]
     },
     "metadata": {},
     "output_type": "display_data"
    }
   ],
   "source": [
    "fig, ax = plt.subplots(1, 1)\n",
    "\n",
    "for i in df.loc[:,]iterrows():\n",
    "    print(i)\n",
    "    "
   ]
  },
  {
   "cell_type": "code",
   "execution_count": 192,
   "id": "8c9a2bbf-cb60-45cb-a3b7-6927d053619e",
   "metadata": {},
   "outputs": [
    {
     "data": {
      "text/plain": [
       "<BarContainer object of 1 artists>"
      ]
     },
     "execution_count": 192,
     "metadata": {},
     "output_type": "execute_result"
    },
    {
     "data": {
      "image/png": "[encoded data removed]",
      "text/plain": [
       "<Figure size 864x576 with 1 Axes>"
      ]
     },
     "metadata": {},
     "output_type": "display_data"
    }
   ],
   "source": [
    "fig, ax = plt.subplots(1, 1)\n",
    "ax.bar(1,2)\n",
    "ax.bar(2,4)"
   ]
  },
  {
   "cell_type": "code",
   "execution_count": null,
   "id": "a3767eeb-6764-494d-8735-645cf71502ce",
   "metadata": {},
   "outputs": [],
   "source": []
  }
 ],
 "metadata": {
  "kernelspec": {
   "display_name": "Python 3",
   "language": "python",
   "name": "python3"
  },
  "language_info": {
   "codemirror_mode": {
    "name": "ipython",
    "version": 3
   },
   "file_extension": ".py",
   "mimetype": "text/x-python",
   "name": "python",
   "nbconvert_exporter": "python",
   "pygments_lexer": "ipython3",
   "version": "3.8.8"
  }
 },
 "nbformat": 4,
 "nbformat_minor": 5
}
