{
 "cells": [
  {
   "cell_type": "code",
   "execution_count": 2,
   "id": "b34e27ea",
   "metadata": {},
   "outputs": [],
   "source": [
    "import pandas as pd\n",
    "from matplotlib import pyplot as plt"
   ]
  },
  {
   "cell_type": "code",
   "execution_count": 3,
   "id": "efba3b19",
   "metadata": {},
   "outputs": [
    {
     "data": {
      "text/html": [
       "<div>\n",
       "<style scoped>\n",
       "    .dataframe tbody tr th:only-of-type {\n",
       "        vertical-align: middle;\n",
       "    }\n",
       "\n",
       "    .dataframe tbody tr th {\n",
       "        vertical-align: top;\n",
       "    }\n",
       "\n",
       "    .dataframe thead th {\n",
       "        text-align: right;\n",
       "    }\n",
       "</style>\n",
       "<table border=\"1\" class=\"dataframe\">\n",
       "  <thead>\n",
       "    <tr style=\"text-align: right;\">\n",
       "      <th></th>\n",
       "      <th>Make</th>\n",
       "      <th>Model</th>\n",
       "      <th>Type</th>\n",
       "      <th>Origin</th>\n",
       "      <th>DriveTrain</th>\n",
       "      <th>MSRP</th>\n",
       "      <th>Invoice</th>\n",
       "      <th>EngineSize</th>\n",
       "      <th>Cylinders</th>\n",
       "      <th>Horsepower</th>\n",
       "      <th>MPG_City</th>\n",
       "      <th>MPG_Highway</th>\n",
       "      <th>Weight</th>\n",
       "      <th>Wheelbase</th>\n",
       "      <th>Length</th>\n",
       "    </tr>\n",
       "  </thead>\n",
       "  <tbody>\n",
       "    <tr>\n",
       "      <th>0</th>\n",
       "      <td>Acura</td>\n",
       "      <td>MDX</td>\n",
       "      <td>SUV</td>\n",
       "      <td>Asia</td>\n",
       "      <td>All</td>\n",
       "      <td>$36,945</td>\n",
       "      <td>$33,337</td>\n",
       "      <td>3.5</td>\n",
       "      <td>6.0</td>\n",
       "      <td>265</td>\n",
       "      <td>17</td>\n",
       "      <td>23</td>\n",
       "      <td>4451</td>\n",
       "      <td>106</td>\n",
       "      <td>189</td>\n",
       "    </tr>\n",
       "    <tr>\n",
       "      <th>1</th>\n",
       "      <td>Acura</td>\n",
       "      <td>RSX Type S 2dr</td>\n",
       "      <td>Sedan</td>\n",
       "      <td>Asia</td>\n",
       "      <td>Front</td>\n",
       "      <td>$23,820</td>\n",
       "      <td>$21,761</td>\n",
       "      <td>2.0</td>\n",
       "      <td>4.0</td>\n",
       "      <td>200</td>\n",
       "      <td>24</td>\n",
       "      <td>31</td>\n",
       "      <td>2778</td>\n",
       "      <td>101</td>\n",
       "      <td>172</td>\n",
       "    </tr>\n",
       "    <tr>\n",
       "      <th>2</th>\n",
       "      <td>Acura</td>\n",
       "      <td>TSX 4dr</td>\n",
       "      <td>Sedan</td>\n",
       "      <td>Asia</td>\n",
       "      <td>Front</td>\n",
       "      <td>$26,990</td>\n",
       "      <td>$24,647</td>\n",
       "      <td>2.4</td>\n",
       "      <td>4.0</td>\n",
       "      <td>200</td>\n",
       "      <td>22</td>\n",
       "      <td>29</td>\n",
       "      <td>3230</td>\n",
       "      <td>105</td>\n",
       "      <td>183</td>\n",
       "    </tr>\n",
       "    <tr>\n",
       "      <th>3</th>\n",
       "      <td>Acura</td>\n",
       "      <td>TL 4dr</td>\n",
       "      <td>Sedan</td>\n",
       "      <td>Asia</td>\n",
       "      <td>Front</td>\n",
       "      <td>$33,195</td>\n",
       "      <td>$30,299</td>\n",
       "      <td>3.2</td>\n",
       "      <td>6.0</td>\n",
       "      <td>270</td>\n",
       "      <td>20</td>\n",
       "      <td>28</td>\n",
       "      <td>3575</td>\n",
       "      <td>108</td>\n",
       "      <td>186</td>\n",
       "    </tr>\n",
       "    <tr>\n",
       "      <th>4</th>\n",
       "      <td>Acura</td>\n",
       "      <td>3.5 RL 4dr</td>\n",
       "      <td>Sedan</td>\n",
       "      <td>Asia</td>\n",
       "      <td>Front</td>\n",
       "      <td>$43,755</td>\n",
       "      <td>$39,014</td>\n",
       "      <td>3.5</td>\n",
       "      <td>6.0</td>\n",
       "      <td>225</td>\n",
       "      <td>18</td>\n",
       "      <td>24</td>\n",
       "      <td>3880</td>\n",
       "      <td>115</td>\n",
       "      <td>197</td>\n",
       "    </tr>\n",
       "  </tbody>\n",
       "</table>\n",
       "</div>"
      ],
      "text/plain": [
       "    Make           Model   Type Origin DriveTrain     MSRP  Invoice  \\\n",
       "0  Acura             MDX    SUV   Asia        All  $36,945  $33,337   \n",
       "1  Acura  RSX Type S 2dr  Sedan   Asia      Front  $23,820  $21,761   \n",
       "2  Acura         TSX 4dr  Sedan   Asia      Front  $26,990  $24,647   \n",
       "3  Acura          TL 4dr  Sedan   Asia      Front  $33,195  $30,299   \n",
       "4  Acura      3.5 RL 4dr  Sedan   Asia      Front  $43,755  $39,014   \n",
       "\n",
       "   EngineSize  Cylinders  Horsepower  MPG_City  MPG_Highway  Weight  \\\n",
       "0         3.5        6.0         265        17           23    4451   \n",
       "1         2.0        4.0         200        24           31    2778   \n",
       "2         2.4        4.0         200        22           29    3230   \n",
       "3         3.2        6.0         270        20           28    3575   \n",
       "4         3.5        6.0         225        18           24    3880   \n",
       "\n",
       "   Wheelbase  Length  \n",
       "0        106     189  \n",
       "1        101     172  \n",
       "2        105     183  \n",
       "3        108     186  \n",
       "4        115     197  "
      ]
     },
     "execution_count": 3,
     "metadata": {},
     "output_type": "execute_result"
    }
   ],
   "source": [
    "df = pd.read_csv('files/cars.csv')\n",
    "df.head()"
   ]
  },
  {
   "cell_type": "code",
   "execution_count": 4,
   "id": "95920e3c",
   "metadata": {},
   "outputs": [
    {
     "data": {
      "text/html": [
       "<div>\n",
       "<style scoped>\n",
       "    .dataframe tbody tr th:only-of-type {\n",
       "        vertical-align: middle;\n",
       "    }\n",
       "\n",
       "    .dataframe tbody tr th {\n",
       "        vertical-align: top;\n",
       "    }\n",
       "\n",
       "    .dataframe thead th {\n",
       "        text-align: right;\n",
       "    }\n",
       "</style>\n",
       "<table border=\"1\" class=\"dataframe\">\n",
       "  <thead>\n",
       "    <tr style=\"text-align: right;\">\n",
       "      <th></th>\n",
       "      <th>EngineSize</th>\n",
       "    </tr>\n",
       "    <tr>\n",
       "      <th>Origin</th>\n",
       "      <th></th>\n",
       "    </tr>\n",
       "  </thead>\n",
       "  <tbody>\n",
       "    <tr>\n",
       "      <th>Asia</th>\n",
       "      <td>2.774051</td>\n",
       "    </tr>\n",
       "    <tr>\n",
       "      <th>Europe</th>\n",
       "      <td>3.206504</td>\n",
       "    </tr>\n",
       "    <tr>\n",
       "      <th>USA</th>\n",
       "      <td>3.642857</td>\n",
       "    </tr>\n",
       "  </tbody>\n",
       "</table>\n",
       "</div>"
      ],
      "text/plain": [
       "        EngineSize\n",
       "Origin            \n",
       "Asia      2.774051\n",
       "Europe    3.206504\n",
       "USA       3.642857"
      ]
     },
     "execution_count": 4,
     "metadata": {},
     "output_type": "execute_result"
    }
   ],
   "source": [
    "df_sum = (df\n",
    "          .loc[:,['Origin','EngineSize']]\n",
    "          .groupby('Origin')\n",
    "          .mean())\n",
    "df_sum.head()"
   ]
  },
  {
   "cell_type": "markdown",
   "id": "29e85b9e",
   "metadata": {},
   "source": [
    "## Simple Plot"
   ]
  },
  {
   "cell_type": "code",
   "execution_count": 5,
   "id": "8936ab04",
   "metadata": {},
   "outputs": [
    {
     "data": {
      "text/plain": [
       "[<matplotlib.lines.Line2D at 0x2580f7d4730>]"
      ]
     },
     "execution_count": 5,
     "metadata": {},
     "output_type": "execute_result"
    },
    {
     "data": {
      "image/png": "[encoded data removed]",
      "text/plain": [
       "<Figure size 576x432 with 1 Axes>"
      ]
     },
     "metadata": {
      "needs_background": "light"
     },
     "output_type": "display_data"
    }
   ],
   "source": [
    "fix, ax = plt.subplots(nrows=1, ncols=1, figsize=(8,6))\n",
    "ax.plot(df_sum)"
   ]
  },
  {
   "cell_type": "markdown",
   "id": "43c65a62",
   "metadata": {},
   "source": [
    "## Remove Splines"
   ]
  },
  {
   "cell_type": "code",
   "execution_count": 6,
   "id": "6f9e3b86",
   "metadata": {},
   "outputs": [
    {
     "data": {
      "image/png": "[encoded data removed]",
      "text/plain": [
       "<Figure size 576x432 with 1 Axes>"
      ]
     },
     "metadata": {
      "needs_background": "light"
     },
     "output_type": "display_data"
    }
   ],
   "source": [
    "fix, ax = plt.subplots(nrows=1, ncols=1, figsize=(8,6))\n",
    "ax.plot(df_sum)\n",
    "ax.spines['top'].set_visible(True)\n",
    "ax.spines['bottom'].set_visible(True)\n",
    "ax.spines['right'].set_visible(False)\n",
    "ax.spines['left'].set_visible(False)"
   ]
  },
  {
   "cell_type": "markdown",
   "id": "cd658d93",
   "metadata": {},
   "source": [
    "## Modify X and Y Axis"
   ]
  },
  {
   "cell_type": "code",
   "execution_count": 7,
   "id": "e2b2a0a8",
   "metadata": {},
   "outputs": [
    {
     "data": {
      "text/plain": [
       "[<matplotlib.lines.Line2D at 0x2580ff8e9a0>]"
      ]
     },
     "execution_count": 7,
     "metadata": {},
     "output_type": "execute_result"
    },
    {
     "data": {
      "image/png": "[encoded data removed]",
      "text/plain": [
       "<Figure size 576x432 with 1 Axes>"
      ]
     },
     "metadata": {
      "needs_background": "light"
     },
     "output_type": "display_data"
    }
   ],
   "source": [
    "fix, ax = plt.subplots(nrows=1, ncols=1, figsize=(8,6))\n",
    "ax.plot(df_sum)"
   ]
  },
  {
   "cell_type": "markdown",
   "id": "0c92c758",
   "metadata": {},
   "source": [
    "### Add grid"
   ]
  },
  {
   "cell_type": "code",
   "execution_count": 8,
   "id": "f2a4c9da",
   "metadata": {},
   "outputs": [
    {
     "data": {
      "image/png": "[encoded data removed]",
      "text/plain": [
       "<Figure size 576x432 with 1 Axes>"
      ]
     },
     "metadata": {
      "needs_background": "light"
     },
     "output_type": "display_data"
    }
   ],
   "source": [
    "fix, ax = plt.subplots(nrows=1, ncols=1, figsize=(8,6))\n",
    "ax.plot(df_sum)\n",
    "\n",
    "ax.xaxis.grid(True, which='major', linewidth=2, color='red', linestyle='--')"
   ]
  },
  {
   "cell_type": "code",
   "execution_count": 9,
   "id": "1ba439f7",
   "metadata": {},
   "outputs": [
    {
     "data": {
      "image/png": "[encoded data removed]",
      "text/plain": [
       "<Figure size 576x432 with 1 Axes>"
      ]
     },
     "metadata": {
      "needs_background": "light"
     },
     "output_type": "display_data"
    }
   ],
   "source": [
    "fix, ax = plt.subplots(nrows=1, ncols=1, figsize=(8,6))\n",
    "ax.plot(df_sum)\n",
    "\n",
    "ax.xaxis.grid(True, which='major', linewidth=2, color='red', linestyle='--')"
   ]
  },
  {
   "cell_type": "markdown",
   "id": "bb26b341",
   "metadata": {},
   "source": [
    "### Set ticks and labels"
   ]
  },
  {
   "cell_type": "code",
   "execution_count": 10,
   "id": "fd171b8c",
   "metadata": {},
   "outputs": [
    {
     "data": {
      "text/plain": [
       "[<matplotlib.axis.YTick at 0x2580ff6d0d0>,\n",
       " <matplotlib.axis.YTick at 0x2580ff68ca0>]"
      ]
     },
     "execution_count": 10,
     "metadata": {},
     "output_type": "execute_result"
    },
    {
     "data": {
      "image/png": "[encoded data removed]",
      "text/plain": [
       "<Figure size 576x432 with 1 Axes>"
      ]
     },
     "metadata": {
      "needs_background": "light"
     },
     "output_type": "display_data"
    }
   ],
   "source": [
    "fix, ax = plt.subplots(nrows=1, ncols=1, figsize=(8,6))\n",
    "ax.plot(df_sum)\n",
    "\n",
    "ax.set_ylabel('my y label', fontsize=20)\n",
    "ax.set_yticks([1,4])"
   ]
  },
  {
   "cell_type": "markdown",
   "id": "8d9a21a3",
   "metadata": {},
   "source": [
    "#### Change ticks to a tick label"
   ]
  },
  {
   "cell_type": "code",
   "execution_count": 11,
   "id": "ab5ec112",
   "metadata": {},
   "outputs": [
    {
     "data": {
      "text/plain": [
       "[Text(0, 1, 'point 1'), Text(0, 4, 'point 9')]"
      ]
     },
     "execution_count": 11,
     "metadata": {},
     "output_type": "execute_result"
    },
    {
     "data": {
      "image/png": "[encoded data removed]",
      "text/plain": [
       "<Figure size 576x432 with 1 Axes>"
      ]
     },
     "metadata": {
      "needs_background": "light"
     },
     "output_type": "display_data"
    }
   ],
   "source": [
    "fix, ax = plt.subplots(nrows=1, ncols=1, figsize=(8,6))\n",
    "ax.plot(df_sum)\n",
    "\n",
    "ax.set_ylabel('my y label', fontsize=20)\n",
    "ax.set_yticks([1,4])\n",
    "ax.set_yticklabels(['point 1', 'point 9'], rotation=45)"
   ]
  },
  {
   "cell_type": "markdown",
   "id": "270bc3f2-62b8-4ec0-b624-f1fb803541a8",
   "metadata": {},
   "source": [
    "## Create multiple subplots"
   ]
  },
  {
   "cell_type": "code",
   "execution_count": 13,
   "id": "81cb99a6-3b74-4587-92cd-2a0e3c3d06be",
   "metadata": {},
   "outputs": [
    {
     "data": {
      "image/png": "[encoded data removed]",
      "text/plain": [
       "<Figure size 720x576 with 8 Axes>"
      ]
     },
     "metadata": {
      "needs_background": "light"
     },
     "output_type": "display_data"
    }
   ],
   "source": [
    "fig, axs = plt.subplots(2,4, figsize=(10,8))"
   ]
  },
  {
   "cell_type": "code",
   "execution_count": 14,
   "id": "70195a9a-2bf2-44a0-bde1-f88acc85aa4b",
   "metadata": {},
   "outputs": [
    {
     "data": {
      "text/plain": [
       "array([[<AxesSubplot:>, <AxesSubplot:>, <AxesSubplot:>, <AxesSubplot:>],\n",
       "       [<AxesSubplot:>, <AxesSubplot:>, <AxesSubplot:>, <AxesSubplot:>]],\n",
       "      dtype=object)"
      ]
     },
     "execution_count": 14,
     "metadata": {},
     "output_type": "execute_result"
    }
   ],
   "source": [
    "axs"
   ]
  },
  {
   "cell_type": "code",
   "execution_count": 15,
   "id": "f6ab77a9-9163-48b2-a8b8-02727911a3f9",
   "metadata": {},
   "outputs": [
    {
     "data": {
      "text/plain": [
       "numpy.ndarray"
      ]
     },
     "execution_count": 15,
     "metadata": {},
     "output_type": "execute_result"
    }
   ],
   "source": [
    "type(axs)"
   ]
  },
  {
   "cell_type": "markdown",
   "id": "0c44acc9-ecbe-402b-ab9b-e063cefd33ff",
   "metadata": {},
   "source": [
    "## Find possible properties of plotting objects"
   ]
  },
  {
   "cell_type": "code",
   "execution_count": 20,
   "id": "fd4df148-90f4-449d-9c3c-7d18f7990587",
   "metadata": {},
   "outputs": [
    {
     "data": {
      "text/plain": [
       "{'agg_filter': None,\n",
       " 'alpha': None,\n",
       " 'animated': False,\n",
       " 'children': [Text(0.5, 0, ''),\n",
       "  Text(1, 0, ''),\n",
       "  <matplotlib.axis.XTick at 0x25811466460>,\n",
       "  <matplotlib.axis.XTick at 0x258114663d0>,\n",
       "  <matplotlib.axis.XTick at 0x258114817f0>],\n",
       " 'clip_box': <matplotlib.transforms.TransformedBbox at 0x25811469940>,\n",
       " 'clip_on': True,\n",
       " 'clip_path': None,\n",
       " 'contains': None,\n",
       " 'data_interval': array([0., 2.]),\n",
       " 'figure': <Figure size 576x432 with 1 Axes>,\n",
       " 'gid': None,\n",
       " 'gridlines': <a list of 3 Line2D gridline objects>,\n",
       " 'in_layout': True,\n",
       " 'inverted': False,\n",
       " 'label': Text(0.5, 0, ''),\n",
       " 'label_position': 'bottom',\n",
       " 'label_text': '',\n",
       " 'major_formatter': <matplotlib.category.StrCategoryFormatter at 0x258114816d0>,\n",
       " 'major_locator': <matplotlib.category.StrCategoryLocator at 0x25811427c40>,\n",
       " 'major_ticks': [<matplotlib.axis.XTick at 0x25811466460>,\n",
       "  <matplotlib.axis.XTick at 0x258114663d0>,\n",
       "  <matplotlib.axis.XTick at 0x258114817f0>],\n",
       " 'majorticklabels': [Text(0, 0, ''), Text(0, 0, ''), Text(0, 0, '')],\n",
       " 'majorticklines': <a list of 6 Line2D ticklines objects>,\n",
       " 'majorticklocs': [0, 1, 2],\n",
       " 'minor_formatter': <matplotlib.ticker.NullFormatter at 0x258116127f0>,\n",
       " 'minor_locator': <matplotlib.ticker.NullLocator at 0x2581140ee50>,\n",
       " 'minor_ticks': [],\n",
       " 'minorticklabels': [],\n",
       " 'minorticklines': <a list of 0 Line2D ticklines objects>,\n",
       " 'minorticklocs': [],\n",
       " 'minpos': 1.0,\n",
       " 'offset_text': Text(1, 0, ''),\n",
       " 'path_effects': [],\n",
       " 'picker': None,\n",
       " 'pickradius': 15,\n",
       " 'rasterized': None,\n",
       " 'remove_overlapping_locs': True,\n",
       " 'scale': 'linear',\n",
       " 'sketch_params': None,\n",
       " 'smart_bounds': False,\n",
       " 'snap': None,\n",
       " 'tick_padding': 3.5,\n",
       " 'tick_space': 14,\n",
       " 'ticklabels': [Text(0, 0, ''), Text(0, 0, ''), Text(0, 0, '')],\n",
       " 'ticklines': <a list of 6 Line2D ticklines objects>,\n",
       " 'ticklocs': [0, 1, 2],\n",
       " 'ticks_direction': array(['out', 'out', 'out'], dtype='<U3'),\n",
       " 'ticks_position': 'bottom',\n",
       " 'transform': <matplotlib.transforms.IdentityTransform at 0x25811481e50>,\n",
       " 'transformed_clip_path_and_affine': (None, None),\n",
       " 'units': <matplotlib.category.UnitData at 0x258114814c0>,\n",
       " 'url': None,\n",
       " 'view_interval': array([-0.1,  2.1]),\n",
       " 'visible': True,\n",
       " 'zorder': 1.5}"
      ]
     },
     "execution_count": 20,
     "metadata": {},
     "output_type": "execute_result"
    },
    {
     "data": {
      "image/png": "[encoded data removed]",
      "text/plain": [
       "<Figure size 576x432 with 1 Axes>"
      ]
     },
     "metadata": {
      "needs_background": "light"
     },
     "output_type": "display_data"
    }
   ],
   "source": [
    "fix, ax = plt.subplots(nrows=1, ncols=1, figsize=(8,6))\n",
    "ax.plot(df_sum)\n",
    "\n",
    "ax.xaxis.properties()"
   ]
  },
  {
   "cell_type": "code",
   "execution_count": 21,
   "id": "132c515b-6437-4812-93ef-c7294c1befca",
   "metadata": {},
   "outputs": [
    {
     "data": {
      "text/plain": [
       "{'adjustable': 'box',\n",
       " 'agg_filter': None,\n",
       " 'alpha': None,\n",
       " 'anchor': 'C',\n",
       " 'animated': False,\n",
       " 'aspect': 'auto',\n",
       " 'autoscale_on': True,\n",
       " 'autoscalex_on': True,\n",
       " 'autoscaley_on': True,\n",
       " 'axes_locator': None,\n",
       " 'axisbelow': 'line',\n",
       " 'box_aspect': None,\n",
       " 'children': [<matplotlib.lines.Line2D at 0x258114816a0>,\n",
       "  <matplotlib.spines.Spine at 0x25811612a30>,\n",
       "  <matplotlib.spines.Spine at 0x25811612b20>,\n",
       "  <matplotlib.spines.Spine at 0x25811612c40>,\n",
       "  <matplotlib.spines.Spine at 0x25811612d30>,\n",
       "  <matplotlib.axis.XAxis at 0x258116129a0>,\n",
       "  <matplotlib.axis.YAxis at 0x2581140eee0>,\n",
       "  Text(0.5, 1.0, ''),\n",
       "  Text(0.0, 1.0, ''),\n",
       "  Text(1.0, 1.0, ''),\n",
       "  <matplotlib.patches.Rectangle at 0x25811469730>],\n",
       " 'clip_box': None,\n",
       " 'clip_on': True,\n",
       " 'clip_path': None,\n",
       " 'contains': None,\n",
       " 'data_ratio': 0.4344032549728761,\n",
       " 'default_bbox_extra_artists': [<matplotlib.lines.Line2D at 0x258114816a0>,\n",
       "  <matplotlib.spines.Spine at 0x25811612a30>,\n",
       "  <matplotlib.spines.Spine at 0x25811612b20>,\n",
       "  <matplotlib.spines.Spine at 0x25811612c40>,\n",
       "  <matplotlib.spines.Spine at 0x25811612d30>,\n",
       "  <matplotlib.axis.XAxis at 0x258116129a0>,\n",
       "  <matplotlib.axis.YAxis at 0x2581140eee0>,\n",
       "  <matplotlib.patches.Rectangle at 0x25811469730>],\n",
       " 'facecolor': (1.0, 1.0, 1.0, 1.0),\n",
       " 'figure': <Figure size 576x432 with 1 Axes>,\n",
       " 'frame_on': True,\n",
       " 'geometry': (1, 1, 1),\n",
       " 'gid': None,\n",
       " 'gridspec': GridSpec(1, 1),\n",
       " 'images': <a list of 0 AxesImage objects>,\n",
       " 'in_layout': True,\n",
       " 'label': '',\n",
       " 'legend': None,\n",
       " 'legend_handles_labels': ([], []),\n",
       " 'lines': <a list of 1 Line2D objects>,\n",
       " 'navigate': True,\n",
       " 'navigate_mode': None,\n",
       " 'path_effects': [],\n",
       " 'picker': None,\n",
       " 'position': Bbox([[0.125, 0.125], [0.9, 0.88]]),\n",
       " 'rasterization_zorder': None,\n",
       " 'rasterized': None,\n",
       " 'renderer_cache': <matplotlib.backends.backend_agg.RendererAgg at 0x258114965e0>,\n",
       " 'shared_x_axes': <matplotlib.cbook.Grouper at 0x2580f59c7c0>,\n",
       " 'shared_y_axes': <matplotlib.cbook.Grouper at 0x2580f5f3910>,\n",
       " 'sketch_params': None,\n",
       " 'snap': None,\n",
       " 'subplotspec': GridSpec(1, 1)[0:1, 0:1],\n",
       " 'title': '',\n",
       " 'transform': <matplotlib.transforms.IdentityTransform at 0x25810212430>,\n",
       " 'transformed_clip_path_and_affine': (None, None),\n",
       " 'url': None,\n",
       " 'visible': True,\n",
       " 'window_extent': <matplotlib.transforms.TransformedBbox at 0x258116125e0>,\n",
       " 'xaxis': <matplotlib.axis.XAxis at 0x258116129a0>,\n",
       " 'xaxis_transform': <matplotlib.transforms.BlendedGenericTransform at 0x25811612670>,\n",
       " 'xbound': (-0.1, 2.1),\n",
       " 'xgridlines': <a list of 3 Line2D gridline objects>,\n",
       " 'xlabel': '',\n",
       " 'xlim': (-0.1, 2.1),\n",
       " 'xmajorticklabels': [Text(0, 0, 'Asia'),\n",
       "  Text(1, 0, 'Europe'),\n",
       "  Text(2, 0, 'USA')],\n",
       " 'xminorticklabels': [],\n",
       " 'xscale': 'linear',\n",
       " 'xticklabels': [Text(0, 0, 'Asia'), Text(1, 0, 'Europe'), Text(2, 0, 'USA')],\n",
       " 'xticklines': <a list of 6 Line2D ticklines objects>,\n",
       " 'xticks': [0, 1, 2],\n",
       " 'yaxis': <matplotlib.axis.YAxis at 0x2581140eee0>,\n",
       " 'yaxis_transform': <matplotlib.transforms.BlendedGenericTransform at 0x25811612970>,\n",
       " 'ybound': (2.730610307414106, 3.6862974683544336),\n",
       " 'ygridlines': <a list of 7 Line2D gridline objects>,\n",
       " 'ylabel': '',\n",
       " 'ylim': (2.730610307414106, 3.6862974683544336),\n",
       " 'ymajorticklabels': [Text(0, 2.6, '2.6'),\n",
       "  Text(0, 2.8000000000000003, '2.8'),\n",
       "  Text(0, 3.0, '3.0'),\n",
       "  Text(0, 3.2, '3.2'),\n",
       "  Text(0, 3.4000000000000004, '3.4'),\n",
       "  Text(0, 3.6, '3.6'),\n",
       "  Text(0, 3.8000000000000003, '3.8')],\n",
       " 'yminorticklabels': [],\n",
       " 'yscale': 'linear',\n",
       " 'yticklabels': [Text(0, 2.6, '2.6'),\n",
       "  Text(0, 2.8000000000000003, '2.8'),\n",
       "  Text(0, 3.0, '3.0'),\n",
       "  Text(0, 3.2, '3.2'),\n",
       "  Text(0, 3.4000000000000004, '3.4'),\n",
       "  Text(0, 3.6, '3.6'),\n",
       "  Text(0, 3.8000000000000003, '3.8')],\n",
       " 'yticklines': <a list of 14 Line2D ticklines objects>,\n",
       " 'yticks': array([2.6, 2.8, 3. , 3.2, 3.4, 3.6, 3.8]),\n",
       " 'zorder': 0}"
      ]
     },
     "execution_count": 21,
     "metadata": {},
     "output_type": "execute_result"
    }
   ],
   "source": [
    "ax.properties()"
   ]
  },
  {
   "cell_type": "code",
   "execution_count": null,
   "id": "f7430699-17a9-46f0-80e8-c1a3cd306a03",
   "metadata": {},
   "outputs": [],
   "source": []
  }
 ],
 "metadata": {
  "kernelspec": {
   "display_name": "Python 3",
   "language": "python",
   "name": "python3"
  },
  "language_info": {
   "codemirror_mode": {
    "name": "ipython",
    "version": 3
   },
   "file_extension": ".py",
   "mimetype": "text/x-python",
   "name": "python",
   "nbconvert_exporter": "python",
   "pygments_lexer": "ipython3",
   "version": "3.8.8"
  }
 },
 "nbformat": 4,
 "nbformat_minor": 5
}
