{
 "cells": [
  {
   "cell_type": "code",
   "execution_count": 1,
   "id": "e746f91a-5bb5-433e-9c68-020808c81525",
   "metadata": {},
   "outputs": [],
   "source": [
    "import pandas as pd\n",
    "import numpy as np\n",
    "import datetime"
   ]
  },
  {
   "cell_type": "markdown",
   "id": "5e895735-8f82-4ce6-89b1-bc89e71bd415",
   "metadata": {},
   "source": [
    "## Set Dates and Times"
   ]
  },
  {
   "cell_type": "code",
   "execution_count": 3,
   "id": "fedc6268-1031-41e8-8b73-6f177541350d",
   "metadata": {},
   "outputs": [
    {
     "data": {
      "text/plain": [
       "datetime.date(2013, 6, 7)"
      ]
     },
     "metadata": {},
     "output_type": "display_data"
    },
    {
     "data": {
      "text/plain": [
       "datetime.date"
      ]
     },
     "metadata": {},
     "output_type": "display_data"
    }
   ],
   "source": [
    "date = datetime.date(year=2013, month=6, day=7)\n",
    "display(date, type(date))"
   ]
  },
  {
   "cell_type": "code",
   "execution_count": 4,
   "id": "a4bd3308-e5e8-4e32-8640-a85c112ae3ee",
   "metadata": {},
   "outputs": [
    {
     "data": {
      "text/plain": [
       "datetime.time(12, 30, 19, 463198)"
      ]
     },
     "metadata": {},
     "output_type": "display_data"
    },
    {
     "data": {
      "text/plain": [
       "datetime.time"
      ]
     },
     "metadata": {},
     "output_type": "display_data"
    }
   ],
   "source": [
    "time = datetime.time(hour=12, minute=30,second=19, microsecond=463198)\n",
    "display(time, type(time))"
   ]
  },
  {
   "cell_type": "code",
   "execution_count": 5,
   "id": "a69587d7-0085-4df4-a508-69f3246b9816",
   "metadata": {},
   "outputs": [
    {
     "data": {
      "text/plain": [
       "datetime.datetime(2013, 6, 7, 12, 30, 19, 463198)"
      ]
     },
     "metadata": {},
     "output_type": "display_data"
    },
    {
     "data": {
      "text/plain": [
       "datetime.datetime"
      ]
     },
     "metadata": {},
     "output_type": "display_data"
    }
   ],
   "source": [
    "dt = datetime.datetime(year=2013, month=6, day=7, \n",
    "                       hour=12, minute=30, second=19, microsecond=463198)\n",
    "\n",
    "display(dt, type(dt))"
   ]
  },
  {
   "cell_type": "markdown",
   "id": "d818e387-33a3-42c3-a307-82f04b0b7549",
   "metadata": {},
   "source": [
    "## Set Timedelta "
   ]
  },
  {
   "cell_type": "code",
   "execution_count": 6,
   "id": "085ddda1-e054-4b10-87e5-db216d4449b6",
   "metadata": {},
   "outputs": [
    {
     "data": {
      "text/plain": [
       "datetime.timedelta(days=19, seconds=37206, microseconds=829008)"
      ]
     },
     "metadata": {},
     "output_type": "display_data"
    },
    {
     "data": {
      "text/plain": [
       "datetime.timedelta"
      ]
     },
     "metadata": {},
     "output_type": "display_data"
    }
   ],
   "source": [
    "td = datetime.timedelta(weeks=2, days=5, hours=10, minutes=20, \n",
    "                        seconds=6.73, milliseconds=99, microseconds=8)\n",
    "display(td, type(td))"
   ]
  },
  {
   "cell_type": "markdown",
   "id": "4178faf1-23dd-4577-8870-78c627f10aec",
   "metadata": {},
   "source": [
    "## Add Date/DateTime and TimeDelta objects"
   ]
  },
  {
   "cell_type": "code",
   "execution_count": 7,
   "id": "0b5b9c6b-ddf0-4187-8166-3f8364a2fb8b",
   "metadata": {},
   "outputs": [
    {
     "name": "stdout",
     "output_type": "stream",
     "text": [
      "new date is 2013-06-26\n"
     ]
    }
   ],
   "source": [
    "print(f'new date is {date + td}')"
   ]
  },
  {
   "cell_type": "code",
   "execution_count": 8,
   "id": "c7250154-4273-4c53-aee0-d4f0a672e33b",
   "metadata": {},
   "outputs": [
    {
     "data": {
      "text/plain": [
       "datetime.date(2013, 6, 26)"
      ]
     },
     "execution_count": 8,
     "metadata": {},
     "output_type": "execute_result"
    }
   ],
   "source": [
    "date + td"
   ]
  },
  {
   "cell_type": "code",
   "execution_count": 10,
   "id": "8ac30627-74cf-40bd-8b03-eed664668412",
   "metadata": {},
   "outputs": [
    {
     "name": "stdout",
     "output_type": "stream",
     "text": [
      "new date time is 2013-06-26 22:50:26.292206\n"
     ]
    }
   ],
   "source": [
    "print(f'new date time is {dt + td}')"
   ]
  },
  {
   "cell_type": "code",
   "execution_count": 11,
   "id": "425c4fb6-2ce3-4fee-9693-9bc31a128564",
   "metadata": {},
   "outputs": [
    {
     "data": {
      "text/plain": [
       "datetime.datetime(2013, 6, 26, 22, 50, 26, 292206)"
      ]
     },
     "execution_count": 11,
     "metadata": {},
     "output_type": "execute_result"
    }
   ],
   "source": [
    "dt + td"
   ]
  },
  {
   "cell_type": "markdown",
   "id": "239488e5-2243-4d95-9996-49e148675864",
   "metadata": {},
   "source": [
    "## pandas and its Timestamp objec"
   ]
  },
  {
   "cell_type": "code",
   "execution_count": 13,
   "id": "9641e9e6-a25d-4dab-be8f-c5622ef0346c",
   "metadata": {},
   "outputs": [
    {
     "data": {
      "text/plain": [
       "Timestamp('2012-12-21 05:10:08.000099')"
      ]
     },
     "metadata": {},
     "output_type": "display_data"
    },
    {
     "data": {
      "text/plain": [
       "pandas._libs.tslibs.timestamps.Timestamp"
      ]
     },
     "metadata": {},
     "output_type": "display_data"
    }
   ],
   "source": [
    "p = pd.Timestamp(year=2012, month=12, day=21, hour=5,minute=10, second=8, microsecond=99)\n",
    "display(p, type(p))"
   ]
  },
  {
   "cell_type": "code",
   "execution_count": 14,
   "id": "37477c57-e3f8-4db6-9c13-dd6a3b02609d",
   "metadata": {},
   "outputs": [
    {
     "data": {
      "text/plain": [
       "Timestamp('2016-01-10 00:00:00')"
      ]
     },
     "execution_count": 14,
     "metadata": {},
     "output_type": "execute_result"
    }
   ],
   "source": [
    "pd.Timestamp('2016/1/10')"
   ]
  },
  {
   "cell_type": "code",
   "execution_count": 18,
   "id": "dec7b806-c7da-482d-b00f-bc76d47fb752",
   "metadata": {},
   "outputs": [
    {
     "data": {
      "text/plain": [
       "Timestamp('2016-01-10 00:00:00')"
      ]
     },
     "execution_count": 18,
     "metadata": {},
     "output_type": "execute_result"
    }
   ],
   "source": [
    "pd.Timestamp('2016/1/10')"
   ]
  },
  {
   "cell_type": "code",
   "execution_count": 19,
   "id": "49d58ef4-050d-44bf-aaac-eba2b5327c9f",
   "metadata": {},
   "outputs": [
    {
     "data": {
      "text/plain": [
       "Timestamp('2014-05-10 00:00:00')"
      ]
     },
     "execution_count": 19,
     "metadata": {},
     "output_type": "execute_result"
    }
   ],
   "source": [
    "pd.Timestamp('2014-5/10')"
   ]
  },
  {
   "cell_type": "code",
   "execution_count": 20,
   "id": "93817d87-86df-42a7-91e9-6b8d0d8eeb99",
   "metadata": {},
   "outputs": [
    {
     "data": {
      "text/plain": [
       "Timestamp('2016-01-05 05:34:43.123456789')"
      ]
     },
     "execution_count": 20,
     "metadata": {},
     "output_type": "execute_result"
    }
   ],
   "source": [
    "pd.Timestamp('2016-01-05T05:34:43.123456789')"
   ]
  },
  {
   "cell_type": "markdown",
   "id": "7d0757d9-d2c7-4aa4-ba21-150192b7a69b",
   "metadata": {},
   "source": [
    "It's also possible to pass in a single integer or float to the Timestamp constructor, which returns a date equivalent to the number of nanoseconds after the Unix epoch (January 1, 1970):"
   ]
  },
  {
   "cell_type": "code",
   "execution_count": 21,
   "id": "f09d2b10-53fe-4442-b041-9551bb0043d4",
   "metadata": {},
   "outputs": [
    {
     "data": {
      "text/plain": [
       "Timestamp('1970-01-01 00:00:00.000000500')"
      ]
     },
     "execution_count": 21,
     "metadata": {},
     "output_type": "execute_result"
    }
   ],
   "source": [
    "pd.Timestamp(500)"
   ]
  },
  {
   "cell_type": "code",
   "execution_count": 22,
   "id": "bc35ca43-c640-4e9c-8423-5192ef91a3b9",
   "metadata": {},
   "outputs": [
    {
     "data": {
      "text/plain": [
       "Timestamp('1983-09-10 00:00:00')"
      ]
     },
     "execution_count": 22,
     "metadata": {},
     "output_type": "execute_result"
    }
   ],
   "source": [
    "pd.Timestamp(5000, unit='D')"
   ]
  },
  {
   "cell_type": "code",
   "execution_count": null,
   "id": "aecd8860-f1d1-4721-8df7-f01a81d0bba8",
   "metadata": {},
   "outputs": [],
   "source": []
  }
 ],
 "metadata": {
  "kernelspec": {
   "display_name": "Python 3",
   "language": "python",
   "name": "python3"
  },
  "language_info": {
   "codemirror_mode": {
    "name": "ipython",
    "version": 3
   },
   "file_extension": ".py",
   "mimetype": "text/x-python",
   "name": "python",
   "nbconvert_exporter": "python",
   "pygments_lexer": "ipython3",
   "version": "3.8.8"
  }
 },
 "nbformat": 4,
 "nbformat_minor": 5
}
