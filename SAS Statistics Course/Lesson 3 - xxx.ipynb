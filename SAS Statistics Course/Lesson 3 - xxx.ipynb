{
 "cells": [
  {
   "cell_type": "markdown",
   "metadata": {},
   "source": [
    "# Lesson 3 - More Complex Linear Models\n",
    "\n",
    "\n",
    "<br>\n",
    "\n",
    "## <a id=\"toc\">Table of Contents</a>\n",
    ">- [Practice 1 : xxx](#P1)"
   ]
  },
  {
   "cell_type": "markdown",
   "metadata": {},
   "source": [
    "### <a id=\"P1\">Practice 1 : Using PROC GLM to Perform a One-Way ANOVA</a>\n",
    "[Back to contents](#toc)\n"
   ]
  },
  {
   "cell_type": "code",
   "execution_count": 1,
   "metadata": {},
   "outputs": [
    {
     "name": "stdout",
     "output_type": "stream",
     "text": [
      "SAS Connection established. Subprocess id is 2028\n",
      "\n",
      "\n",
      "9                                                          The SAS System                        09:10 Wednesday, September 15, 2021\n",
      "\n",
      "44         ods listing close;ods html5 (id=saspy_internal) file=_tomods1 options(bitmap_mode='inline') device=svg style=HTMLBlue;\n",
      "44       ! ods graphics on / outputfmt=png;\n",
      "\u001b[38;5;21mNOTE: Writing HTML5(SASPY_INTERNAL) Body file: _TOMODS1\u001b[0m\n",
      "45         \n",
      "46         libname STAT1 \"S:/courses/st142\";\n",
      "\u001b[38;5;21mNOTE: Libref STAT1 was successfully assigned as follows: \n",
      "      Engine:        V9 \n",
      "      Physical Name: S:\\courses\\st142\u001b[0m\n",
      "47         \n",
      "48         \n",
      "49         ods html5 (id=saspy_internal) close;ods listing;\n",
      "50         \n",
      "\n",
      "10                                                         The SAS System                        09:10 Wednesday, September 15, 2021\n",
      "\n",
      "51         \n"
     ]
    }
   ],
   "source": [
    "libname STAT1 \"S:/courses/st142\";"
   ]
  },
  {
   "cell_type": "code",
   "execution_count": null,
   "metadata": {},
   "outputs": [],
   "source": []
  },
  {
   "cell_type": "markdown",
   "metadata": {},
   "source": [
    "### <a id=\"P1\">Practice 1 : Using PROC GLM to Perform a One-Way ANOVA</a>\n",
    "[Back to contents](#toc)\n"
   ]
  },
  {
   "cell_type": "markdown",
   "metadata": {},
   "source": [
    "### <a id=\"P1\">Practice 1 : Using PROC GLM to Perform a One-Way ANOVA</a>\n",
    "[Back to contents](#toc)\n"
   ]
  },
  {
   "cell_type": "code",
   "execution_count": null,
   "metadata": {},
   "outputs": [],
   "source": []
  }
 ],
 "metadata": {
  "kernelspec": {
   "display_name": "SAS",
   "language": "sas",
   "name": "sas"
  },
  "language_info": {
   "codemirror_mode": "sas",
   "file_extension": ".sas",
   "mimetype": "text/x-sas",
   "name": "sas"
  }
 },
 "nbformat": 4,
 "nbformat_minor": 4
}
