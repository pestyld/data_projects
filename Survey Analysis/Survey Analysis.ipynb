{
 "cells": [
  {
   "cell_type": "markdown",
   "metadata": {},
   "source": [
    "# Notebook Contents"
   ]
  },
  {
   "cell_type": "code",
   "execution_count": null,
   "metadata": {},
   "outputs": [],
   "source": []
  },
  {
   "cell_type": "markdown",
   "metadata": {},
   "source": []
  },
  {
   "cell_type": "markdown",
   "metadata": {},
   "source": [
    "<a id='another_cell'>test</a>"
   ]
  },
  {
   "cell_type": "markdown",
   "metadata": {},
   "source": [
    "# <a id='xxx'>1. Set Up </a>"
   ]
  },
  {
   "cell_type": "code",
   "execution_count": null,
   "metadata": {},
   "outputs": [],
   "source": [
    "soltuion: xxxxx"
   ]
  },
  {
   "cell_type": "markdown",
   "metadata": {},
   "source": [
    "### Import Packages and Options"
   ]
  },
  {
   "cell_type": "code",
   "execution_count": 143,
   "metadata": {},
   "outputs": [],
   "source": [
    "## ===> General <===\n",
    "##\n",
    "import os\n",
    "\n",
    "## ===> Data Management <===\n",
    "##\n",
    "import numpy as np\n",
    "import pandas as pd\n",
    "\n",
    "## ===> Data Visualization <===\n",
    "##\n",
    "import seaborn as sns\n",
    "import matplotlib.pyplot as plt\n",
    "import matplotlib.ticker as ticker\n",
    "\n",
    "## default text font size on graphs\n",
    "plt.rcParams.update({'font.size': 16})\n",
    "\n",
    "## ===> Analysis and Modeling <===\n",
    "##\n",
    "import statsmodels.api as sm\n",
    "import statsmodels.formula.api as smf \n",
    "from statsmodels.iolib.summary2 import summary_col\n",
    "import scipy.stats as st\n",
    "##\n",
    "## For testing\n",
    "##\n",
    "from statsmodels.sandbox.stats.runs import cochrans_q\n",
    "\n",
    "\n",
    "## Set an option for the number of Pandas columns to display.\n",
    "## \n",
    "pd.set_option('display.max_columns', 20)"
   ]
  },
  {
   "cell_type": "markdown",
   "metadata": {},
   "source": [
    "### Default Variables and Functions"
   ]
  },
  {
   "cell_type": "markdown",
   "metadata": {},
   "source": [
    "variables"
   ]
  },
  {
   "cell_type": "code",
   "execution_count": 144,
   "metadata": {},
   "outputs": [],
   "source": [
    "## NEW LINE\n",
    "##\n",
    "newLine = \"\\n\"\n",
    "\n",
    "\n",
    "## FONT SIZES\n",
    "##\n",
    "font_title = 20\n",
    "\n",
    "## COLORS\n",
    "##\n",
    "\n",
    "## tabel bar colors\n",
    "bar=\"lightblue\"\n",
    "\n",
    "\n",
    "## FORMATS\n",
    "##\n",
    "## format decimal to percent\n",
    "to_Pct = '{:0.1%}'\n",
    "\n",
    "## \n",
    "p_value = '{:0.4f}'\n",
    "\n",
    "\n",
    "## DataFrame styles\n",
    "##\n",
    "tbl_styles = \\\n",
    "    [ {\n",
    "    'selector': 'caption',\n",
    "    'props': [\n",
    "        ('color', 'darkblue'),\n",
    "        ('font-size', '18px')\n",
    "             ] \n",
    "    } ]"
   ]
  },
  {
   "cell_type": "markdown",
   "metadata": {},
   "source": [
    "functions"
   ]
  },
  {
   "cell_type": "code",
   "execution_count": 145,
   "metadata": {},
   "outputs": [],
   "source": [
    "## Misc functions\n",
    "##\n",
    "def footer(txt,obj,ypos=-0.3):\n",
    "    obj.annotate( txt, ( 0, 0 ), ( 0, ypos ), xycoords = 'axes fraction', fontsize='small')\n",
    "    \n",
    "    \n",
    "def tick_labels( tick ):\n",
    "    if tick == 'y':\n",
    "        vals = ax.get_yticks()\n",
    "        ax.set_yticklabels( format.format( x ) for x in vals )\n",
    "    else:\n",
    "        vals = ax.get_xticks()\n",
    "        ax.set_xticklabels( format.format( x ) for x in vals )\n",
    "        \n",
    "\n",
    "## Total Rows and Columns\n",
    "def total(df):\n",
    "    print(\"Total Columns: {}\".format(df.shape[1]))\n",
    "    print(\"Total Rows: {}\".format(df.shape[0]))"
   ]
  },
  {
   "cell_type": "markdown",
   "metadata": {},
   "source": [
    "# 2. Access Data"
   ]
  },
  {
   "cell_type": "markdown",
   "metadata": {},
   "source": [
    "Run the read_csv method to access....."
   ]
  },
  {
   "cell_type": "code",
   "execution_count": 146,
   "metadata": {},
   "outputs": [],
   "source": [
    "## file name\n",
    "file=\"yogurt.csv\"\n",
    "\n",
    "## read csv file\n",
    "df_raw = pd.read_csv(file)"
   ]
  },
  {
   "cell_type": "code",
   "execution_count": 147,
   "metadata": {},
   "outputs": [
    {
     "data": {
      "text/html": [
       "<div>\n",
       "<style scoped>\n",
       "    .dataframe tbody tr th:only-of-type {\n",
       "        vertical-align: middle;\n",
       "    }\n",
       "\n",
       "    .dataframe tbody tr th {\n",
       "        vertical-align: top;\n",
       "    }\n",
       "\n",
       "    .dataframe thead th {\n",
       "        text-align: right;\n",
       "    }\n",
       "</style>\n",
       "<table border=\"1\" class=\"dataframe\">\n",
       "  <thead>\n",
       "    <tr style=\"text-align: right;\">\n",
       "      <th></th>\n",
       "      <th>RID</th>\n",
       "      <th>Weights</th>\n",
       "      <th>Segment</th>\n",
       "      <th>Brand</th>\n",
       "      <th>Buy Client's Brand</th>\n",
       "      <th>Average price pay for the yogurt most typically purchased</th>\n",
       "      <th>Price Paid Range</th>\n",
       "      <th>Price Mid-Point</th>\n",
       "      <th>Number of Units Purchased</th>\n",
       "      <th>Number of Units Purchased Groups</th>\n",
       "      <th>...</th>\n",
       "      <th>Recommand</th>\n",
       "      <th>Purchase Again</th>\n",
       "      <th>Gender</th>\n",
       "      <th>Age</th>\n",
       "      <th>Ethnicity</th>\n",
       "      <th>Education</th>\n",
       "      <th>Employment Status</th>\n",
       "      <th>Household Income</th>\n",
       "      <th>Descriptive Word</th>\n",
       "      <th>x</th>\n",
       "    </tr>\n",
       "  </thead>\n",
       "  <tbody>\n",
       "    <tr>\n",
       "      <th>0</th>\n",
       "      <td>45</td>\n",
       "      <td>72375.3722</td>\n",
       "      <td>Health Fanatic</td>\n",
       "      <td>Major Competitor</td>\n",
       "      <td>Not Buy</td>\n",
       "      <td>$1.18</td>\n",
       "      <td>$1.60 - $1.69</td>\n",
       "      <td>$1.65</td>\n",
       "      <td>5</td>\n",
       "      <td>Low</td>\n",
       "      <td>...</td>\n",
       "      <td>Neither Recommand nor Not Recommand</td>\n",
       "      <td>Extremely Likely</td>\n",
       "      <td>Male</td>\n",
       "      <td>51 to 60 years old</td>\n",
       "      <td>African-American</td>\n",
       "      <td>Less than 9th Grade</td>\n",
       "      <td>Employed in upper-management</td>\n",
       "      <td>$50,000 - $59,999</td>\n",
       "      <td>Delicious</td>\n",
       "      <td>Male</td>\n",
       "    </tr>\n",
       "    <tr>\n",
       "      <th>1</th>\n",
       "      <td>46</td>\n",
       "      <td>90579.7452</td>\n",
       "      <td>Health Fanatic</td>\n",
       "      <td>C</td>\n",
       "      <td>Not Buy</td>\n",
       "      <td>$1.02</td>\n",
       "      <td>$1.60 - $1.69</td>\n",
       "      <td>$1.65</td>\n",
       "      <td>8</td>\n",
       "      <td>High</td>\n",
       "      <td>...</td>\n",
       "      <td>May Recommand</td>\n",
       "      <td>Somewhat Likely</td>\n",
       "      <td>Male</td>\n",
       "      <td>51 to 60 years old</td>\n",
       "      <td>African-American</td>\n",
       "      <td>High School Graduate or equivalent</td>\n",
       "      <td>Employed as a mid-level manager</td>\n",
       "      <td>$200,000 or more</td>\n",
       "      <td>Tasty</td>\n",
       "      <td>Male</td>\n",
       "    </tr>\n",
       "    <tr>\n",
       "      <th>2</th>\n",
       "      <td>49</td>\n",
       "      <td>36187.6861</td>\n",
       "      <td>Health-Conscious</td>\n",
       "      <td>C</td>\n",
       "      <td>Not Buy</td>\n",
       "      <td>$1.23</td>\n",
       "      <td>$1.00 - $1.09</td>\n",
       "      <td>$1.05</td>\n",
       "      <td>9</td>\n",
       "      <td>High</td>\n",
       "      <td>...</td>\n",
       "      <td>Neither Recommand nor Not Recommand</td>\n",
       "      <td>Extremely Likely</td>\n",
       "      <td>Female</td>\n",
       "      <td>36 to 40 years old</td>\n",
       "      <td>African-American</td>\n",
       "      <td>Bachelors Degree</td>\n",
       "      <td>Employed, but not at a management level</td>\n",
       "      <td>$50,000 - $59,999</td>\n",
       "      <td>Fulfilling</td>\n",
       "      <td>Female</td>\n",
       "    </tr>\n",
       "    <tr>\n",
       "      <th>3</th>\n",
       "      <td>51</td>\n",
       "      <td>67686.7937</td>\n",
       "      <td>Dessert Lover</td>\n",
       "      <td>Major Competitor</td>\n",
       "      <td>Not Buy</td>\n",
       "      <td>$1.11</td>\n",
       "      <td>$1.00 - $1.09</td>\n",
       "      <td>$1.05</td>\n",
       "      <td>8</td>\n",
       "      <td>Medium</td>\n",
       "      <td>...</td>\n",
       "      <td>May Recommand</td>\n",
       "      <td>Extremely Likely</td>\n",
       "      <td>Female</td>\n",
       "      <td>51 to 60 years old</td>\n",
       "      <td>African-American</td>\n",
       "      <td>Graduate or Professional Degree</td>\n",
       "      <td>Employed as a mid-level manager</td>\n",
       "      <td>$50,000 - $59,999</td>\n",
       "      <td>Delicious</td>\n",
       "      <td>Female</td>\n",
       "    </tr>\n",
       "    <tr>\n",
       "      <th>4</th>\n",
       "      <td>52</td>\n",
       "      <td>168410.2820</td>\n",
       "      <td>Normal Food Consumer</td>\n",
       "      <td>Major Competitor</td>\n",
       "      <td>Not Buy</td>\n",
       "      <td>$1.28</td>\n",
       "      <td>$1.30 - $1.39</td>\n",
       "      <td>$1.35</td>\n",
       "      <td>6</td>\n",
       "      <td>Medium</td>\n",
       "      <td>...</td>\n",
       "      <td>May Recommand</td>\n",
       "      <td>Extremely Likely</td>\n",
       "      <td>Male</td>\n",
       "      <td>36 to 40 years old</td>\n",
       "      <td>African-American</td>\n",
       "      <td>Bachelors Degree</td>\n",
       "      <td>Retired</td>\n",
       "      <td>$60,000 - $74,999</td>\n",
       "      <td>Healthy</td>\n",
       "      <td>Male</td>\n",
       "    </tr>\n",
       "  </tbody>\n",
       "</table>\n",
       "<p>5 rows × 65 columns</p>\n",
       "</div>"
      ],
      "text/plain": [
       "   RID      Weights               Segment             Brand  \\\n",
       "0   45   72375.3722        Health Fanatic  Major Competitor   \n",
       "1   46   90579.7452        Health Fanatic                 C   \n",
       "2   49   36187.6861      Health-Conscious                 C   \n",
       "3   51   67686.7937         Dessert Lover  Major Competitor   \n",
       "4   52  168410.2820  Normal Food Consumer  Major Competitor   \n",
       "\n",
       "  Buy Client's Brand  \\\n",
       "0            Not Buy   \n",
       "1            Not Buy   \n",
       "2            Not Buy   \n",
       "3            Not Buy   \n",
       "4            Not Buy   \n",
       "\n",
       "  Average price pay for the yogurt most typically purchased Price Paid Range  \\\n",
       "0                                              $1.18           $1.60 - $1.69   \n",
       "1                                              $1.02           $1.60 - $1.69   \n",
       "2                                              $1.23           $1.00 - $1.09   \n",
       "3                                              $1.11           $1.00 - $1.09   \n",
       "4                                              $1.28           $1.30 - $1.39   \n",
       "\n",
       "  Price Mid-Point  Number of Units Purchased Number of Units Purchased Groups  \\\n",
       "0           $1.65                          5                              Low   \n",
       "1           $1.65                          8                             High   \n",
       "2           $1.05                          9                             High   \n",
       "3           $1.05                          8                           Medium   \n",
       "4           $1.35                          6                           Medium   \n",
       "\n",
       "   ...                            Recommand    Purchase Again  Gender  \\\n",
       "0  ...  Neither Recommand nor Not Recommand  Extremely Likely    Male   \n",
       "1  ...                        May Recommand   Somewhat Likely    Male   \n",
       "2  ...  Neither Recommand nor Not Recommand  Extremely Likely  Female   \n",
       "3  ...                        May Recommand  Extremely Likely  Female   \n",
       "4  ...                        May Recommand  Extremely Likely    Male   \n",
       "\n",
       "                  Age         Ethnicity                           Education  \\\n",
       "0  51 to 60 years old  African-American                 Less than 9th Grade   \n",
       "1  51 to 60 years old  African-American  High School Graduate or equivalent   \n",
       "2  36 to 40 years old  African-American                    Bachelors Degree   \n",
       "3  51 to 60 years old  African-American     Graduate or Professional Degree   \n",
       "4  36 to 40 years old  African-American                    Bachelors Degree   \n",
       "\n",
       "                         Employment Status   Household Income  \\\n",
       "0             Employed in upper-management  $50,000 - $59,999   \n",
       "1          Employed as a mid-level manager   $200,000 or more   \n",
       "2  Employed, but not at a management level  $50,000 - $59,999   \n",
       "3          Employed as a mid-level manager  $50,000 - $59,999   \n",
       "4                                  Retired  $60,000 - $74,999   \n",
       "\n",
       "  Descriptive Word       x  \n",
       "0        Delicious    Male  \n",
       "1            Tasty    Male  \n",
       "2       Fulfilling  Female  \n",
       "3        Delicious  Female  \n",
       "4          Healthy    Male  \n",
       "\n",
       "[5 rows x 65 columns]"
      ]
     },
     "execution_count": 147,
     "metadata": {},
     "output_type": "execute_result"
    }
   ],
   "source": [
    "df_raw.head()"
   ]
  },
  {
   "cell_type": "markdown",
   "metadata": {},
   "source": [
    "# 3. Explore and Prepare Table"
   ]
  },
  {
   "cell_type": "code",
   "execution_count": 148,
   "metadata": {},
   "outputs": [
    {
     "name": "stdout",
     "output_type": "stream",
     "text": [
      "Total Columns: 65\n",
      "Total Rows: 2000\n"
     ]
    }
   ],
   "source": [
    "## total number of rows and columns\n",
    "total(df_raw)"
   ]
  },
  {
   "cell_type": "code",
   "execution_count": 149,
   "metadata": {},
   "outputs": [],
   "source": [
    "## subset table for key columns\n",
    "##\n",
    "keyCols = [ 'RID', 'Segment', 'Brand', \n",
    "            'Average price pay for the yogurt most typically purchased', \n",
    "            'Number of Units Purchased',\n",
    "            'Banana', 'Blueberry', 'Boysenberry', 'Strawberry', \n",
    "            'Vanilla', 'Coffee', 'Raspberry', 'Age', 'Gender' ]\n",
    "\n",
    "df = df_raw[keyCols].copy()"
   ]
  },
  {
   "cell_type": "code",
   "execution_count": 150,
   "metadata": {},
   "outputs": [
    {
     "name": "stdout",
     "output_type": "stream",
     "text": [
      "Total Columns: 14\n",
      "Total Rows: 2000\n"
     ]
    }
   ],
   "source": [
    "## total number of rows in new table\n",
    "##\n",
    "total(df)"
   ]
  },
  {
   "cell_type": "code",
   "execution_count": 151,
   "metadata": {},
   "outputs": [
    {
     "data": {
      "text/html": [
       "<div>\n",
       "<style scoped>\n",
       "    .dataframe tbody tr th:only-of-type {\n",
       "        vertical-align: middle;\n",
       "    }\n",
       "\n",
       "    .dataframe tbody tr th {\n",
       "        vertical-align: top;\n",
       "    }\n",
       "\n",
       "    .dataframe thead th {\n",
       "        text-align: right;\n",
       "    }\n",
       "</style>\n",
       "<table border=\"1\" class=\"dataframe\">\n",
       "  <thead>\n",
       "    <tr style=\"text-align: right;\">\n",
       "      <th></th>\n",
       "      <th>RID</th>\n",
       "      <th>Segment</th>\n",
       "      <th>Brand</th>\n",
       "      <th>Average price pay for the yogurt most typically purchased</th>\n",
       "      <th>Number of Units Purchased</th>\n",
       "      <th>Banana</th>\n",
       "      <th>Blueberry</th>\n",
       "      <th>Boysenberry</th>\n",
       "      <th>Strawberry</th>\n",
       "      <th>Vanilla</th>\n",
       "      <th>Coffee</th>\n",
       "      <th>Raspberry</th>\n",
       "      <th>Age</th>\n",
       "      <th>Gender</th>\n",
       "    </tr>\n",
       "  </thead>\n",
       "  <tbody>\n",
       "    <tr>\n",
       "      <th>0</th>\n",
       "      <td>45</td>\n",
       "      <td>Health Fanatic</td>\n",
       "      <td>Major Competitor</td>\n",
       "      <td>$1.18</td>\n",
       "      <td>5</td>\n",
       "      <td>No</td>\n",
       "      <td>Yes</td>\n",
       "      <td>Yes</td>\n",
       "      <td>No</td>\n",
       "      <td>No</td>\n",
       "      <td>Yes</td>\n",
       "      <td>No</td>\n",
       "      <td>51 to 60 years old</td>\n",
       "      <td>Male</td>\n",
       "    </tr>\n",
       "    <tr>\n",
       "      <th>1</th>\n",
       "      <td>46</td>\n",
       "      <td>Health Fanatic</td>\n",
       "      <td>C</td>\n",
       "      <td>$1.02</td>\n",
       "      <td>8</td>\n",
       "      <td>No</td>\n",
       "      <td>Yes</td>\n",
       "      <td>No</td>\n",
       "      <td>No</td>\n",
       "      <td>No</td>\n",
       "      <td>No</td>\n",
       "      <td>Yes</td>\n",
       "      <td>51 to 60 years old</td>\n",
       "      <td>Male</td>\n",
       "    </tr>\n",
       "    <tr>\n",
       "      <th>2</th>\n",
       "      <td>49</td>\n",
       "      <td>Health-Conscious</td>\n",
       "      <td>C</td>\n",
       "      <td>$1.23</td>\n",
       "      <td>9</td>\n",
       "      <td>No</td>\n",
       "      <td>Yes</td>\n",
       "      <td>Yes</td>\n",
       "      <td>No</td>\n",
       "      <td>Yes</td>\n",
       "      <td>No</td>\n",
       "      <td>No</td>\n",
       "      <td>36 to 40 years old</td>\n",
       "      <td>Female</td>\n",
       "    </tr>\n",
       "    <tr>\n",
       "      <th>3</th>\n",
       "      <td>51</td>\n",
       "      <td>Dessert Lover</td>\n",
       "      <td>Major Competitor</td>\n",
       "      <td>$1.11</td>\n",
       "      <td>8</td>\n",
       "      <td>No</td>\n",
       "      <td>Yes</td>\n",
       "      <td>Yes</td>\n",
       "      <td>No</td>\n",
       "      <td>No</td>\n",
       "      <td>No</td>\n",
       "      <td>Yes</td>\n",
       "      <td>51 to 60 years old</td>\n",
       "      <td>Female</td>\n",
       "    </tr>\n",
       "    <tr>\n",
       "      <th>4</th>\n",
       "      <td>52</td>\n",
       "      <td>Normal Food Consumer</td>\n",
       "      <td>Major Competitor</td>\n",
       "      <td>$1.28</td>\n",
       "      <td>6</td>\n",
       "      <td>No</td>\n",
       "      <td>Yes</td>\n",
       "      <td>Yes</td>\n",
       "      <td>No</td>\n",
       "      <td>No</td>\n",
       "      <td>No</td>\n",
       "      <td>No</td>\n",
       "      <td>36 to 40 years old</td>\n",
       "      <td>Male</td>\n",
       "    </tr>\n",
       "  </tbody>\n",
       "</table>\n",
       "</div>"
      ],
      "text/plain": [
       "   RID               Segment             Brand  \\\n",
       "0   45        Health Fanatic  Major Competitor   \n",
       "1   46        Health Fanatic                 C   \n",
       "2   49      Health-Conscious                 C   \n",
       "3   51         Dessert Lover  Major Competitor   \n",
       "4   52  Normal Food Consumer  Major Competitor   \n",
       "\n",
       "  Average price pay for the yogurt most typically purchased  \\\n",
       "0                                              $1.18          \n",
       "1                                              $1.02          \n",
       "2                                              $1.23          \n",
       "3                                              $1.11          \n",
       "4                                              $1.28          \n",
       "\n",
       "   Number of Units Purchased Banana Blueberry Boysenberry Strawberry Vanilla  \\\n",
       "0                          5     No       Yes         Yes         No      No   \n",
       "1                          8     No       Yes          No         No      No   \n",
       "2                          9     No       Yes         Yes         No     Yes   \n",
       "3                          8     No       Yes         Yes         No      No   \n",
       "4                          6     No       Yes         Yes         No      No   \n",
       "\n",
       "  Coffee Raspberry                 Age  Gender  \n",
       "0    Yes        No  51 to 60 years old    Male  \n",
       "1     No       Yes  51 to 60 years old    Male  \n",
       "2     No        No  36 to 40 years old  Female  \n",
       "3     No       Yes  51 to 60 years old  Female  \n",
       "4     No        No  36 to 40 years old    Male  "
      ]
     },
     "execution_count": 151,
     "metadata": {},
     "output_type": "execute_result"
    }
   ],
   "source": [
    "## Preview table\n",
    "##\n",
    "df.head()"
   ]
  },
  {
   "cell_type": "code",
   "execution_count": 152,
   "metadata": {},
   "outputs": [
    {
     "data": {
      "text/html": [
       "<div>\n",
       "<style scoped>\n",
       "    .dataframe tbody tr th:only-of-type {\n",
       "        vertical-align: middle;\n",
       "    }\n",
       "\n",
       "    .dataframe tbody tr th {\n",
       "        vertical-align: top;\n",
       "    }\n",
       "\n",
       "    .dataframe thead th {\n",
       "        text-align: right;\n",
       "    }\n",
       "</style>\n",
       "<table border=\"1\" class=\"dataframe\">\n",
       "  <thead>\n",
       "    <tr style=\"text-align: right;\">\n",
       "      <th></th>\n",
       "      <th>RID</th>\n",
       "      <th>Segment</th>\n",
       "      <th>Brand</th>\n",
       "      <th>Price</th>\n",
       "      <th>Units</th>\n",
       "      <th>Banana</th>\n",
       "      <th>Blueberry</th>\n",
       "      <th>Boysenberry</th>\n",
       "      <th>Strawberry</th>\n",
       "      <th>Vanilla</th>\n",
       "      <th>Coffee</th>\n",
       "      <th>Raspberry</th>\n",
       "      <th>Age</th>\n",
       "      <th>Gender</th>\n",
       "    </tr>\n",
       "  </thead>\n",
       "  <tbody>\n",
       "    <tr>\n",
       "      <th>0</th>\n",
       "      <td>45</td>\n",
       "      <td>Health Fanatic</td>\n",
       "      <td>Major Competitor</td>\n",
       "      <td>$1.18</td>\n",
       "      <td>5</td>\n",
       "      <td>No</td>\n",
       "      <td>Yes</td>\n",
       "      <td>Yes</td>\n",
       "      <td>No</td>\n",
       "      <td>No</td>\n",
       "      <td>Yes</td>\n",
       "      <td>No</td>\n",
       "      <td>51 to 60 years old</td>\n",
       "      <td>Male</td>\n",
       "    </tr>\n",
       "    <tr>\n",
       "      <th>1</th>\n",
       "      <td>46</td>\n",
       "      <td>Health Fanatic</td>\n",
       "      <td>C</td>\n",
       "      <td>$1.02</td>\n",
       "      <td>8</td>\n",
       "      <td>No</td>\n",
       "      <td>Yes</td>\n",
       "      <td>No</td>\n",
       "      <td>No</td>\n",
       "      <td>No</td>\n",
       "      <td>No</td>\n",
       "      <td>Yes</td>\n",
       "      <td>51 to 60 years old</td>\n",
       "      <td>Male</td>\n",
       "    </tr>\n",
       "    <tr>\n",
       "      <th>2</th>\n",
       "      <td>49</td>\n",
       "      <td>Health-Conscious</td>\n",
       "      <td>C</td>\n",
       "      <td>$1.23</td>\n",
       "      <td>9</td>\n",
       "      <td>No</td>\n",
       "      <td>Yes</td>\n",
       "      <td>Yes</td>\n",
       "      <td>No</td>\n",
       "      <td>Yes</td>\n",
       "      <td>No</td>\n",
       "      <td>No</td>\n",
       "      <td>36 to 40 years old</td>\n",
       "      <td>Female</td>\n",
       "    </tr>\n",
       "    <tr>\n",
       "      <th>3</th>\n",
       "      <td>51</td>\n",
       "      <td>Dessert Lover</td>\n",
       "      <td>Major Competitor</td>\n",
       "      <td>$1.11</td>\n",
       "      <td>8</td>\n",
       "      <td>No</td>\n",
       "      <td>Yes</td>\n",
       "      <td>Yes</td>\n",
       "      <td>No</td>\n",
       "      <td>No</td>\n",
       "      <td>No</td>\n",
       "      <td>Yes</td>\n",
       "      <td>51 to 60 years old</td>\n",
       "      <td>Female</td>\n",
       "    </tr>\n",
       "    <tr>\n",
       "      <th>4</th>\n",
       "      <td>52</td>\n",
       "      <td>Normal Food Consumer</td>\n",
       "      <td>Major Competitor</td>\n",
       "      <td>$1.28</td>\n",
       "      <td>6</td>\n",
       "      <td>No</td>\n",
       "      <td>Yes</td>\n",
       "      <td>Yes</td>\n",
       "      <td>No</td>\n",
       "      <td>No</td>\n",
       "      <td>No</td>\n",
       "      <td>No</td>\n",
       "      <td>36 to 40 years old</td>\n",
       "      <td>Male</td>\n",
       "    </tr>\n",
       "  </tbody>\n",
       "</table>\n",
       "</div>"
      ],
      "text/plain": [
       "   RID               Segment             Brand  Price  Units Banana Blueberry  \\\n",
       "0   45        Health Fanatic  Major Competitor  $1.18      5     No       Yes   \n",
       "1   46        Health Fanatic                 C  $1.02      8     No       Yes   \n",
       "2   49      Health-Conscious                 C  $1.23      9     No       Yes   \n",
       "3   51         Dessert Lover  Major Competitor  $1.11      8     No       Yes   \n",
       "4   52  Normal Food Consumer  Major Competitor  $1.28      6     No       Yes   \n",
       "\n",
       "  Boysenberry Strawberry Vanilla Coffee Raspberry                 Age  Gender  \n",
       "0         Yes         No      No    Yes        No  51 to 60 years old    Male  \n",
       "1          No         No      No     No       Yes  51 to 60 years old    Male  \n",
       "2         Yes         No     Yes     No        No  36 to 40 years old  Female  \n",
       "3         Yes         No      No     No       Yes  51 to 60 years old  Female  \n",
       "4         Yes         No      No     No        No  36 to 40 years old    Male  "
      ]
     },
     "execution_count": 152,
     "metadata": {},
     "output_type": "execute_result"
    }
   ],
   "source": [
    "## rename columns\n",
    "##\n",
    "newColsNames = [ 'RID', 'Segment', 'Brand', \n",
    "                 'Price', 'Units',\n",
    "                 'Banana', 'Blueberry', 'Boysenberry', 'Strawberry', \n",
    "                 'Vanilla', 'Coffee', 'Raspberry', 'Age', 'Gender' ]\n",
    "\n",
    "df.columns = newColsNames\n",
    "\n",
    "df.head()"
   ]
  },
  {
   "cell_type": "code",
   "execution_count": 153,
   "metadata": {},
   "outputs": [
    {
     "data": {
      "text/plain": [
       "RID             int64\n",
       "Segment        object\n",
       "Brand          object\n",
       "Price          object\n",
       "Units           int64\n",
       "Banana         object\n",
       "Blueberry      object\n",
       "Boysenberry    object\n",
       "Strawberry     object\n",
       "Vanilla        object\n",
       "Coffee         object\n",
       "Raspberry      object\n",
       "Age            object\n",
       "Gender         object\n",
       "dtype: object"
      ]
     },
     "execution_count": 153,
     "metadata": {},
     "output_type": "execute_result"
    }
   ],
   "source": [
    "## Check the data types in the table\n",
    "##\n",
    "df.dtypes"
   ]
  },
  {
   "cell_type": "code",
   "execution_count": 154,
   "metadata": {},
   "outputs": [
    {
     "data": {
      "text/html": [
       "<div>\n",
       "<style scoped>\n",
       "    .dataframe tbody tr th:only-of-type {\n",
       "        vertical-align: middle;\n",
       "    }\n",
       "\n",
       "    .dataframe tbody tr th {\n",
       "        vertical-align: top;\n",
       "    }\n",
       "\n",
       "    .dataframe thead th {\n",
       "        text-align: right;\n",
       "    }\n",
       "</style>\n",
       "<table border=\"1\" class=\"dataframe\">\n",
       "  <thead>\n",
       "    <tr style=\"text-align: right;\">\n",
       "      <th></th>\n",
       "      <th>RID</th>\n",
       "      <th>Segment</th>\n",
       "      <th>Brand</th>\n",
       "      <th>Price</th>\n",
       "      <th>Units</th>\n",
       "      <th>Banana</th>\n",
       "      <th>Blueberry</th>\n",
       "      <th>Boysenberry</th>\n",
       "      <th>Strawberry</th>\n",
       "      <th>Vanilla</th>\n",
       "      <th>Coffee</th>\n",
       "      <th>Raspberry</th>\n",
       "      <th>Age</th>\n",
       "      <th>Gender</th>\n",
       "    </tr>\n",
       "  </thead>\n",
       "  <tbody>\n",
       "    <tr>\n",
       "      <th>0</th>\n",
       "      <td>45</td>\n",
       "      <td>Health Fanatic</td>\n",
       "      <td>Major Competitor</td>\n",
       "      <td>1.18</td>\n",
       "      <td>5</td>\n",
       "      <td>No</td>\n",
       "      <td>Yes</td>\n",
       "      <td>Yes</td>\n",
       "      <td>No</td>\n",
       "      <td>No</td>\n",
       "      <td>Yes</td>\n",
       "      <td>No</td>\n",
       "      <td>51 to 60 years old</td>\n",
       "      <td>Male</td>\n",
       "    </tr>\n",
       "    <tr>\n",
       "      <th>1</th>\n",
       "      <td>46</td>\n",
       "      <td>Health Fanatic</td>\n",
       "      <td>C</td>\n",
       "      <td>1.02</td>\n",
       "      <td>8</td>\n",
       "      <td>No</td>\n",
       "      <td>Yes</td>\n",
       "      <td>No</td>\n",
       "      <td>No</td>\n",
       "      <td>No</td>\n",
       "      <td>No</td>\n",
       "      <td>Yes</td>\n",
       "      <td>51 to 60 years old</td>\n",
       "      <td>Male</td>\n",
       "    </tr>\n",
       "    <tr>\n",
       "      <th>2</th>\n",
       "      <td>49</td>\n",
       "      <td>Health-Conscious</td>\n",
       "      <td>C</td>\n",
       "      <td>1.23</td>\n",
       "      <td>9</td>\n",
       "      <td>No</td>\n",
       "      <td>Yes</td>\n",
       "      <td>Yes</td>\n",
       "      <td>No</td>\n",
       "      <td>Yes</td>\n",
       "      <td>No</td>\n",
       "      <td>No</td>\n",
       "      <td>36 to 40 years old</td>\n",
       "      <td>Female</td>\n",
       "    </tr>\n",
       "    <tr>\n",
       "      <th>3</th>\n",
       "      <td>51</td>\n",
       "      <td>Dessert Lover</td>\n",
       "      <td>Major Competitor</td>\n",
       "      <td>1.11</td>\n",
       "      <td>8</td>\n",
       "      <td>No</td>\n",
       "      <td>Yes</td>\n",
       "      <td>Yes</td>\n",
       "      <td>No</td>\n",
       "      <td>No</td>\n",
       "      <td>No</td>\n",
       "      <td>Yes</td>\n",
       "      <td>51 to 60 years old</td>\n",
       "      <td>Female</td>\n",
       "    </tr>\n",
       "    <tr>\n",
       "      <th>4</th>\n",
       "      <td>52</td>\n",
       "      <td>Normal Food Consumer</td>\n",
       "      <td>Major Competitor</td>\n",
       "      <td>1.28</td>\n",
       "      <td>6</td>\n",
       "      <td>No</td>\n",
       "      <td>Yes</td>\n",
       "      <td>Yes</td>\n",
       "      <td>No</td>\n",
       "      <td>No</td>\n",
       "      <td>No</td>\n",
       "      <td>No</td>\n",
       "      <td>36 to 40 years old</td>\n",
       "      <td>Male</td>\n",
       "    </tr>\n",
       "  </tbody>\n",
       "</table>\n",
       "</div>"
      ],
      "text/plain": [
       "   RID               Segment             Brand  Price  Units Banana Blueberry  \\\n",
       "0   45        Health Fanatic  Major Competitor   1.18      5     No       Yes   \n",
       "1   46        Health Fanatic                 C   1.02      8     No       Yes   \n",
       "2   49      Health-Conscious                 C   1.23      9     No       Yes   \n",
       "3   51         Dessert Lover  Major Competitor   1.11      8     No       Yes   \n",
       "4   52  Normal Food Consumer  Major Competitor   1.28      6     No       Yes   \n",
       "\n",
       "  Boysenberry Strawberry Vanilla Coffee Raspberry                 Age  Gender  \n",
       "0         Yes         No      No    Yes        No  51 to 60 years old    Male  \n",
       "1          No         No      No     No       Yes  51 to 60 years old    Male  \n",
       "2         Yes         No     Yes     No        No  36 to 40 years old  Female  \n",
       "3         Yes         No      No     No       Yes  51 to 60 years old  Female  \n",
       "4         Yes         No      No     No        No  36 to 40 years old    Male  "
      ]
     },
     "execution_count": 154,
     "metadata": {},
     "output_type": "execute_result"
    }
   ],
   "source": [
    "## prepare columns\n",
    "##\n",
    "## a. Price column needs to be converted to numeric by removing $\n",
    "\n",
    "df.Price = df.Price.str.strip('$').astype('float')\n",
    "\n",
    "df.head()"
   ]
  },
  {
   "cell_type": "code",
   "execution_count": 155,
   "metadata": {},
   "outputs": [
    {
     "data": {
      "text/plain": [
       "RID              int64\n",
       "Segment         object\n",
       "Brand           object\n",
       "Price          float64\n",
       "Units            int64\n",
       "Banana          object\n",
       "Blueberry       object\n",
       "Boysenberry     object\n",
       "Strawberry      object\n",
       "Vanilla         object\n",
       "Coffee          object\n",
       "Raspberry       object\n",
       "Age             object\n",
       "Gender          object\n",
       "dtype: object"
      ]
     },
     "execution_count": 155,
     "metadata": {},
     "output_type": "execute_result"
    }
   ],
   "source": [
    "## recheck data types\n",
    "##\n",
    "df.dtypes"
   ]
  },
  {
   "cell_type": "code",
   "execution_count": 156,
   "metadata": {},
   "outputs": [
    {
     "data": {
      "text/plain": [
       "Text(0.5, 1.0, 'Columns with less than 20 unique values')"
      ]
     },
     "execution_count": 156,
     "metadata": {},
     "output_type": "execute_result"
    },
    {
     "data": {
      "image/png": "[encoded data removed]",
      "text/plain": [
       "<Figure size 864x576 with 1 Axes>"
      ]
     },
     "metadata": {
      "needs_background": "light"
     },
     "output_type": "display_data"
    }
   ],
   "source": [
    "## number of unique values for each column less than 20\n",
    "##\n",
    "n = df.nunique()\n",
    "lt_twenty = n[n < 20].sort_values(ascending=False)\n",
    "\n",
    "lt_twenty.plot(kind='bar', figsize=(12,8))\n",
    "\n",
    "plt.title(\"Columns with less than 20 unique values\")"
   ]
  },
  {
   "cell_type": "markdown",
   "metadata": {},
   "source": [
    "View the unique values and counts for each column with 20 unique values or less."
   ]
  },
  {
   "cell_type": "code",
   "execution_count": 157,
   "metadata": {
    "scrolled": false
   },
   "outputs": [
    {
     "name": "stdout",
     "output_type": "stream",
     "text": [
      "Units\n",
      "7     638\n",
      "6     521\n",
      "8     392\n",
      "5     250\n",
      "9     127\n",
      "4      44\n",
      "10     25\n",
      "11      2\n",
      "12      1\n",
      "Name: Units, dtype: int64\n"
     ]
    },
    {
     "data": {
      "image/png": "[encoded data removed]",
      "text/plain": [
       "<Figure size 432x288 with 1 Axes>"
      ]
     },
     "metadata": {
      "needs_background": "light"
     },
     "output_type": "display_data"
    },
    {
     "name": "stdout",
     "output_type": "stream",
     "text": [
      "\n",
      "\n",
      "Age\n",
      "51 to 60 years old       402\n",
      "68 years old and over    355\n",
      "41 to 50 years old       353\n",
      "61 to 67 years old       351\n",
      "36 to 40 years old       343\n",
      "18 to 35 years old       196\n",
      "Name: Age, dtype: int64\n"
     ]
    },
    {
     "data": {
      "image/png": "[encoded data removed]",
      "text/plain": [
       "<Figure size 432x288 with 1 Axes>"
      ]
     },
     "metadata": {
      "needs_background": "light"
     },
     "output_type": "display_data"
    },
    {
     "name": "stdout",
     "output_type": "stream",
     "text": [
      "\n",
      "\n",
      "Brand\n",
      "Client              651\n",
      "C                   538\n",
      "Major Competitor    407\n",
      "D                   202\n",
      "E                   106\n",
      "G                    89\n",
      "Name: Brand, dtype: int64\n"
     ]
    },
    {
     "data": {
      "image/png": "[encoded data removed]",
      "text/plain": [
       "<Figure size 432x288 with 1 Axes>"
      ]
     },
     "metadata": {
      "needs_background": "light"
     },
     "output_type": "display_data"
    },
    {
     "name": "stdout",
     "output_type": "stream",
     "text": [
      "\n",
      "\n",
      "Segment\n",
      "Normal Food Consumer    633\n",
      "Health-Conscious        538\n",
      "Dessert Lover           474\n",
      "Health Fanatic          355\n",
      "Name: Segment, dtype: int64\n"
     ]
    },
    {
     "data": {
      "image/png": "[encoded data removed]",
      "text/plain": [
       "<Figure size 432x288 with 1 Axes>"
      ]
     },
     "metadata": {
      "needs_background": "light"
     },
     "output_type": "display_data"
    },
    {
     "name": "stdout",
     "output_type": "stream",
     "text": [
      "\n",
      "\n",
      "Gender\n",
      "Female    1347\n",
      "Male       653\n",
      "Name: Gender, dtype: int64\n"
     ]
    },
    {
     "data": {
      "image/png": "[encoded data removed]",
      "text/plain": [
       "<Figure size 432x288 with 1 Axes>"
      ]
     },
     "metadata": {
      "needs_background": "light"
     },
     "output_type": "display_data"
    },
    {
     "name": "stdout",
     "output_type": "stream",
     "text": [
      "\n",
      "\n",
      "Raspberry\n",
      "Yes    1041\n",
      "No      959\n",
      "Name: Raspberry, dtype: int64\n"
     ]
    },
    {
     "data": {
      "image/png": "[encoded data removed]",
      "text/plain": [
       "<Figure size 432x288 with 1 Axes>"
      ]
     },
     "metadata": {
      "needs_background": "light"
     },
     "output_type": "display_data"
    },
    {
     "name": "stdout",
     "output_type": "stream",
     "text": [
      "\n",
      "\n",
      "Coffee\n",
      "No     1502\n",
      "Yes     498\n",
      "Name: Coffee, dtype: int64\n"
     ]
    },
    {
     "data": {
      "image/png": "[encoded data removed]",
      "text/plain": [
       "<Figure size 432x288 with 1 Axes>"
      ]
     },
     "metadata": {
      "needs_background": "light"
     },
     "output_type": "display_data"
    },
    {
     "name": "stdout",
     "output_type": "stream",
     "text": [
      "\n",
      "\n",
      "Vanilla\n",
      "No     1282\n",
      "Yes     718\n",
      "Name: Vanilla, dtype: int64\n"
     ]
    },
    {
     "data": {
      "image/png": "[encoded data removed]",
      "text/plain": [
       "<Figure size 432x288 with 1 Axes>"
      ]
     },
     "metadata": {
      "needs_background": "light"
     },
     "output_type": "display_data"
    },
    {
     "name": "stdout",
     "output_type": "stream",
     "text": [
      "\n",
      "\n",
      "Strawberry\n",
      "Yes    1090\n",
      "No      910\n",
      "Name: Strawberry, dtype: int64\n"
     ]
    },
    {
     "data": {
      "image/png": "[encoded data removed]",
      "text/plain": [
       "<Figure size 432x288 with 1 Axes>"
      ]
     },
     "metadata": {
      "needs_background": "light"
     },
     "output_type": "display_data"
    },
    {
     "name": "stdout",
     "output_type": "stream",
     "text": [
      "\n",
      "\n",
      "Boysenberry\n",
      "Yes    1227\n",
      "No      773\n",
      "Name: Boysenberry, dtype: int64\n"
     ]
    },
    {
     "data": {
      "image/png": "[encoded data removed]",
      "text/plain": [
       "<Figure size 432x288 with 1 Axes>"
      ]
     },
     "metadata": {
      "needs_background": "light"
     },
     "output_type": "display_data"
    },
    {
     "name": "stdout",
     "output_type": "stream",
     "text": [
      "\n",
      "\n",
      "Blueberry\n",
      "Yes    1370\n",
      "No      630\n",
      "Name: Blueberry, dtype: int64\n"
     ]
    },
    {
     "data": {
      "image/png": "[encoded data removed]",
      "text/plain": [
       "<Figure size 432x288 with 1 Axes>"
      ]
     },
     "metadata": {
      "needs_background": "light"
     },
     "output_type": "display_data"
    },
    {
     "name": "stdout",
     "output_type": "stream",
     "text": [
      "\n",
      "\n",
      "Banana\n",
      "No     1579\n",
      "Yes     421\n",
      "Name: Banana, dtype: int64\n"
     ]
    },
    {
     "data": {
      "image/png": "[encoded data removed]",
      "text/plain": [
       "<Figure size 432x288 with 1 Axes>"
      ]
     },
     "metadata": {
      "needs_background": "light"
     },
     "output_type": "display_data"
    },
    {
     "name": "stdout",
     "output_type": "stream",
     "text": [
      "\n",
      "\n"
     ]
    }
   ],
   "source": [
    "for i in lt_twenty.index:\n",
    "    print(i)\n",
    "    print(df[i].value_counts())\n",
    "    df[i].value_counts(ascending=True).plot(kind='barh')\n",
    "    plt.show()\n",
    "    print('\\n')"
   ]
  },
  {
   "cell_type": "code",
   "execution_count": 158,
   "metadata": {},
   "outputs": [
    {
     "data": {
      "text/html": [
       "<div>\n",
       "<style scoped>\n",
       "    .dataframe tbody tr th:only-of-type {\n",
       "        vertical-align: middle;\n",
       "    }\n",
       "\n",
       "    .dataframe tbody tr th {\n",
       "        vertical-align: top;\n",
       "    }\n",
       "\n",
       "    .dataframe thead th {\n",
       "        text-align: right;\n",
       "    }\n",
       "</style>\n",
       "<table border=\"1\" class=\"dataframe\">\n",
       "  <thead>\n",
       "    <tr style=\"text-align: right;\">\n",
       "      <th></th>\n",
       "      <th>RID</th>\n",
       "      <th>Segment</th>\n",
       "      <th>Brand</th>\n",
       "      <th>Price</th>\n",
       "      <th>Units</th>\n",
       "      <th>Banana</th>\n",
       "      <th>Blueberry</th>\n",
       "      <th>Boysenberry</th>\n",
       "      <th>Strawberry</th>\n",
       "      <th>Vanilla</th>\n",
       "      <th>Coffee</th>\n",
       "      <th>Raspberry</th>\n",
       "      <th>Age</th>\n",
       "      <th>Gender</th>\n",
       "    </tr>\n",
       "  </thead>\n",
       "  <tbody>\n",
       "    <tr>\n",
       "      <th>0</th>\n",
       "      <td>45</td>\n",
       "      <td>Health Fanatic</td>\n",
       "      <td>Major Competitor</td>\n",
       "      <td>1.18</td>\n",
       "      <td>5</td>\n",
       "      <td>No</td>\n",
       "      <td>Yes</td>\n",
       "      <td>Yes</td>\n",
       "      <td>No</td>\n",
       "      <td>No</td>\n",
       "      <td>Yes</td>\n",
       "      <td>No</td>\n",
       "      <td>51 to 60 years old</td>\n",
       "      <td>Male</td>\n",
       "    </tr>\n",
       "    <tr>\n",
       "      <th>1</th>\n",
       "      <td>46</td>\n",
       "      <td>Health Fanatic</td>\n",
       "      <td>C</td>\n",
       "      <td>1.02</td>\n",
       "      <td>8</td>\n",
       "      <td>No</td>\n",
       "      <td>Yes</td>\n",
       "      <td>No</td>\n",
       "      <td>No</td>\n",
       "      <td>No</td>\n",
       "      <td>No</td>\n",
       "      <td>Yes</td>\n",
       "      <td>51 to 60 years old</td>\n",
       "      <td>Male</td>\n",
       "    </tr>\n",
       "    <tr>\n",
       "      <th>2</th>\n",
       "      <td>49</td>\n",
       "      <td>Health-Conscious</td>\n",
       "      <td>C</td>\n",
       "      <td>1.23</td>\n",
       "      <td>9</td>\n",
       "      <td>No</td>\n",
       "      <td>Yes</td>\n",
       "      <td>Yes</td>\n",
       "      <td>No</td>\n",
       "      <td>Yes</td>\n",
       "      <td>No</td>\n",
       "      <td>No</td>\n",
       "      <td>36 to 40 years old</td>\n",
       "      <td>Female</td>\n",
       "    </tr>\n",
       "    <tr>\n",
       "      <th>3</th>\n",
       "      <td>51</td>\n",
       "      <td>Dessert Lover</td>\n",
       "      <td>Major Competitor</td>\n",
       "      <td>1.11</td>\n",
       "      <td>8</td>\n",
       "      <td>No</td>\n",
       "      <td>Yes</td>\n",
       "      <td>Yes</td>\n",
       "      <td>No</td>\n",
       "      <td>No</td>\n",
       "      <td>No</td>\n",
       "      <td>Yes</td>\n",
       "      <td>51 to 60 years old</td>\n",
       "      <td>Female</td>\n",
       "    </tr>\n",
       "    <tr>\n",
       "      <th>4</th>\n",
       "      <td>52</td>\n",
       "      <td>Normal Food Consumer</td>\n",
       "      <td>Major Competitor</td>\n",
       "      <td>1.28</td>\n",
       "      <td>6</td>\n",
       "      <td>No</td>\n",
       "      <td>Yes</td>\n",
       "      <td>Yes</td>\n",
       "      <td>No</td>\n",
       "      <td>No</td>\n",
       "      <td>No</td>\n",
       "      <td>No</td>\n",
       "      <td>36 to 40 years old</td>\n",
       "      <td>Male</td>\n",
       "    </tr>\n",
       "  </tbody>\n",
       "</table>\n",
       "</div>"
      ],
      "text/plain": [
       "   RID               Segment             Brand  Price  Units Banana Blueberry  \\\n",
       "0   45        Health Fanatic  Major Competitor   1.18      5     No       Yes   \n",
       "1   46        Health Fanatic                 C   1.02      8     No       Yes   \n",
       "2   49      Health-Conscious                 C   1.23      9     No       Yes   \n",
       "3   51         Dessert Lover  Major Competitor   1.11      8     No       Yes   \n",
       "4   52  Normal Food Consumer  Major Competitor   1.28      6     No       Yes   \n",
       "\n",
       "  Boysenberry Strawberry Vanilla Coffee Raspberry                 Age  Gender  \n",
       "0         Yes         No      No    Yes        No  51 to 60 years old    Male  \n",
       "1          No         No      No     No       Yes  51 to 60 years old    Male  \n",
       "2         Yes         No     Yes     No        No  36 to 40 years old  Female  \n",
       "3         Yes         No      No     No       Yes  51 to 60 years old  Female  \n",
       "4         Yes         No      No     No        No  36 to 40 years old    Male  "
      ]
     },
     "execution_count": 158,
     "metadata": {},
     "output_type": "execute_result"
    }
   ],
   "source": [
    "## final preview of the data\n",
    "##\n",
    "df.head()"
   ]
  },
  {
   "cell_type": "markdown",
   "metadata": {},
   "source": [
    "## 4. Analyze Demographics"
   ]
  },
  {
   "cell_type": "markdown",
   "metadata": {},
   "source": [
    "### a. Gender Analysis"
   ]
  },
  {
   "cell_type": "code",
   "execution_count": 159,
   "metadata": {},
   "outputs": [
    {
     "data": {
      "text/html": [
       "<style  type=\"text/css\" >\n",
       "    #T_c666745a_5e3f_11eb_b05d_40ec99d1f8bd caption {\n",
       "          color: darkblue;\n",
       "          font-size: 18px;\n",
       "    }#T_c666745a_5e3f_11eb_b05d_40ec99d1f8bdrow0_col0{\n",
       "            width:  10em;\n",
       "             height:  80%;\n",
       "            background:  linear-gradient(90deg, transparent 50.0%, lightblue 50.0%, lightblue 83.7%, transparent 83.7%);\n",
       "        }#T_c666745a_5e3f_11eb_b05d_40ec99d1f8bdrow1_col0{\n",
       "            width:  10em;\n",
       "             height:  80%;\n",
       "            background:  linear-gradient(90deg, transparent 50.0%, lightblue 50.0%, lightblue 66.3%, transparent 66.3%);\n",
       "        }</style><table id=\"T_c666745a_5e3f_11eb_b05d_40ec99d1f8bd\" ><caption>Gender Distribution</caption><thead>    <tr>        <th class=\"blank level0\" ></th>        <th class=\"col_heading level0 col0\" >Gender</th>    </tr></thead><tbody>\n",
       "                <tr>\n",
       "                        <th id=\"T_c666745a_5e3f_11eb_b05d_40ec99d1f8bdlevel0_row0\" class=\"row_heading level0 row0\" >Female</th>\n",
       "                        <td id=\"T_c666745a_5e3f_11eb_b05d_40ec99d1f8bdrow0_col0\" class=\"data row0 col0\" >67.3%</td>\n",
       "            </tr>\n",
       "            <tr>\n",
       "                        <th id=\"T_c666745a_5e3f_11eb_b05d_40ec99d1f8bdlevel0_row1\" class=\"row_heading level0 row1\" >Male</th>\n",
       "                        <td id=\"T_c666745a_5e3f_11eb_b05d_40ec99d1f8bdrow1_col0\" class=\"data row1 col0\" >32.6%</td>\n",
       "            </tr>\n",
       "    </tbody></table>"
      ],
      "text/plain": [
       "<pandas.io.formats.style.Styler at 0x25eed28a460>"
      ]
     },
     "execution_count": 159,
     "metadata": {},
     "output_type": "execute_result"
    }
   ],
   "source": [
    "## Find gender distribution by percentage\n",
    "##\n",
    "x = df.Gender.value_counts(normalize=True)\n",
    "\n",
    "## turn series to dataFrame\n",
    "##\n",
    "dfGender = pd.DataFrame(x)\n",
    "\n",
    "## View distribution\n",
    "##\n",
    "\n",
    "dfGender.style.set_caption('Gender Distribution').\\\n",
    "         bar(color=bar, subset=['Gender'], align='zero', vmax=1). \\\n",
    "         format(to_Pct).\\\n",
    "         set_table_styles( tbl_styles ) "
   ]
  },
  {
   "cell_type": "code",
   "execution_count": 160,
   "metadata": {
    "scrolled": false
   },
   "outputs": [
    {
     "data": {
      "image/png": "[encoded data removed]",
      "text/plain": [
       "<Figure size 720x432 with 1 Axes>"
      ]
     },
     "metadata": {
      "needs_background": "light"
     },
     "output_type": "display_data"
    }
   ],
   "source": [
    "axGender = dfGender.plot(kind='barh', figsize=(10,6), legend=False)\n",
    "axGender.set_title('Gender Distribution' + newLine + \"Question: What is your Gender?\", fontsize=font_title)\n",
    "axGender.xaxis.set_major_formatter(ticker.PercentFormatter(1))\n",
    "\n",
    "txt=\"Total Number of Customers={}\".format(df.shape[0])\n",
    "footer(txt,axGender, ypos=-.2)"
   ]
  },
  {
   "cell_type": "markdown",
   "metadata": {},
   "source": [
    "### b.  Age Analysis"
   ]
  },
  {
   "cell_type": "code",
   "execution_count": 161,
   "metadata": {},
   "outputs": [
    {
     "data": {
      "text/html": [
       "<style  type=\"text/css\" >\n",
       "    #T_c69f67e8_5e3f_11eb_a854_40ec99d1f8bd caption {\n",
       "          color: darkblue;\n",
       "          font-size: 18px;\n",
       "    }#T_c69f67e8_5e3f_11eb_a854_40ec99d1f8bdrow0_col0{\n",
       "            width:  10em;\n",
       "             height:  80%;\n",
       "            background:  linear-gradient(90deg, transparent 50.0%, lightblue 50.0%, lightblue 74.4%, transparent 74.4%);\n",
       "        }#T_c69f67e8_5e3f_11eb_a854_40ec99d1f8bdrow1_col0{\n",
       "            width:  10em;\n",
       "             height:  80%;\n",
       "            background:  linear-gradient(90deg, transparent 50.0%, lightblue 50.0%, lightblue 92.7%, transparent 92.7%);\n",
       "        }#T_c69f67e8_5e3f_11eb_a854_40ec99d1f8bdrow2_col0{\n",
       "            width:  10em;\n",
       "             height:  80%;\n",
       "            background:  linear-gradient(90deg, transparent 50.0%, lightblue 50.0%, lightblue 93.9%, transparent 93.9%);\n",
       "        }#T_c69f67e8_5e3f_11eb_a854_40ec99d1f8bdrow3_col0{\n",
       "            width:  10em;\n",
       "             height:  80%;\n",
       "            background:  linear-gradient(90deg, transparent 50.0%, lightblue 50.0%, lightblue 100.0%, transparent 100.0%);\n",
       "        }#T_c69f67e8_5e3f_11eb_a854_40ec99d1f8bdrow4_col0{\n",
       "            width:  10em;\n",
       "             height:  80%;\n",
       "            background:  linear-gradient(90deg, transparent 50.0%, lightblue 50.0%, lightblue 93.7%, transparent 93.7%);\n",
       "        }#T_c69f67e8_5e3f_11eb_a854_40ec99d1f8bdrow5_col0{\n",
       "            width:  10em;\n",
       "             height:  80%;\n",
       "            background:  linear-gradient(90deg, transparent 50.0%, lightblue 50.0%, lightblue 94.2%, transparent 94.2%);\n",
       "        }</style><table id=\"T_c69f67e8_5e3f_11eb_a854_40ec99d1f8bd\" ><caption>Age Distribution</caption><thead>    <tr>        <th class=\"blank level0\" ></th>        <th class=\"col_heading level0 col0\" >Age</th>    </tr></thead><tbody>\n",
       "                <tr>\n",
       "                        <th id=\"T_c69f67e8_5e3f_11eb_a854_40ec99d1f8bdlevel0_row0\" class=\"row_heading level0 row0\" >18 to 35 years old</th>\n",
       "                        <td id=\"T_c69f67e8_5e3f_11eb_a854_40ec99d1f8bdrow0_col0\" class=\"data row0 col0\" >9.8%</td>\n",
       "            </tr>\n",
       "            <tr>\n",
       "                        <th id=\"T_c69f67e8_5e3f_11eb_a854_40ec99d1f8bdlevel0_row1\" class=\"row_heading level0 row1\" >36 to 40 years old</th>\n",
       "                        <td id=\"T_c69f67e8_5e3f_11eb_a854_40ec99d1f8bdrow1_col0\" class=\"data row1 col0\" >17.2%</td>\n",
       "            </tr>\n",
       "            <tr>\n",
       "                        <th id=\"T_c69f67e8_5e3f_11eb_a854_40ec99d1f8bdlevel0_row2\" class=\"row_heading level0 row2\" >41 to 50 years old</th>\n",
       "                        <td id=\"T_c69f67e8_5e3f_11eb_a854_40ec99d1f8bdrow2_col0\" class=\"data row2 col0\" >17.6%</td>\n",
       "            </tr>\n",
       "            <tr>\n",
       "                        <th id=\"T_c69f67e8_5e3f_11eb_a854_40ec99d1f8bdlevel0_row3\" class=\"row_heading level0 row3\" >51 to 60 years old</th>\n",
       "                        <td id=\"T_c69f67e8_5e3f_11eb_a854_40ec99d1f8bdrow3_col0\" class=\"data row3 col0\" >20.1%</td>\n",
       "            </tr>\n",
       "            <tr>\n",
       "                        <th id=\"T_c69f67e8_5e3f_11eb_a854_40ec99d1f8bdlevel0_row4\" class=\"row_heading level0 row4\" >61 to 67 years old</th>\n",
       "                        <td id=\"T_c69f67e8_5e3f_11eb_a854_40ec99d1f8bdrow4_col0\" class=\"data row4 col0\" >17.5%</td>\n",
       "            </tr>\n",
       "            <tr>\n",
       "                        <th id=\"T_c69f67e8_5e3f_11eb_a854_40ec99d1f8bdlevel0_row5\" class=\"row_heading level0 row5\" >68 years old and over</th>\n",
       "                        <td id=\"T_c69f67e8_5e3f_11eb_a854_40ec99d1f8bdrow5_col0\" class=\"data row5 col0\" >17.8%</td>\n",
       "            </tr>\n",
       "    </tbody></table>"
      ],
      "text/plain": [
       "<pandas.io.formats.style.Styler at 0x25ef0b17b20>"
      ]
     },
     "execution_count": 161,
     "metadata": {},
     "output_type": "execute_result"
    }
   ],
   "source": [
    "## Find gender distribution by percentage\n",
    "##\n",
    "x = df.Age.value_counts(normalize=True)\n",
    "\n",
    "## turn series to dataFrame\n",
    "##\n",
    "dfAge = pd.DataFrame(x)\n",
    "\n",
    "\n",
    "## Rearrange columns based on order for age group\n",
    "##\n",
    "ageOrder=[ '18 to 35 years old', \n",
    "           '36 to 40 years old', \n",
    "           '41 to 50 years old',\n",
    "           '51 to 60 years old', \n",
    "           '61 to 67 years old', \n",
    "           '68 years old and over' ]\n",
    "\n",
    "dfAge = dfAge.reindex(ageOrder)\n",
    "\n",
    "\n",
    "## View distribution\n",
    "##\n",
    "\n",
    "dfAge.style.set_caption('Age Distribution').\\\n",
    "           bar(color=bar, subset=['Age'], align='zero'). \\\n",
    "           format(to_Pct).\\\n",
    "           set_table_styles( tbl_styles ) "
   ]
  },
  {
   "cell_type": "code",
   "execution_count": 162,
   "metadata": {},
   "outputs": [
    {
     "data": {
      "image/png": "[encoded data removed]",
      "text/plain": [
       "<Figure size 720x432 with 1 Axes>"
      ]
     },
     "metadata": {
      "needs_background": "light"
     },
     "output_type": "display_data"
    }
   ],
   "source": [
    "axAge = dfAge.plot(kind='barh', figsize=(10,6), legend=False)\n",
    "axAge.set_title('Age Distribution' + newLine + \"Question: What is your Age Group?\", fontsize=font_title)\n",
    "axAge.xaxis.set_major_formatter(ticker.PercentFormatter(1))\n",
    "\n",
    "txt=\"Total Number of Customers={}\".format(df.shape[0])\n",
    "footer(txt,axAge, ypos=-.2)"
   ]
  },
  {
   "cell_type": "markdown",
   "metadata": {},
   "source": [
    "### c. Age by Gender Analysis"
   ]
  },
  {
   "cell_type": "code",
   "execution_count": 163,
   "metadata": {},
   "outputs": [
    {
     "data": {
      "text/html": [
       "<div>\n",
       "<style scoped>\n",
       "    .dataframe tbody tr th:only-of-type {\n",
       "        vertical-align: middle;\n",
       "    }\n",
       "\n",
       "    .dataframe tbody tr th {\n",
       "        vertical-align: top;\n",
       "    }\n",
       "\n",
       "    .dataframe thead th {\n",
       "        text-align: right;\n",
       "    }\n",
       "</style>\n",
       "<table border=\"1\" class=\"dataframe\">\n",
       "  <thead>\n",
       "    <tr style=\"text-align: right;\">\n",
       "      <th></th>\n",
       "      <th>RID</th>\n",
       "      <th>Segment</th>\n",
       "      <th>Brand</th>\n",
       "      <th>Price</th>\n",
       "      <th>Units</th>\n",
       "      <th>Banana</th>\n",
       "      <th>Blueberry</th>\n",
       "      <th>Boysenberry</th>\n",
       "      <th>Strawberry</th>\n",
       "      <th>Vanilla</th>\n",
       "      <th>Coffee</th>\n",
       "      <th>Raspberry</th>\n",
       "      <th>Age</th>\n",
       "      <th>Gender</th>\n",
       "    </tr>\n",
       "  </thead>\n",
       "  <tbody>\n",
       "    <tr>\n",
       "      <th>0</th>\n",
       "      <td>45</td>\n",
       "      <td>Health Fanatic</td>\n",
       "      <td>Major Competitor</td>\n",
       "      <td>1.18</td>\n",
       "      <td>5</td>\n",
       "      <td>No</td>\n",
       "      <td>Yes</td>\n",
       "      <td>Yes</td>\n",
       "      <td>No</td>\n",
       "      <td>No</td>\n",
       "      <td>Yes</td>\n",
       "      <td>No</td>\n",
       "      <td>51 to 60 years old</td>\n",
       "      <td>Male</td>\n",
       "    </tr>\n",
       "    <tr>\n",
       "      <th>1</th>\n",
       "      <td>46</td>\n",
       "      <td>Health Fanatic</td>\n",
       "      <td>C</td>\n",
       "      <td>1.02</td>\n",
       "      <td>8</td>\n",
       "      <td>No</td>\n",
       "      <td>Yes</td>\n",
       "      <td>No</td>\n",
       "      <td>No</td>\n",
       "      <td>No</td>\n",
       "      <td>No</td>\n",
       "      <td>Yes</td>\n",
       "      <td>51 to 60 years old</td>\n",
       "      <td>Male</td>\n",
       "    </tr>\n",
       "    <tr>\n",
       "      <th>2</th>\n",
       "      <td>49</td>\n",
       "      <td>Health-Conscious</td>\n",
       "      <td>C</td>\n",
       "      <td>1.23</td>\n",
       "      <td>9</td>\n",
       "      <td>No</td>\n",
       "      <td>Yes</td>\n",
       "      <td>Yes</td>\n",
       "      <td>No</td>\n",
       "      <td>Yes</td>\n",
       "      <td>No</td>\n",
       "      <td>No</td>\n",
       "      <td>36 to 40 years old</td>\n",
       "      <td>Female</td>\n",
       "    </tr>\n",
       "    <tr>\n",
       "      <th>3</th>\n",
       "      <td>51</td>\n",
       "      <td>Dessert Lover</td>\n",
       "      <td>Major Competitor</td>\n",
       "      <td>1.11</td>\n",
       "      <td>8</td>\n",
       "      <td>No</td>\n",
       "      <td>Yes</td>\n",
       "      <td>Yes</td>\n",
       "      <td>No</td>\n",
       "      <td>No</td>\n",
       "      <td>No</td>\n",
       "      <td>Yes</td>\n",
       "      <td>51 to 60 years old</td>\n",
       "      <td>Female</td>\n",
       "    </tr>\n",
       "    <tr>\n",
       "      <th>4</th>\n",
       "      <td>52</td>\n",
       "      <td>Normal Food Consumer</td>\n",
       "      <td>Major Competitor</td>\n",
       "      <td>1.28</td>\n",
       "      <td>6</td>\n",
       "      <td>No</td>\n",
       "      <td>Yes</td>\n",
       "      <td>Yes</td>\n",
       "      <td>No</td>\n",
       "      <td>No</td>\n",
       "      <td>No</td>\n",
       "      <td>No</td>\n",
       "      <td>36 to 40 years old</td>\n",
       "      <td>Male</td>\n",
       "    </tr>\n",
       "  </tbody>\n",
       "</table>\n",
       "</div>"
      ],
      "text/plain": [
       "   RID               Segment             Brand  Price  Units Banana Blueberry  \\\n",
       "0   45        Health Fanatic  Major Competitor   1.18      5     No       Yes   \n",
       "1   46        Health Fanatic                 C   1.02      8     No       Yes   \n",
       "2   49      Health-Conscious                 C   1.23      9     No       Yes   \n",
       "3   51         Dessert Lover  Major Competitor   1.11      8     No       Yes   \n",
       "4   52  Normal Food Consumer  Major Competitor   1.28      6     No       Yes   \n",
       "\n",
       "  Boysenberry Strawberry Vanilla Coffee Raspberry                 Age  Gender  \n",
       "0         Yes         No      No    Yes        No  51 to 60 years old    Male  \n",
       "1          No         No      No     No       Yes  51 to 60 years old    Male  \n",
       "2         Yes         No     Yes     No        No  36 to 40 years old  Female  \n",
       "3         Yes         No      No     No       Yes  51 to 60 years old  Female  \n",
       "4         Yes         No      No     No        No  36 to 40 years old    Male  "
      ]
     },
     "execution_count": 163,
     "metadata": {},
     "output_type": "execute_result"
    }
   ],
   "source": [
    "df.head()"
   ]
  },
  {
   "cell_type": "code",
   "execution_count": 164,
   "metadata": {},
   "outputs": [
    {
     "data": {
      "text/html": [
       "<style  type=\"text/css\" >\n",
       "    #T_c6fc6e6e_5e3f_11eb_825a_40ec99d1f8bd caption {\n",
       "          color: darkblue;\n",
       "          font-size: 18px;\n",
       "    }#T_c6fc6e6e_5e3f_11eb_825a_40ec99d1f8bdrow0_col0{\n",
       "            width:  10em;\n",
       "             height:  80%;\n",
       "            background:  linear-gradient(90deg, transparent 50.0%, lightblue 50.0%, lightblue 78.7%, transparent 78.7%);\n",
       "        }#T_c6fc6e6e_5e3f_11eb_825a_40ec99d1f8bdrow0_col1{\n",
       "            width:  10em;\n",
       "             height:  80%;\n",
       "            background:  linear-gradient(90deg, transparent 50.0%, lightblue 50.0%, lightblue 67.1%, transparent 67.1%);\n",
       "        }#T_c6fc6e6e_5e3f_11eb_825a_40ec99d1f8bdrow1_col0{\n",
       "            width:  10em;\n",
       "             height:  80%;\n",
       "            background:  linear-gradient(90deg, transparent 50.0%, lightblue 50.0%, lightblue 92.9%, transparent 92.9%);\n",
       "        }#T_c6fc6e6e_5e3f_11eb_825a_40ec99d1f8bdrow1_col1{\n",
       "            width:  10em;\n",
       "             height:  80%;\n",
       "            background:  linear-gradient(90deg, transparent 50.0%, lightblue 50.0%, lightblue 92.3%, transparent 92.3%);\n",
       "        }#T_c6fc6e6e_5e3f_11eb_825a_40ec99d1f8bdrow2_col0{\n",
       "            width:  10em;\n",
       "             height:  80%;\n",
       "            background:  linear-gradient(90deg, transparent 50.0%, lightblue 50.0%, lightblue 97.4%, transparent 97.4%);\n",
       "        }#T_c6fc6e6e_5e3f_11eb_825a_40ec99d1f8bdrow2_col1{\n",
       "            width:  10em;\n",
       "             height:  80%;\n",
       "            background:  linear-gradient(90deg, transparent 50.0%, lightblue 50.0%, lightblue 87.9%, transparent 87.9%);\n",
       "        }#T_c6fc6e6e_5e3f_11eb_825a_40ec99d1f8bdrow3_col0,#T_c6fc6e6e_5e3f_11eb_825a_40ec99d1f8bdrow3_col1{\n",
       "            width:  10em;\n",
       "             height:  80%;\n",
       "            background:  linear-gradient(90deg, transparent 50.0%, lightblue 50.0%, lightblue 100.0%, transparent 100.0%);\n",
       "        }#T_c6fc6e6e_5e3f_11eb_825a_40ec99d1f8bdrow4_col0{\n",
       "            width:  10em;\n",
       "             height:  80%;\n",
       "            background:  linear-gradient(90deg, transparent 50.0%, lightblue 50.0%, lightblue 98.8%, transparent 98.8%);\n",
       "        }#T_c6fc6e6e_5e3f_11eb_825a_40ec99d1f8bdrow4_col1{\n",
       "            width:  10em;\n",
       "             height:  80%;\n",
       "            background:  linear-gradient(90deg, transparent 50.0%, lightblue 50.0%, lightblue 84.9%, transparent 84.9%);\n",
       "        }#T_c6fc6e6e_5e3f_11eb_825a_40ec99d1f8bdrow5_col0{\n",
       "            width:  10em;\n",
       "             height:  80%;\n",
       "            background:  linear-gradient(90deg, transparent 50.0%, lightblue 50.0%, lightblue 98.4%, transparent 98.4%);\n",
       "        }#T_c6fc6e6e_5e3f_11eb_825a_40ec99d1f8bdrow5_col1{\n",
       "            width:  10em;\n",
       "             height:  80%;\n",
       "            background:  linear-gradient(90deg, transparent 50.0%, lightblue 50.0%, lightblue 86.9%, transparent 86.9%);\n",
       "        }</style><table id=\"T_c6fc6e6e_5e3f_11eb_825a_40ec99d1f8bd\" ><caption>Age by Gender</caption><thead>    <tr>        <th class=\"index_name level0\" >Gender</th>        <th class=\"col_heading level0 col0\" >Female</th>        <th class=\"col_heading level0 col1\" >Male</th>    </tr>    <tr>        <th class=\"index_name level0\" >Age</th>        <th class=\"blank\" ></th>        <th class=\"blank\" ></th>    </tr></thead><tbody>\n",
       "                <tr>\n",
       "                        <th id=\"T_c6fc6e6e_5e3f_11eb_825a_40ec99d1f8bdlevel0_row0\" class=\"row_heading level0 row0\" >18 to 35 years old</th>\n",
       "                        <td id=\"T_c6fc6e6e_5e3f_11eb_825a_40ec99d1f8bdrow0_col0\" class=\"data row0 col0\" >7.2%</td>\n",
       "                        <td id=\"T_c6fc6e6e_5e3f_11eb_825a_40ec99d1f8bdrow0_col1\" class=\"data row0 col1\" >2.5%</td>\n",
       "            </tr>\n",
       "            <tr>\n",
       "                        <th id=\"T_c6fc6e6e_5e3f_11eb_825a_40ec99d1f8bdlevel0_row1\" class=\"row_heading level0 row1\" >36 to 40 years old</th>\n",
       "                        <td id=\"T_c6fc6e6e_5e3f_11eb_825a_40ec99d1f8bdrow1_col0\" class=\"data row1 col0\" >10.8%</td>\n",
       "                        <td id=\"T_c6fc6e6e_5e3f_11eb_825a_40ec99d1f8bdrow1_col1\" class=\"data row1 col1\" >6.3%</td>\n",
       "            </tr>\n",
       "            <tr>\n",
       "                        <th id=\"T_c6fc6e6e_5e3f_11eb_825a_40ec99d1f8bdlevel0_row2\" class=\"row_heading level0 row2\" >41 to 50 years old</th>\n",
       "                        <td id=\"T_c6fc6e6e_5e3f_11eb_825a_40ec99d1f8bdrow2_col0\" class=\"data row2 col0\" >12.0%</td>\n",
       "                        <td id=\"T_c6fc6e6e_5e3f_11eb_825a_40ec99d1f8bdrow2_col1\" class=\"data row2 col1\" >5.7%</td>\n",
       "            </tr>\n",
       "            <tr>\n",
       "                        <th id=\"T_c6fc6e6e_5e3f_11eb_825a_40ec99d1f8bdlevel0_row3\" class=\"row_heading level0 row3\" >51 to 60 years old</th>\n",
       "                        <td id=\"T_c6fc6e6e_5e3f_11eb_825a_40ec99d1f8bdrow3_col0\" class=\"data row3 col0\" >12.7%</td>\n",
       "                        <td id=\"T_c6fc6e6e_5e3f_11eb_825a_40ec99d1f8bdrow3_col1\" class=\"data row3 col1\" >7.4%</td>\n",
       "            </tr>\n",
       "            <tr>\n",
       "                        <th id=\"T_c6fc6e6e_5e3f_11eb_825a_40ec99d1f8bdlevel0_row4\" class=\"row_heading level0 row4\" >61 to 67 years old</th>\n",
       "                        <td id=\"T_c6fc6e6e_5e3f_11eb_825a_40ec99d1f8bdrow4_col0\" class=\"data row4 col0\" >12.3%</td>\n",
       "                        <td id=\"T_c6fc6e6e_5e3f_11eb_825a_40ec99d1f8bdrow4_col1\" class=\"data row4 col1\" >5.2%</td>\n",
       "            </tr>\n",
       "            <tr>\n",
       "                        <th id=\"T_c6fc6e6e_5e3f_11eb_825a_40ec99d1f8bdlevel0_row5\" class=\"row_heading level0 row5\" >68 years old and over</th>\n",
       "                        <td id=\"T_c6fc6e6e_5e3f_11eb_825a_40ec99d1f8bdrow5_col0\" class=\"data row5 col0\" >12.2%</td>\n",
       "                        <td id=\"T_c6fc6e6e_5e3f_11eb_825a_40ec99d1f8bdrow5_col1\" class=\"data row5 col1\" >5.5%</td>\n",
       "            </tr>\n",
       "    </tbody></table>"
      ],
      "text/plain": [
       "<pandas.io.formats.style.Styler at 0x25eeff182e0>"
      ]
     },
     "execution_count": 164,
     "metadata": {},
     "output_type": "execute_result"
    }
   ],
   "source": [
    "## View age by gender survey demographics\n",
    "##\n",
    "ageByGender = pd.crosstab(df.Age,df.Gender, normalize=True)\n",
    "\n",
    "ageByGender.style.set_caption(\"Age by Gender\"). \\\n",
    "            bar(color=bar, align='zero'). \\\n",
    "            set_table_styles(tbl_styles). \\\n",
    "            format(to_Pct)"
   ]
  },
  {
   "cell_type": "markdown",
   "metadata": {},
   "source": [
    "**Convert age by gender table from wide form to long form**\n"
   ]
  },
  {
   "cell_type": "code",
   "execution_count": 165,
   "metadata": {},
   "outputs": [],
   "source": [
    "## 1. remove age as index\n",
    "##\n",
    "ageByGender_wide = ageByGender.reset_index()"
   ]
  },
  {
   "cell_type": "code",
   "execution_count": 166,
   "metadata": {},
   "outputs": [
    {
     "data": {
      "text/html": [
       "<div>\n",
       "<style scoped>\n",
       "    .dataframe tbody tr th:only-of-type {\n",
       "        vertical-align: middle;\n",
       "    }\n",
       "\n",
       "    .dataframe tbody tr th {\n",
       "        vertical-align: top;\n",
       "    }\n",
       "\n",
       "    .dataframe thead th {\n",
       "        text-align: right;\n",
       "    }\n",
       "</style>\n",
       "<table border=\"1\" class=\"dataframe\">\n",
       "  <thead>\n",
       "    <tr style=\"text-align: right;\">\n",
       "      <th></th>\n",
       "      <th>Age</th>\n",
       "      <th>Gender</th>\n",
       "      <th>value</th>\n",
       "    </tr>\n",
       "  </thead>\n",
       "  <tbody>\n",
       "    <tr>\n",
       "      <th>0</th>\n",
       "      <td>18 to 35 years old</td>\n",
       "      <td>Female</td>\n",
       "      <td>0.0725</td>\n",
       "    </tr>\n",
       "    <tr>\n",
       "      <th>1</th>\n",
       "      <td>36 to 40 years old</td>\n",
       "      <td>Female</td>\n",
       "      <td>0.1085</td>\n",
       "    </tr>\n",
       "    <tr>\n",
       "      <th>2</th>\n",
       "      <td>41 to 50 years old</td>\n",
       "      <td>Female</td>\n",
       "      <td>0.1200</td>\n",
       "    </tr>\n",
       "    <tr>\n",
       "      <th>3</th>\n",
       "      <td>51 to 60 years old</td>\n",
       "      <td>Female</td>\n",
       "      <td>0.1265</td>\n",
       "    </tr>\n",
       "    <tr>\n",
       "      <th>4</th>\n",
       "      <td>61 to 67 years old</td>\n",
       "      <td>Female</td>\n",
       "      <td>0.1235</td>\n",
       "    </tr>\n",
       "    <tr>\n",
       "      <th>5</th>\n",
       "      <td>68 years old and over</td>\n",
       "      <td>Female</td>\n",
       "      <td>0.1225</td>\n",
       "    </tr>\n",
       "    <tr>\n",
       "      <th>6</th>\n",
       "      <td>18 to 35 years old</td>\n",
       "      <td>Male</td>\n",
       "      <td>0.0255</td>\n",
       "    </tr>\n",
       "    <tr>\n",
       "      <th>7</th>\n",
       "      <td>36 to 40 years old</td>\n",
       "      <td>Male</td>\n",
       "      <td>0.0630</td>\n",
       "    </tr>\n",
       "    <tr>\n",
       "      <th>8</th>\n",
       "      <td>41 to 50 years old</td>\n",
       "      <td>Male</td>\n",
       "      <td>0.0565</td>\n",
       "    </tr>\n",
       "    <tr>\n",
       "      <th>9</th>\n",
       "      <td>51 to 60 years old</td>\n",
       "      <td>Male</td>\n",
       "      <td>0.0745</td>\n",
       "    </tr>\n",
       "  </tbody>\n",
       "</table>\n",
       "</div>"
      ],
      "text/plain": [
       "                     Age  Gender   value\n",
       "0     18 to 35 years old  Female  0.0725\n",
       "1     36 to 40 years old  Female  0.1085\n",
       "2     41 to 50 years old  Female  0.1200\n",
       "3     51 to 60 years old  Female  0.1265\n",
       "4     61 to 67 years old  Female  0.1235\n",
       "5  68 years old and over  Female  0.1225\n",
       "6     18 to 35 years old    Male  0.0255\n",
       "7     36 to 40 years old    Male  0.0630\n",
       "8     41 to 50 years old    Male  0.0565\n",
       "9     51 to 60 years old    Male  0.0745"
      ]
     },
     "execution_count": 166,
     "metadata": {},
     "output_type": "execute_result"
    }
   ],
   "source": [
    "## 2. transpose the table\n",
    "##\n",
    "ageByGender_long = pd.melt(ageByGender_wide,id_vars=[\"Age\"], \n",
    "                           value_vars=['Female','Male'],   ## columns to transpose\n",
    "                           var_name=['Gender'])\n",
    "\n",
    "ageByGender_long.head(10)"
   ]
  },
  {
   "cell_type": "code",
   "execution_count": 167,
   "metadata": {},
   "outputs": [
    {
     "data": {
      "text/html": [
       "<style  type=\"text/css\" >\n",
       "</style><table id=\"T_c81a839b_5e3f_11eb_a695_40ec99d1f8bd\" ><thead>    <tr>        <th class=\"blank level0\" ></th>        <th class=\"col_heading level0 col0\" >Age</th>        <th class=\"col_heading level0 col1\" >Gender</th>        <th class=\"col_heading level0 col2\" >Percent</th>    </tr></thead><tbody>\n",
       "                <tr>\n",
       "                        <th id=\"T_c81a839b_5e3f_11eb_a695_40ec99d1f8bdlevel0_row0\" class=\"row_heading level0 row0\" >0</th>\n",
       "                        <td id=\"T_c81a839b_5e3f_11eb_a695_40ec99d1f8bdrow0_col0\" class=\"data row0 col0\" >18 to 35 years old</td>\n",
       "                        <td id=\"T_c81a839b_5e3f_11eb_a695_40ec99d1f8bdrow0_col1\" class=\"data row0 col1\" >Female</td>\n",
       "                        <td id=\"T_c81a839b_5e3f_11eb_a695_40ec99d1f8bdrow0_col2\" class=\"data row0 col2\" >7.2%</td>\n",
       "            </tr>\n",
       "            <tr>\n",
       "                        <th id=\"T_c81a839b_5e3f_11eb_a695_40ec99d1f8bdlevel0_row1\" class=\"row_heading level0 row1\" >1</th>\n",
       "                        <td id=\"T_c81a839b_5e3f_11eb_a695_40ec99d1f8bdrow1_col0\" class=\"data row1 col0\" >36 to 40 years old</td>\n",
       "                        <td id=\"T_c81a839b_5e3f_11eb_a695_40ec99d1f8bdrow1_col1\" class=\"data row1 col1\" >Female</td>\n",
       "                        <td id=\"T_c81a839b_5e3f_11eb_a695_40ec99d1f8bdrow1_col2\" class=\"data row1 col2\" >10.8%</td>\n",
       "            </tr>\n",
       "            <tr>\n",
       "                        <th id=\"T_c81a839b_5e3f_11eb_a695_40ec99d1f8bdlevel0_row2\" class=\"row_heading level0 row2\" >2</th>\n",
       "                        <td id=\"T_c81a839b_5e3f_11eb_a695_40ec99d1f8bdrow2_col0\" class=\"data row2 col0\" >41 to 50 years old</td>\n",
       "                        <td id=\"T_c81a839b_5e3f_11eb_a695_40ec99d1f8bdrow2_col1\" class=\"data row2 col1\" >Female</td>\n",
       "                        <td id=\"T_c81a839b_5e3f_11eb_a695_40ec99d1f8bdrow2_col2\" class=\"data row2 col2\" >12.0%</td>\n",
       "            </tr>\n",
       "            <tr>\n",
       "                        <th id=\"T_c81a839b_5e3f_11eb_a695_40ec99d1f8bdlevel0_row3\" class=\"row_heading level0 row3\" >3</th>\n",
       "                        <td id=\"T_c81a839b_5e3f_11eb_a695_40ec99d1f8bdrow3_col0\" class=\"data row3 col0\" >51 to 60 years old</td>\n",
       "                        <td id=\"T_c81a839b_5e3f_11eb_a695_40ec99d1f8bdrow3_col1\" class=\"data row3 col1\" >Female</td>\n",
       "                        <td id=\"T_c81a839b_5e3f_11eb_a695_40ec99d1f8bdrow3_col2\" class=\"data row3 col2\" >12.7%</td>\n",
       "            </tr>\n",
       "            <tr>\n",
       "                        <th id=\"T_c81a839b_5e3f_11eb_a695_40ec99d1f8bdlevel0_row4\" class=\"row_heading level0 row4\" >4</th>\n",
       "                        <td id=\"T_c81a839b_5e3f_11eb_a695_40ec99d1f8bdrow4_col0\" class=\"data row4 col0\" >61 to 67 years old</td>\n",
       "                        <td id=\"T_c81a839b_5e3f_11eb_a695_40ec99d1f8bdrow4_col1\" class=\"data row4 col1\" >Female</td>\n",
       "                        <td id=\"T_c81a839b_5e3f_11eb_a695_40ec99d1f8bdrow4_col2\" class=\"data row4 col2\" >12.3%</td>\n",
       "            </tr>\n",
       "            <tr>\n",
       "                        <th id=\"T_c81a839b_5e3f_11eb_a695_40ec99d1f8bdlevel0_row5\" class=\"row_heading level0 row5\" >5</th>\n",
       "                        <td id=\"T_c81a839b_5e3f_11eb_a695_40ec99d1f8bdrow5_col0\" class=\"data row5 col0\" >68 years old and over</td>\n",
       "                        <td id=\"T_c81a839b_5e3f_11eb_a695_40ec99d1f8bdrow5_col1\" class=\"data row5 col1\" >Female</td>\n",
       "                        <td id=\"T_c81a839b_5e3f_11eb_a695_40ec99d1f8bdrow5_col2\" class=\"data row5 col2\" >12.2%</td>\n",
       "            </tr>\n",
       "            <tr>\n",
       "                        <th id=\"T_c81a839b_5e3f_11eb_a695_40ec99d1f8bdlevel0_row6\" class=\"row_heading level0 row6\" >6</th>\n",
       "                        <td id=\"T_c81a839b_5e3f_11eb_a695_40ec99d1f8bdrow6_col0\" class=\"data row6 col0\" >18 to 35 years old</td>\n",
       "                        <td id=\"T_c81a839b_5e3f_11eb_a695_40ec99d1f8bdrow6_col1\" class=\"data row6 col1\" >Male</td>\n",
       "                        <td id=\"T_c81a839b_5e3f_11eb_a695_40ec99d1f8bdrow6_col2\" class=\"data row6 col2\" >2.5%</td>\n",
       "            </tr>\n",
       "            <tr>\n",
       "                        <th id=\"T_c81a839b_5e3f_11eb_a695_40ec99d1f8bdlevel0_row7\" class=\"row_heading level0 row7\" >7</th>\n",
       "                        <td id=\"T_c81a839b_5e3f_11eb_a695_40ec99d1f8bdrow7_col0\" class=\"data row7 col0\" >36 to 40 years old</td>\n",
       "                        <td id=\"T_c81a839b_5e3f_11eb_a695_40ec99d1f8bdrow7_col1\" class=\"data row7 col1\" >Male</td>\n",
       "                        <td id=\"T_c81a839b_5e3f_11eb_a695_40ec99d1f8bdrow7_col2\" class=\"data row7 col2\" >6.3%</td>\n",
       "            </tr>\n",
       "            <tr>\n",
       "                        <th id=\"T_c81a839b_5e3f_11eb_a695_40ec99d1f8bdlevel0_row8\" class=\"row_heading level0 row8\" >8</th>\n",
       "                        <td id=\"T_c81a839b_5e3f_11eb_a695_40ec99d1f8bdrow8_col0\" class=\"data row8 col0\" >41 to 50 years old</td>\n",
       "                        <td id=\"T_c81a839b_5e3f_11eb_a695_40ec99d1f8bdrow8_col1\" class=\"data row8 col1\" >Male</td>\n",
       "                        <td id=\"T_c81a839b_5e3f_11eb_a695_40ec99d1f8bdrow8_col2\" class=\"data row8 col2\" >5.7%</td>\n",
       "            </tr>\n",
       "            <tr>\n",
       "                        <th id=\"T_c81a839b_5e3f_11eb_a695_40ec99d1f8bdlevel0_row9\" class=\"row_heading level0 row9\" >9</th>\n",
       "                        <td id=\"T_c81a839b_5e3f_11eb_a695_40ec99d1f8bdrow9_col0\" class=\"data row9 col0\" >51 to 60 years old</td>\n",
       "                        <td id=\"T_c81a839b_5e3f_11eb_a695_40ec99d1f8bdrow9_col1\" class=\"data row9 col1\" >Male</td>\n",
       "                        <td id=\"T_c81a839b_5e3f_11eb_a695_40ec99d1f8bdrow9_col2\" class=\"data row9 col2\" >7.4%</td>\n",
       "            </tr>\n",
       "            <tr>\n",
       "                        <th id=\"T_c81a839b_5e3f_11eb_a695_40ec99d1f8bdlevel0_row10\" class=\"row_heading level0 row10\" >10</th>\n",
       "                        <td id=\"T_c81a839b_5e3f_11eb_a695_40ec99d1f8bdrow10_col0\" class=\"data row10 col0\" >61 to 67 years old</td>\n",
       "                        <td id=\"T_c81a839b_5e3f_11eb_a695_40ec99d1f8bdrow10_col1\" class=\"data row10 col1\" >Male</td>\n",
       "                        <td id=\"T_c81a839b_5e3f_11eb_a695_40ec99d1f8bdrow10_col2\" class=\"data row10 col2\" >5.2%</td>\n",
       "            </tr>\n",
       "            <tr>\n",
       "                        <th id=\"T_c81a839b_5e3f_11eb_a695_40ec99d1f8bdlevel0_row11\" class=\"row_heading level0 row11\" >11</th>\n",
       "                        <td id=\"T_c81a839b_5e3f_11eb_a695_40ec99d1f8bdrow11_col0\" class=\"data row11 col0\" >68 years old and over</td>\n",
       "                        <td id=\"T_c81a839b_5e3f_11eb_a695_40ec99d1f8bdrow11_col1\" class=\"data row11 col1\" >Male</td>\n",
       "                        <td id=\"T_c81a839b_5e3f_11eb_a695_40ec99d1f8bdrow11_col2\" class=\"data row11 col2\" >5.5%</td>\n",
       "            </tr>\n",
       "    </tbody></table>"
      ],
      "text/plain": [
       "<pandas.io.formats.style.Styler at 0x25eeb965ee0>"
      ]
     },
     "execution_count": 167,
     "metadata": {},
     "output_type": "execute_result"
    }
   ],
   "source": [
    "## 3. Rename the value column to percent\n",
    "## \n",
    "ageByGender_long.rename(columns={'value':'Percent'}, inplace=True)\n",
    "\n",
    "## 4. Format the percent column to percents\n",
    "##\n",
    "ageByGender_long.style.format({'Percent':to_Pct})"
   ]
  },
  {
   "cell_type": "code",
   "execution_count": 168,
   "metadata": {
    "scrolled": false
   },
   "outputs": [
    {
     "data": {
      "image/png": "[encoded data removed]",
      "text/plain": [
       "<Figure size 864x576 with 1 Axes>"
      ]
     },
     "metadata": {
      "needs_background": "light"
     },
     "output_type": "display_data"
    }
   ],
   "source": [
    "axAgeByGender=plt.figure(figsize=(12, 8))\n",
    "axAgeByGender=sns.barplot(data=ageByGender_long, x='Percent',y='Age', hue='Gender', palette=['hotpink','blue'])\n",
    "\n",
    "## options\n",
    "axAgeByGender.xaxis.set_major_formatter(ticker.PercentFormatter(1))\n",
    "axAgeByGender.set_title('Age by Gender Analysis')\n",
    "axAgeByGender.legend(fontsize='small')\n",
    "\n",
    "txt=\"Total Number of Customers={}\".format(df.shape[0])\n",
    "footer(txt,axAgeByGender, ypos=-.2)"
   ]
  },
  {
   "cell_type": "code",
   "execution_count": 59,
   "metadata": {},
   "outputs": [
    {
     "data": {
      "text/html": [
       "<div>\n",
       "<style scoped>\n",
       "    .dataframe tbody tr th:only-of-type {\n",
       "        vertical-align: middle;\n",
       "    }\n",
       "\n",
       "    .dataframe tbody tr th {\n",
       "        vertical-align: top;\n",
       "    }\n",
       "\n",
       "    .dataframe thead th {\n",
       "        text-align: right;\n",
       "    }\n",
       "</style>\n",
       "<table border=\"1\" class=\"dataframe\">\n",
       "  <thead>\n",
       "    <tr style=\"text-align: right;\">\n",
       "      <th>Gender</th>\n",
       "      <th>Female</th>\n",
       "      <th>Male</th>\n",
       "    </tr>\n",
       "    <tr>\n",
       "      <th>Age</th>\n",
       "      <th></th>\n",
       "      <th></th>\n",
       "    </tr>\n",
       "  </thead>\n",
       "  <tbody>\n",
       "    <tr>\n",
       "      <th>18 to 35 years old</th>\n",
       "      <td>0.0725</td>\n",
       "      <td>0.0255</td>\n",
       "    </tr>\n",
       "    <tr>\n",
       "      <th>36 to 40 years old</th>\n",
       "      <td>0.1085</td>\n",
       "      <td>0.0630</td>\n",
       "    </tr>\n",
       "    <tr>\n",
       "      <th>41 to 50 years old</th>\n",
       "      <td>0.1200</td>\n",
       "      <td>0.0565</td>\n",
       "    </tr>\n",
       "    <tr>\n",
       "      <th>51 to 60 years old</th>\n",
       "      <td>0.1265</td>\n",
       "      <td>0.0745</td>\n",
       "    </tr>\n",
       "    <tr>\n",
       "      <th>61 to 67 years old</th>\n",
       "      <td>0.1235</td>\n",
       "      <td>0.0520</td>\n",
       "    </tr>\n",
       "    <tr>\n",
       "      <th>68 years old and over</th>\n",
       "      <td>0.1225</td>\n",
       "      <td>0.0550</td>\n",
       "    </tr>\n",
       "  </tbody>\n",
       "</table>\n",
       "</div>"
      ],
      "text/plain": [
       "Gender                 Female    Male\n",
       "Age                                  \n",
       "18 to 35 years old     0.0725  0.0255\n",
       "36 to 40 years old     0.1085  0.0630\n",
       "41 to 50 years old     0.1200  0.0565\n",
       "51 to 60 years old     0.1265  0.0745\n",
       "61 to 67 years old     0.1235  0.0520\n",
       "68 years old and over  0.1225  0.0550"
      ]
     },
     "execution_count": 59,
     "metadata": {},
     "output_type": "execute_result"
    }
   ],
   "source": [
    "ageByGender"
   ]
  },
  {
   "cell_type": "code",
   "execution_count": 51,
   "metadata": {},
   "outputs": [
    {
     "data": {
      "image/png": "[encoded data removed]",
      "text/plain": [
       "<Figure size 432x288 with 2 Axes>"
      ]
     },
     "metadata": {
      "needs_background": "light"
     },
     "output_type": "display_data"
    }
   ],
   "source": [
    "axHeat = sns.heatmap( ageByGender, cmap = \"YlGnBu\" )\n",
    "axHeat.set_title( 'Gender by Age Group Heatmap', fontsize = font_title )\n",
    "\n",
    "txt = 'All consumers: n = ' + str( df.shape[ 0 ] )\n",
    "footer(txt,axHeat, ypos=-.3)"
   ]
  },
  {
   "cell_type": "code",
   "execution_count": null,
   "metadata": {},
   "outputs": [],
   "source": [
    "x = df.query( \"Gender == 'Male'\")\n",
    "males = x.Age.value_counts().reindex( lst_odr )\n",
    "##\n",
    "ax1 = fig.add_axes( [ 0, 0, 0.5, 0.5 ], aspect = 1 )\n",
    "ax1.pie( males, labels = lst_odr, startangle = 90, radius = 1.75, autopct = '%1.1f%%' )\n",
    "ax1.set( title = \"Males\" )\n",
    "ax1.set_title( 'Males', pad = 50, fontsize = 20 )\n",
    "base = 'Base: All male consumers; n = ' + str( sum( males ) ) + '\\nQuestion: What is your age?'\n",
    "ax1.annotate( base, (0,0), (0, -0.6), xycoords = 'axes fraction' );\n",
    "##\n",
    "## ===> Females <===\n",
    "##\n",
    "x = df.query( \"Gender == 'Female'\")\n",
    "females = x.Age.value_counts().reindex( lst_odr )\n",
    "##\n",
    "ax2 = fig.add_axes( [ 0.95, 0, 0.5, 0.5 ], aspect = 1 )\n",
    "ax2.pie( females, labels = lst_odr, startangle = 90, radius = 1.75, autopct = '%1.1f%%' )\n",
    "ax2.set_title( 'Females', pad = 50, fontsize = 20 );\n",
    "base = 'Base: All female consumers; n = ' + str( sum( females ) ) + '\\nQuestions: What is your age?'\n",
    "ax2.annotate( base, (0,0), (0, -0.6), xycoords = 'axes fraction' );"
   ]
  },
  {
   "cell_type": "code",
   "execution_count": 181,
   "metadata": {},
   "outputs": [
    {
     "data": {
      "text/html": [
       "<div>\n",
       "<style scoped>\n",
       "    .dataframe tbody tr th:only-of-type {\n",
       "        vertical-align: middle;\n",
       "    }\n",
       "\n",
       "    .dataframe tbody tr th {\n",
       "        vertical-align: top;\n",
       "    }\n",
       "\n",
       "    .dataframe thead th {\n",
       "        text-align: right;\n",
       "    }\n",
       "</style>\n",
       "<table border=\"1\" class=\"dataframe\">\n",
       "  <thead>\n",
       "    <tr style=\"text-align: right;\">\n",
       "      <th>Gender</th>\n",
       "      <th>Female</th>\n",
       "      <th>Male</th>\n",
       "    </tr>\n",
       "    <tr>\n",
       "      <th>Age</th>\n",
       "      <th></th>\n",
       "      <th></th>\n",
       "    </tr>\n",
       "  </thead>\n",
       "  <tbody>\n",
       "    <tr>\n",
       "      <th>18 to 35 years old</th>\n",
       "      <td>145</td>\n",
       "      <td>51</td>\n",
       "    </tr>\n",
       "    <tr>\n",
       "      <th>36 to 40 years old</th>\n",
       "      <td>217</td>\n",
       "      <td>126</td>\n",
       "    </tr>\n",
       "    <tr>\n",
       "      <th>41 to 50 years old</th>\n",
       "      <td>240</td>\n",
       "      <td>113</td>\n",
       "    </tr>\n",
       "    <tr>\n",
       "      <th>51 to 60 years old</th>\n",
       "      <td>253</td>\n",
       "      <td>149</td>\n",
       "    </tr>\n",
       "    <tr>\n",
       "      <th>61 to 67 years old</th>\n",
       "      <td>247</td>\n",
       "      <td>104</td>\n",
       "    </tr>\n",
       "    <tr>\n",
       "      <th>68 years old and over</th>\n",
       "      <td>245</td>\n",
       "      <td>110</td>\n",
       "    </tr>\n",
       "  </tbody>\n",
       "</table>\n",
       "</div>"
      ],
      "text/plain": [
       "Gender                 Female  Male\n",
       "Age                                \n",
       "18 to 35 years old        145    51\n",
       "36 to 40 years old        217   126\n",
       "41 to 50 years old        240   113\n",
       "51 to 60 years old        253   149\n",
       "61 to 67 years old        247   104\n",
       "68 years old and over     245   110"
      ]
     },
     "execution_count": 181,
     "metadata": {},
     "output_type": "execute_result"
    }
   ],
   "source": [
    "ageByGender_counts = pd.crosstab(df.Age,df.Gender)\n",
    "ageByGender_counts"
   ]
  },
  {
   "cell_type": "code",
   "execution_count": 248,
   "metadata": {},
   "outputs": [
    {
     "data": {
      "text/plain": [
       "[None, None, None, None, None, None, None, None, None, None, None, None]"
      ]
     },
     "execution_count": 248,
     "metadata": {},
     "output_type": "execute_result"
    },
    {
     "data": {
      "image/png": "[encoded data removed]",
      "text/plain": [
       "<Figure size 864x576 with 2 Axes>"
      ]
     },
     "metadata": {
      "needs_background": "light"
     },
     "output_type": "display_data"
    }
   ],
   "source": [
    "## Create figure\n",
    "##\n",
    "fig = plt.figure(figsize=(12,8))\n",
    "\n",
    "\n",
    "## Find max value of y axis\n",
    "##\n",
    "max_y = int(round(max(ageByGender_counts.max().to_list()), -2))\n",
    "\n",
    "\n",
    "## Add females axes\n",
    "##\n",
    "ax1 = fig.add_axes([0,0,.5,.5])\n",
    "ax1.bar(ageByGender_counts.index, ageByGender_counts.Female, color='hotpink',)\n",
    "\n",
    "plt.ylim(top=max_y)\n",
    "plt.title(\"Count of Females by Age\")\n",
    "plt.xticks(rotation = 45)\n",
    "plt.setp(ax1.xaxis.get_majorticklabels(), ha='right')\n",
    "\n",
    "\n",
    "## Add males axes\n",
    "##\n",
    "ax2 = fig.add_axes( [ 0.7, 0, 0.5, 0.5 ])\n",
    "ax2.bar(ageByGender_counts.index, ageByGender_counts.Male, color='blue')\n",
    "\n",
    "plt.ylim(top=max_y)\n",
    "plt.title(\"Count of Males by Age\")\n",
    "plt.xticks(rotation = 45)\n",
    "plt.setp(ax2.xaxis.get_majorticklabels(), ha='right')"
   ]
  },
  {
   "cell_type": "markdown",
   "metadata": {},
   "source": [
    "## 5. Analyze Flavor Preference"
   ]
  },
  {
   "cell_type": "code",
   "execution_count": 84,
   "metadata": {},
   "outputs": [
    {
     "data": {
      "text/html": [
       "<div>\n",
       "<style scoped>\n",
       "    .dataframe tbody tr th:only-of-type {\n",
       "        vertical-align: middle;\n",
       "    }\n",
       "\n",
       "    .dataframe tbody tr th {\n",
       "        vertical-align: top;\n",
       "    }\n",
       "\n",
       "    .dataframe thead th {\n",
       "        text-align: right;\n",
       "    }\n",
       "</style>\n",
       "<table border=\"1\" class=\"dataframe\">\n",
       "  <thead>\n",
       "    <tr style=\"text-align: right;\">\n",
       "      <th></th>\n",
       "      <th>RID</th>\n",
       "      <th>Segment</th>\n",
       "      <th>Brand</th>\n",
       "      <th>Price</th>\n",
       "      <th>Units</th>\n",
       "      <th>Banana</th>\n",
       "      <th>Blueberry</th>\n",
       "      <th>Boysenberry</th>\n",
       "      <th>Strawberry</th>\n",
       "      <th>Vanilla</th>\n",
       "      <th>Coffee</th>\n",
       "      <th>Raspberry</th>\n",
       "      <th>Age</th>\n",
       "      <th>Gender</th>\n",
       "    </tr>\n",
       "  </thead>\n",
       "  <tbody>\n",
       "    <tr>\n",
       "      <th>0</th>\n",
       "      <td>45</td>\n",
       "      <td>Health Fanatic</td>\n",
       "      <td>Major Competitor</td>\n",
       "      <td>1.18</td>\n",
       "      <td>5</td>\n",
       "      <td>No</td>\n",
       "      <td>Yes</td>\n",
       "      <td>Yes</td>\n",
       "      <td>No</td>\n",
       "      <td>No</td>\n",
       "      <td>Yes</td>\n",
       "      <td>No</td>\n",
       "      <td>51 to 60 years old</td>\n",
       "      <td>Male</td>\n",
       "    </tr>\n",
       "    <tr>\n",
       "      <th>1</th>\n",
       "      <td>46</td>\n",
       "      <td>Health Fanatic</td>\n",
       "      <td>C</td>\n",
       "      <td>1.02</td>\n",
       "      <td>8</td>\n",
       "      <td>No</td>\n",
       "      <td>Yes</td>\n",
       "      <td>No</td>\n",
       "      <td>No</td>\n",
       "      <td>No</td>\n",
       "      <td>No</td>\n",
       "      <td>Yes</td>\n",
       "      <td>51 to 60 years old</td>\n",
       "      <td>Male</td>\n",
       "    </tr>\n",
       "    <tr>\n",
       "      <th>2</th>\n",
       "      <td>49</td>\n",
       "      <td>Health-Conscious</td>\n",
       "      <td>C</td>\n",
       "      <td>1.23</td>\n",
       "      <td>9</td>\n",
       "      <td>No</td>\n",
       "      <td>Yes</td>\n",
       "      <td>Yes</td>\n",
       "      <td>No</td>\n",
       "      <td>Yes</td>\n",
       "      <td>No</td>\n",
       "      <td>No</td>\n",
       "      <td>36 to 40 years old</td>\n",
       "      <td>Female</td>\n",
       "    </tr>\n",
       "    <tr>\n",
       "      <th>3</th>\n",
       "      <td>51</td>\n",
       "      <td>Dessert Lover</td>\n",
       "      <td>Major Competitor</td>\n",
       "      <td>1.11</td>\n",
       "      <td>8</td>\n",
       "      <td>No</td>\n",
       "      <td>Yes</td>\n",
       "      <td>Yes</td>\n",
       "      <td>No</td>\n",
       "      <td>No</td>\n",
       "      <td>No</td>\n",
       "      <td>Yes</td>\n",
       "      <td>51 to 60 years old</td>\n",
       "      <td>Female</td>\n",
       "    </tr>\n",
       "    <tr>\n",
       "      <th>4</th>\n",
       "      <td>52</td>\n",
       "      <td>Normal Food Consumer</td>\n",
       "      <td>Major Competitor</td>\n",
       "      <td>1.28</td>\n",
       "      <td>6</td>\n",
       "      <td>No</td>\n",
       "      <td>Yes</td>\n",
       "      <td>Yes</td>\n",
       "      <td>No</td>\n",
       "      <td>No</td>\n",
       "      <td>No</td>\n",
       "      <td>No</td>\n",
       "      <td>36 to 40 years old</td>\n",
       "      <td>Male</td>\n",
       "    </tr>\n",
       "  </tbody>\n",
       "</table>\n",
       "</div>"
      ],
      "text/plain": [
       "   RID               Segment             Brand  Price  Units Banana Blueberry  \\\n",
       "0   45        Health Fanatic  Major Competitor   1.18      5     No       Yes   \n",
       "1   46        Health Fanatic                 C   1.02      8     No       Yes   \n",
       "2   49      Health-Conscious                 C   1.23      9     No       Yes   \n",
       "3   51         Dessert Lover  Major Competitor   1.11      8     No       Yes   \n",
       "4   52  Normal Food Consumer  Major Competitor   1.28      6     No       Yes   \n",
       "\n",
       "  Boysenberry Strawberry Vanilla Coffee Raspberry                 Age  Gender  \n",
       "0         Yes         No      No    Yes        No  51 to 60 years old    Male  \n",
       "1          No         No      No     No       Yes  51 to 60 years old    Male  \n",
       "2         Yes         No     Yes     No        No  36 to 40 years old  Female  \n",
       "3         Yes         No      No     No       Yes  51 to 60 years old  Female  \n",
       "4         Yes         No      No     No        No  36 to 40 years old    Male  "
      ]
     },
     "execution_count": 84,
     "metadata": {},
     "output_type": "execute_result"
    }
   ],
   "source": [
    "df.head()"
   ]
  },
  {
   "cell_type": "markdown",
   "metadata": {},
   "source": [
    "### 5a. Flavor Overview"
   ]
  },
  {
   "cell_type": "code",
   "execution_count": 249,
   "metadata": {},
   "outputs": [
    {
     "name": "stdout",
     "output_type": "stream",
     "text": [
      "Total Number of flavors:7\n",
      "Yogurt Flavors: ['Banana', 'Blueberry', 'Boysenberry', 'Strawberry', 'Vanilla', 'Coffee', 'Raspberry']\n"
     ]
    }
   ],
   "source": [
    "flavorNames = ['Banana', 'Blueberry', 'Boysenberry', \n",
    "           'Strawberry', 'Vanilla', 'Coffee', 'Raspberry']\n",
    "\n",
    "print('Total Number of flavors:{}'.format(len(flavorNames)))\n",
    "print('Yogurt Flavors: {}'.format(flavorNames))"
   ]
  },
  {
   "cell_type": "markdown",
   "metadata": {},
   "source": [
    "### 5b. Prepare Data"
   ]
  },
  {
   "cell_type": "markdown",
   "metadata": {},
   "source": [
    "Recode the Yes/No values to 1's and 0's to summarize the data."
   ]
  },
  {
   "cell_type": "code",
   "execution_count": null,
   "metadata": {},
   "outputs": [],
   "source": [
    "## New dataframe for flavors\n",
    "##\n",
    "flavors_df=df.copy()\n",
    "\n",
    "## Dictionary to recode Yes=1, No=0\n",
    "## \n",
    "recode_yn = {'Yes':1, 'No':0}\n",
    "\n",
    "## Recode for each column using the dictionary\n",
    "##\n",
    "for i in flavorNames:\n",
    "    flavors_df.replace({i:recode_yn}, inplace=True)"
   ]
  },
  {
   "cell_type": "code",
   "execution_count": 272,
   "metadata": {},
   "outputs": [
    {
     "data": {
      "text/html": [
       "<div>\n",
       "<style scoped>\n",
       "    .dataframe tbody tr th:only-of-type {\n",
       "        vertical-align: middle;\n",
       "    }\n",
       "\n",
       "    .dataframe tbody tr th {\n",
       "        vertical-align: top;\n",
       "    }\n",
       "\n",
       "    .dataframe thead th {\n",
       "        text-align: right;\n",
       "    }\n",
       "</style>\n",
       "<table border=\"1\" class=\"dataframe\">\n",
       "  <thead>\n",
       "    <tr style=\"text-align: right;\">\n",
       "      <th></th>\n",
       "      <th>RID</th>\n",
       "      <th>Segment</th>\n",
       "      <th>Brand</th>\n",
       "      <th>Price</th>\n",
       "      <th>Units</th>\n",
       "      <th>Banana</th>\n",
       "      <th>Blueberry</th>\n",
       "      <th>Boysenberry</th>\n",
       "      <th>Strawberry</th>\n",
       "      <th>Vanilla</th>\n",
       "      <th>Coffee</th>\n",
       "      <th>Raspberry</th>\n",
       "      <th>Age</th>\n",
       "      <th>Gender</th>\n",
       "      <th>Total</th>\n",
       "    </tr>\n",
       "  </thead>\n",
       "  <tbody>\n",
       "    <tr>\n",
       "      <th>0</th>\n",
       "      <td>45</td>\n",
       "      <td>Health Fanatic</td>\n",
       "      <td>Major Competitor</td>\n",
       "      <td>1.18</td>\n",
       "      <td>5</td>\n",
       "      <td>0</td>\n",
       "      <td>1</td>\n",
       "      <td>1</td>\n",
       "      <td>0</td>\n",
       "      <td>0</td>\n",
       "      <td>1</td>\n",
       "      <td>0</td>\n",
       "      <td>51 to 60 years old</td>\n",
       "      <td>Male</td>\n",
       "      <td>3</td>\n",
       "    </tr>\n",
       "    <tr>\n",
       "      <th>1</th>\n",
       "      <td>46</td>\n",
       "      <td>Health Fanatic</td>\n",
       "      <td>C</td>\n",
       "      <td>1.02</td>\n",
       "      <td>8</td>\n",
       "      <td>0</td>\n",
       "      <td>1</td>\n",
       "      <td>0</td>\n",
       "      <td>0</td>\n",
       "      <td>0</td>\n",
       "      <td>0</td>\n",
       "      <td>1</td>\n",
       "      <td>51 to 60 years old</td>\n",
       "      <td>Male</td>\n",
       "      <td>2</td>\n",
       "    </tr>\n",
       "    <tr>\n",
       "      <th>2</th>\n",
       "      <td>49</td>\n",
       "      <td>Health-Conscious</td>\n",
       "      <td>C</td>\n",
       "      <td>1.23</td>\n",
       "      <td>9</td>\n",
       "      <td>0</td>\n",
       "      <td>1</td>\n",
       "      <td>1</td>\n",
       "      <td>0</td>\n",
       "      <td>1</td>\n",
       "      <td>0</td>\n",
       "      <td>0</td>\n",
       "      <td>36 to 40 years old</td>\n",
       "      <td>Female</td>\n",
       "      <td>3</td>\n",
       "    </tr>\n",
       "    <tr>\n",
       "      <th>3</th>\n",
       "      <td>51</td>\n",
       "      <td>Dessert Lover</td>\n",
       "      <td>Major Competitor</td>\n",
       "      <td>1.11</td>\n",
       "      <td>8</td>\n",
       "      <td>0</td>\n",
       "      <td>1</td>\n",
       "      <td>1</td>\n",
       "      <td>0</td>\n",
       "      <td>0</td>\n",
       "      <td>0</td>\n",
       "      <td>1</td>\n",
       "      <td>51 to 60 years old</td>\n",
       "      <td>Female</td>\n",
       "      <td>3</td>\n",
       "    </tr>\n",
       "    <tr>\n",
       "      <th>4</th>\n",
       "      <td>52</td>\n",
       "      <td>Normal Food Consumer</td>\n",
       "      <td>Major Competitor</td>\n",
       "      <td>1.28</td>\n",
       "      <td>6</td>\n",
       "      <td>0</td>\n",
       "      <td>1</td>\n",
       "      <td>1</td>\n",
       "      <td>0</td>\n",
       "      <td>0</td>\n",
       "      <td>0</td>\n",
       "      <td>0</td>\n",
       "      <td>36 to 40 years old</td>\n",
       "      <td>Male</td>\n",
       "      <td>2</td>\n",
       "    </tr>\n",
       "  </tbody>\n",
       "</table>\n",
       "</div>"
      ],
      "text/plain": [
       "   RID               Segment             Brand  Price  Units  Banana  \\\n",
       "0   45        Health Fanatic  Major Competitor   1.18      5       0   \n",
       "1   46        Health Fanatic                 C   1.02      8       0   \n",
       "2   49      Health-Conscious                 C   1.23      9       0   \n",
       "3   51         Dessert Lover  Major Competitor   1.11      8       0   \n",
       "4   52  Normal Food Consumer  Major Competitor   1.28      6       0   \n",
       "\n",
       "   Blueberry  Boysenberry  Strawberry  Vanilla  Coffee  Raspberry  \\\n",
       "0          1            1           0        0       1          0   \n",
       "1          1            0           0        0       0          1   \n",
       "2          1            1           0        1       0          0   \n",
       "3          1            1           0        0       0          1   \n",
       "4          1            1           0        0       0          0   \n",
       "\n",
       "                  Age  Gender  Total  \n",
       "0  51 to 60 years old    Male      3  \n",
       "1  51 to 60 years old    Male      2  \n",
       "2  36 to 40 years old  Female      3  \n",
       "3  51 to 60 years old  Female      3  \n",
       "4  36 to 40 years old    Male      2  "
      ]
     },
     "execution_count": 272,
     "metadata": {},
     "output_type": "execute_result"
    }
   ],
   "source": [
    "flavors_df.head()"
   ]
  },
  {
   "cell_type": "code",
   "execution_count": 273,
   "metadata": {},
   "outputs": [
    {
     "data": {
      "text/plain": [
       "RID              int64\n",
       "Segment         object\n",
       "Brand           object\n",
       "Price          float64\n",
       "Units            int64\n",
       "Banana           int64\n",
       "Blueberry        int64\n",
       "Boysenberry      int64\n",
       "Strawberry       int64\n",
       "Vanilla          int64\n",
       "Coffee           int64\n",
       "Raspberry        int64\n",
       "Age             object\n",
       "Gender          object\n",
       "Total            int64\n",
       "dtype: object"
      ]
     },
     "execution_count": 273,
     "metadata": {},
     "output_type": "execute_result"
    }
   ],
   "source": [
    "flavors_df.dtypes"
   ]
  },
  {
   "cell_type": "markdown",
   "metadata": {},
   "source": [
    "### 5c. Analyze Total Yogurt Flavors Purchased"
   ]
  },
  {
   "cell_type": "markdown",
   "metadata": {},
   "source": [
    "Create a new column to sum if a flavor was chosen for each row."
   ]
  },
  {
   "cell_type": "code",
   "execution_count": 257,
   "metadata": {},
   "outputs": [],
   "source": [
    "flavors_df['Total']=flavors_df[flavorNames].sum(axis=1)"
   ]
  },
  {
   "cell_type": "code",
   "execution_count": 258,
   "metadata": {},
   "outputs": [
    {
     "data": {
      "text/html": [
       "<div>\n",
       "<style scoped>\n",
       "    .dataframe tbody tr th:only-of-type {\n",
       "        vertical-align: middle;\n",
       "    }\n",
       "\n",
       "    .dataframe tbody tr th {\n",
       "        vertical-align: top;\n",
       "    }\n",
       "\n",
       "    .dataframe thead th {\n",
       "        text-align: right;\n",
       "    }\n",
       "</style>\n",
       "<table border=\"1\" class=\"dataframe\">\n",
       "  <thead>\n",
       "    <tr style=\"text-align: right;\">\n",
       "      <th></th>\n",
       "      <th>RID</th>\n",
       "      <th>Segment</th>\n",
       "      <th>Brand</th>\n",
       "      <th>Price</th>\n",
       "      <th>Units</th>\n",
       "      <th>Banana</th>\n",
       "      <th>Blueberry</th>\n",
       "      <th>Boysenberry</th>\n",
       "      <th>Strawberry</th>\n",
       "      <th>Vanilla</th>\n",
       "      <th>Coffee</th>\n",
       "      <th>Raspberry</th>\n",
       "      <th>Age</th>\n",
       "      <th>Gender</th>\n",
       "      <th>Total</th>\n",
       "    </tr>\n",
       "  </thead>\n",
       "  <tbody>\n",
       "    <tr>\n",
       "      <th>0</th>\n",
       "      <td>45</td>\n",
       "      <td>Health Fanatic</td>\n",
       "      <td>Major Competitor</td>\n",
       "      <td>1.18</td>\n",
       "      <td>5</td>\n",
       "      <td>0</td>\n",
       "      <td>1</td>\n",
       "      <td>1</td>\n",
       "      <td>0</td>\n",
       "      <td>0</td>\n",
       "      <td>1</td>\n",
       "      <td>0</td>\n",
       "      <td>51 to 60 years old</td>\n",
       "      <td>Male</td>\n",
       "      <td>3</td>\n",
       "    </tr>\n",
       "    <tr>\n",
       "      <th>1</th>\n",
       "      <td>46</td>\n",
       "      <td>Health Fanatic</td>\n",
       "      <td>C</td>\n",
       "      <td>1.02</td>\n",
       "      <td>8</td>\n",
       "      <td>0</td>\n",
       "      <td>1</td>\n",
       "      <td>0</td>\n",
       "      <td>0</td>\n",
       "      <td>0</td>\n",
       "      <td>0</td>\n",
       "      <td>1</td>\n",
       "      <td>51 to 60 years old</td>\n",
       "      <td>Male</td>\n",
       "      <td>2</td>\n",
       "    </tr>\n",
       "    <tr>\n",
       "      <th>2</th>\n",
       "      <td>49</td>\n",
       "      <td>Health-Conscious</td>\n",
       "      <td>C</td>\n",
       "      <td>1.23</td>\n",
       "      <td>9</td>\n",
       "      <td>0</td>\n",
       "      <td>1</td>\n",
       "      <td>1</td>\n",
       "      <td>0</td>\n",
       "      <td>1</td>\n",
       "      <td>0</td>\n",
       "      <td>0</td>\n",
       "      <td>36 to 40 years old</td>\n",
       "      <td>Female</td>\n",
       "      <td>3</td>\n",
       "    </tr>\n",
       "    <tr>\n",
       "      <th>3</th>\n",
       "      <td>51</td>\n",
       "      <td>Dessert Lover</td>\n",
       "      <td>Major Competitor</td>\n",
       "      <td>1.11</td>\n",
       "      <td>8</td>\n",
       "      <td>0</td>\n",
       "      <td>1</td>\n",
       "      <td>1</td>\n",
       "      <td>0</td>\n",
       "      <td>0</td>\n",
       "      <td>0</td>\n",
       "      <td>1</td>\n",
       "      <td>51 to 60 years old</td>\n",
       "      <td>Female</td>\n",
       "      <td>3</td>\n",
       "    </tr>\n",
       "    <tr>\n",
       "      <th>4</th>\n",
       "      <td>52</td>\n",
       "      <td>Normal Food Consumer</td>\n",
       "      <td>Major Competitor</td>\n",
       "      <td>1.28</td>\n",
       "      <td>6</td>\n",
       "      <td>0</td>\n",
       "      <td>1</td>\n",
       "      <td>1</td>\n",
       "      <td>0</td>\n",
       "      <td>0</td>\n",
       "      <td>0</td>\n",
       "      <td>0</td>\n",
       "      <td>36 to 40 years old</td>\n",
       "      <td>Male</td>\n",
       "      <td>2</td>\n",
       "    </tr>\n",
       "  </tbody>\n",
       "</table>\n",
       "</div>"
      ],
      "text/plain": [
       "   RID               Segment             Brand  Price  Units  Banana  \\\n",
       "0   45        Health Fanatic  Major Competitor   1.18      5       0   \n",
       "1   46        Health Fanatic                 C   1.02      8       0   \n",
       "2   49      Health-Conscious                 C   1.23      9       0   \n",
       "3   51         Dessert Lover  Major Competitor   1.11      8       0   \n",
       "4   52  Normal Food Consumer  Major Competitor   1.28      6       0   \n",
       "\n",
       "   Blueberry  Boysenberry  Strawberry  Vanilla  Coffee  Raspberry  \\\n",
       "0          1            1           0        0       1          0   \n",
       "1          1            0           0        0       0          1   \n",
       "2          1            1           0        1       0          0   \n",
       "3          1            1           0        0       0          1   \n",
       "4          1            1           0        0       0          0   \n",
       "\n",
       "                  Age  Gender  Total  \n",
       "0  51 to 60 years old    Male      3  \n",
       "1  51 to 60 years old    Male      2  \n",
       "2  36 to 40 years old  Female      3  \n",
       "3  51 to 60 years old  Female      3  \n",
       "4  36 to 40 years old    Male      2  "
      ]
     },
     "execution_count": 258,
     "metadata": {},
     "output_type": "execute_result"
    }
   ],
   "source": [
    "flavors_df.head()"
   ]
  },
  {
   "cell_type": "code",
   "execution_count": 293,
   "metadata": {},
   "outputs": [
    {
     "data": {
      "text/plain": [
       "[<matplotlib.axis.XTick at 0x25ef7c3f250>,\n",
       " <matplotlib.axis.XTick at 0x25ef7c3f220>,\n",
       " <matplotlib.axis.XTick at 0x25ef7d31fd0>,\n",
       " <matplotlib.axis.XTick at 0x25ef7d656a0>,\n",
       " <matplotlib.axis.XTick at 0x25ef7d6b250>,\n",
       " <matplotlib.axis.XTick at 0x25ef7d71550>,\n",
       " <matplotlib.axis.XTick at 0x25ef7d71790>,\n",
       " <matplotlib.axis.XTick at 0x25ef7d7a0d0>]"
      ]
     },
     "execution_count": 293,
     "metadata": {},
     "output_type": "execute_result"
    },
    {
     "data": {
      "image/png": "[encoded data removed]",
      "text/plain": [
       "<Figure size 864x576 with 1 Axes>"
      ]
     },
     "metadata": {
      "needs_background": "light"
     },
     "output_type": "display_data"
    }
   ],
   "source": [
    "fig, ax = plt.subplots(figsize=(12,8))\n",
    "\n",
    "ax = sns.histplot(flavors_df, x=\"Total\")\n",
    "ax.set_title(\"Distribution of Number of Flavors Purchased\")\n",
    "ax.set(ylabel=\"Total Count\", xlabel=\"Number of Flavors Purchased\")\n",
    "ax.set_xticks(range(len(flavorNames)+1))"
   ]
  },
  {
   "cell_type": "markdown",
   "metadata": {},
   "source": [
    "### 5d. Analyze Flavors"
   ]
  },
  {
   "cell_type": "code",
   "execution_count": 278,
   "metadata": {},
   "outputs": [
    {
     "data": {
      "text/plain": [
       "Text(0.5, 1.0, 'Total number of flavors chosen')"
      ]
     },
     "execution_count": 278,
     "metadata": {},
     "output_type": "execute_result"
    },
    {
     "data": {
      "image/png": "[encoded data removed]",
      "text/plain": [
       "<Figure size 864x576 with 1 Axes>"
      ]
     },
     "metadata": {
      "needs_background": "light"
     },
     "output_type": "display_data"
    }
   ],
   "source": [
    "flavors_df[flavorNames].sum().sort_values(ascending=False).plot(kind='bar', figsize=(12,8))\n",
    "plt.title(\"Total number of flavors chosen\")"
   ]
  },
  {
   "cell_type": "code",
   "execution_count": null,
   "metadata": {},
   "outputs": [],
   "source": []
  }
 ],
 "metadata": {
  "kernelspec": {
   "display_name": "Python 3",
   "language": "python",
   "name": "python3"
  },
  "language_info": {
   "codemirror_mode": {
    "name": "ipython",
    "version": 3
   },
   "file_extension": ".py",
   "mimetype": "text/x-python",
   "name": "python",
   "nbconvert_exporter": "python",
   "pygments_lexer": "ipython3",
   "version": "3.8.5"
  }
 },
 "nbformat": 4,
 "nbformat_minor": 4
}
