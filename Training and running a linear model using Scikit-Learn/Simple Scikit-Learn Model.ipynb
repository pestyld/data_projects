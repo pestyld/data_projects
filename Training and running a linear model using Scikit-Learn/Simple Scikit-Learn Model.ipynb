{
 "cells": [
  {
   "cell_type": "code",
   "execution_count": null,
   "id": "84c9cd20-72f4-4003-90d3-ca0bcea477b9",
   "metadata": {
    "tags": []
   },
   "outputs": [],
   "source": [
    "import matplotlib.pyplot as plt\n",
    "import numpy as np\n",
    "import pandas as pd\n",
    "from sklearn.linear_model import LinearRegression"
   ]
  },
  {
   "cell_type": "code",
   "execution_count": null,
   "id": "fe7cc70c-745d-4360-ac2c-cf56a00e5241",
   "metadata": {
    "tags": []
   },
   "outputs": [],
   "source": [
    "# Store the data\n",
    "lifesat = pd.read_csv('lifesat.csv')\n",
    "lifesat.head()"
   ]
  },
  {
   "cell_type": "code",
   "execution_count": null,
   "id": "1f65621e-f08a-4858-aa8a-08b7cb755451",
   "metadata": {
    "tags": []
   },
   "outputs": [],
   "source": [
    "X = lifesat.loc[:,[\"GDP per capita (USD)\"]].values\n",
    "y = lifesat.loc[:,[\"Life satisfaction\"]].values\n",
    "display(X,y)"
   ]
  },
  {
   "cell_type": "code",
   "execution_count": null,
   "id": "21876555-91c4-4f44-bb5c-ad681d67bc2f",
   "metadata": {
    "tags": []
   },
   "outputs": [],
   "source": [
    "# Visualize the data\n",
    "fig, ax = plt.subplots()\n",
    "ax.scatter(x = X, y = y)\n",
    "ax.set_xlabel(\"GDP per capita (USD)\")\n",
    "ax.set_ylabel(\"Life satisfaction\")\n",
    "ax.set_ylim(ymin = 0, ymax = 10)\n",
    "ax.set_xlim(xmin = 20_000, xmax = 66_000);"
   ]
  },
  {
   "cell_type": "code",
   "execution_count": null,
   "id": "f7c12176-b6aa-4c3e-bdd0-3f6b83c2c32c",
   "metadata": {
    "tags": []
   },
   "outputs": [],
   "source": [
    "# Select a linear model\n",
    "model = LinearRegression()\n",
    "type(model)"
   ]
  },
  {
   "cell_type": "code",
   "execution_count": null,
   "id": "23b9f2c2-f045-4c63-8997-12cee053f65c",
   "metadata": {
    "tags": []
   },
   "outputs": [],
   "source": [
    "# Train the model\n",
    "model.fit(X, y)"
   ]
  },
  {
   "cell_type": "code",
   "execution_count": null,
   "id": "a08e4080-e686-4016-a7b5-cab1a355671d",
   "metadata": {
    "tags": []
   },
   "outputs": [],
   "source": [
    "model.coef_"
   ]
  },
  {
   "cell_type": "code",
   "execution_count": null,
   "id": "493c658e-cda6-447e-b133-5b6bc2deed33",
   "metadata": {
    "tags": []
   },
   "outputs": [],
   "source": [
    "model.intercept_"
   ]
  },
  {
   "cell_type": "code",
   "execution_count": null,
   "id": "d7aea1e5-a20f-45da-8a1d-2a4e5e04b32e",
   "metadata": {
    "tags": []
   },
   "outputs": [],
   "source": [
    "model.score(X,y)"
   ]
  },
  {
   "cell_type": "code",
   "execution_count": null,
   "id": "9055285d-e7b8-4c32-8c55-48d0a122c036",
   "metadata": {},
   "outputs": [],
   "source": [
    "print(regr.score(X_test, y_test))"
   ]
  },
  {
   "cell_type": "code",
   "execution_count": null,
   "id": "ec6f007b-d664-4b11-9d2a-00d1804069c8",
   "metadata": {
    "tags": []
   },
   "outputs": [],
   "source": [
    "# Make a prediction for Cyprus\n",
    "X_new = [[37_655.2]]  # Cyprus' GDP per capita in 2020\n",
    "print(model.predict(X_new))"
   ]
  },
  {
   "cell_type": "code",
   "execution_count": null,
   "id": "d37782d0-4aff-44a3-b92d-1ef33e21b93a",
   "metadata": {
    "tags": []
   },
   "outputs": [],
   "source": [
    "lifesat.head()"
   ]
  },
  {
   "cell_type": "code",
   "execution_count": null,
   "id": "00742e36-82c9-484a-8674-015692843d76",
   "metadata": {
    "tags": []
   },
   "outputs": [],
   "source": [
    "model.predict(X)"
   ]
  },
  {
   "cell_type": "code",
   "execution_count": null,
   "id": "bb59778f-c64f-4e9e-bf8d-9e54f61c99cb",
   "metadata": {},
   "outputs": [],
   "source": []
  }
 ],
 "metadata": {
  "kernelspec": {
   "display_name": "Python 3 (ipykernel)",
   "language": "python",
   "name": "python3"
  },
  "language_info": {
   "codemirror_mode": {
    "name": "ipython",
    "version": 3
   },
   "file_extension": ".py",
   "mimetype": "text/x-python",
   "name": "python",
   "nbconvert_exporter": "python",
   "pygments_lexer": "ipython3",
   "version": "3.8.16"
  }
 },
 "nbformat": 4,
 "nbformat_minor": 5
}
