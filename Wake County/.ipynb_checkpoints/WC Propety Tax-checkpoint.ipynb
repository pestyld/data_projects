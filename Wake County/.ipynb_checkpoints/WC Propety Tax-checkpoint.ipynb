{
 "cells": [
  {
   "cell_type": "markdown",
   "metadata": {},
   "source": [
    "data location: http://www.wakegov.com/tax/taxratesfees/Pages/default.aspx"
   ]
  },
  {
   "cell_type": "markdown",
   "metadata": {},
   "source": [
    "# Import Packages"
   ]
  },
  {
   "cell_type": "code",
   "execution_count": 1,
   "metadata": {},
   "outputs": [],
   "source": [
    "import pandas as pd\n",
    "import seaborn as sns\n",
    "import numpy as np\n",
    "from matplotlib import pyplot as plt\n",
    "from matplotlib.ticker import PercentFormatter\n",
    "\n",
    "plt.style.use('default')"
   ]
  },
  {
   "cell_type": "markdown",
   "metadata": {},
   "source": [
    "# Access Data"
   ]
  },
  {
   "cell_type": "markdown",
   "metadata": {},
   "source": [
    "### Data came from here: 'http://www.wakegov.com/tax/taxratesfees/Pages/default.aspx'"
   ]
  },
  {
   "cell_type": "markdown",
   "metadata": {},
   "source": [
    "### Access data and place into the df dataframe"
   ]
  },
  {
   "cell_type": "code",
   "execution_count": 2,
   "metadata": {},
   "outputs": [
    {
     "data": {
      "text/html": [
       "<div>\n",
       "<style scoped>\n",
       "    .dataframe tbody tr th:only-of-type {\n",
       "        vertical-align: middle;\n",
       "    }\n",
       "\n",
       "    .dataframe tbody tr th {\n",
       "        vertical-align: top;\n",
       "    }\n",
       "\n",
       "    .dataframe thead th {\n",
       "        text-align: right;\n",
       "    }\n",
       "</style>\n",
       "<table border=\"1\" class=\"dataframe\">\n",
       "  <thead>\n",
       "    <tr style=\"text-align: right;\">\n",
       "      <th></th>\n",
       "      <th>2019</th>\n",
       "      <th>2018</th>\n",
       "      <th>2017</th>\n",
       "      <th>2016*</th>\n",
       "      <th>2015</th>\n",
       "      <th>2014</th>\n",
       "      <th>2013</th>\n",
       "      <th>2012</th>\n",
       "      <th>2011</th>\n",
       "      <th>2010</th>\n",
       "      <th>...</th>\n",
       "      <th>1996</th>\n",
       "      <th>1995</th>\n",
       "      <th>1994</th>\n",
       "      <th>1993</th>\n",
       "      <th>1992*</th>\n",
       "      <th>1991</th>\n",
       "      <th>1990</th>\n",
       "      <th>1989</th>\n",
       "      <th>1988</th>\n",
       "      <th>1987</th>\n",
       "    </tr>\n",
       "  </thead>\n",
       "  <tbody>\n",
       "    <tr>\n",
       "      <th>0</th>\n",
       "      <td>0.7207</td>\n",
       "      <td>0.6544</td>\n",
       "      <td>0.615</td>\n",
       "      <td>0.6005</td>\n",
       "      <td>0.6145</td>\n",
       "      <td>0.578</td>\n",
       "      <td>0.534</td>\n",
       "      <td>0.534</td>\n",
       "      <td>0.534</td>\n",
       "      <td>0.534</td>\n",
       "      <td>...</td>\n",
       "      <td>0.63</td>\n",
       "      <td>0.63</td>\n",
       "      <td>0.76</td>\n",
       "      <td>0.76</td>\n",
       "      <td>0.66</td>\n",
       "      <td>0.88</td>\n",
       "      <td>0.88</td>\n",
       "      <td>0.79</td>\n",
       "      <td>0.72</td>\n",
       "      <td>0.59</td>\n",
       "    </tr>\n",
       "  </tbody>\n",
       "</table>\n",
       "<p>1 rows × 33 columns</p>\n",
       "</div>"
      ],
      "text/plain": [
       "     2019    2018   2017   2016*    2015   2014   2013   2012   2011   2010  \\\n",
       "0  0.7207  0.6544  0.615  0.6005  0.6145  0.578  0.534  0.534  0.534  0.534   \n",
       "\n",
       "   ...  1996  1995  1994  1993  1992*  1991  1990  1989  1988  1987  \n",
       "0  ...  0.63  0.63  0.76  0.76   0.66  0.88  0.88  0.79  0.72  0.59  \n",
       "\n",
       "[1 rows x 33 columns]"
      ]
     },
     "execution_count": 2,
     "metadata": {},
     "output_type": "execute_result"
    }
   ],
   "source": [
    "df_raw = pd.read_csv('wctaxrate.txt',delimiter=' ',index_col=False)\n",
    "df_raw.head()"
   ]
  },
  {
   "cell_type": "markdown",
   "metadata": {},
   "source": [
    "# Prepare Data"
   ]
  },
  {
   "cell_type": "code",
   "execution_count": 29,
   "metadata": {},
   "outputs": [],
   "source": [
    "def prep_data(_df):\n",
    "    def assessment(x):\n",
    "        if '*' in x:\n",
    "            return 'yes'\n",
    "        else:\n",
    "            return 'no'\n",
    "    \n",
    "    return (_df\n",
    "            .transpose()\n",
    "            .reset_index()\n",
    "            .rename(columns={0:'wcTax', 'index':'Year'})\n",
    "            .assign(assessmentYear = lambda df: np.where(df['Year'].str.contains(\"\\*\"),'yes','no'),  ## Create a column that indicates a new property assessment\n",
    "                    Year = lambda df: df.Year.str.replace('*','',regex=True)                         ## Remove the * from the Year column to prepare a numeric index column\n",
    "             )\n",
    "            .astype({'Year':int})                                                                    ## Change the data type of the Year column to integer\n",
    "            .set_index('Year')\n",
    "            .sort_index(ascending=True)                                                              ## Sort the index in ascending order\n",
    "            .assign(pctIncrease = lambda df: df.wcTax.pct_change().round(decimals=2),                ## Calculate the pctIncrease of taxes each year\n",
    "                    RollingAvg = lambda df: df.wcTax.rolling(3).mean().round(decimals=2),            ## Calculate the 5 year rolling average\n",
    "                    wcTaxRank = lambda df: df.wcTax.rank(method='min',ascending=False),\n",
    "            )                                  \n",
    "            \n",
    "    )"
   ]
  },
  {
   "cell_type": "markdown",
   "metadata": {},
   "source": [
    "## Prepare the main data"
   ]
  },
  {
   "cell_type": "code",
   "execution_count": 30,
   "metadata": {},
   "outputs": [
    {
     "data": {
      "text/html": [
       "<div>\n",
       "<style scoped>\n",
       "    .dataframe tbody tr th:only-of-type {\n",
       "        vertical-align: middle;\n",
       "    }\n",
       "\n",
       "    .dataframe tbody tr th {\n",
       "        vertical-align: top;\n",
       "    }\n",
       "\n",
       "    .dataframe thead th {\n",
       "        text-align: right;\n",
       "    }\n",
       "</style>\n",
       "<table border=\"1\" class=\"dataframe\">\n",
       "  <thead>\n",
       "    <tr style=\"text-align: right;\">\n",
       "      <th></th>\n",
       "      <th>wcTax</th>\n",
       "      <th>assessmentYear</th>\n",
       "      <th>pctIncrease</th>\n",
       "      <th>RollingAvg</th>\n",
       "      <th>wcTaxRank</th>\n",
       "    </tr>\n",
       "    <tr>\n",
       "      <th>Year</th>\n",
       "      <th></th>\n",
       "      <th></th>\n",
       "      <th></th>\n",
       "      <th></th>\n",
       "      <th></th>\n",
       "    </tr>\n",
       "  </thead>\n",
       "  <tbody>\n",
       "    <tr>\n",
       "      <th>1987</th>\n",
       "      <td>0.5900</td>\n",
       "      <td>no</td>\n",
       "      <td>NaN</td>\n",
       "      <td>NaN</td>\n",
       "      <td>23.0</td>\n",
       "    </tr>\n",
       "    <tr>\n",
       "      <th>1988</th>\n",
       "      <td>0.7200</td>\n",
       "      <td>no</td>\n",
       "      <td>0.22</td>\n",
       "      <td>NaN</td>\n",
       "      <td>8.0</td>\n",
       "    </tr>\n",
       "    <tr>\n",
       "      <th>1989</th>\n",
       "      <td>0.7900</td>\n",
       "      <td>no</td>\n",
       "      <td>0.10</td>\n",
       "      <td>0.70</td>\n",
       "      <td>3.0</td>\n",
       "    </tr>\n",
       "    <tr>\n",
       "      <th>1990</th>\n",
       "      <td>0.8800</td>\n",
       "      <td>no</td>\n",
       "      <td>0.11</td>\n",
       "      <td>0.80</td>\n",
       "      <td>1.0</td>\n",
       "    </tr>\n",
       "    <tr>\n",
       "      <th>1991</th>\n",
       "      <td>0.8800</td>\n",
       "      <td>no</td>\n",
       "      <td>0.00</td>\n",
       "      <td>0.85</td>\n",
       "      <td>1.0</td>\n",
       "    </tr>\n",
       "    <tr>\n",
       "      <th>1992</th>\n",
       "      <td>0.6600</td>\n",
       "      <td>yes</td>\n",
       "      <td>-0.25</td>\n",
       "      <td>0.81</td>\n",
       "      <td>10.0</td>\n",
       "    </tr>\n",
       "    <tr>\n",
       "      <th>1993</th>\n",
       "      <td>0.7600</td>\n",
       "      <td>no</td>\n",
       "      <td>0.15</td>\n",
       "      <td>0.77</td>\n",
       "      <td>4.0</td>\n",
       "    </tr>\n",
       "    <tr>\n",
       "      <th>1994</th>\n",
       "      <td>0.7600</td>\n",
       "      <td>no</td>\n",
       "      <td>0.00</td>\n",
       "      <td>0.73</td>\n",
       "      <td>4.0</td>\n",
       "    </tr>\n",
       "    <tr>\n",
       "      <th>1995</th>\n",
       "      <td>0.6300</td>\n",
       "      <td>no</td>\n",
       "      <td>-0.17</td>\n",
       "      <td>0.72</td>\n",
       "      <td>13.0</td>\n",
       "    </tr>\n",
       "    <tr>\n",
       "      <th>1996</th>\n",
       "      <td>0.6300</td>\n",
       "      <td>no</td>\n",
       "      <td>0.00</td>\n",
       "      <td>0.67</td>\n",
       "      <td>13.0</td>\n",
       "    </tr>\n",
       "    <tr>\n",
       "      <th>1997</th>\n",
       "      <td>0.6300</td>\n",
       "      <td>no</td>\n",
       "      <td>0.00</td>\n",
       "      <td>0.63</td>\n",
       "      <td>13.0</td>\n",
       "    </tr>\n",
       "    <tr>\n",
       "      <th>1998</th>\n",
       "      <td>0.6300</td>\n",
       "      <td>no</td>\n",
       "      <td>0.00</td>\n",
       "      <td>0.63</td>\n",
       "      <td>13.0</td>\n",
       "    </tr>\n",
       "    <tr>\n",
       "      <th>1999</th>\n",
       "      <td>0.7300</td>\n",
       "      <td>no</td>\n",
       "      <td>0.16</td>\n",
       "      <td>0.66</td>\n",
       "      <td>6.0</td>\n",
       "    </tr>\n",
       "    <tr>\n",
       "      <th>2000</th>\n",
       "      <td>0.5640</td>\n",
       "      <td>yes</td>\n",
       "      <td>-0.23</td>\n",
       "      <td>0.64</td>\n",
       "      <td>25.0</td>\n",
       "    </tr>\n",
       "    <tr>\n",
       "      <th>2001</th>\n",
       "      <td>0.5640</td>\n",
       "      <td>no</td>\n",
       "      <td>0.00</td>\n",
       "      <td>0.62</td>\n",
       "      <td>25.0</td>\n",
       "    </tr>\n",
       "    <tr>\n",
       "      <th>2002</th>\n",
       "      <td>0.5640</td>\n",
       "      <td>no</td>\n",
       "      <td>0.00</td>\n",
       "      <td>0.56</td>\n",
       "      <td>25.0</td>\n",
       "    </tr>\n",
       "    <tr>\n",
       "      <th>2003</th>\n",
       "      <td>0.6040</td>\n",
       "      <td>no</td>\n",
       "      <td>0.07</td>\n",
       "      <td>0.58</td>\n",
       "      <td>19.0</td>\n",
       "    </tr>\n",
       "    <tr>\n",
       "      <th>2004</th>\n",
       "      <td>0.6040</td>\n",
       "      <td>no</td>\n",
       "      <td>0.00</td>\n",
       "      <td>0.59</td>\n",
       "      <td>19.0</td>\n",
       "    </tr>\n",
       "    <tr>\n",
       "      <th>2005</th>\n",
       "      <td>0.6040</td>\n",
       "      <td>no</td>\n",
       "      <td>0.00</td>\n",
       "      <td>0.60</td>\n",
       "      <td>19.0</td>\n",
       "    </tr>\n",
       "    <tr>\n",
       "      <th>2006</th>\n",
       "      <td>0.6340</td>\n",
       "      <td>no</td>\n",
       "      <td>0.05</td>\n",
       "      <td>0.61</td>\n",
       "      <td>12.0</td>\n",
       "    </tr>\n",
       "    <tr>\n",
       "      <th>2007</th>\n",
       "      <td>0.6780</td>\n",
       "      <td>no</td>\n",
       "      <td>0.07</td>\n",
       "      <td>0.64</td>\n",
       "      <td>9.0</td>\n",
       "    </tr>\n",
       "    <tr>\n",
       "      <th>2008</th>\n",
       "      <td>0.5340</td>\n",
       "      <td>yes</td>\n",
       "      <td>-0.21</td>\n",
       "      <td>0.62</td>\n",
       "      <td>28.0</td>\n",
       "    </tr>\n",
       "    <tr>\n",
       "      <th>2009</th>\n",
       "      <td>0.5340</td>\n",
       "      <td>no</td>\n",
       "      <td>0.00</td>\n",
       "      <td>0.58</td>\n",
       "      <td>28.0</td>\n",
       "    </tr>\n",
       "    <tr>\n",
       "      <th>2010</th>\n",
       "      <td>0.5340</td>\n",
       "      <td>no</td>\n",
       "      <td>0.00</td>\n",
       "      <td>0.53</td>\n",
       "      <td>28.0</td>\n",
       "    </tr>\n",
       "    <tr>\n",
       "      <th>2011</th>\n",
       "      <td>0.5340</td>\n",
       "      <td>no</td>\n",
       "      <td>0.00</td>\n",
       "      <td>0.53</td>\n",
       "      <td>28.0</td>\n",
       "    </tr>\n",
       "    <tr>\n",
       "      <th>2012</th>\n",
       "      <td>0.5340</td>\n",
       "      <td>no</td>\n",
       "      <td>0.00</td>\n",
       "      <td>0.53</td>\n",
       "      <td>28.0</td>\n",
       "    </tr>\n",
       "    <tr>\n",
       "      <th>2013</th>\n",
       "      <td>0.5340</td>\n",
       "      <td>no</td>\n",
       "      <td>0.00</td>\n",
       "      <td>0.53</td>\n",
       "      <td>28.0</td>\n",
       "    </tr>\n",
       "    <tr>\n",
       "      <th>2014</th>\n",
       "      <td>0.5780</td>\n",
       "      <td>no</td>\n",
       "      <td>0.08</td>\n",
       "      <td>0.55</td>\n",
       "      <td>24.0</td>\n",
       "    </tr>\n",
       "    <tr>\n",
       "      <th>2015</th>\n",
       "      <td>0.6145</td>\n",
       "      <td>no</td>\n",
       "      <td>0.06</td>\n",
       "      <td>0.58</td>\n",
       "      <td>18.0</td>\n",
       "    </tr>\n",
       "    <tr>\n",
       "      <th>2016</th>\n",
       "      <td>0.6005</td>\n",
       "      <td>yes</td>\n",
       "      <td>-0.02</td>\n",
       "      <td>0.60</td>\n",
       "      <td>22.0</td>\n",
       "    </tr>\n",
       "    <tr>\n",
       "      <th>2017</th>\n",
       "      <td>0.6150</td>\n",
       "      <td>no</td>\n",
       "      <td>0.02</td>\n",
       "      <td>0.61</td>\n",
       "      <td>17.0</td>\n",
       "    </tr>\n",
       "    <tr>\n",
       "      <th>2018</th>\n",
       "      <td>0.6544</td>\n",
       "      <td>no</td>\n",
       "      <td>0.06</td>\n",
       "      <td>0.62</td>\n",
       "      <td>11.0</td>\n",
       "    </tr>\n",
       "    <tr>\n",
       "      <th>2019</th>\n",
       "      <td>0.7207</td>\n",
       "      <td>no</td>\n",
       "      <td>0.10</td>\n",
       "      <td>0.66</td>\n",
       "      <td>7.0</td>\n",
       "    </tr>\n",
       "  </tbody>\n",
       "</table>\n",
       "</div>"
      ],
      "text/plain": [
       "       wcTax assessmentYear  pctIncrease  RollingAvg  wcTaxRank\n",
       "Year                                                           \n",
       "1987  0.5900             no          NaN         NaN       23.0\n",
       "1988  0.7200             no         0.22         NaN        8.0\n",
       "1989  0.7900             no         0.10        0.70        3.0\n",
       "1990  0.8800             no         0.11        0.80        1.0\n",
       "1991  0.8800             no         0.00        0.85        1.0\n",
       "1992  0.6600            yes        -0.25        0.81       10.0\n",
       "1993  0.7600             no         0.15        0.77        4.0\n",
       "1994  0.7600             no         0.00        0.73        4.0\n",
       "1995  0.6300             no        -0.17        0.72       13.0\n",
       "1996  0.6300             no         0.00        0.67       13.0\n",
       "1997  0.6300             no         0.00        0.63       13.0\n",
       "1998  0.6300             no         0.00        0.63       13.0\n",
       "1999  0.7300             no         0.16        0.66        6.0\n",
       "2000  0.5640            yes        -0.23        0.64       25.0\n",
       "2001  0.5640             no         0.00        0.62       25.0\n",
       "2002  0.5640             no         0.00        0.56       25.0\n",
       "2003  0.6040             no         0.07        0.58       19.0\n",
       "2004  0.6040             no         0.00        0.59       19.0\n",
       "2005  0.6040             no         0.00        0.60       19.0\n",
       "2006  0.6340             no         0.05        0.61       12.0\n",
       "2007  0.6780             no         0.07        0.64        9.0\n",
       "2008  0.5340            yes        -0.21        0.62       28.0\n",
       "2009  0.5340             no         0.00        0.58       28.0\n",
       "2010  0.5340             no         0.00        0.53       28.0\n",
       "2011  0.5340             no         0.00        0.53       28.0\n",
       "2012  0.5340             no         0.00        0.53       28.0\n",
       "2013  0.5340             no         0.00        0.53       28.0\n",
       "2014  0.5780             no         0.08        0.55       24.0\n",
       "2015  0.6145             no         0.06        0.58       18.0\n",
       "2016  0.6005            yes        -0.02        0.60       22.0\n",
       "2017  0.6150             no         0.02        0.61       17.0\n",
       "2018  0.6544             no         0.06        0.62       11.0\n",
       "2019  0.7207             no         0.10        0.66        7.0"
      ]
     },
     "execution_count": 30,
     "metadata": {},
     "output_type": "execute_result"
    }
   ],
   "source": [
    "df = prep_data(df_raw)\n",
    "df"
   ]
  },
  {
   "cell_type": "markdown",
   "metadata": {},
   "source": [
    "## Explore the Data"
   ]
  },
  {
   "cell_type": "markdown",
   "metadata": {},
   "source": [
    "### Preview the first and last 5 rows"
   ]
  },
  {
   "cell_type": "code",
   "execution_count": 31,
   "metadata": {},
   "outputs": [
    {
     "data": {
      "text/html": [
       "<div>\n",
       "<style scoped>\n",
       "    .dataframe tbody tr th:only-of-type {\n",
       "        vertical-align: middle;\n",
       "    }\n",
       "\n",
       "    .dataframe tbody tr th {\n",
       "        vertical-align: top;\n",
       "    }\n",
       "\n",
       "    .dataframe thead th {\n",
       "        text-align: right;\n",
       "    }\n",
       "</style>\n",
       "<table border=\"1\" class=\"dataframe\">\n",
       "  <thead>\n",
       "    <tr style=\"text-align: right;\">\n",
       "      <th></th>\n",
       "      <th>wcTax</th>\n",
       "      <th>assessmentYear</th>\n",
       "      <th>pctIncrease</th>\n",
       "      <th>RollingAvg</th>\n",
       "      <th>wcTaxRank</th>\n",
       "    </tr>\n",
       "    <tr>\n",
       "      <th>Year</th>\n",
       "      <th></th>\n",
       "      <th></th>\n",
       "      <th></th>\n",
       "      <th></th>\n",
       "      <th></th>\n",
       "    </tr>\n",
       "  </thead>\n",
       "  <tbody>\n",
       "    <tr>\n",
       "      <th>1987</th>\n",
       "      <td>0.59</td>\n",
       "      <td>no</td>\n",
       "      <td>NaN</td>\n",
       "      <td>NaN</td>\n",
       "      <td>23.0</td>\n",
       "    </tr>\n",
       "    <tr>\n",
       "      <th>1988</th>\n",
       "      <td>0.72</td>\n",
       "      <td>no</td>\n",
       "      <td>0.22</td>\n",
       "      <td>NaN</td>\n",
       "      <td>8.0</td>\n",
       "    </tr>\n",
       "    <tr>\n",
       "      <th>1989</th>\n",
       "      <td>0.79</td>\n",
       "      <td>no</td>\n",
       "      <td>0.10</td>\n",
       "      <td>0.70</td>\n",
       "      <td>3.0</td>\n",
       "    </tr>\n",
       "    <tr>\n",
       "      <th>1990</th>\n",
       "      <td>0.88</td>\n",
       "      <td>no</td>\n",
       "      <td>0.11</td>\n",
       "      <td>0.80</td>\n",
       "      <td>1.0</td>\n",
       "    </tr>\n",
       "    <tr>\n",
       "      <th>1991</th>\n",
       "      <td>0.88</td>\n",
       "      <td>no</td>\n",
       "      <td>0.00</td>\n",
       "      <td>0.85</td>\n",
       "      <td>1.0</td>\n",
       "    </tr>\n",
       "  </tbody>\n",
       "</table>\n",
       "</div>"
      ],
      "text/plain": [
       "      wcTax assessmentYear  pctIncrease  RollingAvg  wcTaxRank\n",
       "Year                                                          \n",
       "1987   0.59             no          NaN         NaN       23.0\n",
       "1988   0.72             no         0.22         NaN        8.0\n",
       "1989   0.79             no         0.10        0.70        3.0\n",
       "1990   0.88             no         0.11        0.80        1.0\n",
       "1991   0.88             no         0.00        0.85        1.0"
      ]
     },
     "metadata": {},
     "output_type": "display_data"
    },
    {
     "data": {
      "text/html": [
       "<div>\n",
       "<style scoped>\n",
       "    .dataframe tbody tr th:only-of-type {\n",
       "        vertical-align: middle;\n",
       "    }\n",
       "\n",
       "    .dataframe tbody tr th {\n",
       "        vertical-align: top;\n",
       "    }\n",
       "\n",
       "    .dataframe thead th {\n",
       "        text-align: right;\n",
       "    }\n",
       "</style>\n",
       "<table border=\"1\" class=\"dataframe\">\n",
       "  <thead>\n",
       "    <tr style=\"text-align: right;\">\n",
       "      <th></th>\n",
       "      <th>wcTax</th>\n",
       "      <th>assessmentYear</th>\n",
       "      <th>pctIncrease</th>\n",
       "      <th>RollingAvg</th>\n",
       "      <th>wcTaxRank</th>\n",
       "    </tr>\n",
       "    <tr>\n",
       "      <th>Year</th>\n",
       "      <th></th>\n",
       "      <th></th>\n",
       "      <th></th>\n",
       "      <th></th>\n",
       "      <th></th>\n",
       "    </tr>\n",
       "  </thead>\n",
       "  <tbody>\n",
       "    <tr>\n",
       "      <th>2015</th>\n",
       "      <td>0.6145</td>\n",
       "      <td>no</td>\n",
       "      <td>0.06</td>\n",
       "      <td>0.58</td>\n",
       "      <td>18.0</td>\n",
       "    </tr>\n",
       "    <tr>\n",
       "      <th>2016</th>\n",
       "      <td>0.6005</td>\n",
       "      <td>yes</td>\n",
       "      <td>-0.02</td>\n",
       "      <td>0.60</td>\n",
       "      <td>22.0</td>\n",
       "    </tr>\n",
       "    <tr>\n",
       "      <th>2017</th>\n",
       "      <td>0.6150</td>\n",
       "      <td>no</td>\n",
       "      <td>0.02</td>\n",
       "      <td>0.61</td>\n",
       "      <td>17.0</td>\n",
       "    </tr>\n",
       "    <tr>\n",
       "      <th>2018</th>\n",
       "      <td>0.6544</td>\n",
       "      <td>no</td>\n",
       "      <td>0.06</td>\n",
       "      <td>0.62</td>\n",
       "      <td>11.0</td>\n",
       "    </tr>\n",
       "    <tr>\n",
       "      <th>2019</th>\n",
       "      <td>0.7207</td>\n",
       "      <td>no</td>\n",
       "      <td>0.10</td>\n",
       "      <td>0.66</td>\n",
       "      <td>7.0</td>\n",
       "    </tr>\n",
       "  </tbody>\n",
       "</table>\n",
       "</div>"
      ],
      "text/plain": [
       "       wcTax assessmentYear  pctIncrease  RollingAvg  wcTaxRank\n",
       "Year                                                           \n",
       "2015  0.6145             no         0.06        0.58       18.0\n",
       "2016  0.6005            yes        -0.02        0.60       22.0\n",
       "2017  0.6150             no         0.02        0.61       17.0\n",
       "2018  0.6544             no         0.06        0.62       11.0\n",
       "2019  0.7207             no         0.10        0.66        7.0"
      ]
     },
     "metadata": {},
     "output_type": "display_data"
    }
   ],
   "source": [
    "display(df.head(), df.tail())"
   ]
  },
  {
   "cell_type": "markdown",
   "metadata": {},
   "source": [
    "### View data types and missing values"
   ]
  },
  {
   "cell_type": "code",
   "execution_count": 32,
   "metadata": {},
   "outputs": [
    {
     "name": "stdout",
     "output_type": "stream",
     "text": [
      "<class 'pandas.core.frame.DataFrame'>\n",
      "Int64Index: 33 entries, 1987 to 2019\n",
      "Data columns (total 5 columns):\n",
      " #   Column          Non-Null Count  Dtype  \n",
      "---  ------          --------------  -----  \n",
      " 0   wcTax           33 non-null     float64\n",
      " 1   assessmentYear  33 non-null     object \n",
      " 2   pctIncrease     32 non-null     float64\n",
      " 3   RollingAvg      31 non-null     float64\n",
      " 4   wcTaxRank       33 non-null     float64\n",
      "dtypes: float64(4), object(1)\n",
      "memory usage: 1.5+ KB\n"
     ]
    }
   ],
   "source": [
    "df.info()"
   ]
  },
  {
   "cell_type": "markdown",
   "metadata": {},
   "source": [
    "### View the numeric column summary statistics"
   ]
  },
  {
   "cell_type": "code",
   "execution_count": 33,
   "metadata": {},
   "outputs": [
    {
     "data": {
      "text/html": [
       "<div>\n",
       "<style scoped>\n",
       "    .dataframe tbody tr th:only-of-type {\n",
       "        vertical-align: middle;\n",
       "    }\n",
       "\n",
       "    .dataframe tbody tr th {\n",
       "        vertical-align: top;\n",
       "    }\n",
       "\n",
       "    .dataframe thead th {\n",
       "        text-align: right;\n",
       "    }\n",
       "</style>\n",
       "<table border=\"1\" class=\"dataframe\">\n",
       "  <thead>\n",
       "    <tr style=\"text-align: right;\">\n",
       "      <th></th>\n",
       "      <th>count</th>\n",
       "      <th>mean</th>\n",
       "      <th>std</th>\n",
       "      <th>min</th>\n",
       "      <th>25%</th>\n",
       "      <th>50%</th>\n",
       "      <th>75%</th>\n",
       "      <th>max</th>\n",
       "    </tr>\n",
       "  </thead>\n",
       "  <tbody>\n",
       "    <tr>\n",
       "      <th>wcTax</th>\n",
       "      <td>33.0</td>\n",
       "      <td>0.639185</td>\n",
       "      <td>0.094834</td>\n",
       "      <td>0.534</td>\n",
       "      <td>0.564</td>\n",
       "      <td>0.615</td>\n",
       "      <td>0.678</td>\n",
       "      <td>0.88</td>\n",
       "    </tr>\n",
       "    <tr>\n",
       "      <th>pctIncrease</th>\n",
       "      <td>32.0</td>\n",
       "      <td>0.011562</td>\n",
       "      <td>0.104638</td>\n",
       "      <td>-0.250</td>\n",
       "      <td>0.000</td>\n",
       "      <td>0.000</td>\n",
       "      <td>0.070</td>\n",
       "      <td>0.22</td>\n",
       "    </tr>\n",
       "    <tr>\n",
       "      <th>RollingAvg</th>\n",
       "      <td>31.0</td>\n",
       "      <td>0.637097</td>\n",
       "      <td>0.085174</td>\n",
       "      <td>0.530</td>\n",
       "      <td>0.580</td>\n",
       "      <td>0.620</td>\n",
       "      <td>0.665</td>\n",
       "      <td>0.85</td>\n",
       "    </tr>\n",
       "    <tr>\n",
       "      <th>wcTaxRank</th>\n",
       "      <td>33.0</td>\n",
       "      <td>16.121212</td>\n",
       "      <td>9.016504</td>\n",
       "      <td>1.000</td>\n",
       "      <td>9.000</td>\n",
       "      <td>17.000</td>\n",
       "      <td>25.000</td>\n",
       "      <td>28.00</td>\n",
       "    </tr>\n",
       "  </tbody>\n",
       "</table>\n",
       "</div>"
      ],
      "text/plain": [
       "             count       mean       std    min    25%     50%     75%    max\n",
       "wcTax         33.0   0.639185  0.094834  0.534  0.564   0.615   0.678   0.88\n",
       "pctIncrease   32.0   0.011562  0.104638 -0.250  0.000   0.000   0.070   0.22\n",
       "RollingAvg    31.0   0.637097  0.085174  0.530  0.580   0.620   0.665   0.85\n",
       "wcTaxRank     33.0  16.121212  9.016504  1.000  9.000  17.000  25.000  28.00"
      ]
     },
     "execution_count": 33,
     "metadata": {},
     "output_type": "execute_result"
    }
   ],
   "source": [
    "(df\n",
    " .describe()\n",
    " .transpose()\n",
    ")"
   ]
  },
  {
   "cell_type": "markdown",
   "metadata": {},
   "source": [
    "### View the number of assessment years"
   ]
  },
  {
   "cell_type": "code",
   "execution_count": 34,
   "metadata": {},
   "outputs": [
    {
     "data": {
      "text/plain": [
       "no     29\n",
       "yes     4\n",
       "Name: assessmentYear, dtype: int64"
      ]
     },
     "execution_count": 34,
     "metadata": {},
     "output_type": "execute_result"
    }
   ],
   "source": [
    "(df\n",
    " .assessmentYear\n",
    " .value_counts()\n",
    ")"
   ]
  },
  {
   "cell_type": "markdown",
   "metadata": {},
   "source": [
    "# Analyze Data"
   ]
  },
  {
   "cell_type": "code",
   "execution_count": 35,
   "metadata": {},
   "outputs": [
    {
     "data": {
      "text/html": [
       "<div>\n",
       "<style scoped>\n",
       "    .dataframe tbody tr th:only-of-type {\n",
       "        vertical-align: middle;\n",
       "    }\n",
       "\n",
       "    .dataframe tbody tr th {\n",
       "        vertical-align: top;\n",
       "    }\n",
       "\n",
       "    .dataframe thead th {\n",
       "        text-align: right;\n",
       "    }\n",
       "</style>\n",
       "<table border=\"1\" class=\"dataframe\">\n",
       "  <thead>\n",
       "    <tr style=\"text-align: right;\">\n",
       "      <th></th>\n",
       "      <th>wcTax</th>\n",
       "      <th>assessmentYear</th>\n",
       "      <th>pctIncrease</th>\n",
       "      <th>RollingAvg</th>\n",
       "      <th>wcTaxRank</th>\n",
       "    </tr>\n",
       "    <tr>\n",
       "      <th>Year</th>\n",
       "      <th></th>\n",
       "      <th></th>\n",
       "      <th></th>\n",
       "      <th></th>\n",
       "      <th></th>\n",
       "    </tr>\n",
       "  </thead>\n",
       "  <tbody>\n",
       "    <tr>\n",
       "      <th>1987</th>\n",
       "      <td>0.59</td>\n",
       "      <td>no</td>\n",
       "      <td>NaN</td>\n",
       "      <td>NaN</td>\n",
       "      <td>23.0</td>\n",
       "    </tr>\n",
       "    <tr>\n",
       "      <th>1988</th>\n",
       "      <td>0.72</td>\n",
       "      <td>no</td>\n",
       "      <td>0.22</td>\n",
       "      <td>NaN</td>\n",
       "      <td>8.0</td>\n",
       "    </tr>\n",
       "    <tr>\n",
       "      <th>1989</th>\n",
       "      <td>0.79</td>\n",
       "      <td>no</td>\n",
       "      <td>0.10</td>\n",
       "      <td>0.70</td>\n",
       "      <td>3.0</td>\n",
       "    </tr>\n",
       "    <tr>\n",
       "      <th>1990</th>\n",
       "      <td>0.88</td>\n",
       "      <td>no</td>\n",
       "      <td>0.11</td>\n",
       "      <td>0.80</td>\n",
       "      <td>1.0</td>\n",
       "    </tr>\n",
       "    <tr>\n",
       "      <th>1991</th>\n",
       "      <td>0.88</td>\n",
       "      <td>no</td>\n",
       "      <td>0.00</td>\n",
       "      <td>0.85</td>\n",
       "      <td>1.0</td>\n",
       "    </tr>\n",
       "  </tbody>\n",
       "</table>\n",
       "</div>"
      ],
      "text/plain": [
       "      wcTax assessmentYear  pctIncrease  RollingAvg  wcTaxRank\n",
       "Year                                                          \n",
       "1987   0.59             no          NaN         NaN       23.0\n",
       "1988   0.72             no         0.22         NaN        8.0\n",
       "1989   0.79             no         0.10        0.70        3.0\n",
       "1990   0.88             no         0.11        0.80        1.0\n",
       "1991   0.88             no         0.00        0.85        1.0"
      ]
     },
     "execution_count": 35,
     "metadata": {},
     "output_type": "execute_result"
    }
   ],
   "source": [
    "df.head()"
   ]
  },
  {
   "cell_type": "markdown",
   "metadata": {},
   "source": [
    "# Export Data to a CSV file"
   ]
  },
  {
   "cell_type": "code",
   "execution_count": 36,
   "metadata": {},
   "outputs": [],
   "source": [
    "df.to_csv('wctaxes.csv')"
   ]
  },
  {
   "cell_type": "markdown",
   "metadata": {},
   "source": [
    "# Visualize the Data"
   ]
  },
  {
   "cell_type": "markdown",
   "metadata": {},
   "source": [
    "## Set up variables"
   ]
  },
  {
   "cell_type": "code",
   "execution_count": 39,
   "metadata": {},
   "outputs": [
    {
     "data": {
      "text/plain": [
       "'x axis values'"
      ]
     },
     "metadata": {},
     "output_type": "display_data"
    },
    {
     "data": {
      "text/plain": [
       "[1988,\n",
       " 1990,\n",
       " 1992,\n",
       " 1994,\n",
       " 1996,\n",
       " 1998,\n",
       " 2000,\n",
       " 2002,\n",
       " 2004,\n",
       " 2006,\n",
       " 2008,\n",
       " 2010,\n",
       " 2012,\n",
       " 2014,\n",
       " 2016,\n",
       " 2018,\n",
       " 2020]"
      ]
     },
     "metadata": {},
     "output_type": "display_data"
    },
    {
     "data": {
      "text/plain": [
       "'min and max years for title'"
      ]
     },
     "metadata": {},
     "output_type": "display_data"
    },
    {
     "data": {
      "text/plain": [
       "1987"
      ]
     },
     "metadata": {},
     "output_type": "display_data"
    },
    {
     "data": {
      "text/plain": [
       "2019"
      ]
     },
     "metadata": {},
     "output_type": "display_data"
    },
    {
     "data": {
      "text/plain": [
       "'min year property tax and value'"
      ]
     },
     "metadata": {},
     "output_type": "display_data"
    },
    {
     "data": {
      "text/plain": [
       "2008"
      ]
     },
     "metadata": {},
     "output_type": "display_data"
    },
    {
     "data": {
      "text/plain": [
       "0.534"
      ]
     },
     "metadata": {},
     "output_type": "display_data"
    },
    {
     "data": {
      "text/plain": [
       "'max year property tax and value'"
      ]
     },
     "metadata": {},
     "output_type": "display_data"
    },
    {
     "data": {
      "text/plain": [
       "2008"
      ]
     },
     "metadata": {},
     "output_type": "display_data"
    },
    {
     "data": {
      "text/plain": [
       "0.88"
      ]
     },
     "metadata": {},
     "output_type": "display_data"
    },
    {
     "data": {
      "text/plain": [
       "'current rate and year'"
      ]
     },
     "metadata": {},
     "output_type": "display_data"
    },
    {
     "data": {
      "text/plain": [
       "0.7207"
      ]
     },
     "metadata": {},
     "output_type": "display_data"
    },
    {
     "data": {
      "text/plain": [
       "2019"
      ]
     },
     "metadata": {},
     "output_type": "display_data"
    },
    {
     "data": {
      "text/plain": [
       "'Find the rate in 2007 prior ot the recession'"
      ]
     },
     "metadata": {},
     "output_type": "display_data"
    },
    {
     "data": {
      "text/plain": [
       "0.678"
      ]
     },
     "metadata": {},
     "output_type": "display_data"
    },
    {
     "data": {
      "text/plain": [
       "'Calculate difference between 2007 and current'"
      ]
     },
     "metadata": {},
     "output_type": "display_data"
    },
    {
     "data": {
      "text/html": [
       "<div>\n",
       "<style scoped>\n",
       "    .dataframe tbody tr th:only-of-type {\n",
       "        vertical-align: middle;\n",
       "    }\n",
       "\n",
       "    .dataframe tbody tr th {\n",
       "        vertical-align: top;\n",
       "    }\n",
       "\n",
       "    .dataframe thead th {\n",
       "        text-align: right;\n",
       "    }\n",
       "</style>\n",
       "<table border=\"1\" class=\"dataframe\">\n",
       "  <thead>\n",
       "    <tr style=\"text-align: right;\">\n",
       "      <th></th>\n",
       "      <th>wcTax</th>\n",
       "      <th>pctInc</th>\n",
       "    </tr>\n",
       "    <tr>\n",
       "      <th>Year</th>\n",
       "      <th></th>\n",
       "      <th></th>\n",
       "    </tr>\n",
       "  </thead>\n",
       "  <tbody>\n",
       "    <tr>\n",
       "      <th>2007</th>\n",
       "      <td>0.6780</td>\n",
       "      <td>NaN</td>\n",
       "    </tr>\n",
       "    <tr>\n",
       "      <th>2019</th>\n",
       "      <td>0.7207</td>\n",
       "      <td>0.062979</td>\n",
       "    </tr>\n",
       "  </tbody>\n",
       "</table>\n",
       "</div>"
      ],
      "text/plain": [
       "       wcTax    pctInc\n",
       "Year                  \n",
       "2007  0.6780       NaN\n",
       "2019  0.7207  0.062979"
      ]
     },
     "metadata": {},
     "output_type": "display_data"
    },
    {
     "data": {
      "text/plain": [
       "0.06297935103244834"
      ]
     },
     "metadata": {},
     "output_type": "display_data"
    }
   ],
   "source": [
    "## Create X axis to show every 2 years and extend 2 years\n",
    "## The + 1 works when the year is odd. Need to fix\n",
    "x=(df\n",
    "   .index\n",
    "   .to_list()[1::2] \n",
    "   + [df.index.max()+1]\n",
    ")\n",
    "display('x axis values',x)\n",
    "\n",
    "\n",
    "## Find the min and max years to use in a title\n",
    "minYear = df.index.to_list()[0]\n",
    "maxYear = df.index.to_list()[len(df)-1]\n",
    "display('min and max years for title',minYear, maxYear)\n",
    "\n",
    "\n",
    "## Find the min year property tax and value\n",
    "minTaxYear = df.wcTax.idxmin()\n",
    "minTaxValue= df.wcTax.min()\n",
    "display('min year property tax and value',minTaxYear, minTaxValue)\n",
    "\n",
    "\n",
    "## Find the max year property tax and value\n",
    "maxTaxYear = df.wcTax.idxmax()\n",
    "maxTaxValue= df.wcTax.max()\n",
    "display('max year property tax and value',minTaxYear, maxTaxValue)\n",
    "\n",
    "\n",
    "## Find the current rate and year\n",
    "currRate = df.iloc[len(df)-1,0]\n",
    "currYear = df.index.max()\n",
    "display('current rate and year', currRate, currYear)\n",
    "\n",
    "\n",
    "## Find the current rate, find rate without bonds\n",
    "#fcRate = fc.iloc[len(fc)-1,0]\n",
    "#fcInc = fc.iloc[len(fc)-1,1]\n",
    "\n",
    "\n",
    "## Find the rate in 2007 prior ot the recession\n",
    "recRate = df.loc[2007,['wcTax']].max()\n",
    "display('Find the rate in 2007 prior ot the recession',recRate)\n",
    "\n",
    "\n",
    "## Calculate difference between 2007 and current\n",
    "## Calculate difference between 2007 and current\n",
    "diff = (df\n",
    "        .loc[(df.index==2007) | (df.index==2019),['wcTax']]\n",
    "        .assign(pctInc = diff.wcTax.pct_change())\n",
    ")\n",
    "diffRec=diff.pctInc.max()\n",
    "display('Calculate difference between 2007 and current', diff, diffRec)"
   ]
  },
  {
   "cell_type": "markdown",
   "metadata": {},
   "source": [
    "## Create Visualization"
   ]
  },
  {
   "cell_type": "code",
   "execution_count": 40,
   "metadata": {},
   "outputs": [
    {
     "data": {
      "text/html": [
       "<div>\n",
       "<style scoped>\n",
       "    .dataframe tbody tr th:only-of-type {\n",
       "        vertical-align: middle;\n",
       "    }\n",
       "\n",
       "    .dataframe tbody tr th {\n",
       "        vertical-align: top;\n",
       "    }\n",
       "\n",
       "    .dataframe thead th {\n",
       "        text-align: right;\n",
       "    }\n",
       "</style>\n",
       "<table border=\"1\" class=\"dataframe\">\n",
       "  <thead>\n",
       "    <tr style=\"text-align: right;\">\n",
       "      <th></th>\n",
       "      <th>wcTax</th>\n",
       "      <th>assessmentYear</th>\n",
       "      <th>pctIncrease</th>\n",
       "      <th>RollingAvg</th>\n",
       "      <th>wcTaxRank</th>\n",
       "    </tr>\n",
       "    <tr>\n",
       "      <th>Year</th>\n",
       "      <th></th>\n",
       "      <th></th>\n",
       "      <th></th>\n",
       "      <th></th>\n",
       "      <th></th>\n",
       "    </tr>\n",
       "  </thead>\n",
       "  <tbody>\n",
       "    <tr>\n",
       "      <th>1987</th>\n",
       "      <td>0.59</td>\n",
       "      <td>no</td>\n",
       "      <td>NaN</td>\n",
       "      <td>NaN</td>\n",
       "      <td>23.0</td>\n",
       "    </tr>\n",
       "    <tr>\n",
       "      <th>1988</th>\n",
       "      <td>0.72</td>\n",
       "      <td>no</td>\n",
       "      <td>0.22</td>\n",
       "      <td>NaN</td>\n",
       "      <td>8.0</td>\n",
       "    </tr>\n",
       "    <tr>\n",
       "      <th>1989</th>\n",
       "      <td>0.79</td>\n",
       "      <td>no</td>\n",
       "      <td>0.10</td>\n",
       "      <td>0.70</td>\n",
       "      <td>3.0</td>\n",
       "    </tr>\n",
       "    <tr>\n",
       "      <th>1990</th>\n",
       "      <td>0.88</td>\n",
       "      <td>no</td>\n",
       "      <td>0.11</td>\n",
       "      <td>0.80</td>\n",
       "      <td>1.0</td>\n",
       "    </tr>\n",
       "    <tr>\n",
       "      <th>1991</th>\n",
       "      <td>0.88</td>\n",
       "      <td>no</td>\n",
       "      <td>0.00</td>\n",
       "      <td>0.85</td>\n",
       "      <td>1.0</td>\n",
       "    </tr>\n",
       "  </tbody>\n",
       "</table>\n",
       "</div>"
      ],
      "text/plain": [
       "      wcTax assessmentYear  pctIncrease  RollingAvg  wcTaxRank\n",
       "Year                                                          \n",
       "1987   0.59             no          NaN         NaN       23.0\n",
       "1988   0.72             no         0.22         NaN        8.0\n",
       "1989   0.79             no         0.10        0.70        3.0\n",
       "1990   0.88             no         0.11        0.80        1.0\n",
       "1991   0.88             no         0.00        0.85        1.0"
      ]
     },
     "execution_count": 40,
     "metadata": {},
     "output_type": "execute_result"
    }
   ],
   "source": [
    "df.head()"
   ]
  },
  {
   "cell_type": "code",
   "execution_count": 97,
   "metadata": {},
   "outputs": [
    {
     "data": {
      "image/png": "[encoded data removed]",
      "text/plain": [
       "<Figure size 1600x800 with 2 Axes>"
      ]
     },
     "metadata": {},
     "output_type": "display_data"
    }
   ],
   "source": [
    "##\n",
    "## Set Global Appearance Colors\n",
    "##\n",
    "\n",
    "## Figure size\n",
    "size=(16,8)\n",
    "\n",
    "## graph main colors\n",
    "rollingAvgColor='lightgray'\n",
    "carolinaBlue='#4B9CD3'\n",
    "ncStateRed='#CC0000'\n",
    "\n",
    "## Graph appearance\n",
    "textGray='gray'\n",
    "gridAlpha=.05\n",
    "plt.rcParams['axes.titlesize']=16\n",
    "plt.rcParams['axes.titlecolor']=textGray\n",
    "plt.rcParams['axes.titlelocation']='left'\n",
    "\n",
    "## Modify x and y axes\n",
    "plt.rcParams['axes.labelsize']=12\n",
    "plt.rcParams['xtick.labelsize']=10\n",
    "plt.rcParams['ytick.labelsize']=10\n",
    "plt.rcParams['ytick.color']=textGray\n",
    "plt.rcParams['xtick.color']=textGray\n",
    "plt.rcParams['axes.labelcolor']=textGray\n",
    "\n",
    "\n",
    "fig, (ax1,ax2) = plt.subplots(2,figsize=size, sharex=True, gridspec_kw={'height_ratios': [4, 1]})\n",
    "plt.subplots_adjust(hspace=0.07)\n",
    "###################################################################################\n",
    "## Line plot ax1\n",
    "###################################################################################\n",
    "\n",
    "## Rolling average\n",
    "#ax1.plot(df.index, df['RollingAvg'],\n",
    "#        color=rollingAvgColor)\n",
    "\n",
    "## Plot tax rate by year\n",
    "ax1.plot(df.index, df['wcTax'], \n",
    "         marker='o', markersize=8, color=carolinaBlue, label='Without Bonds')\n",
    "\n",
    "\n",
    "## Apprearance ax1\n",
    "ax1.grid(alpha=gridAlpha)\n",
    "ax1.set_xticks(x)\n",
    "ax1.text(2010,.95,f'Current Rate is the 7th Highest Since {minYear}')\n",
    "ax1.set_title(f'Wake County Property Tax Rate Per $100 from {minYear} to {maxYear}')\n",
    "ax1.set_ylabel('Property Tax Rate Per $100')\n",
    "ax1.set_ylim(.40,1)\n",
    "\n",
    "#ax1.annotate('Max Property Tax was ${:.2f}\\nin 1990-1991'.format(maxTaxValue),[maxTaxYear,maxTaxValue], xytext=(0.05,.3), xycoords='axes fraction')\n",
    "ax1.annotate(f'Current Property Tax ${currRate:.2f}',\n",
    "             [currYear,currRate], \n",
    "             xytext=(-150,25), \n",
    "             textcoords='offset points',\n",
    "             arrowprops=dict(arrowstyle='->'), color='blue')\n",
    "\n",
    "ax1.annotate(f'Prior to 2008 Recession Rate was ${recRate:.2f} per \\$100 \\nCurrent Rate is {diffRec:.2%} Higher than 2007',\n",
    "             [2007,recRate], \n",
    "             xytext=(-155,-115), \n",
    "             textcoords='offset points', \n",
    "             arrowprops=dict(arrowstyle='->'), \n",
    "             color='blue')\n",
    "\n",
    "ax1.annotate(f'Early 1990-1991 Recession\\nMax Property Tax was ${maxTaxValue:.2f} in 1990-1991',\n",
    "             [1990,df.loc[1990,'wcTax']], xytext=(-20,20), \n",
    "             textcoords='offset points',\n",
    "             arrowprops=dict(arrowstyle='->'), \n",
    "             color=ncStateRed)\n",
    "\n",
    "ax1.annotate('Early 2000s Recession',[2001,df.loc[2001,'wcTax']], \n",
    "             xytext=(-20,70), \n",
    "             textcoords='offset points',\n",
    "             arrowprops=dict(arrowstyle='->'), \n",
    "             color=ncStateRed)\n",
    "\n",
    "ax1.annotate('Great Recession',[2007,df.loc[2007,'wcTax']], \n",
    "             xytext=(-20,70), \n",
    "             textcoords='offset points',\n",
    "             arrowprops=dict(arrowstyle='->'), \n",
    "             color=ncStateRed)\n",
    "\n",
    "\n",
    "\n",
    "\n",
    "###################################################################################\n",
    "## Bar plot ax2\n",
    "###################################################################################\n",
    "ax2.bar(df.index, df['pctIncrease'], \n",
    "        color=(df['pctIncrease'] > 0).map({True: carolinaBlue,False: ncStateRed}))\n",
    "\n",
    "##Appearnace ax2\n",
    "ax2.grid(alpha=gridAlpha)\n",
    "ax2.set_xticks(x)\n",
    "ax2.set_ylim(-.3,.3)\n",
    "#ax2.set_title('Percent Increase or Decrease from the Previous Year', loc='left')\n",
    "ax2.set_ylabel('+- from Previous Year')\n",
    "ax2.yaxis.set_major_formatter(PercentFormatter(1))\n",
    "\n",
    "\n",
    "Source='http://www.wakegov.com/tax/taxratesfees/Pages/default.aspx'\n",
    "Source='Recession Source:https://en.wikipedia.org/wiki/List_of_recessions_in_the_United_States'\n",
    "\n",
    "\n",
    "#fig.tight_layout()\n",
    "plt.savefig('images//wcTax.jpg')"
   ]
  },
  {
   "cell_type": "markdown",
   "metadata": {},
   "source": [
    " "
   ]
  }
 ],
 "metadata": {
  "kernelspec": {
   "display_name": "Python 3",
   "language": "python",
   "name": "python3"
  },
  "language_info": {
   "codemirror_mode": {
    "name": "ipython",
    "version": 3
   },
   "file_extension": ".py",
   "mimetype": "text/x-python",
   "name": "python",
   "nbconvert_exporter": "python",
   "pygments_lexer": "ipython3",
   "version": "3.8.8"
  }
 },
 "nbformat": 4,
 "nbformat_minor": 4
}
