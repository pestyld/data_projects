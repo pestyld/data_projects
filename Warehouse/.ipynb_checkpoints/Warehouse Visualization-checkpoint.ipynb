{
 "cells": [
  {
   "cell_type": "code",
   "execution_count": 67,
   "id": "228aec8c-3fa1-40ce-aa37-01441677687a",
   "metadata": {},
   "outputs": [
    {
     "data": {
      "image/png": "[encoded data removed]",
      "text/plain": [
       "<Figure size 432x288 with 1 Axes>"
      ]
     },
     "metadata": {
      "needs_background": "light"
     },
     "output_type": "display_data"
    }
   ],
   "source": [
    "# Import Library\n",
    "\n",
    "import matplotlib.pyplot as plt\n",
    "\n",
    "# Define Data\n",
    "\n",
    "Class = [\"First\", \"Second\", \"Third\", \"Fourth\", \"Fifth\"]\n",
    "Boys = [15, 20, 16, 18, 25]\n",
    "Girls = [10, 12, 5, 9, 15]\n",
    "\n",
    "# Define width of stacked chart\n",
    "\n",
    "w = 0.6\n",
    "\n",
    "# Plot stacked bar chart\n",
    "\n",
    "plt.bar(Class, Boys)\n",
    "plt.bar(Class, Girls, bottom=Boys)\n",
    "\n",
    "# Display\n",
    "\n",
    "plt.show()"
   ]
  },
  {
   "cell_type": "code",
   "execution_count": 54,
   "id": "02c52518-bb04-44a5-a481-cbdd369e6c81",
   "metadata": {},
   "outputs": [
    {
     "data": {
      "image/png": "[encoded data removed]",
      "text/plain": [
       "<Figure size 432x288 with 1 Axes>"
      ]
     },
     "metadata": {
      "needs_background": "light"
     },
     "output_type": "display_data"
    }
   ],
   "source": [
    "ax = df.plot.bar(rot=0, stacked=True)"
   ]
  },
  {
   "cell_type": "code",
   "execution_count": 5,
   "id": "0245e328-1cec-4e2a-beb0-34f65d8a1e5a",
   "metadata": {},
   "outputs": [],
   "source": [
    "import pandas as pd\n",
    "import matplotlib.pyplot as plt"
   ]
  },
  {
   "cell_type": "code",
   "execution_count": 43,
   "id": "00148409-4f05-464c-862f-e3288bdd90c8",
   "metadata": {},
   "outputs": [],
   "source": [
    "raw_df = pd.read_excel('Warehouse.xlsx')"
   ]
  },
  {
   "cell_type": "code",
   "execution_count": 120,
   "id": "c04206fc-f17e-4705-89d1-5de41bc8a748",
   "metadata": {},
   "outputs": [
    {
     "data": {
      "text/plain": [
       "0      80\n",
       "1     121\n",
       "2      80\n",
       "3      96\n",
       "4      57\n",
       "5      94\n",
       "6      77\n",
       "7      26\n",
       "8      46\n",
       "9      25\n",
       "10     45\n",
       "11     48\n",
       "12     30\n",
       "13     11\n",
       "14     34\n",
       "15     39\n",
       "16     16\n",
       "17     22\n",
       "18     14\n",
       "Name: Errors, dtype: category\n",
       "Categories (18, int64): [11, 14, 16, 22, ..., 80, 94, 96, 121]"
      ]
     },
     "execution_count": 120,
     "metadata": {},
     "output_type": "execute_result"
    }
   ],
   "source": [
    "raw_df.Errors.astype('category')"
   ]
  },
  {
   "cell_type": "code",
   "execution_count": 169,
   "id": "0e84c7ff-deb3-4f1f-b33f-57b15c4d1c54",
   "metadata": {},
   "outputs": [
    {
     "data": {
      "text/html": [
       "<div>\n",
       "<style scoped>\n",
       "    .dataframe tbody tr th:only-of-type {\n",
       "        vertical-align: middle;\n",
       "    }\n",
       "\n",
       "    .dataframe tbody tr th {\n",
       "        vertical-align: top;\n",
       "    }\n",
       "\n",
       "    .dataframe thead th {\n",
       "        text-align: right;\n",
       "    }\n",
       "</style>\n",
       "<table border=\"1\" class=\"dataframe\">\n",
       "  <thead>\n",
       "    <tr style=\"text-align: right;\">\n",
       "      <th></th>\n",
       "      <th>warehouse_id</th>\n",
       "      <th>location</th>\n",
       "      <th>error_rate</th>\n",
       "      <th>accuracy_rate</th>\n",
       "      <th>null</th>\n",
       "    </tr>\n",
       "  </thead>\n",
       "  <tbody>\n",
       "    <tr>\n",
       "      <th>13</th>\n",
       "      <td>14</td>\n",
       "      <td>Midwest</td>\n",
       "      <td>0.04</td>\n",
       "      <td>0.94</td>\n",
       "      <td>0.02</td>\n",
       "    </tr>\n",
       "    <tr>\n",
       "      <th>7</th>\n",
       "      <td>8</td>\n",
       "      <td>South</td>\n",
       "      <td>0.06</td>\n",
       "      <td>0.93</td>\n",
       "      <td>0.01</td>\n",
       "    </tr>\n",
       "    <tr>\n",
       "      <th>9</th>\n",
       "      <td>10</td>\n",
       "      <td>Northeast</td>\n",
       "      <td>0.07</td>\n",
       "      <td>0.87</td>\n",
       "      <td>0.06</td>\n",
       "    </tr>\n",
       "    <tr>\n",
       "      <th>16</th>\n",
       "      <td>17</td>\n",
       "      <td>Northeast</td>\n",
       "      <td>0.07</td>\n",
       "      <td>0.89</td>\n",
       "      <td>0.04</td>\n",
       "    </tr>\n",
       "    <tr>\n",
       "      <th>18</th>\n",
       "      <td>19</td>\n",
       "      <td>South</td>\n",
       "      <td>0.07</td>\n",
       "      <td>0.91</td>\n",
       "      <td>0.02</td>\n",
       "    </tr>\n",
       "    <tr>\n",
       "      <th>12</th>\n",
       "      <td>13</td>\n",
       "      <td>Northeast</td>\n",
       "      <td>0.08</td>\n",
       "      <td>0.83</td>\n",
       "      <td>0.09</td>\n",
       "    </tr>\n",
       "    <tr>\n",
       "      <th>17</th>\n",
       "      <td>18</td>\n",
       "      <td>South</td>\n",
       "      <td>0.10</td>\n",
       "      <td>0.88</td>\n",
       "      <td>0.02</td>\n",
       "    </tr>\n",
       "    <tr>\n",
       "      <th>2</th>\n",
       "      <td>3</td>\n",
       "      <td>Northeast</td>\n",
       "      <td>0.10</td>\n",
       "      <td>0.84</td>\n",
       "      <td>0.06</td>\n",
       "    </tr>\n",
       "    <tr>\n",
       "      <th>4</th>\n",
       "      <td>5</td>\n",
       "      <td>Northeast</td>\n",
       "      <td>0.10</td>\n",
       "      <td>0.86</td>\n",
       "      <td>0.04</td>\n",
       "    </tr>\n",
       "    <tr>\n",
       "      <th>0</th>\n",
       "      <td>1</td>\n",
       "      <td>South</td>\n",
       "      <td>0.10</td>\n",
       "      <td>0.86</td>\n",
       "      <td>0.04</td>\n",
       "    </tr>\n",
       "    <tr>\n",
       "      <th>8</th>\n",
       "      <td>9</td>\n",
       "      <td>West</td>\n",
       "      <td>0.11</td>\n",
       "      <td>0.88</td>\n",
       "      <td>0.01</td>\n",
       "    </tr>\n",
       "    <tr>\n",
       "      <th>10</th>\n",
       "      <td>11</td>\n",
       "      <td>Northeast</td>\n",
       "      <td>0.12</td>\n",
       "      <td>0.85</td>\n",
       "      <td>0.03</td>\n",
       "    </tr>\n",
       "    <tr>\n",
       "      <th>14</th>\n",
       "      <td>15</td>\n",
       "      <td>Midwest</td>\n",
       "      <td>0.12</td>\n",
       "      <td>0.86</td>\n",
       "      <td>0.02</td>\n",
       "    </tr>\n",
       "    <tr>\n",
       "      <th>15</th>\n",
       "      <td>16</td>\n",
       "      <td>Northeast</td>\n",
       "      <td>0.12</td>\n",
       "      <td>0.78</td>\n",
       "      <td>0.10</td>\n",
       "    </tr>\n",
       "    <tr>\n",
       "      <th>11</th>\n",
       "      <td>12</td>\n",
       "      <td>West</td>\n",
       "      <td>0.13</td>\n",
       "      <td>0.85</td>\n",
       "      <td>0.02</td>\n",
       "    </tr>\n",
       "    <tr>\n",
       "      <th>3</th>\n",
       "      <td>4</td>\n",
       "      <td>Northeast</td>\n",
       "      <td>0.14</td>\n",
       "      <td>0.82</td>\n",
       "      <td>0.04</td>\n",
       "    </tr>\n",
       "    <tr>\n",
       "      <th>1</th>\n",
       "      <td>2</td>\n",
       "      <td>Northeast</td>\n",
       "      <td>0.14</td>\n",
       "      <td>0.80</td>\n",
       "      <td>0.06</td>\n",
       "    </tr>\n",
       "    <tr>\n",
       "      <th>6</th>\n",
       "      <td>7</td>\n",
       "      <td>West</td>\n",
       "      <td>0.15</td>\n",
       "      <td>0.80</td>\n",
       "      <td>0.05</td>\n",
       "    </tr>\n",
       "    <tr>\n",
       "      <th>5</th>\n",
       "      <td>6</td>\n",
       "      <td>Northeast</td>\n",
       "      <td>0.16</td>\n",
       "      <td>0.80</td>\n",
       "      <td>0.04</td>\n",
       "    </tr>\n",
       "  </tbody>\n",
       "</table>\n",
       "</div>"
      ],
      "text/plain": [
       "    warehouse_id   location  error_rate  accuracy_rate  null\n",
       "13            14    Midwest        0.04           0.94  0.02\n",
       "7              8      South        0.06           0.93  0.01\n",
       "9             10  Northeast        0.07           0.87  0.06\n",
       "16            17  Northeast        0.07           0.89  0.04\n",
       "18            19      South        0.07           0.91  0.02\n",
       "12            13  Northeast        0.08           0.83  0.09\n",
       "17            18      South        0.10           0.88  0.02\n",
       "2              3  Northeast        0.10           0.84  0.06\n",
       "4              5  Northeast        0.10           0.86  0.04\n",
       "0              1      South        0.10           0.86  0.04\n",
       "8              9       West        0.11           0.88  0.01\n",
       "10            11  Northeast        0.12           0.85  0.03\n",
       "14            15    Midwest        0.12           0.86  0.02\n",
       "15            16  Northeast        0.12           0.78  0.10\n",
       "11            12       West        0.13           0.85  0.02\n",
       "3              4  Northeast        0.14           0.82  0.04\n",
       "1              2  Northeast        0.14           0.80  0.06\n",
       "6              7       West        0.15           0.80  0.05\n",
       "5              6  Northeast        0.16           0.80  0.04"
      ]
     },
     "execution_count": 169,
     "metadata": {},
     "output_type": "execute_result"
    }
   ],
   "source": [
    "def clean_columns(cols):\n",
    "    return cols.replace(' ','_').replace('.1','').lower()\n",
    "\n",
    "def prep_data(_df):\n",
    "    return (_df\n",
    "            .drop(columns = ['Null'])\n",
    "            .rename(columns=clean_columns)\n",
    "            .drop(columns = ['errors', 'accuracy', 'grand_total', 'total'])\n",
    "            .sort_values('error_rate')\n",
    "    )\n",
    "\n",
    "df = prep_data(raw_df)\n",
    "df.head(20)"
   ]
  },
  {
   "cell_type": "code",
   "execution_count": 173,
   "id": "97c7181c-5aa2-4d9a-bc7d-7995bee44fab",
   "metadata": {},
   "outputs": [
    {
     "data": {
      "text/plain": [
       "<AxesSubplot:ylabel='warehouse_id'>"
      ]
     },
     "execution_count": 173,
     "metadata": {},
     "output_type": "execute_result"
    },
    {
     "data": {
      "image/png": "[encoded data removed]",
      "text/plain": [
       "<Figure size 432x288 with 1 Axes>"
      ]
     },
     "metadata": {
      "needs_background": "light"
     },
     "output_type": "display_data"
    }
   ],
   "source": []
  },
  {
   "cell_type": "code",
   "execution_count": 212,
   "id": "13a7c39b-2f09-420f-b80e-759b342300c6",
   "metadata": {},
   "outputs": [
    {
     "data": {
      "image/png": "[encoded data removed]",
      "text/plain": [
       "<Figure size 1008x720 with 1 Axes>"
      ]
     },
     "metadata": {},
     "output_type": "display_data"
    }
   ],
   "source": [
    "labels = {'size':14, 'color':'gray'}\n",
    "\n",
    "\n",
    "fig, ax = plt.subplots(figsize=(14,10))\n",
    "\n",
    "df.plot.barh(x='warehouse_id', y='accuracy_rate', label='Accuracy Rate', ax=ax, color='silver')\n",
    "df.plot.barh(x='warehouse_id', y='null', label='Null Rate', ax=ax, left = df.accuracy_rate, color='lightgray')\n",
    "df.plot.barh(x='warehouse_id', y='error_rate', label='Error Rate', ax=ax, left = df.accuracy_rate + df.null, color = 'orange')\n",
    "ax.legend()\n",
    "\n",
    "ax.set_ylabel('WAREHOUSE ID', fontdict = {'size':16}, loc='top')\n",
    "ax.set_yticklabels(ax.get_yticklabels(), fontdict=labels);"
   ]
  },
  {
   "cell_type": "code",
   "execution_count": 188,
   "id": "6a159bbc-e853-4a38-b83c-eac583cca570",
   "metadata": {},
   "outputs": [],
   "source": [
    "# fig, ax = plt.subplots(figsize=(14,10))\n",
    "\n",
    "# ax.barh(y = df.index, width = df.accuracy_rate, label = 'Accuracy Rate')\n",
    "# ax.barh(y = df.index, width = df.null, label = 'Null', )\n",
    "# ax.barh(y = df.index, width = df.error_rate, label = 'Error Rate',left = df.accuracy_rate + df.null)\n",
    "# ax.set_yticks(df.index)\n",
    "# ax.legend()"
   ]
  }
 ],
 "metadata": {
  "kernelspec": {
   "display_name": "Python 3",
   "language": "python",
   "name": "python3"
  },
  "language_info": {
   "codemirror_mode": {
    "name": "ipython",
    "version": 3
   },
   "file_extension": ".py",
   "mimetype": "text/x-python",
   "name": "python",
   "nbconvert_exporter": "python",
   "pygments_lexer": "ipython3",
   "version": "3.8.8"
  }
 },
 "nbformat": 4,
 "nbformat_minor": 5
}
