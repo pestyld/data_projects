{
 "cells": [
  {
   "cell_type": "markdown",
   "id": "4ac01c4d-ddce-4824-8adb-19260b9e5ccf",
   "metadata": {},
   "source": [
    "# Python - Flowing Through Time: My Family of Four's Monthly Water Usage (Gallons) Compared to the Town of Cary's Average\n",
    "\n",
    "## Import Packages"
   ]
  },
  {
   "cell_type": "code",
   "execution_count": 3,
   "id": "4ebcc9d7-eb07-474a-abc8-73cd6d0817b8",
   "metadata": {
    "tags": []
   },
   "outputs": [],
   "source": [
    "import pandas as pd\n",
    "import seaborn as sns\n",
    "\n",
    "import matplotlib.pyplot as plt\n",
    "from matplotlib.ticker import(MultipleLocator, StrMethodFormatter, AutoMinorLocator)\n",
    "\n",
    "\n",
    "# def tweak_water(_DataFrame):\n",
    "    \n",
    "#     ## Rename columns\n",
    "#     colRename = {'Read Date/Time':'Datetime', 'Usage  in Gallons':'Usage'}\n",
    "    \n",
    "#     new_df = (_DataFrame\n",
    "#               .rename(columns = colRename)                       ## rename column using the variable above\n",
    "#               .iloc[:-1]                                         ## remove the last row which is the total\n",
    "#               .astype({'Usage':'int',                            ## convert columns\n",
    "#                        'Datetime': 'datetime64[ns]'})\n",
    "#               .assign(\n",
    "#                       Month = lambda _df: _df.Datetime.dt.month, ## Create new columns in the dataFrame\n",
    "#                       MonthName = lambda _df: _df.Datetime.dt.month_name(),\n",
    "#                       Day = lambda _df: _df.Datetime.dt.day,\n",
    "#                       Hour = lambda _df: _df.Datetime.dt.hour,\n",
    "#                       us\n",
    "#                      )\n",
    "#               .set_index('Datetime')                             ## set the datetime as the index\n",
    "              \n",
    "#     )\n",
    "    \n",
    "#     return new_df"
   ]
  },
  {
   "cell_type": "markdown",
   "id": "10904b35-89a8-4d23-b8c3-2ea69f4c643b",
   "metadata": {},
   "source": [
    "## Download the and preview the xlsx data"
   ]
  },
  {
   "cell_type": "code",
   "execution_count": 4,
   "id": "9ef2ea6b-aa42-4f4a-97c1-268d4b9d5a2a",
   "metadata": {
    "tags": []
   },
   "outputs": [
    {
     "name": "stdout",
     "output_type": "stream",
     "text": [
      "<class 'pandas.core.frame.DataFrame'>\n",
      "RangeIndex: 9796 entries, 0 to 9795\n",
      "Data columns (total 3 columns):\n",
      " #   Column             Non-Null Count  Dtype \n",
      "---  ------             --------------  ----- \n",
      " 0   Service            9795 non-null   object\n",
      " 1   Read Date/Time     9795 non-null   object\n",
      " 2   Usage  in Gallons  9796 non-null   object\n",
      "dtypes: object(3)\n",
      "memory usage: 229.7+ KB\n"
     ]
    },
    {
     "data": {
      "text/html": [
       "<div>\n",
       "<style scoped>\n",
       "    .dataframe tbody tr th:only-of-type {\n",
       "        vertical-align: middle;\n",
       "    }\n",
       "\n",
       "    .dataframe tbody tr th {\n",
       "        vertical-align: top;\n",
       "    }\n",
       "\n",
       "    .dataframe thead th {\n",
       "        text-align: right;\n",
       "    }\n",
       "</style>\n",
       "<table border=\"1\" class=\"dataframe\">\n",
       "  <thead>\n",
       "    <tr style=\"text-align: right;\">\n",
       "      <th></th>\n",
       "      <th>Service</th>\n",
       "      <th>Read Date/Time</th>\n",
       "      <th>Usage  in Gallons</th>\n",
       "    </tr>\n",
       "  </thead>\n",
       "  <tbody>\n",
       "    <tr>\n",
       "      <th>0</th>\n",
       "      <td>Water</td>\n",
       "      <td>11/15/23 12:00 AM</td>\n",
       "      <td>0</td>\n",
       "    </tr>\n",
       "    <tr>\n",
       "      <th>1</th>\n",
       "      <td>Water</td>\n",
       "      <td>11/14/23 11:00 PM</td>\n",
       "      <td>0</td>\n",
       "    </tr>\n",
       "    <tr>\n",
       "      <th>2</th>\n",
       "      <td>Water</td>\n",
       "      <td>11/14/23 10:00 PM</td>\n",
       "      <td>0</td>\n",
       "    </tr>\n",
       "    <tr>\n",
       "      <th>3</th>\n",
       "      <td>Water</td>\n",
       "      <td>11/14/23  9:00 PM</td>\n",
       "      <td>0</td>\n",
       "    </tr>\n",
       "    <tr>\n",
       "      <th>4</th>\n",
       "      <td>Water</td>\n",
       "      <td>11/14/23  8:00 PM</td>\n",
       "      <td>0</td>\n",
       "    </tr>\n",
       "    <tr>\n",
       "      <th>...</th>\n",
       "      <td>...</td>\n",
       "      <td>...</td>\n",
       "      <td>...</td>\n",
       "    </tr>\n",
       "    <tr>\n",
       "      <th>9791</th>\n",
       "      <td>Water</td>\n",
       "      <td>10/01/22  4:00 AM</td>\n",
       "      <td>0</td>\n",
       "    </tr>\n",
       "    <tr>\n",
       "      <th>9792</th>\n",
       "      <td>Water</td>\n",
       "      <td>10/01/22  3:00 AM</td>\n",
       "      <td>0</td>\n",
       "    </tr>\n",
       "    <tr>\n",
       "      <th>9793</th>\n",
       "      <td>Water</td>\n",
       "      <td>10/01/22  2:00 AM</td>\n",
       "      <td>0</td>\n",
       "    </tr>\n",
       "    <tr>\n",
       "      <th>9794</th>\n",
       "      <td>Water</td>\n",
       "      <td>10/01/22  1:00 AM</td>\n",
       "      <td>0</td>\n",
       "    </tr>\n",
       "    <tr>\n",
       "      <th>9795</th>\n",
       "      <td>NaN</td>\n",
       "      <td>NaN</td>\n",
       "      <td>46,770</td>\n",
       "    </tr>\n",
       "  </tbody>\n",
       "</table>\n",
       "<p>9796 rows × 3 columns</p>\n",
       "</div>"
      ],
      "text/plain": [
       "     Service     Read Date/Time Usage  in Gallons\n",
       "0      Water  11/15/23 12:00 AM                 0\n",
       "1      Water  11/14/23 11:00 PM                 0\n",
       "2      Water  11/14/23 10:00 PM                 0\n",
       "3      Water  11/14/23  9:00 PM                 0\n",
       "4      Water  11/14/23  8:00 PM                 0\n",
       "...      ...                ...               ...\n",
       "9791   Water  10/01/22  4:00 AM                 0\n",
       "9792   Water  10/01/22  3:00 AM                 0\n",
       "9793   Water  10/01/22  2:00 AM                 0\n",
       "9794   Water  10/01/22  1:00 AM                 0\n",
       "9795     NaN                NaN            46,770\n",
       "\n",
       "[9796 rows x 3 columns]"
      ]
     },
     "metadata": {},
     "output_type": "display_data"
    },
    {
     "data": {
      "text/plain": [
       "None"
      ]
     },
     "metadata": {},
     "output_type": "display_data"
    }
   ],
   "source": [
    "df_raw = pd.read_excel(r'https://github.com/pestyld/data_projects/raw/master/water_usage_analysis/data/AMI_METER_READS-METER_INFO_HOURLY.xlsx')\n",
    "\n",
    "display(df_raw, df_raw.info(verbose=True))"
   ]
  },
  {
   "cell_type": "code",
   "execution_count": 17,
   "id": "f7cf6c65-7ab7-4e7e-a775-a72e8f7ac1ae",
   "metadata": {
    "tags": []
   },
   "outputs": [
    {
     "data": {
      "text/plain": [
       "0       11/15/23\n",
       "1       11/14/23\n",
       "2       11/14/23\n",
       "3       11/14/23\n",
       "4       11/14/23\n",
       "          ...   \n",
       "9791    10/01/22\n",
       "9792    10/01/22\n",
       "9793    10/01/22\n",
       "9794    10/01/22\n",
       "9795         NaN\n",
       "Name: Read Date/Time, Length: 9796, dtype: object"
      ]
     },
     "execution_count": 17,
     "metadata": {},
     "output_type": "execute_result"
    }
   ],
   "source": [
    "df_raw['Read Date/Time'].str.split(' ').str[0]"
   ]
  },
  {
   "cell_type": "code",
   "execution_count": 21,
   "id": "8bc24d84-8f97-4bd7-8a69-337ecb05599c",
   "metadata": {
    "tags": []
   },
   "outputs": [
    {
     "data": {
      "text/html": [
       "<div>\n",
       "<style scoped>\n",
       "    .dataframe tbody tr th:only-of-type {\n",
       "        vertical-align: middle;\n",
       "    }\n",
       "\n",
       "    .dataframe tbody tr th {\n",
       "        vertical-align: top;\n",
       "    }\n",
       "\n",
       "    .dataframe thead th {\n",
       "        text-align: right;\n",
       "    }\n",
       "</style>\n",
       "<table border=\"1\" class=\"dataframe\">\n",
       "  <thead>\n",
       "    <tr style=\"text-align: right;\">\n",
       "      <th></th>\n",
       "      <th>usage_in_gallons</th>\n",
       "      <th>Date</th>\n",
       "      <th>Month</th>\n",
       "      <th>Year</th>\n",
       "    </tr>\n",
       "    <tr>\n",
       "      <th>read_date</th>\n",
       "      <th></th>\n",
       "      <th></th>\n",
       "      <th></th>\n",
       "      <th></th>\n",
       "    </tr>\n",
       "  </thead>\n",
       "  <tbody>\n",
       "    <tr>\n",
       "      <th>2023-11-15</th>\n",
       "      <td>0</td>\n",
       "      <td>2023-11-15</td>\n",
       "      <td>November</td>\n",
       "      <td>2023</td>\n",
       "    </tr>\n",
       "    <tr>\n",
       "      <th>2023-11-14</th>\n",
       "      <td>0</td>\n",
       "      <td>2023-11-14</td>\n",
       "      <td>November</td>\n",
       "      <td>2023</td>\n",
       "    </tr>\n",
       "    <tr>\n",
       "      <th>2023-11-14</th>\n",
       "      <td>0</td>\n",
       "      <td>2023-11-14</td>\n",
       "      <td>November</td>\n",
       "      <td>2023</td>\n",
       "    </tr>\n",
       "    <tr>\n",
       "      <th>2023-11-14</th>\n",
       "      <td>0</td>\n",
       "      <td>2023-11-14</td>\n",
       "      <td>November</td>\n",
       "      <td>2023</td>\n",
       "    </tr>\n",
       "    <tr>\n",
       "      <th>2023-11-14</th>\n",
       "      <td>0</td>\n",
       "      <td>2023-11-14</td>\n",
       "      <td>November</td>\n",
       "      <td>2023</td>\n",
       "    </tr>\n",
       "    <tr>\n",
       "      <th>...</th>\n",
       "      <td>...</td>\n",
       "      <td>...</td>\n",
       "      <td>...</td>\n",
       "      <td>...</td>\n",
       "    </tr>\n",
       "    <tr>\n",
       "      <th>2022-10-01</th>\n",
       "      <td>0</td>\n",
       "      <td>2022-10-01</td>\n",
       "      <td>October</td>\n",
       "      <td>2022</td>\n",
       "    </tr>\n",
       "    <tr>\n",
       "      <th>2022-10-01</th>\n",
       "      <td>0</td>\n",
       "      <td>2022-10-01</td>\n",
       "      <td>October</td>\n",
       "      <td>2022</td>\n",
       "    </tr>\n",
       "    <tr>\n",
       "      <th>2022-10-01</th>\n",
       "      <td>0</td>\n",
       "      <td>2022-10-01</td>\n",
       "      <td>October</td>\n",
       "      <td>2022</td>\n",
       "    </tr>\n",
       "    <tr>\n",
       "      <th>2022-10-01</th>\n",
       "      <td>0</td>\n",
       "      <td>2022-10-01</td>\n",
       "      <td>October</td>\n",
       "      <td>2022</td>\n",
       "    </tr>\n",
       "    <tr>\n",
       "      <th>2022-10-01</th>\n",
       "      <td>0</td>\n",
       "      <td>2022-10-01</td>\n",
       "      <td>October</td>\n",
       "      <td>2022</td>\n",
       "    </tr>\n",
       "  </tbody>\n",
       "</table>\n",
       "<p>9795 rows × 4 columns</p>\n",
       "</div>"
      ],
      "text/plain": [
       "            usage_in_gallons        Date     Month  Year\n",
       "read_date                                               \n",
       "2023-11-15                 0  2023-11-15  November  2023\n",
       "2023-11-14                 0  2023-11-14  November  2023\n",
       "2023-11-14                 0  2023-11-14  November  2023\n",
       "2023-11-14                 0  2023-11-14  November  2023\n",
       "2023-11-14                 0  2023-11-14  November  2023\n",
       "...                      ...         ...       ...   ...\n",
       "2022-10-01                 0  2022-10-01   October  2022\n",
       "2022-10-01                 0  2022-10-01   October  2022\n",
       "2022-10-01                 0  2022-10-01   October  2022\n",
       "2022-10-01                 0  2022-10-01   October  2022\n",
       "2022-10-01                 0  2022-10-01   October  2022\n",
       "\n",
       "[9795 rows x 4 columns]"
      ]
     },
     "execution_count": 21,
     "metadata": {},
     "output_type": "execute_result"
    }
   ],
   "source": [
    "df = (\n",
    "    df_raw\n",
    " .iloc[:-1]                                                  ## Remove the last total row that comes from Excel\n",
    " .rename(columns = {'Service':'service',                     ## Rename columns\n",
    "                    'Read Date/Time':'read_date', \n",
    "                    'Usage  in Gallons':'usage_in_gallons'})\n",
    " .assign(\n",
    "     read_date = lambda _df: pd.to_datetime(_df['read_date'].str.split(' ').str[0], format = '%m/%d/%y'),\n",
    "     Date = lambda _df: _df.read_date.dt.date,\n",
    "     Month = lambda _df: _df.read_date.dt.month_name(),\n",
    "     Year = lambda _df: _df.read_date.dt.year,\n",
    "     usage_in_gallons = lambda _df: _df.usage_in_gallons.astype('int32')\n",
    " )\n",
    " .set_index('read_date')\n",
    " .drop(labels=['service'], axis=1)\n",
    ")\n",
    "\n",
    "df"
   ]
  },
  {
   "cell_type": "code",
   "execution_count": 22,
   "id": "9812f759-b981-4aca-86a1-3f0ef8a666e5",
   "metadata": {
    "tags": []
   },
   "outputs": [
    {
     "name": "stdout",
     "output_type": "stream",
     "text": [
      "<class 'pandas.core.frame.DataFrame'>\n",
      "DatetimeIndex: 9795 entries, 2023-11-15 to 2022-10-01\n",
      "Data columns (total 4 columns):\n",
      " #   Column            Non-Null Count  Dtype \n",
      "---  ------            --------------  ----- \n",
      " 0   usage_in_gallons  9795 non-null   int32 \n",
      " 1   Date              9795 non-null   object\n",
      " 2   Month             9795 non-null   object\n",
      " 3   Year              9795 non-null   int32 \n",
      "dtypes: int32(2), object(2)\n",
      "memory usage: 306.1+ KB\n"
     ]
    }
   ],
   "source": [
    "df.info()"
   ]
  },
  {
   "cell_type": "code",
   "execution_count": 44,
   "id": "fb4e5f8e-622c-4392-a747-4f1eaf62a734",
   "metadata": {
    "tags": []
   },
   "outputs": [
    {
     "data": {
      "text/html": [
       "<div>\n",
       "<style scoped>\n",
       "    .dataframe tbody tr th:only-of-type {\n",
       "        vertical-align: middle;\n",
       "    }\n",
       "\n",
       "    .dataframe tbody tr th {\n",
       "        vertical-align: top;\n",
       "    }\n",
       "\n",
       "    .dataframe thead th {\n",
       "        text-align: right;\n",
       "    }\n",
       "</style>\n",
       "<table border=\"1\" class=\"dataframe\">\n",
       "  <thead>\n",
       "    <tr style=\"text-align: right;\">\n",
       "      <th></th>\n",
       "      <th>usage_in_gallons</th>\n",
       "      <th>num_days</th>\n",
       "    </tr>\n",
       "    <tr>\n",
       "      <th>read_date</th>\n",
       "      <th></th>\n",
       "      <th></th>\n",
       "    </tr>\n",
       "  </thead>\n",
       "  <tbody>\n",
       "    <tr>\n",
       "      <th>2022-10-31</th>\n",
       "      <td>5720</td>\n",
       "      <td>31</td>\n",
       "    </tr>\n",
       "    <tr>\n",
       "      <th>2022-11-30</th>\n",
       "      <td>5000</td>\n",
       "      <td>30</td>\n",
       "    </tr>\n",
       "    <tr>\n",
       "      <th>2022-12-31</th>\n",
       "      <td>3840</td>\n",
       "      <td>31</td>\n",
       "    </tr>\n",
       "    <tr>\n",
       "      <th>2023-01-31</th>\n",
       "      <td>4550</td>\n",
       "      <td>31</td>\n",
       "    </tr>\n",
       "    <tr>\n",
       "      <th>2023-02-28</th>\n",
       "      <td>3890</td>\n",
       "      <td>28</td>\n",
       "    </tr>\n",
       "    <tr>\n",
       "      <th>2023-03-31</th>\n",
       "      <td>4050</td>\n",
       "      <td>31</td>\n",
       "    </tr>\n",
       "    <tr>\n",
       "      <th>2023-04-30</th>\n",
       "      <td>5280</td>\n",
       "      <td>30</td>\n",
       "    </tr>\n",
       "    <tr>\n",
       "      <th>2023-05-31</th>\n",
       "      <td>3820</td>\n",
       "      <td>31</td>\n",
       "    </tr>\n",
       "    <tr>\n",
       "      <th>2023-06-30</th>\n",
       "      <td>3420</td>\n",
       "      <td>30</td>\n",
       "    </tr>\n",
       "    <tr>\n",
       "      <th>2023-07-31</th>\n",
       "      <td>4650</td>\n",
       "      <td>31</td>\n",
       "    </tr>\n",
       "    <tr>\n",
       "      <th>2023-08-31</th>\n",
       "      <td>2550</td>\n",
       "      <td>31</td>\n",
       "    </tr>\n",
       "    <tr>\n",
       "      <th>2023-09-30</th>\n",
       "      <td>0</td>\n",
       "      <td>30</td>\n",
       "    </tr>\n",
       "    <tr>\n",
       "      <th>2023-10-31</th>\n",
       "      <td>0</td>\n",
       "      <td>31</td>\n",
       "    </tr>\n",
       "    <tr>\n",
       "      <th>2023-11-30</th>\n",
       "      <td>0</td>\n",
       "      <td>30</td>\n",
       "    </tr>\n",
       "  </tbody>\n",
       "</table>\n",
       "</div>"
      ],
      "text/plain": [
       "            usage_in_gallons  num_days\n",
       "read_date                             \n",
       "2022-10-31              5720        31\n",
       "2022-11-30              5000        30\n",
       "2022-12-31              3840        31\n",
       "2023-01-31              4550        31\n",
       "2023-02-28              3890        28\n",
       "2023-03-31              4050        31\n",
       "2023-04-30              5280        30\n",
       "2023-05-31              3820        31\n",
       "2023-06-30              3420        30\n",
       "2023-07-31              4650        31\n",
       "2023-08-31              2550        31\n",
       "2023-09-30                 0        30\n",
       "2023-10-31                 0        31\n",
       "2023-11-30                 0        30"
      ]
     },
     "execution_count": 44,
     "metadata": {},
     "output_type": "execute_result"
    }
   ],
   "source": [
    "df_monthly_summary = (df['usage_in_gallons']\n",
    "                      .resample('M')\n",
    "                      .sum()\n",
    "                      .to_frame()\n",
    "                      .assign(\n",
    "                          num_days = lambda _df: _df.index.day\n",
    "                      )\n",
    "                     )\n",
    "df_monthly_summary"
   ]
  },
  {
   "cell_type": "code",
   "execution_count": 43,
   "id": "2b685fa7-60d1-46b1-a1a1-0a13ced46b24",
   "metadata": {
    "tags": []
   },
   "outputs": [
    {
     "data": {
      "text/plain": [
       "Index([31, 30, 31, 31, 28, 31, 30, 31, 30, 31, 31, 30, 31, 30], dtype='int32', name='read_date')"
      ]
     },
     "execution_count": 43,
     "metadata": {},
     "output_type": "execute_result"
    }
   ],
   "source": [
    "df_monthly_summary.index.day"
   ]
  },
  {
   "cell_type": "code",
   "execution_count": null,
   "id": "87c404d3-e743-4dde-be09-4f3ec9101d22",
   "metadata": {},
   "outputs": [],
   "source": []
  },
  {
   "cell_type": "code",
   "execution_count": null,
   "id": "987f17b7-ce63-4ae8-8b18-e8ebd0b98607",
   "metadata": {},
   "outputs": [],
   "source": []
  },
  {
   "cell_type": "code",
   "execution_count": null,
   "id": "2afb3065-75cd-4e4f-a34b-2df107e3d266",
   "metadata": {},
   "outputs": [],
   "source": []
  },
  {
   "cell_type": "code",
   "execution_count": null,
   "id": "ad2b1e8e-a568-40aa-913a-335853e39cd5",
   "metadata": {},
   "outputs": [],
   "source": []
  },
  {
   "cell_type": "code",
   "execution_count": 19,
   "id": "323986ed-4531-46b5-b699-1d5d3082f44d",
   "metadata": {
    "tags": []
   },
   "outputs": [
    {
     "name": "stdout",
     "output_type": "stream",
     "text": [
      "<class 'pandas.core.frame.DataFrame'>\n",
      "RangeIndex: 9796 entries, 0 to 9795\n",
      "Data columns (total 3 columns):\n",
      " #   Column             Non-Null Count  Dtype         \n",
      "---  ------             --------------  -----         \n",
      " 0   Service            9795 non-null   object        \n",
      " 1   Read Date/Time     9795 non-null   datetime64[ns]\n",
      " 2   Usage  in Gallons  9796 non-null   object        \n",
      "dtypes: datetime64[ns](1), object(2)\n",
      "memory usage: 229.7+ KB\n"
     ]
    },
    {
     "data": {
      "text/html": [
       "<div>\n",
       "<style scoped>\n",
       "    .dataframe tbody tr th:only-of-type {\n",
       "        vertical-align: middle;\n",
       "    }\n",
       "\n",
       "    .dataframe tbody tr th {\n",
       "        vertical-align: top;\n",
       "    }\n",
       "\n",
       "    .dataframe thead th {\n",
       "        text-align: right;\n",
       "    }\n",
       "</style>\n",
       "<table border=\"1\" class=\"dataframe\">\n",
       "  <thead>\n",
       "    <tr style=\"text-align: right;\">\n",
       "      <th></th>\n",
       "      <th>Service</th>\n",
       "      <th>Read Date/Time</th>\n",
       "      <th>Usage  in Gallons</th>\n",
       "    </tr>\n",
       "  </thead>\n",
       "  <tbody>\n",
       "    <tr>\n",
       "      <th>0</th>\n",
       "      <td>Water</td>\n",
       "      <td>2023-11-15 00:00:00</td>\n",
       "      <td>0</td>\n",
       "    </tr>\n",
       "    <tr>\n",
       "      <th>1</th>\n",
       "      <td>Water</td>\n",
       "      <td>2023-11-14 23:00:00</td>\n",
       "      <td>0</td>\n",
       "    </tr>\n",
       "    <tr>\n",
       "      <th>2</th>\n",
       "      <td>Water</td>\n",
       "      <td>2023-11-14 22:00:00</td>\n",
       "      <td>0</td>\n",
       "    </tr>\n",
       "    <tr>\n",
       "      <th>3</th>\n",
       "      <td>Water</td>\n",
       "      <td>2023-11-14 21:00:00</td>\n",
       "      <td>0</td>\n",
       "    </tr>\n",
       "    <tr>\n",
       "      <th>4</th>\n",
       "      <td>Water</td>\n",
       "      <td>2023-11-14 20:00:00</td>\n",
       "      <td>0</td>\n",
       "    </tr>\n",
       "    <tr>\n",
       "      <th>...</th>\n",
       "      <td>...</td>\n",
       "      <td>...</td>\n",
       "      <td>...</td>\n",
       "    </tr>\n",
       "    <tr>\n",
       "      <th>9791</th>\n",
       "      <td>Water</td>\n",
       "      <td>2022-10-01 04:00:00</td>\n",
       "      <td>0</td>\n",
       "    </tr>\n",
       "    <tr>\n",
       "      <th>9792</th>\n",
       "      <td>Water</td>\n",
       "      <td>2022-10-01 03:00:00</td>\n",
       "      <td>0</td>\n",
       "    </tr>\n",
       "    <tr>\n",
       "      <th>9793</th>\n",
       "      <td>Water</td>\n",
       "      <td>2022-10-01 02:00:00</td>\n",
       "      <td>0</td>\n",
       "    </tr>\n",
       "    <tr>\n",
       "      <th>9794</th>\n",
       "      <td>Water</td>\n",
       "      <td>2022-10-01 01:00:00</td>\n",
       "      <td>0</td>\n",
       "    </tr>\n",
       "    <tr>\n",
       "      <th>9795</th>\n",
       "      <td>NaN</td>\n",
       "      <td>NaT</td>\n",
       "      <td>46,770</td>\n",
       "    </tr>\n",
       "  </tbody>\n",
       "</table>\n",
       "<p>9796 rows × 3 columns</p>\n",
       "</div>"
      ],
      "text/plain": [
       "     Service      Read Date/Time Usage  in Gallons\n",
       "0      Water 2023-11-15 00:00:00                 0\n",
       "1      Water 2023-11-14 23:00:00                 0\n",
       "2      Water 2023-11-14 22:00:00                 0\n",
       "3      Water 2023-11-14 21:00:00                 0\n",
       "4      Water 2023-11-14 20:00:00                 0\n",
       "...      ...                 ...               ...\n",
       "9791   Water 2022-10-01 04:00:00                 0\n",
       "9792   Water 2022-10-01 03:00:00                 0\n",
       "9793   Water 2022-10-01 02:00:00                 0\n",
       "9794   Water 2022-10-01 01:00:00                 0\n",
       "9795     NaN                 NaT            46,770\n",
       "\n",
       "[9796 rows x 3 columns]"
      ]
     },
     "metadata": {},
     "output_type": "display_data"
    },
    {
     "data": {
      "text/plain": [
       "None"
      ]
     },
     "metadata": {},
     "output_type": "display_data"
    }
   ],
   "source": [
    "df_raw = pd.read_excel(r'https://github.com/pestyld/data_projects/raw/master/water_usage_analysis/data/AMI_METER_READS-METER_INFO_HOURLY.xlsx',\n",
    "                      parse_dates = ['Read Date/Time'], date_format = '%m/%d/%y %I:%M %p')\n",
    "\n",
    "display(df_raw, df_raw.info(verbose=True))"
   ]
  },
  {
   "cell_type": "code",
   "execution_count": 18,
   "id": "653fdcb9-37bd-4371-9fa2-217ae3eed1f4",
   "metadata": {
    "tags": []
   },
   "outputs": [
    {
     "name": "stdout",
     "output_type": "stream",
     "text": [
      "<class 'pandas.core.frame.DataFrame'>\n",
      "RangeIndex: 9796 entries, 0 to 9795\n",
      "Data columns (total 3 columns):\n",
      " #   Column             Non-Null Count  Dtype         \n",
      "---  ------             --------------  -----         \n",
      " 0   Service            9795 non-null   object        \n",
      " 1   Read Date/Time     9795 non-null   datetime64[ns]\n",
      " 2   Usage  in Gallons  9796 non-null   object        \n",
      "dtypes: datetime64[ns](1), object(2)\n",
      "memory usage: 229.7+ KB\n"
     ]
    }
   ],
   "source": [
    "df_raw['Read Date/Time']"
   ]
  },
  {
   "cell_type": "code",
   "execution_count": null,
   "id": "988dbe7d-e0bc-4662-a341-022636d1775a",
   "metadata": {},
   "outputs": [],
   "source": []
  },
  {
   "cell_type": "code",
   "execution_count": null,
   "id": "ba6a7ae8-48b7-476d-aad9-39a6272afedd",
   "metadata": {},
   "outputs": [],
   "source": []
  },
  {
   "cell_type": "code",
   "execution_count": null,
   "id": "6cd4df37-9051-4e6c-9b49-775b36d63a93",
   "metadata": {},
   "outputs": [],
   "source": []
  },
  {
   "cell_type": "code",
   "execution_count": null,
   "id": "5f400e7e-5728-459d-9bdf-62355c6eaf5f",
   "metadata": {},
   "outputs": [],
   "source": []
  },
  {
   "cell_type": "code",
   "execution_count": null,
   "id": "0c23ba12-18d1-4d51-ba86-d892dcf3cd99",
   "metadata": {},
   "outputs": [],
   "source": []
  },
  {
   "cell_type": "markdown",
   "id": "cc2bdfa5-a5de-46f0-9b75-bfaffcc17c77",
   "metadata": {},
   "source": [
    "The last column has the total for the year. Store that value into a variable."
   ]
  },
  {
   "cell_type": "code",
   "execution_count": 3,
   "id": "90ca913d-ebad-462c-aa21-7c6b17957163",
   "metadata": {},
   "outputs": [
    {
     "data": {
      "text/plain": [
       "51350"
      ]
     },
     "execution_count": 3,
     "metadata": {},
     "output_type": "execute_result"
    }
   ],
   "source": [
    "totalGallons = int(raw['Usage  in Gallons'].iloc[-1].replace(\",\",\"\"))\n",
    "totalGallons"
   ]
  },
  {
   "cell_type": "markdown",
   "id": "c1ee89b7-24c6-46d2-adbd-f516cb310690",
   "metadata": {},
   "source": [
    "Create a clean DataFrame"
   ]
  },
  {
   "cell_type": "code",
   "execution_count": 4,
   "id": "fea53ca7-72f2-4044-80ca-ab95e93b4d8d",
   "metadata": {},
   "outputs": [
    {
     "data": {
      "text/html": [
       "<div>\n",
       "<style scoped>\n",
       "    .dataframe tbody tr th:only-of-type {\n",
       "        vertical-align: middle;\n",
       "    }\n",
       "\n",
       "    .dataframe tbody tr th {\n",
       "        vertical-align: top;\n",
       "    }\n",
       "\n",
       "    .dataframe thead th {\n",
       "        text-align: right;\n",
       "    }\n",
       "</style>\n",
       "<table border=\"1\" class=\"dataframe\">\n",
       "  <thead>\n",
       "    <tr style=\"text-align: right;\">\n",
       "      <th></th>\n",
       "      <th>Service</th>\n",
       "      <th>Usage</th>\n",
       "      <th>Month</th>\n",
       "      <th>MonthName</th>\n",
       "      <th>Day</th>\n",
       "      <th>Hour</th>\n",
       "    </tr>\n",
       "    <tr>\n",
       "      <th>Datetime</th>\n",
       "      <th></th>\n",
       "      <th></th>\n",
       "      <th></th>\n",
       "      <th></th>\n",
       "      <th></th>\n",
       "      <th></th>\n",
       "    </tr>\n",
       "  </thead>\n",
       "  <tbody>\n",
       "    <tr>\n",
       "      <th>2021-12-31 00:00:00</th>\n",
       "      <td>Water</td>\n",
       "      <td>0</td>\n",
       "      <td>12</td>\n",
       "      <td>December</td>\n",
       "      <td>31</td>\n",
       "      <td>0</td>\n",
       "    </tr>\n",
       "    <tr>\n",
       "      <th>2021-12-30 23:00:00</th>\n",
       "      <td>Water</td>\n",
       "      <td>0</td>\n",
       "      <td>12</td>\n",
       "      <td>December</td>\n",
       "      <td>30</td>\n",
       "      <td>23</td>\n",
       "    </tr>\n",
       "    <tr>\n",
       "      <th>2021-12-30 22:00:00</th>\n",
       "      <td>Water</td>\n",
       "      <td>0</td>\n",
       "      <td>12</td>\n",
       "      <td>December</td>\n",
       "      <td>30</td>\n",
       "      <td>22</td>\n",
       "    </tr>\n",
       "    <tr>\n",
       "      <th>2021-12-30 21:00:00</th>\n",
       "      <td>Water</td>\n",
       "      <td>40</td>\n",
       "      <td>12</td>\n",
       "      <td>December</td>\n",
       "      <td>30</td>\n",
       "      <td>21</td>\n",
       "    </tr>\n",
       "    <tr>\n",
       "      <th>2021-12-30 20:00:00</th>\n",
       "      <td>Water</td>\n",
       "      <td>20</td>\n",
       "      <td>12</td>\n",
       "      <td>December</td>\n",
       "      <td>30</td>\n",
       "      <td>20</td>\n",
       "    </tr>\n",
       "    <tr>\n",
       "      <th>...</th>\n",
       "      <td>...</td>\n",
       "      <td>...</td>\n",
       "      <td>...</td>\n",
       "      <td>...</td>\n",
       "      <td>...</td>\n",
       "      <td>...</td>\n",
       "    </tr>\n",
       "    <tr>\n",
       "      <th>2021-01-01 04:00:00</th>\n",
       "      <td>Water</td>\n",
       "      <td>0</td>\n",
       "      <td>1</td>\n",
       "      <td>January</td>\n",
       "      <td>1</td>\n",
       "      <td>4</td>\n",
       "    </tr>\n",
       "    <tr>\n",
       "      <th>2021-01-01 03:00:00</th>\n",
       "      <td>Water</td>\n",
       "      <td>0</td>\n",
       "      <td>1</td>\n",
       "      <td>January</td>\n",
       "      <td>1</td>\n",
       "      <td>3</td>\n",
       "    </tr>\n",
       "    <tr>\n",
       "      <th>2021-01-01 02:00:00</th>\n",
       "      <td>Water</td>\n",
       "      <td>0</td>\n",
       "      <td>1</td>\n",
       "      <td>January</td>\n",
       "      <td>1</td>\n",
       "      <td>2</td>\n",
       "    </tr>\n",
       "    <tr>\n",
       "      <th>2021-01-01 01:00:00</th>\n",
       "      <td>Water</td>\n",
       "      <td>10</td>\n",
       "      <td>1</td>\n",
       "      <td>January</td>\n",
       "      <td>1</td>\n",
       "      <td>1</td>\n",
       "    </tr>\n",
       "    <tr>\n",
       "      <th>2021-01-01 00:00:00</th>\n",
       "      <td>Water</td>\n",
       "      <td>20</td>\n",
       "      <td>1</td>\n",
       "      <td>January</td>\n",
       "      <td>1</td>\n",
       "      <td>0</td>\n",
       "    </tr>\n",
       "  </tbody>\n",
       "</table>\n",
       "<p>8732 rows × 6 columns</p>\n",
       "</div>"
      ],
      "text/plain": [
       "                    Service  Usage  Month MonthName  Day  Hour\n",
       "Datetime                                                      \n",
       "2021-12-31 00:00:00   Water      0     12  December   31     0\n",
       "2021-12-30 23:00:00   Water      0     12  December   30    23\n",
       "2021-12-30 22:00:00   Water      0     12  December   30    22\n",
       "2021-12-30 21:00:00   Water     40     12  December   30    21\n",
       "2021-12-30 20:00:00   Water     20     12  December   30    20\n",
       "...                     ...    ...    ...       ...  ...   ...\n",
       "2021-01-01 04:00:00   Water      0      1   January    1     4\n",
       "2021-01-01 03:00:00   Water      0      1   January    1     3\n",
       "2021-01-01 02:00:00   Water      0      1   January    1     2\n",
       "2021-01-01 01:00:00   Water     10      1   January    1     1\n",
       "2021-01-01 00:00:00   Water     20      1   January    1     0\n",
       "\n",
       "[8732 rows x 6 columns]"
      ]
     },
     "execution_count": 4,
     "metadata": {},
     "output_type": "execute_result"
    }
   ],
   "source": [
    "df = tweak_water(raw)\n",
    "df"
   ]
  },
  {
   "cell_type": "code",
   "execution_count": 5,
   "id": "1c7c347e-a05d-4f96-8910-2e4e7616bac6",
   "metadata": {},
   "outputs": [
    {
     "data": {
      "text/plain": [
       "Service      object\n",
       "Usage         int32\n",
       "Month         int64\n",
       "MonthName    object\n",
       "Day           int64\n",
       "Hour          int64\n",
       "dtype: object"
      ]
     },
     "execution_count": 5,
     "metadata": {},
     "output_type": "execute_result"
    }
   ],
   "source": [
    "df.dtypes"
   ]
  },
  {
   "cell_type": "code",
   "execution_count": 6,
   "id": "c2618c78-3720-4d95-8fdf-7c42468d7b2d",
   "metadata": {},
   "outputs": [
    {
     "name": "stderr",
     "output_type": "stream",
     "text": [
      "C:\\Users\\pestyl\\AppData\\Local\\Temp\\ipykernel_20080\\4029249983.py:1: FutureWarning: The default value of numeric_only in DataFrameGroupBy.sum is deprecated. In a future version, numeric_only will default to False. Either specify numeric_only or select only columns which should be valid for the function.\n",
      "  total_month = (df[['Usage','Month','MonthName']]\n"
     ]
    },
    {
     "data": {
      "text/html": [
       "<div>\n",
       "<style scoped>\n",
       "    .dataframe tbody tr th:only-of-type {\n",
       "        vertical-align: middle;\n",
       "    }\n",
       "\n",
       "    .dataframe tbody tr th {\n",
       "        vertical-align: top;\n",
       "    }\n",
       "\n",
       "    .dataframe thead th {\n",
       "        text-align: right;\n",
       "    }\n",
       "</style>\n",
       "<table border=\"1\" class=\"dataframe\">\n",
       "  <thead>\n",
       "    <tr style=\"text-align: right;\">\n",
       "      <th></th>\n",
       "      <th>Usage</th>\n",
       "      <th>Month</th>\n",
       "      <th>MonthName</th>\n",
       "    </tr>\n",
       "    <tr>\n",
       "      <th>Datetime</th>\n",
       "      <th></th>\n",
       "      <th></th>\n",
       "      <th></th>\n",
       "    </tr>\n",
       "  </thead>\n",
       "  <tbody>\n",
       "    <tr>\n",
       "      <th>2021-01-31</th>\n",
       "      <td>4660</td>\n",
       "      <td>744</td>\n",
       "      <td>January</td>\n",
       "    </tr>\n",
       "    <tr>\n",
       "      <th>2021-02-28</th>\n",
       "      <td>3840</td>\n",
       "      <td>1344</td>\n",
       "      <td>February</td>\n",
       "    </tr>\n",
       "    <tr>\n",
       "      <th>2021-03-31</th>\n",
       "      <td>3200</td>\n",
       "      <td>2229</td>\n",
       "      <td>March</td>\n",
       "    </tr>\n",
       "    <tr>\n",
       "      <th>2021-04-30</th>\n",
       "      <td>3700</td>\n",
       "      <td>2880</td>\n",
       "      <td>April</td>\n",
       "    </tr>\n",
       "    <tr>\n",
       "      <th>2021-05-31</th>\n",
       "      <td>4580</td>\n",
       "      <td>3720</td>\n",
       "      <td>May</td>\n",
       "    </tr>\n",
       "    <tr>\n",
       "      <th>2021-06-30</th>\n",
       "      <td>5310</td>\n",
       "      <td>4320</td>\n",
       "      <td>June</td>\n",
       "    </tr>\n",
       "    <tr>\n",
       "      <th>2021-07-31</th>\n",
       "      <td>3760</td>\n",
       "      <td>5180</td>\n",
       "      <td>July</td>\n",
       "    </tr>\n",
       "    <tr>\n",
       "      <th>2021-08-31</th>\n",
       "      <td>3840</td>\n",
       "      <td>5952</td>\n",
       "      <td>August</td>\n",
       "    </tr>\n",
       "    <tr>\n",
       "      <th>2021-09-30</th>\n",
       "      <td>4000</td>\n",
       "      <td>6480</td>\n",
       "      <td>September</td>\n",
       "    </tr>\n",
       "    <tr>\n",
       "      <th>2021-10-31</th>\n",
       "      <td>4740</td>\n",
       "      <td>7440</td>\n",
       "      <td>October</td>\n",
       "    </tr>\n",
       "    <tr>\n",
       "      <th>2021-11-30</th>\n",
       "      <td>4590</td>\n",
       "      <td>7920</td>\n",
       "      <td>November</td>\n",
       "    </tr>\n",
       "    <tr>\n",
       "      <th>2021-12-31</th>\n",
       "      <td>5130</td>\n",
       "      <td>8652</td>\n",
       "      <td>December</td>\n",
       "    </tr>\n",
       "  </tbody>\n",
       "</table>\n",
       "</div>"
      ],
      "text/plain": [
       "            Usage  Month  MonthName\n",
       "Datetime                           \n",
       "2021-01-31   4660    744    January\n",
       "2021-02-28   3840   1344   February\n",
       "2021-03-31   3200   2229      March\n",
       "2021-04-30   3700   2880      April\n",
       "2021-05-31   4580   3720        May\n",
       "2021-06-30   5310   4320       June\n",
       "2021-07-31   3760   5180       July\n",
       "2021-08-31   3840   5952     August\n",
       "2021-09-30   4000   6480  September\n",
       "2021-10-31   4740   7440    October\n",
       "2021-11-30   4590   7920   November\n",
       "2021-12-31   5130   8652   December"
      ]
     },
     "execution_count": 6,
     "metadata": {},
     "output_type": "execute_result"
    }
   ],
   "source": [
    "total_month = (df[['Usage','Month','MonthName']]\n",
    "             .resample('M').sum().round(2)\n",
    "             .assign(MonthName = lambda _df: _df.index.month_name()))\n",
    "total_month"
   ]
  },
  {
   "cell_type": "code",
   "execution_count": 7,
   "id": "afaf2536-8682-42ca-9bf9-7d9c0d15c748",
   "metadata": {},
   "outputs": [
    {
     "data": {
      "image/png": "[encoded data removed]",
      "text/plain": [
       "<Figure size 1200x800 with 1 Axes>"
      ]
     },
     "metadata": {},
     "output_type": "display_data"
    }
   ],
   "source": [
    "\n",
    "mean_month = total_month.Usage.mean()\n",
    "\n",
    "\n",
    "\n",
    "## title\n",
    "title = '2021 Water Usage(gallons) by Month'\n",
    "\n",
    "## Add plots and lines\n",
    "fig, ax = plt.subplots()\n",
    "\n",
    "## Axes\n",
    "ax.set_xlabel('')\n",
    "ax.set_ylabel('Total Gallons');\n",
    "ax.set_frame_on(False)\n",
    "\n",
    "ax.yaxis.set_major_locator(MultipleLocator(1000))\n",
    "ax.yaxis.set_major_formatter(StrMethodFormatter('{x:,.0f}'))\n",
    "\n",
    "## Add reference line\n",
    "ax.axhline(mean_month)\n",
    "\n",
    "## Plot bars\n",
    "total_month.plot(kind='bar', x = 'MonthName', y = 'Usage', \n",
    "                 ax = ax, title = title, legend = False);"
   ]
  },
  {
   "cell_type": "code",
   "execution_count": 8,
   "id": "2d6e71b6-38a3-4af6-933f-c473fa165b1f",
   "metadata": {},
   "outputs": [
    {
     "name": "stderr",
     "output_type": "stream",
     "text": [
      "C:\\Users\\pestyl\\AppData\\Local\\Temp\\ipykernel_20080\\1502482882.py:1: FutureWarning: The default value of numeric_only in DataFrameGroupBy.sum is deprecated. In a future version, numeric_only will default to False. Either specify numeric_only or select only columns which should be valid for the function.\n",
      "  total_day = (df[['Usage','Month','MonthName']]\n"
     ]
    },
    {
     "data": {
      "text/html": [
       "<div>\n",
       "<style scoped>\n",
       "    .dataframe tbody tr th:only-of-type {\n",
       "        vertical-align: middle;\n",
       "    }\n",
       "\n",
       "    .dataframe tbody tr th {\n",
       "        vertical-align: top;\n",
       "    }\n",
       "\n",
       "    .dataframe thead th {\n",
       "        text-align: right;\n",
       "    }\n",
       "</style>\n",
       "<table border=\"1\" class=\"dataframe\">\n",
       "  <thead>\n",
       "    <tr style=\"text-align: right;\">\n",
       "      <th></th>\n",
       "      <th>Usage</th>\n",
       "      <th>Month</th>\n",
       "      <th>MonthName</th>\n",
       "    </tr>\n",
       "    <tr>\n",
       "      <th>Datetime</th>\n",
       "      <th></th>\n",
       "      <th></th>\n",
       "      <th></th>\n",
       "    </tr>\n",
       "  </thead>\n",
       "  <tbody>\n",
       "    <tr>\n",
       "      <th>2021-01-01</th>\n",
       "      <td>250</td>\n",
       "      <td>24</td>\n",
       "      <td>January</td>\n",
       "    </tr>\n",
       "    <tr>\n",
       "      <th>2021-01-02</th>\n",
       "      <td>280</td>\n",
       "      <td>24</td>\n",
       "      <td>January</td>\n",
       "    </tr>\n",
       "    <tr>\n",
       "      <th>2021-01-03</th>\n",
       "      <td>460</td>\n",
       "      <td>24</td>\n",
       "      <td>January</td>\n",
       "    </tr>\n",
       "    <tr>\n",
       "      <th>2021-01-04</th>\n",
       "      <td>280</td>\n",
       "      <td>24</td>\n",
       "      <td>January</td>\n",
       "    </tr>\n",
       "    <tr>\n",
       "      <th>2021-01-05</th>\n",
       "      <td>140</td>\n",
       "      <td>24</td>\n",
       "      <td>January</td>\n",
       "    </tr>\n",
       "    <tr>\n",
       "      <th>...</th>\n",
       "      <td>...</td>\n",
       "      <td>...</td>\n",
       "      <td>...</td>\n",
       "    </tr>\n",
       "    <tr>\n",
       "      <th>2021-12-27</th>\n",
       "      <td>100</td>\n",
       "      <td>288</td>\n",
       "      <td>December</td>\n",
       "    </tr>\n",
       "    <tr>\n",
       "      <th>2021-12-28</th>\n",
       "      <td>150</td>\n",
       "      <td>288</td>\n",
       "      <td>December</td>\n",
       "    </tr>\n",
       "    <tr>\n",
       "      <th>2021-12-29</th>\n",
       "      <td>180</td>\n",
       "      <td>288</td>\n",
       "      <td>December</td>\n",
       "    </tr>\n",
       "    <tr>\n",
       "      <th>2021-12-30</th>\n",
       "      <td>150</td>\n",
       "      <td>288</td>\n",
       "      <td>December</td>\n",
       "    </tr>\n",
       "    <tr>\n",
       "      <th>2021-12-31</th>\n",
       "      <td>0</td>\n",
       "      <td>12</td>\n",
       "      <td>December</td>\n",
       "    </tr>\n",
       "  </tbody>\n",
       "</table>\n",
       "<p>365 rows × 3 columns</p>\n",
       "</div>"
      ],
      "text/plain": [
       "            Usage  Month MonthName\n",
       "Datetime                          \n",
       "2021-01-01    250     24   January\n",
       "2021-01-02    280     24   January\n",
       "2021-01-03    460     24   January\n",
       "2021-01-04    280     24   January\n",
       "2021-01-05    140     24   January\n",
       "...           ...    ...       ...\n",
       "2021-12-27    100    288  December\n",
       "2021-12-28    150    288  December\n",
       "2021-12-29    180    288  December\n",
       "2021-12-30    150    288  December\n",
       "2021-12-31      0     12  December\n",
       "\n",
       "[365 rows x 3 columns]"
      ]
     },
     "execution_count": 8,
     "metadata": {},
     "output_type": "execute_result"
    }
   ],
   "source": [
    "total_day = (df[['Usage','Month','MonthName']]\n",
    "             .resample('D').sum().round(2)\n",
    "             .assign(MonthName = lambda _df: _df.index.month_name()))\n",
    "total_day"
   ]
  },
  {
   "cell_type": "code",
   "execution_count": 9,
   "id": "7100f094-386e-467c-81fb-2a28600bafe0",
   "metadata": {},
   "outputs": [
    {
     "data": {
      "text/plain": [
       "<Axes: ylabel='Usage'>"
      ]
     },
     "execution_count": 9,
     "metadata": {},
     "output_type": "execute_result"
    },
    {
     "data": {
      "image/png": "[encoded data removed]",
      "text/plain": [
       "<Figure size 1200x800 with 1 Axes>"
      ]
     },
     "metadata": {},
     "output_type": "display_data"
    }
   ],
   "source": [
    "sns.boxplot(data = total_day, y = 'Usage')"
   ]
  },
  {
   "cell_type": "code",
   "execution_count": 10,
   "id": "672ff607-13e2-499d-b8cc-66ad6d622b27",
   "metadata": {},
   "outputs": [
    {
     "data": {
      "text/plain": [
       "<Axes: xlabel='MonthName', ylabel='Usage'>"
      ]
     },
     "execution_count": 10,
     "metadata": {},
     "output_type": "execute_result"
    },
    {
     "data": {
      "image/png": "[encoded data removed]",
      "text/plain": [
       "<Figure size 1200x800 with 1 Axes>"
      ]
     },
     "metadata": {},
     "output_type": "display_data"
    }
   ],
   "source": [
    "sns.boxplot(data = total_day, y = 'Usage', x='MonthName')"
   ]
  }
 ],
 "metadata": {
  "kernelspec": {
   "display_name": "Python 3 (ipykernel)",
   "language": "python",
   "name": "python3"
  },
  "language_info": {
   "codemirror_mode": {
    "name": "ipython",
    "version": 3
   },
   "file_extension": ".py",
   "mimetype": "text/x-python",
   "name": "python",
   "nbconvert_exporter": "python",
   "pygments_lexer": "ipython3",
   "version": "3.11.5"
  }
 },
 "nbformat": 4,
 "nbformat_minor": 5
}
