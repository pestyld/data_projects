{
 "cells": [
  {
   "cell_type": "markdown",
   "id": "4be0e097-c645-4ebf-8cc4-36ef8cf29fc7",
   "metadata": {},
   "source": [
    "# Water Usage Analysis with SAS"
   ]
  },
  {
   "cell_type": "code",
   "execution_count": null,
   "id": "cc1b5123-85f0-4f85-aa91-767b48e88634",
   "metadata": {},
   "outputs": [],
   "source": []
  }
 ],
 "metadata": {
  "kernelspec": {
   "display_name": "Python 3 (ipykernel)",
   "language": "python",
   "name": "python3"
  },
  "language_info": {
   "codemirror_mode": {
    "name": "ipython",
    "version": 3
   },
   "file_extension": ".py",
   "mimetype": "text/x-python",
   "name": "python",
   "nbconvert_exporter": "python",
   "pygments_lexer": "ipython3",
   "version": "3.11.5"
  }
 },
 "nbformat": 4,
 "nbformat_minor": 5
}
